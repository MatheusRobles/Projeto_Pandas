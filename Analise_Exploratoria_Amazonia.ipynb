{
  "cells": [
    {
      "cell_type": "markdown",
      "metadata": {
        "colab_type": "text",
        "id": "view-in-github"
      },
      "source": [
        "<a href=\"https://colab.research.google.com/github/MatheusRobles/Projeto_Pandas/blob/main/Analise_Exploratoria_Amazonia.ipynb\" target=\"_parent\"><img src=\"https://colab.research.google.com/assets/colab-badge.svg\" alt=\"Open In Colab\"/></a>"
      ]
    },
    {
      "cell_type": "markdown",
      "metadata": {
        "id": "uFLXT2lC7DDu"
      },
      "source": [
        "\n",
        "https://www.kaggle.com/datasets/mbogernetto/brazilian-amazon-rainforest-degradation"
      ]
    },
    {
      "cell_type": "markdown",
      "metadata": {
        "id": "RE8wQIKP7FK8"
      },
      "source": [
        "Sobre o conjunto de dados Contexto A floresta amazônica é uma floresta tropical úmida de folhas largas no bioma amazônico que cobre o território pertencente a nove nações. A maior parte da floresta está contida no Brasil, com 60% da floresta tropical, seguido pelo Peru com 13%, Colômbia com 10% e com quantidades menores na Venezuela, Equador, Bolívia, Guiana, Suriname e Guiana Francesa.\n",
        "\n",
        "A região oferece benefícios importantes para as comunidades que vivem perto e longe. Quase 500 comunidades indígenas chamam a floresta amazônica de lar. É um ecossistema altamente biodiverso, lar de inúmeras espécies de plantas e animais. A floresta tropical pode criar seu próprio clima e influenciar climas em todo o mundo. Infelizmente, o frágil ecossistema enfrenta a constante ameaça de desmatamento e incêndios (por causas naturais ou antrópicas).\n",
        "\n",
        "O desmatamento ocorre por vários motivos, como agricultura ilegal, desastres naturais, urbanização e mineração. Existem várias maneiras de remover florestas - queima e extração de madeira são dois métodos. Embora o desmatamento esteja acontecendo em todo o mundo hoje, é uma questão especialmente crítica na floresta amazônica, como a única grande floresta ainda existente no mundo. Lá, as espécies de plantas e animais que abrigam vêm desaparecendo em ritmo alarmante."
      ]
    },
    {
      "cell_type": "code",
      "execution_count": 2,
      "metadata": {},
      "outputs": [
        {
          "data": {
            "text/html": [
              "<div>\n",
              "<style scoped>\n",
              "    .dataframe tbody tr th:only-of-type {\n",
              "        vertical-align: middle;\n",
              "    }\n",
              "\n",
              "    .dataframe tbody tr th {\n",
              "        vertical-align: top;\n",
              "    }\n",
              "\n",
              "    .dataframe thead th {\n",
              "        text-align: right;\n",
              "    }\n",
              "</style>\n",
              "<table border=\"1\" class=\"dataframe\">\n",
              "  <thead>\n",
              "    <tr style=\"text-align: right;\">\n",
              "      <th></th>\n",
              "      <th>Ano/Estados</th>\n",
              "      <th>AC</th>\n",
              "      <th>AM</th>\n",
              "      <th>AP</th>\n",
              "      <th>MA</th>\n",
              "      <th>MT</th>\n",
              "      <th>PA</th>\n",
              "      <th>RO</th>\n",
              "      <th>RR</th>\n",
              "      <th>TO</th>\n",
              "      <th>AMZ LEGAL</th>\n",
              "    </tr>\n",
              "  </thead>\n",
              "  <tbody>\n",
              "    <tr>\n",
              "      <th>0</th>\n",
              "      <td>2004</td>\n",
              "      <td>728</td>\n",
              "      <td>1232</td>\n",
              "      <td>46</td>\n",
              "      <td>755</td>\n",
              "      <td>11814</td>\n",
              "      <td>8870</td>\n",
              "      <td>3858</td>\n",
              "      <td>311</td>\n",
              "      <td>158</td>\n",
              "      <td>27772</td>\n",
              "    </tr>\n",
              "    <tr>\n",
              "      <th>1</th>\n",
              "      <td>2005</td>\n",
              "      <td>592</td>\n",
              "      <td>775</td>\n",
              "      <td>33</td>\n",
              "      <td>922</td>\n",
              "      <td>7145</td>\n",
              "      <td>5899</td>\n",
              "      <td>3244</td>\n",
              "      <td>133</td>\n",
              "      <td>271</td>\n",
              "      <td>19014</td>\n",
              "    </tr>\n",
              "    <tr>\n",
              "      <th>2</th>\n",
              "      <td>2006</td>\n",
              "      <td>398</td>\n",
              "      <td>788</td>\n",
              "      <td>30</td>\n",
              "      <td>674</td>\n",
              "      <td>4333</td>\n",
              "      <td>5659</td>\n",
              "      <td>2049</td>\n",
              "      <td>231</td>\n",
              "      <td>124</td>\n",
              "      <td>14286</td>\n",
              "    </tr>\n",
              "    <tr>\n",
              "      <th>3</th>\n",
              "      <td>2007</td>\n",
              "      <td>184</td>\n",
              "      <td>610</td>\n",
              "      <td>39</td>\n",
              "      <td>631</td>\n",
              "      <td>2678</td>\n",
              "      <td>5526</td>\n",
              "      <td>1611</td>\n",
              "      <td>309</td>\n",
              "      <td>63</td>\n",
              "      <td>11651</td>\n",
              "    </tr>\n",
              "    <tr>\n",
              "      <th>4</th>\n",
              "      <td>2008</td>\n",
              "      <td>254</td>\n",
              "      <td>604</td>\n",
              "      <td>100</td>\n",
              "      <td>1271</td>\n",
              "      <td>3258</td>\n",
              "      <td>5607</td>\n",
              "      <td>1136</td>\n",
              "      <td>574</td>\n",
              "      <td>107</td>\n",
              "      <td>12911</td>\n",
              "    </tr>\n",
              "    <tr>\n",
              "      <th>5</th>\n",
              "      <td>2009</td>\n",
              "      <td>167</td>\n",
              "      <td>405</td>\n",
              "      <td>70</td>\n",
              "      <td>828</td>\n",
              "      <td>1049</td>\n",
              "      <td>4281</td>\n",
              "      <td>482</td>\n",
              "      <td>121</td>\n",
              "      <td>61</td>\n",
              "      <td>7464</td>\n",
              "    </tr>\n",
              "    <tr>\n",
              "      <th>6</th>\n",
              "      <td>2010</td>\n",
              "      <td>259</td>\n",
              "      <td>595</td>\n",
              "      <td>53</td>\n",
              "      <td>712</td>\n",
              "      <td>871</td>\n",
              "      <td>3770</td>\n",
              "      <td>435</td>\n",
              "      <td>256</td>\n",
              "      <td>49</td>\n",
              "      <td>7000</td>\n",
              "    </tr>\n",
              "    <tr>\n",
              "      <th>7</th>\n",
              "      <td>2011</td>\n",
              "      <td>280</td>\n",
              "      <td>502</td>\n",
              "      <td>66</td>\n",
              "      <td>396</td>\n",
              "      <td>1120</td>\n",
              "      <td>3008</td>\n",
              "      <td>865</td>\n",
              "      <td>141</td>\n",
              "      <td>40</td>\n",
              "      <td>6418</td>\n",
              "    </tr>\n",
              "    <tr>\n",
              "      <th>8</th>\n",
              "      <td>2012</td>\n",
              "      <td>305</td>\n",
              "      <td>523</td>\n",
              "      <td>27</td>\n",
              "      <td>269</td>\n",
              "      <td>757</td>\n",
              "      <td>1741</td>\n",
              "      <td>773</td>\n",
              "      <td>124</td>\n",
              "      <td>52</td>\n",
              "      <td>4571</td>\n",
              "    </tr>\n",
              "    <tr>\n",
              "      <th>9</th>\n",
              "      <td>2013</td>\n",
              "      <td>221</td>\n",
              "      <td>583</td>\n",
              "      <td>23</td>\n",
              "      <td>403</td>\n",
              "      <td>1139</td>\n",
              "      <td>2346</td>\n",
              "      <td>932</td>\n",
              "      <td>170</td>\n",
              "      <td>74</td>\n",
              "      <td>5891</td>\n",
              "    </tr>\n",
              "    <tr>\n",
              "      <th>10</th>\n",
              "      <td>2014</td>\n",
              "      <td>309</td>\n",
              "      <td>500</td>\n",
              "      <td>31</td>\n",
              "      <td>257</td>\n",
              "      <td>1075</td>\n",
              "      <td>1887</td>\n",
              "      <td>684</td>\n",
              "      <td>219</td>\n",
              "      <td>50</td>\n",
              "      <td>5012</td>\n",
              "    </tr>\n",
              "    <tr>\n",
              "      <th>11</th>\n",
              "      <td>2015</td>\n",
              "      <td>264</td>\n",
              "      <td>712</td>\n",
              "      <td>25</td>\n",
              "      <td>209</td>\n",
              "      <td>1601</td>\n",
              "      <td>2153</td>\n",
              "      <td>1030</td>\n",
              "      <td>156</td>\n",
              "      <td>57</td>\n",
              "      <td>6207</td>\n",
              "    </tr>\n",
              "    <tr>\n",
              "      <th>12</th>\n",
              "      <td>2016</td>\n",
              "      <td>372</td>\n",
              "      <td>1129</td>\n",
              "      <td>17</td>\n",
              "      <td>258</td>\n",
              "      <td>1489</td>\n",
              "      <td>2992</td>\n",
              "      <td>1376</td>\n",
              "      <td>202</td>\n",
              "      <td>58</td>\n",
              "      <td>7893</td>\n",
              "    </tr>\n",
              "    <tr>\n",
              "      <th>13</th>\n",
              "      <td>2017</td>\n",
              "      <td>257</td>\n",
              "      <td>1001</td>\n",
              "      <td>24</td>\n",
              "      <td>265</td>\n",
              "      <td>1561</td>\n",
              "      <td>2433</td>\n",
              "      <td>1243</td>\n",
              "      <td>132</td>\n",
              "      <td>31</td>\n",
              "      <td>6947</td>\n",
              "    </tr>\n",
              "    <tr>\n",
              "      <th>14</th>\n",
              "      <td>2018</td>\n",
              "      <td>444</td>\n",
              "      <td>1045</td>\n",
              "      <td>24</td>\n",
              "      <td>253</td>\n",
              "      <td>1490</td>\n",
              "      <td>2744</td>\n",
              "      <td>1316</td>\n",
              "      <td>195</td>\n",
              "      <td>25</td>\n",
              "      <td>7536</td>\n",
              "    </tr>\n",
              "    <tr>\n",
              "      <th>15</th>\n",
              "      <td>2019</td>\n",
              "      <td>688</td>\n",
              "      <td>1421</td>\n",
              "      <td>8</td>\n",
              "      <td>215</td>\n",
              "      <td>1685</td>\n",
              "      <td>3862</td>\n",
              "      <td>1245</td>\n",
              "      <td>617</td>\n",
              "      <td>21</td>\n",
              "      <td>9762</td>\n",
              "    </tr>\n",
              "  </tbody>\n",
              "</table>\n",
              "</div>"
            ],
            "text/plain": [
              "    Ano/Estados   AC    AM   AP    MA     MT    PA    RO   RR   TO  AMZ LEGAL\n",
              "0          2004  728  1232   46   755  11814  8870  3858  311  158      27772\n",
              "1          2005  592   775   33   922   7145  5899  3244  133  271      19014\n",
              "2          2006  398   788   30   674   4333  5659  2049  231  124      14286\n",
              "3          2007  184   610   39   631   2678  5526  1611  309   63      11651\n",
              "4          2008  254   604  100  1271   3258  5607  1136  574  107      12911\n",
              "5          2009  167   405   70   828   1049  4281   482  121   61       7464\n",
              "6          2010  259   595   53   712    871  3770   435  256   49       7000\n",
              "7          2011  280   502   66   396   1120  3008   865  141   40       6418\n",
              "8          2012  305   523   27   269    757  1741   773  124   52       4571\n",
              "9          2013  221   583   23   403   1139  2346   932  170   74       5891\n",
              "10         2014  309   500   31   257   1075  1887   684  219   50       5012\n",
              "11         2015  264   712   25   209   1601  2153  1030  156   57       6207\n",
              "12         2016  372  1129   17   258   1489  2992  1376  202   58       7893\n",
              "13         2017  257  1001   24   265   1561  2433  1243  132   31       6947\n",
              "14         2018  444  1045   24   253   1490  2744  1316  195   25       7536\n",
              "15         2019  688  1421    8   215   1685  3862  1245  617   21       9762"
            ]
          },
          "execution_count": 2,
          "metadata": {},
          "output_type": "execute_result"
        }
      ],
      "source": [
        "import pandas as pd\n",
        "import plotly.graph_objects as go\n",
        "import matplotlib.pyplot as plt\n",
        "\n",
        "df = pd.read_csv(\"def_area_2004_2019.csv\")\n",
        "df"
      ]
    },
    {
      "cell_type": "code",
      "execution_count": 6,
      "metadata": {
        "colab": {
          "base_uri": "https://localhost:8080/",
          "height": 551
        },
        "id": "L2bOR7K6m66t",
        "outputId": "173bce80-e5cd-462d-b8ea-f8c0cf84f1de"
      },
      "outputs": [
        {
          "data": {
            "text/html": [
              "\n",
              "  <div id=\"df-60210f9b-ee68-4afb-b5e8-22b113b27a52\">\n",
              "    <div class=\"colab-df-container\">\n",
              "      <div>\n",
              "<style scoped>\n",
              "    .dataframe tbody tr th:only-of-type {\n",
              "        vertical-align: middle;\n",
              "    }\n",
              "\n",
              "    .dataframe tbody tr th {\n",
              "        vertical-align: top;\n",
              "    }\n",
              "\n",
              "    .dataframe thead th {\n",
              "        text-align: right;\n",
              "    }\n",
              "</style>\n",
              "<table border=\"1\" class=\"dataframe\">\n",
              "  <thead>\n",
              "    <tr style=\"text-align: right;\">\n",
              "      <th></th>\n",
              "      <th>Ano/Estados</th>\n",
              "      <th>AC</th>\n",
              "      <th>AM</th>\n",
              "      <th>AP</th>\n",
              "      <th>MA</th>\n",
              "      <th>MT</th>\n",
              "      <th>PA</th>\n",
              "      <th>RO</th>\n",
              "      <th>RR</th>\n",
              "      <th>TO</th>\n",
              "      <th>AMZ LEGAL</th>\n",
              "    </tr>\n",
              "  </thead>\n",
              "  <tbody>\n",
              "    <tr>\n",
              "      <th>0</th>\n",
              "      <td>2004</td>\n",
              "      <td>728</td>\n",
              "      <td>1232</td>\n",
              "      <td>46</td>\n",
              "      <td>755</td>\n",
              "      <td>11814</td>\n",
              "      <td>8870</td>\n",
              "      <td>3858</td>\n",
              "      <td>311</td>\n",
              "      <td>158</td>\n",
              "      <td>27772</td>\n",
              "    </tr>\n",
              "    <tr>\n",
              "      <th>1</th>\n",
              "      <td>2005</td>\n",
              "      <td>592</td>\n",
              "      <td>775</td>\n",
              "      <td>33</td>\n",
              "      <td>922</td>\n",
              "      <td>7145</td>\n",
              "      <td>5899</td>\n",
              "      <td>3244</td>\n",
              "      <td>133</td>\n",
              "      <td>271</td>\n",
              "      <td>19014</td>\n",
              "    </tr>\n",
              "    <tr>\n",
              "      <th>2</th>\n",
              "      <td>2006</td>\n",
              "      <td>398</td>\n",
              "      <td>788</td>\n",
              "      <td>30</td>\n",
              "      <td>674</td>\n",
              "      <td>4333</td>\n",
              "      <td>5659</td>\n",
              "      <td>2049</td>\n",
              "      <td>231</td>\n",
              "      <td>124</td>\n",
              "      <td>14286</td>\n",
              "    </tr>\n",
              "    <tr>\n",
              "      <th>3</th>\n",
              "      <td>2007</td>\n",
              "      <td>184</td>\n",
              "      <td>610</td>\n",
              "      <td>39</td>\n",
              "      <td>631</td>\n",
              "      <td>2678</td>\n",
              "      <td>5526</td>\n",
              "      <td>1611</td>\n",
              "      <td>309</td>\n",
              "      <td>63</td>\n",
              "      <td>11651</td>\n",
              "    </tr>\n",
              "    <tr>\n",
              "      <th>4</th>\n",
              "      <td>2008</td>\n",
              "      <td>254</td>\n",
              "      <td>604</td>\n",
              "      <td>100</td>\n",
              "      <td>1271</td>\n",
              "      <td>3258</td>\n",
              "      <td>5607</td>\n",
              "      <td>1136</td>\n",
              "      <td>574</td>\n",
              "      <td>107</td>\n",
              "      <td>12911</td>\n",
              "    </tr>\n",
              "    <tr>\n",
              "      <th>5</th>\n",
              "      <td>2009</td>\n",
              "      <td>167</td>\n",
              "      <td>405</td>\n",
              "      <td>70</td>\n",
              "      <td>828</td>\n",
              "      <td>1049</td>\n",
              "      <td>4281</td>\n",
              "      <td>482</td>\n",
              "      <td>121</td>\n",
              "      <td>61</td>\n",
              "      <td>7464</td>\n",
              "    </tr>\n",
              "    <tr>\n",
              "      <th>6</th>\n",
              "      <td>2010</td>\n",
              "      <td>259</td>\n",
              "      <td>595</td>\n",
              "      <td>53</td>\n",
              "      <td>712</td>\n",
              "      <td>871</td>\n",
              "      <td>3770</td>\n",
              "      <td>435</td>\n",
              "      <td>256</td>\n",
              "      <td>49</td>\n",
              "      <td>7000</td>\n",
              "    </tr>\n",
              "    <tr>\n",
              "      <th>7</th>\n",
              "      <td>2011</td>\n",
              "      <td>280</td>\n",
              "      <td>502</td>\n",
              "      <td>66</td>\n",
              "      <td>396</td>\n",
              "      <td>1120</td>\n",
              "      <td>3008</td>\n",
              "      <td>865</td>\n",
              "      <td>141</td>\n",
              "      <td>40</td>\n",
              "      <td>6418</td>\n",
              "    </tr>\n",
              "    <tr>\n",
              "      <th>8</th>\n",
              "      <td>2012</td>\n",
              "      <td>305</td>\n",
              "      <td>523</td>\n",
              "      <td>27</td>\n",
              "      <td>269</td>\n",
              "      <td>757</td>\n",
              "      <td>1741</td>\n",
              "      <td>773</td>\n",
              "      <td>124</td>\n",
              "      <td>52</td>\n",
              "      <td>4571</td>\n",
              "    </tr>\n",
              "    <tr>\n",
              "      <th>9</th>\n",
              "      <td>2013</td>\n",
              "      <td>221</td>\n",
              "      <td>583</td>\n",
              "      <td>23</td>\n",
              "      <td>403</td>\n",
              "      <td>1139</td>\n",
              "      <td>2346</td>\n",
              "      <td>932</td>\n",
              "      <td>170</td>\n",
              "      <td>74</td>\n",
              "      <td>5891</td>\n",
              "    </tr>\n",
              "    <tr>\n",
              "      <th>10</th>\n",
              "      <td>2014</td>\n",
              "      <td>309</td>\n",
              "      <td>500</td>\n",
              "      <td>31</td>\n",
              "      <td>257</td>\n",
              "      <td>1075</td>\n",
              "      <td>1887</td>\n",
              "      <td>684</td>\n",
              "      <td>219</td>\n",
              "      <td>50</td>\n",
              "      <td>5012</td>\n",
              "    </tr>\n",
              "    <tr>\n",
              "      <th>11</th>\n",
              "      <td>2015</td>\n",
              "      <td>264</td>\n",
              "      <td>712</td>\n",
              "      <td>25</td>\n",
              "      <td>209</td>\n",
              "      <td>1601</td>\n",
              "      <td>2153</td>\n",
              "      <td>1030</td>\n",
              "      <td>156</td>\n",
              "      <td>57</td>\n",
              "      <td>6207</td>\n",
              "    </tr>\n",
              "    <tr>\n",
              "      <th>12</th>\n",
              "      <td>2016</td>\n",
              "      <td>372</td>\n",
              "      <td>1129</td>\n",
              "      <td>17</td>\n",
              "      <td>258</td>\n",
              "      <td>1489</td>\n",
              "      <td>2992</td>\n",
              "      <td>1376</td>\n",
              "      <td>202</td>\n",
              "      <td>58</td>\n",
              "      <td>7893</td>\n",
              "    </tr>\n",
              "    <tr>\n",
              "      <th>13</th>\n",
              "      <td>2017</td>\n",
              "      <td>257</td>\n",
              "      <td>1001</td>\n",
              "      <td>24</td>\n",
              "      <td>265</td>\n",
              "      <td>1561</td>\n",
              "      <td>2433</td>\n",
              "      <td>1243</td>\n",
              "      <td>132</td>\n",
              "      <td>31</td>\n",
              "      <td>6947</td>\n",
              "    </tr>\n",
              "    <tr>\n",
              "      <th>14</th>\n",
              "      <td>2018</td>\n",
              "      <td>444</td>\n",
              "      <td>1045</td>\n",
              "      <td>24</td>\n",
              "      <td>253</td>\n",
              "      <td>1490</td>\n",
              "      <td>2744</td>\n",
              "      <td>1316</td>\n",
              "      <td>195</td>\n",
              "      <td>25</td>\n",
              "      <td>7536</td>\n",
              "    </tr>\n",
              "    <tr>\n",
              "      <th>15</th>\n",
              "      <td>2019</td>\n",
              "      <td>688</td>\n",
              "      <td>1421</td>\n",
              "      <td>8</td>\n",
              "      <td>215</td>\n",
              "      <td>1685</td>\n",
              "      <td>3862</td>\n",
              "      <td>1245</td>\n",
              "      <td>617</td>\n",
              "      <td>21</td>\n",
              "      <td>9762</td>\n",
              "    </tr>\n",
              "  </tbody>\n",
              "</table>\n",
              "</div>\n",
              "      <button class=\"colab-df-convert\" onclick=\"convertToInteractive('df-60210f9b-ee68-4afb-b5e8-22b113b27a52')\"\n",
              "              title=\"Convert this dataframe to an interactive table.\"\n",
              "              style=\"display:none;\">\n",
              "        \n",
              "  <svg xmlns=\"http://www.w3.org/2000/svg\" height=\"24px\"viewBox=\"0 0 24 24\"\n",
              "       width=\"24px\">\n",
              "    <path d=\"M0 0h24v24H0V0z\" fill=\"none\"/>\n",
              "    <path d=\"M18.56 5.44l.94 2.06.94-2.06 2.06-.94-2.06-.94-.94-2.06-.94 2.06-2.06.94zm-11 1L8.5 8.5l.94-2.06 2.06-.94-2.06-.94L8.5 2.5l-.94 2.06-2.06.94zm10 10l.94 2.06.94-2.06 2.06-.94-2.06-.94-.94-2.06-.94 2.06-2.06.94z\"/><path d=\"M17.41 7.96l-1.37-1.37c-.4-.4-.92-.59-1.43-.59-.52 0-1.04.2-1.43.59L10.3 9.45l-7.72 7.72c-.78.78-.78 2.05 0 2.83L4 21.41c.39.39.9.59 1.41.59.51 0 1.02-.2 1.41-.59l7.78-7.78 2.81-2.81c.8-.78.8-2.07 0-2.86zM5.41 20L4 18.59l7.72-7.72 1.47 1.35L5.41 20z\"/>\n",
              "  </svg>\n",
              "      </button>\n",
              "      \n",
              "  <style>\n",
              "    .colab-df-container {\n",
              "      display:flex;\n",
              "      flex-wrap:wrap;\n",
              "      gap: 12px;\n",
              "    }\n",
              "\n",
              "    .colab-df-convert {\n",
              "      background-color: #E8F0FE;\n",
              "      border: none;\n",
              "      border-radius: 50%;\n",
              "      cursor: pointer;\n",
              "      display: none;\n",
              "      fill: #1967D2;\n",
              "      height: 32px;\n",
              "      padding: 0 0 0 0;\n",
              "      width: 32px;\n",
              "    }\n",
              "\n",
              "    .colab-df-convert:hover {\n",
              "      background-color: #E2EBFA;\n",
              "      box-shadow: 0px 1px 2px rgba(60, 64, 67, 0.3), 0px 1px 3px 1px rgba(60, 64, 67, 0.15);\n",
              "      fill: #174EA6;\n",
              "    }\n",
              "\n",
              "    [theme=dark] .colab-df-convert {\n",
              "      background-color: #3B4455;\n",
              "      fill: #D2E3FC;\n",
              "    }\n",
              "\n",
              "    [theme=dark] .colab-df-convert:hover {\n",
              "      background-color: #434B5C;\n",
              "      box-shadow: 0px 1px 3px 1px rgba(0, 0, 0, 0.15);\n",
              "      filter: drop-shadow(0px 1px 2px rgba(0, 0, 0, 0.3));\n",
              "      fill: #FFFFFF;\n",
              "    }\n",
              "  </style>\n",
              "\n",
              "      <script>\n",
              "        const buttonEl =\n",
              "          document.querySelector('#df-60210f9b-ee68-4afb-b5e8-22b113b27a52 button.colab-df-convert');\n",
              "        buttonEl.style.display =\n",
              "          google.colab.kernel.accessAllowed ? 'block' : 'none';\n",
              "\n",
              "        async function convertToInteractive(key) {\n",
              "          const element = document.querySelector('#df-60210f9b-ee68-4afb-b5e8-22b113b27a52');\n",
              "          const dataTable =\n",
              "            await google.colab.kernel.invokeFunction('convertToInteractive',\n",
              "                                                     [key], {});\n",
              "          if (!dataTable) return;\n",
              "\n",
              "          const docLinkHtml = 'Like what you see? Visit the ' +\n",
              "            '<a target=\"_blank\" href=https://colab.research.google.com/notebooks/data_table.ipynb>data table notebook</a>'\n",
              "            + ' to learn more about interactive tables.';\n",
              "          element.innerHTML = '';\n",
              "          dataTable['output_type'] = 'display_data';\n",
              "          await google.colab.output.renderOutput(dataTable, element);\n",
              "          const docLink = document.createElement('div');\n",
              "          docLink.innerHTML = docLinkHtml;\n",
              "          element.appendChild(docLink);\n",
              "        }\n",
              "      </script>\n",
              "    </div>\n",
              "  </div>\n",
              "  "
            ],
            "text/plain": [
              "    Ano/Estados   AC    AM   AP    MA     MT    PA    RO   RR   TO  AMZ LEGAL\n",
              "0          2004  728  1232   46   755  11814  8870  3858  311  158      27772\n",
              "1          2005  592   775   33   922   7145  5899  3244  133  271      19014\n",
              "2          2006  398   788   30   674   4333  5659  2049  231  124      14286\n",
              "3          2007  184   610   39   631   2678  5526  1611  309   63      11651\n",
              "4          2008  254   604  100  1271   3258  5607  1136  574  107      12911\n",
              "5          2009  167   405   70   828   1049  4281   482  121   61       7464\n",
              "6          2010  259   595   53   712    871  3770   435  256   49       7000\n",
              "7          2011  280   502   66   396   1120  3008   865  141   40       6418\n",
              "8          2012  305   523   27   269    757  1741   773  124   52       4571\n",
              "9          2013  221   583   23   403   1139  2346   932  170   74       5891\n",
              "10         2014  309   500   31   257   1075  1887   684  219   50       5012\n",
              "11         2015  264   712   25   209   1601  2153  1030  156   57       6207\n",
              "12         2016  372  1129   17   258   1489  2992  1376  202   58       7893\n",
              "13         2017  257  1001   24   265   1561  2433  1243  132   31       6947\n",
              "14         2018  444  1045   24   253   1490  2744  1316  195   25       7536\n",
              "15         2019  688  1421    8   215   1685  3862  1245  617   21       9762"
            ]
          },
          "execution_count": 6,
          "metadata": {},
          "output_type": "execute_result"
        }
      ],
      "source": [
        "import pandas as pd\n",
        "import plotly.graph_objects as go\n",
        "\n",
        "df = pd.read_csv(\"/content/drive/MyDrive/Projeto_Python/def_area_2004_2019.csv\")\n",
        "df\n",
        "\n"
      ]
    },
    {
      "cell_type": "code",
      "execution_count": 2,
      "metadata": {
        "colab": {
          "base_uri": "https://localhost:8080/",
          "height": 542
        },
        "id": "qP0KaBmsnb8Q",
        "outputId": "c535785d-e2fe-4e56-a55d-091bdc3913ca"
      },
      "outputs": [
        {
          "data": {
            "application/vnd.plotly.v1+json": {
              "config": {
                "plotlyServerURL": "https://plot.ly"
              },
              "data": [
                {
                  "mode": "lines+markers",
                  "type": "scatter",
                  "x": [
                    2004,
                    2005,
                    2006,
                    2007,
                    2008,
                    2009,
                    2010,
                    2011,
                    2012,
                    2013,
                    2014,
                    2015,
                    2016,
                    2017,
                    2018,
                    2019
                  ],
                  "y": [
                    27772,
                    19014,
                    14286,
                    11651,
                    12911,
                    7464,
                    7000,
                    6418,
                    4571,
                    5891,
                    5012,
                    6207,
                    7893,
                    6947,
                    7536,
                    9762
                  ]
                }
              ],
              "layout": {
                "template": {
                  "data": {
                    "bar": [
                      {
                        "error_x": {
                          "color": "#2a3f5f"
                        },
                        "error_y": {
                          "color": "#2a3f5f"
                        },
                        "marker": {
                          "line": {
                            "color": "#E5ECF6",
                            "width": 0.5
                          },
                          "pattern": {
                            "fillmode": "overlay",
                            "size": 10,
                            "solidity": 0.2
                          }
                        },
                        "type": "bar"
                      }
                    ],
                    "barpolar": [
                      {
                        "marker": {
                          "line": {
                            "color": "#E5ECF6",
                            "width": 0.5
                          },
                          "pattern": {
                            "fillmode": "overlay",
                            "size": 10,
                            "solidity": 0.2
                          }
                        },
                        "type": "barpolar"
                      }
                    ],
                    "carpet": [
                      {
                        "aaxis": {
                          "endlinecolor": "#2a3f5f",
                          "gridcolor": "white",
                          "linecolor": "white",
                          "minorgridcolor": "white",
                          "startlinecolor": "#2a3f5f"
                        },
                        "baxis": {
                          "endlinecolor": "#2a3f5f",
                          "gridcolor": "white",
                          "linecolor": "white",
                          "minorgridcolor": "white",
                          "startlinecolor": "#2a3f5f"
                        },
                        "type": "carpet"
                      }
                    ],
                    "choropleth": [
                      {
                        "colorbar": {
                          "outlinewidth": 0,
                          "ticks": ""
                        },
                        "type": "choropleth"
                      }
                    ],
                    "contour": [
                      {
                        "colorbar": {
                          "outlinewidth": 0,
                          "ticks": ""
                        },
                        "colorscale": [
                          [
                            0,
                            "#0d0887"
                          ],
                          [
                            0.1111111111111111,
                            "#46039f"
                          ],
                          [
                            0.2222222222222222,
                            "#7201a8"
                          ],
                          [
                            0.3333333333333333,
                            "#9c179e"
                          ],
                          [
                            0.4444444444444444,
                            "#bd3786"
                          ],
                          [
                            0.5555555555555556,
                            "#d8576b"
                          ],
                          [
                            0.6666666666666666,
                            "#ed7953"
                          ],
                          [
                            0.7777777777777778,
                            "#fb9f3a"
                          ],
                          [
                            0.8888888888888888,
                            "#fdca26"
                          ],
                          [
                            1,
                            "#f0f921"
                          ]
                        ],
                        "type": "contour"
                      }
                    ],
                    "contourcarpet": [
                      {
                        "colorbar": {
                          "outlinewidth": 0,
                          "ticks": ""
                        },
                        "type": "contourcarpet"
                      }
                    ],
                    "heatmap": [
                      {
                        "colorbar": {
                          "outlinewidth": 0,
                          "ticks": ""
                        },
                        "colorscale": [
                          [
                            0,
                            "#0d0887"
                          ],
                          [
                            0.1111111111111111,
                            "#46039f"
                          ],
                          [
                            0.2222222222222222,
                            "#7201a8"
                          ],
                          [
                            0.3333333333333333,
                            "#9c179e"
                          ],
                          [
                            0.4444444444444444,
                            "#bd3786"
                          ],
                          [
                            0.5555555555555556,
                            "#d8576b"
                          ],
                          [
                            0.6666666666666666,
                            "#ed7953"
                          ],
                          [
                            0.7777777777777778,
                            "#fb9f3a"
                          ],
                          [
                            0.8888888888888888,
                            "#fdca26"
                          ],
                          [
                            1,
                            "#f0f921"
                          ]
                        ],
                        "type": "heatmap"
                      }
                    ],
                    "heatmapgl": [
                      {
                        "colorbar": {
                          "outlinewidth": 0,
                          "ticks": ""
                        },
                        "colorscale": [
                          [
                            0,
                            "#0d0887"
                          ],
                          [
                            0.1111111111111111,
                            "#46039f"
                          ],
                          [
                            0.2222222222222222,
                            "#7201a8"
                          ],
                          [
                            0.3333333333333333,
                            "#9c179e"
                          ],
                          [
                            0.4444444444444444,
                            "#bd3786"
                          ],
                          [
                            0.5555555555555556,
                            "#d8576b"
                          ],
                          [
                            0.6666666666666666,
                            "#ed7953"
                          ],
                          [
                            0.7777777777777778,
                            "#fb9f3a"
                          ],
                          [
                            0.8888888888888888,
                            "#fdca26"
                          ],
                          [
                            1,
                            "#f0f921"
                          ]
                        ],
                        "type": "heatmapgl"
                      }
                    ],
                    "histogram": [
                      {
                        "marker": {
                          "pattern": {
                            "fillmode": "overlay",
                            "size": 10,
                            "solidity": 0.2
                          }
                        },
                        "type": "histogram"
                      }
                    ],
                    "histogram2d": [
                      {
                        "colorbar": {
                          "outlinewidth": 0,
                          "ticks": ""
                        },
                        "colorscale": [
                          [
                            0,
                            "#0d0887"
                          ],
                          [
                            0.1111111111111111,
                            "#46039f"
                          ],
                          [
                            0.2222222222222222,
                            "#7201a8"
                          ],
                          [
                            0.3333333333333333,
                            "#9c179e"
                          ],
                          [
                            0.4444444444444444,
                            "#bd3786"
                          ],
                          [
                            0.5555555555555556,
                            "#d8576b"
                          ],
                          [
                            0.6666666666666666,
                            "#ed7953"
                          ],
                          [
                            0.7777777777777778,
                            "#fb9f3a"
                          ],
                          [
                            0.8888888888888888,
                            "#fdca26"
                          ],
                          [
                            1,
                            "#f0f921"
                          ]
                        ],
                        "type": "histogram2d"
                      }
                    ],
                    "histogram2dcontour": [
                      {
                        "colorbar": {
                          "outlinewidth": 0,
                          "ticks": ""
                        },
                        "colorscale": [
                          [
                            0,
                            "#0d0887"
                          ],
                          [
                            0.1111111111111111,
                            "#46039f"
                          ],
                          [
                            0.2222222222222222,
                            "#7201a8"
                          ],
                          [
                            0.3333333333333333,
                            "#9c179e"
                          ],
                          [
                            0.4444444444444444,
                            "#bd3786"
                          ],
                          [
                            0.5555555555555556,
                            "#d8576b"
                          ],
                          [
                            0.6666666666666666,
                            "#ed7953"
                          ],
                          [
                            0.7777777777777778,
                            "#fb9f3a"
                          ],
                          [
                            0.8888888888888888,
                            "#fdca26"
                          ],
                          [
                            1,
                            "#f0f921"
                          ]
                        ],
                        "type": "histogram2dcontour"
                      }
                    ],
                    "mesh3d": [
                      {
                        "colorbar": {
                          "outlinewidth": 0,
                          "ticks": ""
                        },
                        "type": "mesh3d"
                      }
                    ],
                    "parcoords": [
                      {
                        "line": {
                          "colorbar": {
                            "outlinewidth": 0,
                            "ticks": ""
                          }
                        },
                        "type": "parcoords"
                      }
                    ],
                    "pie": [
                      {
                        "automargin": true,
                        "type": "pie"
                      }
                    ],
                    "scatter": [
                      {
                        "fillpattern": {
                          "fillmode": "overlay",
                          "size": 10,
                          "solidity": 0.2
                        },
                        "type": "scatter"
                      }
                    ],
                    "scatter3d": [
                      {
                        "line": {
                          "colorbar": {
                            "outlinewidth": 0,
                            "ticks": ""
                          }
                        },
                        "marker": {
                          "colorbar": {
                            "outlinewidth": 0,
                            "ticks": ""
                          }
                        },
                        "type": "scatter3d"
                      }
                    ],
                    "scattercarpet": [
                      {
                        "marker": {
                          "colorbar": {
                            "outlinewidth": 0,
                            "ticks": ""
                          }
                        },
                        "type": "scattercarpet"
                      }
                    ],
                    "scattergeo": [
                      {
                        "marker": {
                          "colorbar": {
                            "outlinewidth": 0,
                            "ticks": ""
                          }
                        },
                        "type": "scattergeo"
                      }
                    ],
                    "scattergl": [
                      {
                        "marker": {
                          "colorbar": {
                            "outlinewidth": 0,
                            "ticks": ""
                          }
                        },
                        "type": "scattergl"
                      }
                    ],
                    "scattermapbox": [
                      {
                        "marker": {
                          "colorbar": {
                            "outlinewidth": 0,
                            "ticks": ""
                          }
                        },
                        "type": "scattermapbox"
                      }
                    ],
                    "scatterpolar": [
                      {
                        "marker": {
                          "colorbar": {
                            "outlinewidth": 0,
                            "ticks": ""
                          }
                        },
                        "type": "scatterpolar"
                      }
                    ],
                    "scatterpolargl": [
                      {
                        "marker": {
                          "colorbar": {
                            "outlinewidth": 0,
                            "ticks": ""
                          }
                        },
                        "type": "scatterpolargl"
                      }
                    ],
                    "scatterternary": [
                      {
                        "marker": {
                          "colorbar": {
                            "outlinewidth": 0,
                            "ticks": ""
                          }
                        },
                        "type": "scatterternary"
                      }
                    ],
                    "surface": [
                      {
                        "colorbar": {
                          "outlinewidth": 0,
                          "ticks": ""
                        },
                        "colorscale": [
                          [
                            0,
                            "#0d0887"
                          ],
                          [
                            0.1111111111111111,
                            "#46039f"
                          ],
                          [
                            0.2222222222222222,
                            "#7201a8"
                          ],
                          [
                            0.3333333333333333,
                            "#9c179e"
                          ],
                          [
                            0.4444444444444444,
                            "#bd3786"
                          ],
                          [
                            0.5555555555555556,
                            "#d8576b"
                          ],
                          [
                            0.6666666666666666,
                            "#ed7953"
                          ],
                          [
                            0.7777777777777778,
                            "#fb9f3a"
                          ],
                          [
                            0.8888888888888888,
                            "#fdca26"
                          ],
                          [
                            1,
                            "#f0f921"
                          ]
                        ],
                        "type": "surface"
                      }
                    ],
                    "table": [
                      {
                        "cells": {
                          "fill": {
                            "color": "#EBF0F8"
                          },
                          "line": {
                            "color": "white"
                          }
                        },
                        "header": {
                          "fill": {
                            "color": "#C8D4E3"
                          },
                          "line": {
                            "color": "white"
                          }
                        },
                        "type": "table"
                      }
                    ]
                  },
                  "layout": {
                    "annotationdefaults": {
                      "arrowcolor": "#2a3f5f",
                      "arrowhead": 0,
                      "arrowwidth": 1
                    },
                    "autotypenumbers": "strict",
                    "coloraxis": {
                      "colorbar": {
                        "outlinewidth": 0,
                        "ticks": ""
                      }
                    },
                    "colorscale": {
                      "diverging": [
                        [
                          0,
                          "#8e0152"
                        ],
                        [
                          0.1,
                          "#c51b7d"
                        ],
                        [
                          0.2,
                          "#de77ae"
                        ],
                        [
                          0.3,
                          "#f1b6da"
                        ],
                        [
                          0.4,
                          "#fde0ef"
                        ],
                        [
                          0.5,
                          "#f7f7f7"
                        ],
                        [
                          0.6,
                          "#e6f5d0"
                        ],
                        [
                          0.7,
                          "#b8e186"
                        ],
                        [
                          0.8,
                          "#7fbc41"
                        ],
                        [
                          0.9,
                          "#4d9221"
                        ],
                        [
                          1,
                          "#276419"
                        ]
                      ],
                      "sequential": [
                        [
                          0,
                          "#0d0887"
                        ],
                        [
                          0.1111111111111111,
                          "#46039f"
                        ],
                        [
                          0.2222222222222222,
                          "#7201a8"
                        ],
                        [
                          0.3333333333333333,
                          "#9c179e"
                        ],
                        [
                          0.4444444444444444,
                          "#bd3786"
                        ],
                        [
                          0.5555555555555556,
                          "#d8576b"
                        ],
                        [
                          0.6666666666666666,
                          "#ed7953"
                        ],
                        [
                          0.7777777777777778,
                          "#fb9f3a"
                        ],
                        [
                          0.8888888888888888,
                          "#fdca26"
                        ],
                        [
                          1,
                          "#f0f921"
                        ]
                      ],
                      "sequentialminus": [
                        [
                          0,
                          "#0d0887"
                        ],
                        [
                          0.1111111111111111,
                          "#46039f"
                        ],
                        [
                          0.2222222222222222,
                          "#7201a8"
                        ],
                        [
                          0.3333333333333333,
                          "#9c179e"
                        ],
                        [
                          0.4444444444444444,
                          "#bd3786"
                        ],
                        [
                          0.5555555555555556,
                          "#d8576b"
                        ],
                        [
                          0.6666666666666666,
                          "#ed7953"
                        ],
                        [
                          0.7777777777777778,
                          "#fb9f3a"
                        ],
                        [
                          0.8888888888888888,
                          "#fdca26"
                        ],
                        [
                          1,
                          "#f0f921"
                        ]
                      ]
                    },
                    "colorway": [
                      "#636efa",
                      "#EF553B",
                      "#00cc96",
                      "#ab63fa",
                      "#FFA15A",
                      "#19d3f3",
                      "#FF6692",
                      "#B6E880",
                      "#FF97FF",
                      "#FECB52"
                    ],
                    "font": {
                      "color": "#2a3f5f"
                    },
                    "geo": {
                      "bgcolor": "white",
                      "lakecolor": "white",
                      "landcolor": "#E5ECF6",
                      "showlakes": true,
                      "showland": true,
                      "subunitcolor": "white"
                    },
                    "hoverlabel": {
                      "align": "left"
                    },
                    "hovermode": "closest",
                    "mapbox": {
                      "style": "light"
                    },
                    "paper_bgcolor": "white",
                    "plot_bgcolor": "#E5ECF6",
                    "polar": {
                      "angularaxis": {
                        "gridcolor": "white",
                        "linecolor": "white",
                        "ticks": ""
                      },
                      "bgcolor": "#E5ECF6",
                      "radialaxis": {
                        "gridcolor": "white",
                        "linecolor": "white",
                        "ticks": ""
                      }
                    },
                    "scene": {
                      "xaxis": {
                        "backgroundcolor": "#E5ECF6",
                        "gridcolor": "white",
                        "gridwidth": 2,
                        "linecolor": "white",
                        "showbackground": true,
                        "ticks": "",
                        "zerolinecolor": "white"
                      },
                      "yaxis": {
                        "backgroundcolor": "#E5ECF6",
                        "gridcolor": "white",
                        "gridwidth": 2,
                        "linecolor": "white",
                        "showbackground": true,
                        "ticks": "",
                        "zerolinecolor": "white"
                      },
                      "zaxis": {
                        "backgroundcolor": "#E5ECF6",
                        "gridcolor": "white",
                        "gridwidth": 2,
                        "linecolor": "white",
                        "showbackground": true,
                        "ticks": "",
                        "zerolinecolor": "white"
                      }
                    },
                    "shapedefaults": {
                      "line": {
                        "color": "#2a3f5f"
                      }
                    },
                    "ternary": {
                      "aaxis": {
                        "gridcolor": "white",
                        "linecolor": "white",
                        "ticks": ""
                      },
                      "baxis": {
                        "gridcolor": "white",
                        "linecolor": "white",
                        "ticks": ""
                      },
                      "bgcolor": "#E5ECF6",
                      "caxis": {
                        "gridcolor": "white",
                        "linecolor": "white",
                        "ticks": ""
                      }
                    },
                    "title": {
                      "x": 0.05
                    },
                    "xaxis": {
                      "automargin": true,
                      "gridcolor": "white",
                      "linecolor": "white",
                      "ticks": "",
                      "title": {
                        "standoff": 15
                      },
                      "zerolinecolor": "white",
                      "zerolinewidth": 2
                    },
                    "yaxis": {
                      "automargin": true,
                      "gridcolor": "white",
                      "linecolor": "white",
                      "ticks": "",
                      "title": {
                        "standoff": 15
                      },
                      "zerolinecolor": "white",
                      "zerolinewidth": 2
                    }
                  }
                },
                "title": {
                  "text": "Desmatamento Amazônia Legal"
                },
                "xaxis": {
                  "title": {
                    "text": "Ano"
                  }
                },
                "yaxis": {
                  "title": {
                    "text": "Área (km²)"
                  }
                }
              }
            }
          },
          "metadata": {},
          "output_type": "display_data"
        }
      ],
      "source": [
        "fig = go.Figure()\n",
        "fig.add_trace(go.Scatter(x=df['Ano/Estados'], y=df['AMZ LEGAL'], mode='lines+markers'))\n",
        "\n",
        "# Atualizando layout do gráfico\n",
        "fig.update_layout(title='Desmatamento Amazônia Legal', xaxis_title='Ano', yaxis_title='Área (km²)')\n",
        "\n",
        "# Exibindo o gráfico\n",
        "fig.show()"
      ]
    },
    {
      "cell_type": "markdown",
      "metadata": {
        "id": "-j64H1QQ8fSq"
      },
      "source": [
        "Valores das áreas totais\n",
        "2004 foi o ano que houve mais desmatamentos da história com um total de 27.772 km²\n",
        "\n",
        "2005 foi o segundo ano com mais desmatamentos com um total de 19.014 km²\n",
        "\n",
        "2008 subiu 10% do ano anterior com 12.911 km²\n",
        "\n",
        "2012 teve o menor índice de desmatamento com 4.571 km²\n",
        "\n",
        "2019 foi o ano com mais desmatamentos desde 2008, com 9.762 km²"
      ]
    },
    {
      "cell_type": "code",
      "execution_count": 3,
      "metadata": {
        "colab": {
          "base_uri": "https://localhost:8080/",
          "height": 551
        },
        "id": "3xM3fzicuBAF",
        "outputId": "4e42e689-8ad2-4994-c1df-a15ac0382dd9"
      },
      "outputs": [
        {
          "data": {
            "text/html": [
              "<div>\n",
              "<style scoped>\n",
              "    .dataframe tbody tr th:only-of-type {\n",
              "        vertical-align: middle;\n",
              "    }\n",
              "\n",
              "    .dataframe tbody tr th {\n",
              "        vertical-align: top;\n",
              "    }\n",
              "\n",
              "    .dataframe thead th {\n",
              "        text-align: right;\n",
              "    }\n",
              "</style>\n",
              "<table border=\"1\" class=\"dataframe\">\n",
              "  <thead>\n",
              "    <tr style=\"text-align: right;\">\n",
              "      <th></th>\n",
              "      <th>Ano/Estados</th>\n",
              "      <th>AC</th>\n",
              "      <th>AM</th>\n",
              "      <th>AP</th>\n",
              "      <th>MA</th>\n",
              "      <th>MT</th>\n",
              "      <th>PA</th>\n",
              "      <th>RO</th>\n",
              "      <th>RR</th>\n",
              "      <th>TO</th>\n",
              "      <th>AMZ LEGAL</th>\n",
              "      <th>AREA DESM_TOTAL</th>\n",
              "    </tr>\n",
              "  </thead>\n",
              "  <tbody>\n",
              "    <tr>\n",
              "      <th>0</th>\n",
              "      <td>2004</td>\n",
              "      <td>728</td>\n",
              "      <td>1232</td>\n",
              "      <td>46</td>\n",
              "      <td>755</td>\n",
              "      <td>11814</td>\n",
              "      <td>8870</td>\n",
              "      <td>3858</td>\n",
              "      <td>311</td>\n",
              "      <td>158</td>\n",
              "      <td>27772</td>\n",
              "      <td>27772</td>\n",
              "    </tr>\n",
              "    <tr>\n",
              "      <th>1</th>\n",
              "      <td>2005</td>\n",
              "      <td>592</td>\n",
              "      <td>775</td>\n",
              "      <td>33</td>\n",
              "      <td>922</td>\n",
              "      <td>7145</td>\n",
              "      <td>5899</td>\n",
              "      <td>3244</td>\n",
              "      <td>133</td>\n",
              "      <td>271</td>\n",
              "      <td>19014</td>\n",
              "      <td>46786</td>\n",
              "    </tr>\n",
              "    <tr>\n",
              "      <th>2</th>\n",
              "      <td>2006</td>\n",
              "      <td>398</td>\n",
              "      <td>788</td>\n",
              "      <td>30</td>\n",
              "      <td>674</td>\n",
              "      <td>4333</td>\n",
              "      <td>5659</td>\n",
              "      <td>2049</td>\n",
              "      <td>231</td>\n",
              "      <td>124</td>\n",
              "      <td>14286</td>\n",
              "      <td>61072</td>\n",
              "    </tr>\n",
              "    <tr>\n",
              "      <th>3</th>\n",
              "      <td>2007</td>\n",
              "      <td>184</td>\n",
              "      <td>610</td>\n",
              "      <td>39</td>\n",
              "      <td>631</td>\n",
              "      <td>2678</td>\n",
              "      <td>5526</td>\n",
              "      <td>1611</td>\n",
              "      <td>309</td>\n",
              "      <td>63</td>\n",
              "      <td>11651</td>\n",
              "      <td>72723</td>\n",
              "    </tr>\n",
              "    <tr>\n",
              "      <th>4</th>\n",
              "      <td>2008</td>\n",
              "      <td>254</td>\n",
              "      <td>604</td>\n",
              "      <td>100</td>\n",
              "      <td>1271</td>\n",
              "      <td>3258</td>\n",
              "      <td>5607</td>\n",
              "      <td>1136</td>\n",
              "      <td>574</td>\n",
              "      <td>107</td>\n",
              "      <td>12911</td>\n",
              "      <td>85634</td>\n",
              "    </tr>\n",
              "    <tr>\n",
              "      <th>5</th>\n",
              "      <td>2009</td>\n",
              "      <td>167</td>\n",
              "      <td>405</td>\n",
              "      <td>70</td>\n",
              "      <td>828</td>\n",
              "      <td>1049</td>\n",
              "      <td>4281</td>\n",
              "      <td>482</td>\n",
              "      <td>121</td>\n",
              "      <td>61</td>\n",
              "      <td>7464</td>\n",
              "      <td>93098</td>\n",
              "    </tr>\n",
              "    <tr>\n",
              "      <th>6</th>\n",
              "      <td>2010</td>\n",
              "      <td>259</td>\n",
              "      <td>595</td>\n",
              "      <td>53</td>\n",
              "      <td>712</td>\n",
              "      <td>871</td>\n",
              "      <td>3770</td>\n",
              "      <td>435</td>\n",
              "      <td>256</td>\n",
              "      <td>49</td>\n",
              "      <td>7000</td>\n",
              "      <td>100098</td>\n",
              "    </tr>\n",
              "    <tr>\n",
              "      <th>7</th>\n",
              "      <td>2011</td>\n",
              "      <td>280</td>\n",
              "      <td>502</td>\n",
              "      <td>66</td>\n",
              "      <td>396</td>\n",
              "      <td>1120</td>\n",
              "      <td>3008</td>\n",
              "      <td>865</td>\n",
              "      <td>141</td>\n",
              "      <td>40</td>\n",
              "      <td>6418</td>\n",
              "      <td>106516</td>\n",
              "    </tr>\n",
              "    <tr>\n",
              "      <th>8</th>\n",
              "      <td>2012</td>\n",
              "      <td>305</td>\n",
              "      <td>523</td>\n",
              "      <td>27</td>\n",
              "      <td>269</td>\n",
              "      <td>757</td>\n",
              "      <td>1741</td>\n",
              "      <td>773</td>\n",
              "      <td>124</td>\n",
              "      <td>52</td>\n",
              "      <td>4571</td>\n",
              "      <td>111087</td>\n",
              "    </tr>\n",
              "    <tr>\n",
              "      <th>9</th>\n",
              "      <td>2013</td>\n",
              "      <td>221</td>\n",
              "      <td>583</td>\n",
              "      <td>23</td>\n",
              "      <td>403</td>\n",
              "      <td>1139</td>\n",
              "      <td>2346</td>\n",
              "      <td>932</td>\n",
              "      <td>170</td>\n",
              "      <td>74</td>\n",
              "      <td>5891</td>\n",
              "      <td>116978</td>\n",
              "    </tr>\n",
              "    <tr>\n",
              "      <th>10</th>\n",
              "      <td>2014</td>\n",
              "      <td>309</td>\n",
              "      <td>500</td>\n",
              "      <td>31</td>\n",
              "      <td>257</td>\n",
              "      <td>1075</td>\n",
              "      <td>1887</td>\n",
              "      <td>684</td>\n",
              "      <td>219</td>\n",
              "      <td>50</td>\n",
              "      <td>5012</td>\n",
              "      <td>121990</td>\n",
              "    </tr>\n",
              "    <tr>\n",
              "      <th>11</th>\n",
              "      <td>2015</td>\n",
              "      <td>264</td>\n",
              "      <td>712</td>\n",
              "      <td>25</td>\n",
              "      <td>209</td>\n",
              "      <td>1601</td>\n",
              "      <td>2153</td>\n",
              "      <td>1030</td>\n",
              "      <td>156</td>\n",
              "      <td>57</td>\n",
              "      <td>6207</td>\n",
              "      <td>128197</td>\n",
              "    </tr>\n",
              "    <tr>\n",
              "      <th>12</th>\n",
              "      <td>2016</td>\n",
              "      <td>372</td>\n",
              "      <td>1129</td>\n",
              "      <td>17</td>\n",
              "      <td>258</td>\n",
              "      <td>1489</td>\n",
              "      <td>2992</td>\n",
              "      <td>1376</td>\n",
              "      <td>202</td>\n",
              "      <td>58</td>\n",
              "      <td>7893</td>\n",
              "      <td>136090</td>\n",
              "    </tr>\n",
              "    <tr>\n",
              "      <th>13</th>\n",
              "      <td>2017</td>\n",
              "      <td>257</td>\n",
              "      <td>1001</td>\n",
              "      <td>24</td>\n",
              "      <td>265</td>\n",
              "      <td>1561</td>\n",
              "      <td>2433</td>\n",
              "      <td>1243</td>\n",
              "      <td>132</td>\n",
              "      <td>31</td>\n",
              "      <td>6947</td>\n",
              "      <td>143037</td>\n",
              "    </tr>\n",
              "    <tr>\n",
              "      <th>14</th>\n",
              "      <td>2018</td>\n",
              "      <td>444</td>\n",
              "      <td>1045</td>\n",
              "      <td>24</td>\n",
              "      <td>253</td>\n",
              "      <td>1490</td>\n",
              "      <td>2744</td>\n",
              "      <td>1316</td>\n",
              "      <td>195</td>\n",
              "      <td>25</td>\n",
              "      <td>7536</td>\n",
              "      <td>150573</td>\n",
              "    </tr>\n",
              "    <tr>\n",
              "      <th>15</th>\n",
              "      <td>2019</td>\n",
              "      <td>688</td>\n",
              "      <td>1421</td>\n",
              "      <td>8</td>\n",
              "      <td>215</td>\n",
              "      <td>1685</td>\n",
              "      <td>3862</td>\n",
              "      <td>1245</td>\n",
              "      <td>617</td>\n",
              "      <td>21</td>\n",
              "      <td>9762</td>\n",
              "      <td>160335</td>\n",
              "    </tr>\n",
              "  </tbody>\n",
              "</table>\n",
              "</div>"
            ],
            "text/plain": [
              "    Ano/Estados   AC    AM   AP    MA     MT    PA    RO   RR   TO  AMZ LEGAL  \\\n",
              "0          2004  728  1232   46   755  11814  8870  3858  311  158      27772   \n",
              "1          2005  592   775   33   922   7145  5899  3244  133  271      19014   \n",
              "2          2006  398   788   30   674   4333  5659  2049  231  124      14286   \n",
              "3          2007  184   610   39   631   2678  5526  1611  309   63      11651   \n",
              "4          2008  254   604  100  1271   3258  5607  1136  574  107      12911   \n",
              "5          2009  167   405   70   828   1049  4281   482  121   61       7464   \n",
              "6          2010  259   595   53   712    871  3770   435  256   49       7000   \n",
              "7          2011  280   502   66   396   1120  3008   865  141   40       6418   \n",
              "8          2012  305   523   27   269    757  1741   773  124   52       4571   \n",
              "9          2013  221   583   23   403   1139  2346   932  170   74       5891   \n",
              "10         2014  309   500   31   257   1075  1887   684  219   50       5012   \n",
              "11         2015  264   712   25   209   1601  2153  1030  156   57       6207   \n",
              "12         2016  372  1129   17   258   1489  2992  1376  202   58       7893   \n",
              "13         2017  257  1001   24   265   1561  2433  1243  132   31       6947   \n",
              "14         2018  444  1045   24   253   1490  2744  1316  195   25       7536   \n",
              "15         2019  688  1421    8   215   1685  3862  1245  617   21       9762   \n",
              "\n",
              "    AREA DESM_TOTAL  \n",
              "0             27772  \n",
              "1             46786  \n",
              "2             61072  \n",
              "3             72723  \n",
              "4             85634  \n",
              "5             93098  \n",
              "6            100098  \n",
              "7            106516  \n",
              "8            111087  \n",
              "9            116978  \n",
              "10           121990  \n",
              "11           128197  \n",
              "12           136090  \n",
              "13           143037  \n",
              "14           150573  \n",
              "15           160335  "
            ]
          },
          "execution_count": 3,
          "metadata": {},
          "output_type": "execute_result"
        }
      ],
      "source": [
        "df['AREA DESM_TOTAL'] = df['AMZ LEGAL'].cumsum()\n",
        "df"
      ]
    },
    {
      "cell_type": "code",
      "execution_count": 4,
      "metadata": {
        "colab": {
          "base_uri": "https://localhost:8080/",
          "height": 542
        },
        "id": "C_dJXT1VuuVK",
        "outputId": "47d8fc9f-995e-4839-e4bc-e1b2713701d4"
      },
      "outputs": [
        {
          "data": {
            "application/vnd.plotly.v1+json": {
              "config": {
                "plotlyServerURL": "https://plot.ly"
              },
              "data": [
                {
                  "mode": "lines+markers",
                  "name": "Área desmatada total acumulada",
                  "type": "scatter",
                  "x": [
                    2004,
                    2005,
                    2006,
                    2007,
                    2008,
                    2009,
                    2010,
                    2011,
                    2012,
                    2013,
                    2014,
                    2015,
                    2016,
                    2017,
                    2018,
                    2019
                  ],
                  "y": [
                    27772,
                    46786,
                    61072,
                    72723,
                    85634,
                    93098,
                    100098,
                    106516,
                    111087,
                    116978,
                    121990,
                    128197,
                    136090,
                    143037,
                    150573,
                    160335
                  ]
                }
              ],
              "layout": {
                "template": {
                  "data": {
                    "bar": [
                      {
                        "error_x": {
                          "color": "#2a3f5f"
                        },
                        "error_y": {
                          "color": "#2a3f5f"
                        },
                        "marker": {
                          "line": {
                            "color": "#E5ECF6",
                            "width": 0.5
                          },
                          "pattern": {
                            "fillmode": "overlay",
                            "size": 10,
                            "solidity": 0.2
                          }
                        },
                        "type": "bar"
                      }
                    ],
                    "barpolar": [
                      {
                        "marker": {
                          "line": {
                            "color": "#E5ECF6",
                            "width": 0.5
                          },
                          "pattern": {
                            "fillmode": "overlay",
                            "size": 10,
                            "solidity": 0.2
                          }
                        },
                        "type": "barpolar"
                      }
                    ],
                    "carpet": [
                      {
                        "aaxis": {
                          "endlinecolor": "#2a3f5f",
                          "gridcolor": "white",
                          "linecolor": "white",
                          "minorgridcolor": "white",
                          "startlinecolor": "#2a3f5f"
                        },
                        "baxis": {
                          "endlinecolor": "#2a3f5f",
                          "gridcolor": "white",
                          "linecolor": "white",
                          "minorgridcolor": "white",
                          "startlinecolor": "#2a3f5f"
                        },
                        "type": "carpet"
                      }
                    ],
                    "choropleth": [
                      {
                        "colorbar": {
                          "outlinewidth": 0,
                          "ticks": ""
                        },
                        "type": "choropleth"
                      }
                    ],
                    "contour": [
                      {
                        "colorbar": {
                          "outlinewidth": 0,
                          "ticks": ""
                        },
                        "colorscale": [
                          [
                            0,
                            "#0d0887"
                          ],
                          [
                            0.1111111111111111,
                            "#46039f"
                          ],
                          [
                            0.2222222222222222,
                            "#7201a8"
                          ],
                          [
                            0.3333333333333333,
                            "#9c179e"
                          ],
                          [
                            0.4444444444444444,
                            "#bd3786"
                          ],
                          [
                            0.5555555555555556,
                            "#d8576b"
                          ],
                          [
                            0.6666666666666666,
                            "#ed7953"
                          ],
                          [
                            0.7777777777777778,
                            "#fb9f3a"
                          ],
                          [
                            0.8888888888888888,
                            "#fdca26"
                          ],
                          [
                            1,
                            "#f0f921"
                          ]
                        ],
                        "type": "contour"
                      }
                    ],
                    "contourcarpet": [
                      {
                        "colorbar": {
                          "outlinewidth": 0,
                          "ticks": ""
                        },
                        "type": "contourcarpet"
                      }
                    ],
                    "heatmap": [
                      {
                        "colorbar": {
                          "outlinewidth": 0,
                          "ticks": ""
                        },
                        "colorscale": [
                          [
                            0,
                            "#0d0887"
                          ],
                          [
                            0.1111111111111111,
                            "#46039f"
                          ],
                          [
                            0.2222222222222222,
                            "#7201a8"
                          ],
                          [
                            0.3333333333333333,
                            "#9c179e"
                          ],
                          [
                            0.4444444444444444,
                            "#bd3786"
                          ],
                          [
                            0.5555555555555556,
                            "#d8576b"
                          ],
                          [
                            0.6666666666666666,
                            "#ed7953"
                          ],
                          [
                            0.7777777777777778,
                            "#fb9f3a"
                          ],
                          [
                            0.8888888888888888,
                            "#fdca26"
                          ],
                          [
                            1,
                            "#f0f921"
                          ]
                        ],
                        "type": "heatmap"
                      }
                    ],
                    "heatmapgl": [
                      {
                        "colorbar": {
                          "outlinewidth": 0,
                          "ticks": ""
                        },
                        "colorscale": [
                          [
                            0,
                            "#0d0887"
                          ],
                          [
                            0.1111111111111111,
                            "#46039f"
                          ],
                          [
                            0.2222222222222222,
                            "#7201a8"
                          ],
                          [
                            0.3333333333333333,
                            "#9c179e"
                          ],
                          [
                            0.4444444444444444,
                            "#bd3786"
                          ],
                          [
                            0.5555555555555556,
                            "#d8576b"
                          ],
                          [
                            0.6666666666666666,
                            "#ed7953"
                          ],
                          [
                            0.7777777777777778,
                            "#fb9f3a"
                          ],
                          [
                            0.8888888888888888,
                            "#fdca26"
                          ],
                          [
                            1,
                            "#f0f921"
                          ]
                        ],
                        "type": "heatmapgl"
                      }
                    ],
                    "histogram": [
                      {
                        "marker": {
                          "pattern": {
                            "fillmode": "overlay",
                            "size": 10,
                            "solidity": 0.2
                          }
                        },
                        "type": "histogram"
                      }
                    ],
                    "histogram2d": [
                      {
                        "colorbar": {
                          "outlinewidth": 0,
                          "ticks": ""
                        },
                        "colorscale": [
                          [
                            0,
                            "#0d0887"
                          ],
                          [
                            0.1111111111111111,
                            "#46039f"
                          ],
                          [
                            0.2222222222222222,
                            "#7201a8"
                          ],
                          [
                            0.3333333333333333,
                            "#9c179e"
                          ],
                          [
                            0.4444444444444444,
                            "#bd3786"
                          ],
                          [
                            0.5555555555555556,
                            "#d8576b"
                          ],
                          [
                            0.6666666666666666,
                            "#ed7953"
                          ],
                          [
                            0.7777777777777778,
                            "#fb9f3a"
                          ],
                          [
                            0.8888888888888888,
                            "#fdca26"
                          ],
                          [
                            1,
                            "#f0f921"
                          ]
                        ],
                        "type": "histogram2d"
                      }
                    ],
                    "histogram2dcontour": [
                      {
                        "colorbar": {
                          "outlinewidth": 0,
                          "ticks": ""
                        },
                        "colorscale": [
                          [
                            0,
                            "#0d0887"
                          ],
                          [
                            0.1111111111111111,
                            "#46039f"
                          ],
                          [
                            0.2222222222222222,
                            "#7201a8"
                          ],
                          [
                            0.3333333333333333,
                            "#9c179e"
                          ],
                          [
                            0.4444444444444444,
                            "#bd3786"
                          ],
                          [
                            0.5555555555555556,
                            "#d8576b"
                          ],
                          [
                            0.6666666666666666,
                            "#ed7953"
                          ],
                          [
                            0.7777777777777778,
                            "#fb9f3a"
                          ],
                          [
                            0.8888888888888888,
                            "#fdca26"
                          ],
                          [
                            1,
                            "#f0f921"
                          ]
                        ],
                        "type": "histogram2dcontour"
                      }
                    ],
                    "mesh3d": [
                      {
                        "colorbar": {
                          "outlinewidth": 0,
                          "ticks": ""
                        },
                        "type": "mesh3d"
                      }
                    ],
                    "parcoords": [
                      {
                        "line": {
                          "colorbar": {
                            "outlinewidth": 0,
                            "ticks": ""
                          }
                        },
                        "type": "parcoords"
                      }
                    ],
                    "pie": [
                      {
                        "automargin": true,
                        "type": "pie"
                      }
                    ],
                    "scatter": [
                      {
                        "fillpattern": {
                          "fillmode": "overlay",
                          "size": 10,
                          "solidity": 0.2
                        },
                        "type": "scatter"
                      }
                    ],
                    "scatter3d": [
                      {
                        "line": {
                          "colorbar": {
                            "outlinewidth": 0,
                            "ticks": ""
                          }
                        },
                        "marker": {
                          "colorbar": {
                            "outlinewidth": 0,
                            "ticks": ""
                          }
                        },
                        "type": "scatter3d"
                      }
                    ],
                    "scattercarpet": [
                      {
                        "marker": {
                          "colorbar": {
                            "outlinewidth": 0,
                            "ticks": ""
                          }
                        },
                        "type": "scattercarpet"
                      }
                    ],
                    "scattergeo": [
                      {
                        "marker": {
                          "colorbar": {
                            "outlinewidth": 0,
                            "ticks": ""
                          }
                        },
                        "type": "scattergeo"
                      }
                    ],
                    "scattergl": [
                      {
                        "marker": {
                          "colorbar": {
                            "outlinewidth": 0,
                            "ticks": ""
                          }
                        },
                        "type": "scattergl"
                      }
                    ],
                    "scattermapbox": [
                      {
                        "marker": {
                          "colorbar": {
                            "outlinewidth": 0,
                            "ticks": ""
                          }
                        },
                        "type": "scattermapbox"
                      }
                    ],
                    "scatterpolar": [
                      {
                        "marker": {
                          "colorbar": {
                            "outlinewidth": 0,
                            "ticks": ""
                          }
                        },
                        "type": "scatterpolar"
                      }
                    ],
                    "scatterpolargl": [
                      {
                        "marker": {
                          "colorbar": {
                            "outlinewidth": 0,
                            "ticks": ""
                          }
                        },
                        "type": "scatterpolargl"
                      }
                    ],
                    "scatterternary": [
                      {
                        "marker": {
                          "colorbar": {
                            "outlinewidth": 0,
                            "ticks": ""
                          }
                        },
                        "type": "scatterternary"
                      }
                    ],
                    "surface": [
                      {
                        "colorbar": {
                          "outlinewidth": 0,
                          "ticks": ""
                        },
                        "colorscale": [
                          [
                            0,
                            "#0d0887"
                          ],
                          [
                            0.1111111111111111,
                            "#46039f"
                          ],
                          [
                            0.2222222222222222,
                            "#7201a8"
                          ],
                          [
                            0.3333333333333333,
                            "#9c179e"
                          ],
                          [
                            0.4444444444444444,
                            "#bd3786"
                          ],
                          [
                            0.5555555555555556,
                            "#d8576b"
                          ],
                          [
                            0.6666666666666666,
                            "#ed7953"
                          ],
                          [
                            0.7777777777777778,
                            "#fb9f3a"
                          ],
                          [
                            0.8888888888888888,
                            "#fdca26"
                          ],
                          [
                            1,
                            "#f0f921"
                          ]
                        ],
                        "type": "surface"
                      }
                    ],
                    "table": [
                      {
                        "cells": {
                          "fill": {
                            "color": "#EBF0F8"
                          },
                          "line": {
                            "color": "white"
                          }
                        },
                        "header": {
                          "fill": {
                            "color": "#C8D4E3"
                          },
                          "line": {
                            "color": "white"
                          }
                        },
                        "type": "table"
                      }
                    ]
                  },
                  "layout": {
                    "annotationdefaults": {
                      "arrowcolor": "#2a3f5f",
                      "arrowhead": 0,
                      "arrowwidth": 1
                    },
                    "autotypenumbers": "strict",
                    "coloraxis": {
                      "colorbar": {
                        "outlinewidth": 0,
                        "ticks": ""
                      }
                    },
                    "colorscale": {
                      "diverging": [
                        [
                          0,
                          "#8e0152"
                        ],
                        [
                          0.1,
                          "#c51b7d"
                        ],
                        [
                          0.2,
                          "#de77ae"
                        ],
                        [
                          0.3,
                          "#f1b6da"
                        ],
                        [
                          0.4,
                          "#fde0ef"
                        ],
                        [
                          0.5,
                          "#f7f7f7"
                        ],
                        [
                          0.6,
                          "#e6f5d0"
                        ],
                        [
                          0.7,
                          "#b8e186"
                        ],
                        [
                          0.8,
                          "#7fbc41"
                        ],
                        [
                          0.9,
                          "#4d9221"
                        ],
                        [
                          1,
                          "#276419"
                        ]
                      ],
                      "sequential": [
                        [
                          0,
                          "#0d0887"
                        ],
                        [
                          0.1111111111111111,
                          "#46039f"
                        ],
                        [
                          0.2222222222222222,
                          "#7201a8"
                        ],
                        [
                          0.3333333333333333,
                          "#9c179e"
                        ],
                        [
                          0.4444444444444444,
                          "#bd3786"
                        ],
                        [
                          0.5555555555555556,
                          "#d8576b"
                        ],
                        [
                          0.6666666666666666,
                          "#ed7953"
                        ],
                        [
                          0.7777777777777778,
                          "#fb9f3a"
                        ],
                        [
                          0.8888888888888888,
                          "#fdca26"
                        ],
                        [
                          1,
                          "#f0f921"
                        ]
                      ],
                      "sequentialminus": [
                        [
                          0,
                          "#0d0887"
                        ],
                        [
                          0.1111111111111111,
                          "#46039f"
                        ],
                        [
                          0.2222222222222222,
                          "#7201a8"
                        ],
                        [
                          0.3333333333333333,
                          "#9c179e"
                        ],
                        [
                          0.4444444444444444,
                          "#bd3786"
                        ],
                        [
                          0.5555555555555556,
                          "#d8576b"
                        ],
                        [
                          0.6666666666666666,
                          "#ed7953"
                        ],
                        [
                          0.7777777777777778,
                          "#fb9f3a"
                        ],
                        [
                          0.8888888888888888,
                          "#fdca26"
                        ],
                        [
                          1,
                          "#f0f921"
                        ]
                      ]
                    },
                    "colorway": [
                      "#636efa",
                      "#EF553B",
                      "#00cc96",
                      "#ab63fa",
                      "#FFA15A",
                      "#19d3f3",
                      "#FF6692",
                      "#B6E880",
                      "#FF97FF",
                      "#FECB52"
                    ],
                    "font": {
                      "color": "#2a3f5f"
                    },
                    "geo": {
                      "bgcolor": "white",
                      "lakecolor": "white",
                      "landcolor": "#E5ECF6",
                      "showlakes": true,
                      "showland": true,
                      "subunitcolor": "white"
                    },
                    "hoverlabel": {
                      "align": "left"
                    },
                    "hovermode": "closest",
                    "mapbox": {
                      "style": "light"
                    },
                    "paper_bgcolor": "white",
                    "plot_bgcolor": "#E5ECF6",
                    "polar": {
                      "angularaxis": {
                        "gridcolor": "white",
                        "linecolor": "white",
                        "ticks": ""
                      },
                      "bgcolor": "#E5ECF6",
                      "radialaxis": {
                        "gridcolor": "white",
                        "linecolor": "white",
                        "ticks": ""
                      }
                    },
                    "scene": {
                      "xaxis": {
                        "backgroundcolor": "#E5ECF6",
                        "gridcolor": "white",
                        "gridwidth": 2,
                        "linecolor": "white",
                        "showbackground": true,
                        "ticks": "",
                        "zerolinecolor": "white"
                      },
                      "yaxis": {
                        "backgroundcolor": "#E5ECF6",
                        "gridcolor": "white",
                        "gridwidth": 2,
                        "linecolor": "white",
                        "showbackground": true,
                        "ticks": "",
                        "zerolinecolor": "white"
                      },
                      "zaxis": {
                        "backgroundcolor": "#E5ECF6",
                        "gridcolor": "white",
                        "gridwidth": 2,
                        "linecolor": "white",
                        "showbackground": true,
                        "ticks": "",
                        "zerolinecolor": "white"
                      }
                    },
                    "shapedefaults": {
                      "line": {
                        "color": "#2a3f5f"
                      }
                    },
                    "ternary": {
                      "aaxis": {
                        "gridcolor": "white",
                        "linecolor": "white",
                        "ticks": ""
                      },
                      "baxis": {
                        "gridcolor": "white",
                        "linecolor": "white",
                        "ticks": ""
                      },
                      "bgcolor": "#E5ECF6",
                      "caxis": {
                        "gridcolor": "white",
                        "linecolor": "white",
                        "ticks": ""
                      }
                    },
                    "title": {
                      "x": 0.05
                    },
                    "xaxis": {
                      "automargin": true,
                      "gridcolor": "white",
                      "linecolor": "white",
                      "ticks": "",
                      "title": {
                        "standoff": 15
                      },
                      "zerolinecolor": "white",
                      "zerolinewidth": 2
                    },
                    "yaxis": {
                      "automargin": true,
                      "gridcolor": "white",
                      "linecolor": "white",
                      "ticks": "",
                      "title": {
                        "standoff": 15
                      },
                      "zerolinecolor": "white",
                      "zerolinewidth": 2
                    }
                  }
                },
                "title": {
                  "text": "Área desmatada total acumulada na Amazônia Legal (2004-2019)"
                },
                "xaxis": {
                  "title": {
                    "text": "Ano"
                  }
                },
                "yaxis": {
                  "title": {
                    "text": "Área desmatada total acumulada (km²)"
                  }
                }
              }
            }
          },
          "metadata": {},
          "output_type": "display_data"
        }
      ],
      "source": [
        "fig = go.Figure()\n",
        "\n",
        "fig.add_trace(go.Scatter(x=df['Ano/Estados'], y=df['AREA DESM_TOTAL'], \n",
        "                         mode='lines+markers', \n",
        "                         name='Área desmatada total acumulada'))\n",
        "\n",
        "fig.update_layout(title='Área desmatada total acumulada na Amazônia Legal (2004-2019)',\n",
        "                  xaxis_title='Ano', yaxis_title='Área desmatada total acumulada (km²)')\n",
        "\n",
        "fig.show()"
      ]
    },
    {
      "cell_type": "code",
      "execution_count": 5,
      "metadata": {
        "colab": {
          "base_uri": "https://localhost:8080/",
          "height": 295
        },
        "id": "CAXXf2eayMt-",
        "outputId": "01a70a83-c95d-4229-bd99-75b192b9bb07"
      },
      "outputs": [
        {
          "data": {
            "image/png": "[encoded data removed]",
            "text/plain": [
              "<Figure size 640x480 with 1 Axes>"
            ]
          },
          "metadata": {},
          "output_type": "display_data"
        }
      ],
      "source": [
        "import matplotlib.pyplot as plt\n",
        "# Gráfico de barras\n",
        "df.plot.bar(x=\"Ano/Estados\", y=\"AREA DESM_TOTAL\")\n",
        "\n",
        "# Mostrar o gráfico\n",
        "plt.show()"
      ]
    },
    {
      "cell_type": "markdown",
      "metadata": {
        "id": "HadN15lN7KnY"
      },
      "source": [
        "Encontrar dados com informação da população de especies da amazonia ao decorrer dos anos e avaliar mudanças, ver o impacto de criação de orgs ou qualquer outra forma de prevenção dos animais e avaliar o impacto."
      ]
    },
    {
      "attachments": {},
      "cell_type": "markdown",
      "metadata": {},
      "source": [
        "##### Segunda database"
      ]
    },
    {
      "cell_type": "code",
      "execution_count": 3,
      "metadata": {},
      "outputs": [
        {
          "data": {
            "text/html": [
              "<div>\n",
              "<style scoped>\n",
              "    .dataframe tbody tr th:only-of-type {\n",
              "        vertical-align: middle;\n",
              "    }\n",
              "\n",
              "    .dataframe tbody tr th {\n",
              "        vertical-align: top;\n",
              "    }\n",
              "\n",
              "    .dataframe thead th {\n",
              "        text-align: right;\n",
              "    }\n",
              "</style>\n",
              "<table border=\"1\" class=\"dataframe\">\n",
              "  <thead>\n",
              "    <tr style=\"text-align: right;\">\n",
              "      <th></th>\n",
              "      <th>year</th>\n",
              "      <th>month</th>\n",
              "      <th>state</th>\n",
              "      <th>latitude</th>\n",
              "      <th>longitude</th>\n",
              "      <th>firespots</th>\n",
              "    </tr>\n",
              "  </thead>\n",
              "  <tbody>\n",
              "    <tr>\n",
              "      <th>0</th>\n",
              "      <td>1999</td>\n",
              "      <td>1</td>\n",
              "      <td>AMAZONAS</td>\n",
              "      <td>-2.371113</td>\n",
              "      <td>-59.899933</td>\n",
              "      <td>3</td>\n",
              "    </tr>\n",
              "    <tr>\n",
              "      <th>1</th>\n",
              "      <td>1999</td>\n",
              "      <td>1</td>\n",
              "      <td>MARANHAO</td>\n",
              "      <td>-2.257395</td>\n",
              "      <td>-45.487831</td>\n",
              "      <td>36</td>\n",
              "    </tr>\n",
              "    <tr>\n",
              "      <th>2</th>\n",
              "      <td>1999</td>\n",
              "      <td>1</td>\n",
              "      <td>MATO GROSSO</td>\n",
              "      <td>-12.660633</td>\n",
              "      <td>-55.057989</td>\n",
              "      <td>18</td>\n",
              "    </tr>\n",
              "    <tr>\n",
              "      <th>3</th>\n",
              "      <td>1999</td>\n",
              "      <td>1</td>\n",
              "      <td>PARA</td>\n",
              "      <td>-2.474820</td>\n",
              "      <td>-48.546967</td>\n",
              "      <td>87</td>\n",
              "    </tr>\n",
              "    <tr>\n",
              "      <th>4</th>\n",
              "      <td>1999</td>\n",
              "      <td>1</td>\n",
              "      <td>RONDONIA</td>\n",
              "      <td>-12.861700</td>\n",
              "      <td>-60.513100</td>\n",
              "      <td>1</td>\n",
              "    </tr>\n",
              "    <tr>\n",
              "      <th>...</th>\n",
              "      <td>...</td>\n",
              "      <td>...</td>\n",
              "      <td>...</td>\n",
              "      <td>...</td>\n",
              "      <td>...</td>\n",
              "      <td>...</td>\n",
              "    </tr>\n",
              "    <tr>\n",
              "      <th>2099</th>\n",
              "      <td>2019</td>\n",
              "      <td>12</td>\n",
              "      <td>MATO GROSSO</td>\n",
              "      <td>-12.138385</td>\n",
              "      <td>-56.066297</td>\n",
              "      <td>148</td>\n",
              "    </tr>\n",
              "    <tr>\n",
              "      <th>2100</th>\n",
              "      <td>2019</td>\n",
              "      <td>12</td>\n",
              "      <td>PARA</td>\n",
              "      <td>-2.976727</td>\n",
              "      <td>-50.909316</td>\n",
              "      <td>1280</td>\n",
              "    </tr>\n",
              "    <tr>\n",
              "      <th>2101</th>\n",
              "      <td>2019</td>\n",
              "      <td>12</td>\n",
              "      <td>RONDONIA</td>\n",
              "      <td>-10.809262</td>\n",
              "      <td>-62.890452</td>\n",
              "      <td>42</td>\n",
              "    </tr>\n",
              "    <tr>\n",
              "      <th>2102</th>\n",
              "      <td>2019</td>\n",
              "      <td>12</td>\n",
              "      <td>RORAIMA</td>\n",
              "      <td>2.856667</td>\n",
              "      <td>-60.431963</td>\n",
              "      <td>27</td>\n",
              "    </tr>\n",
              "    <tr>\n",
              "      <th>2103</th>\n",
              "      <td>2019</td>\n",
              "      <td>12</td>\n",
              "      <td>TOCANTINS</td>\n",
              "      <td>-6.769381</td>\n",
              "      <td>-48.475667</td>\n",
              "      <td>21</td>\n",
              "    </tr>\n",
              "  </tbody>\n",
              "</table>\n",
              "<p>2104 rows × 6 columns</p>\n",
              "</div>"
            ],
            "text/plain": [
              "      year  month        state   latitude  longitude  firespots\n",
              "0     1999      1     AMAZONAS  -2.371113 -59.899933          3\n",
              "1     1999      1     MARANHAO  -2.257395 -45.487831         36\n",
              "2     1999      1  MATO GROSSO -12.660633 -55.057989         18\n",
              "3     1999      1         PARA  -2.474820 -48.546967         87\n",
              "4     1999      1     RONDONIA -12.861700 -60.513100          1\n",
              "...    ...    ...          ...        ...        ...        ...\n",
              "2099  2019     12  MATO GROSSO -12.138385 -56.066297        148\n",
              "2100  2019     12         PARA  -2.976727 -50.909316       1280\n",
              "2101  2019     12     RONDONIA -10.809262 -62.890452         42\n",
              "2102  2019     12      RORAIMA   2.856667 -60.431963         27\n",
              "2103  2019     12    TOCANTINS  -6.769381 -48.475667         21\n",
              "\n",
              "[2104 rows x 6 columns]"
            ]
          },
          "execution_count": 3,
          "metadata": {},
          "output_type": "execute_result"
        }
      ],
      "source": [
        "df2 = pd.read_csv('inpe_brazilian_amazon_fires_1999_2019.csv')\n",
        "df2"
      ]
    },
    {
      "cell_type": "code",
      "execution_count": 12,
      "metadata": {},
      "outputs": [
        {
          "data": {
            "text/plain": [
              "2018    105\n",
              "2016    105\n",
              "2015    105\n",
              "2004    104\n",
              "2013    104\n",
              "2012    104\n",
              "2007    104\n",
              "2009    103\n",
              "2010    103\n",
              "2019    103\n",
              "2005    103\n",
              "2014    102\n",
              "2003    102\n",
              "2017    102\n",
              "2008    101\n",
              "2011    101\n",
              "2006    100\n",
              "2002     97\n",
              "2000     87\n",
              "1999     85\n",
              "2001     84\n",
              "Name: year, dtype: int64"
            ]
          },
          "execution_count": 12,
          "metadata": {},
          "output_type": "execute_result"
        },
        {
          "data": {
            "image/png": "[encoded data removed]",
            "text/plain": [
              "<Figure size 640x480 with 1 Axes>"
            ]
          },
          "metadata": {},
          "output_type": "display_data"
        }
      ],
      "source": [
        "df2['year'].value_counts()[df2.year.unique()].plot(kind='bar',xlabel='Ano',ylabel='Focos de Incêndio')\n",
        "#df2['year'].value_counts()\n",
        "#insights, a partir de 2002 a quantidade de focos de incêndio se manteve dentro de uma margem\n",
        "# os anos com maiores focos foram: 2008, 2015 e 2016 com 105 focos"
      ]
    }
  ],
  "metadata": {
    "colab": {
      "authorship_tag": "ABX9TyNeJyY3U+qiuDEIfJDz5GjP",
      "include_colab_link": true,
      "mount_file_id": "https://github.com/MatheusRobles/Projeto_Pandas/blob/main/Analise_Exploratoria_Amazonia.ipynb",
      "provenance": []
    },
    "kernelspec": {
      "display_name": "Python 3",
      "language": "python",
      "name": "python3"
    },
    "language_info": {
      "codemirror_mode": {
        "name": "ipython",
        "version": 3
      },
      "file_extension": ".py",
      "mimetype": "text/x-python",
      "name": "python",
      "nbconvert_exporter": "python",
      "pygments_lexer": "ipython3",
      "version": "3.11.1"
    },
    "vscode": {
      "interpreter": {
        "hash": "23e1087692d03fda744743085a0ad0a40b07d745467f4f6ddbf1ad3c97f43123"
      }
    }
  },
  "nbformat": 4,
  "nbformat_minor": 0
}
