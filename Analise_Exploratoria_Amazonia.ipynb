{
  "cells": [
    {
      "cell_type": "markdown",
      "metadata": {
        "colab_type": "text",
        "id": "view-in-github"
      },
      "source": [
        "<a href=\"https://colab.research.google.com/github/MatheusRobles/Projeto_Pandas/blob/main/Analise_Exploratoria_Amazonia.ipynb\" target=\"_parent\"><img src=\"https://colab.research.google.com/assets/colab-badge.svg\" alt=\"Open In Colab\"/></a>"
      ]
    },
    {
      "cell_type": "markdown",
      "metadata": {
        "id": "uFLXT2lC7DDu"
      },
      "source": [
        "\n",
        "https://www.kaggle.com/datasets/mbogernetto/brazilian-amazon-rainforest-degradation"
      ]
    },
    {
      "cell_type": "markdown",
      "metadata": {
        "id": "RE8wQIKP7FK8"
      },
      "source": [
        "Sobre o conjunto de dados Contexto A floresta amazônica é uma floresta tropical úmida de folhas largas no bioma amazônico que cobre o território pertencente a nove nações. A maior parte da floresta está contida no Brasil, com 60% da floresta tropical, seguido pelo Peru com 13%, Colômbia com 10% e com quantidades menores na Venezuela, Equador, Bolívia, Guiana, Suriname e Guiana Francesa.\n",
        "\n",
        "A região oferece benefícios importantes para as comunidades que vivem perto e longe. Quase 500 comunidades indígenas chamam a floresta amazônica de lar. É um ecossistema altamente biodiverso, lar de inúmeras espécies de plantas e animais. A floresta tropical pode criar seu próprio clima e influenciar climas em todo o mundo. Infelizmente, o frágil ecossistema enfrenta a constante ameaça de desmatamento e incêndios (por causas naturais ou antrópicas).\n",
        "\n",
        "O desmatamento ocorre por vários motivos, como agricultura ilegal, desastres naturais, urbanização e mineração. Existem várias maneiras de remover florestas - queima e extração de madeira são dois métodos. Embora o desmatamento esteja acontecendo em todo o mundo hoje, é uma questão especialmente crítica na floresta amazônica, como a única grande floresta ainda existente no mundo. Lá, as espécies de plantas e animais que abrigam vêm desaparecendo em ritmo alarmante."
      ]
    },
    {
      "cell_type": "code",
      "execution_count": 1,
      "metadata": {
        "colab": {
          "base_uri": "https://localhost:8080/",
          "height": 551
        },
        "id": "pZ0Din6b4OZs",
        "outputId": "4217a7ed-3082-47fd-fc5a-54ee355c1369"
      },
      "outputs": [
        {
          "data": {
            "text/html": [
              "<div>\n",
              "<style scoped>\n",
              "    .dataframe tbody tr th:only-of-type {\n",
              "        vertical-align: middle;\n",
              "    }\n",
              "\n",
              "    .dataframe tbody tr th {\n",
              "        vertical-align: top;\n",
              "    }\n",
              "\n",
              "    .dataframe thead th {\n",
              "        text-align: right;\n",
              "    }\n",
              "</style>\n",
              "<table border=\"1\" class=\"dataframe\">\n",
              "  <thead>\n",
              "    <tr style=\"text-align: right;\">\n",
              "      <th></th>\n",
              "      <th>Ano/Estados</th>\n",
              "      <th>AC</th>\n",
              "      <th>AM</th>\n",
              "      <th>AP</th>\n",
              "      <th>MA</th>\n",
              "      <th>MT</th>\n",
              "      <th>PA</th>\n",
              "      <th>RO</th>\n",
              "      <th>RR</th>\n",
              "      <th>TO</th>\n",
              "      <th>AMZ LEGAL</th>\n",
              "    </tr>\n",
              "  </thead>\n",
              "  <tbody>\n",
              "    <tr>\n",
              "      <th>0</th>\n",
              "      <td>2004</td>\n",
              "      <td>728</td>\n",
              "      <td>1232</td>\n",
              "      <td>46</td>\n",
              "      <td>755</td>\n",
              "      <td>11814</td>\n",
              "      <td>8870</td>\n",
              "      <td>3858</td>\n",
              "      <td>311</td>\n",
              "      <td>158</td>\n",
              "      <td>27772</td>\n",
              "    </tr>\n",
              "    <tr>\n",
              "      <th>1</th>\n",
              "      <td>2005</td>\n",
              "      <td>592</td>\n",
              "      <td>775</td>\n",
              "      <td>33</td>\n",
              "      <td>922</td>\n",
              "      <td>7145</td>\n",
              "      <td>5899</td>\n",
              "      <td>3244</td>\n",
              "      <td>133</td>\n",
              "      <td>271</td>\n",
              "      <td>19014</td>\n",
              "    </tr>\n",
              "    <tr>\n",
              "      <th>2</th>\n",
              "      <td>2006</td>\n",
              "      <td>398</td>\n",
              "      <td>788</td>\n",
              "      <td>30</td>\n",
              "      <td>674</td>\n",
              "      <td>4333</td>\n",
              "      <td>5659</td>\n",
              "      <td>2049</td>\n",
              "      <td>231</td>\n",
              "      <td>124</td>\n",
              "      <td>14286</td>\n",
              "    </tr>\n",
              "    <tr>\n",
              "      <th>3</th>\n",
              "      <td>2007</td>\n",
              "      <td>184</td>\n",
              "      <td>610</td>\n",
              "      <td>39</td>\n",
              "      <td>631</td>\n",
              "      <td>2678</td>\n",
              "      <td>5526</td>\n",
              "      <td>1611</td>\n",
              "      <td>309</td>\n",
              "      <td>63</td>\n",
              "      <td>11651</td>\n",
              "    </tr>\n",
              "    <tr>\n",
              "      <th>4</th>\n",
              "      <td>2008</td>\n",
              "      <td>254</td>\n",
              "      <td>604</td>\n",
              "      <td>100</td>\n",
              "      <td>1271</td>\n",
              "      <td>3258</td>\n",
              "      <td>5607</td>\n",
              "      <td>1136</td>\n",
              "      <td>574</td>\n",
              "      <td>107</td>\n",
              "      <td>12911</td>\n",
              "    </tr>\n",
              "    <tr>\n",
              "      <th>5</th>\n",
              "      <td>2009</td>\n",
              "      <td>167</td>\n",
              "      <td>405</td>\n",
              "      <td>70</td>\n",
              "      <td>828</td>\n",
              "      <td>1049</td>\n",
              "      <td>4281</td>\n",
              "      <td>482</td>\n",
              "      <td>121</td>\n",
              "      <td>61</td>\n",
              "      <td>7464</td>\n",
              "    </tr>\n",
              "    <tr>\n",
              "      <th>6</th>\n",
              "      <td>2010</td>\n",
              "      <td>259</td>\n",
              "      <td>595</td>\n",
              "      <td>53</td>\n",
              "      <td>712</td>\n",
              "      <td>871</td>\n",
              "      <td>3770</td>\n",
              "      <td>435</td>\n",
              "      <td>256</td>\n",
              "      <td>49</td>\n",
              "      <td>7000</td>\n",
              "    </tr>\n",
              "    <tr>\n",
              "      <th>7</th>\n",
              "      <td>2011</td>\n",
              "      <td>280</td>\n",
              "      <td>502</td>\n",
              "      <td>66</td>\n",
              "      <td>396</td>\n",
              "      <td>1120</td>\n",
              "      <td>3008</td>\n",
              "      <td>865</td>\n",
              "      <td>141</td>\n",
              "      <td>40</td>\n",
              "      <td>6418</td>\n",
              "    </tr>\n",
              "    <tr>\n",
              "      <th>8</th>\n",
              "      <td>2012</td>\n",
              "      <td>305</td>\n",
              "      <td>523</td>\n",
              "      <td>27</td>\n",
              "      <td>269</td>\n",
              "      <td>757</td>\n",
              "      <td>1741</td>\n",
              "      <td>773</td>\n",
              "      <td>124</td>\n",
              "      <td>52</td>\n",
              "      <td>4571</td>\n",
              "    </tr>\n",
              "    <tr>\n",
              "      <th>9</th>\n",
              "      <td>2013</td>\n",
              "      <td>221</td>\n",
              "      <td>583</td>\n",
              "      <td>23</td>\n",
              "      <td>403</td>\n",
              "      <td>1139</td>\n",
              "      <td>2346</td>\n",
              "      <td>932</td>\n",
              "      <td>170</td>\n",
              "      <td>74</td>\n",
              "      <td>5891</td>\n",
              "    </tr>\n",
              "    <tr>\n",
              "      <th>10</th>\n",
              "      <td>2014</td>\n",
              "      <td>309</td>\n",
              "      <td>500</td>\n",
              "      <td>31</td>\n",
              "      <td>257</td>\n",
              "      <td>1075</td>\n",
              "      <td>1887</td>\n",
              "      <td>684</td>\n",
              "      <td>219</td>\n",
              "      <td>50</td>\n",
              "      <td>5012</td>\n",
              "    </tr>\n",
              "    <tr>\n",
              "      <th>11</th>\n",
              "      <td>2015</td>\n",
              "      <td>264</td>\n",
              "      <td>712</td>\n",
              "      <td>25</td>\n",
              "      <td>209</td>\n",
              "      <td>1601</td>\n",
              "      <td>2153</td>\n",
              "      <td>1030</td>\n",
              "      <td>156</td>\n",
              "      <td>57</td>\n",
              "      <td>6207</td>\n",
              "    </tr>\n",
              "    <tr>\n",
              "      <th>12</th>\n",
              "      <td>2016</td>\n",
              "      <td>372</td>\n",
              "      <td>1129</td>\n",
              "      <td>17</td>\n",
              "      <td>258</td>\n",
              "      <td>1489</td>\n",
              "      <td>2992</td>\n",
              "      <td>1376</td>\n",
              "      <td>202</td>\n",
              "      <td>58</td>\n",
              "      <td>7893</td>\n",
              "    </tr>\n",
              "    <tr>\n",
              "      <th>13</th>\n",
              "      <td>2017</td>\n",
              "      <td>257</td>\n",
              "      <td>1001</td>\n",
              "      <td>24</td>\n",
              "      <td>265</td>\n",
              "      <td>1561</td>\n",
              "      <td>2433</td>\n",
              "      <td>1243</td>\n",
              "      <td>132</td>\n",
              "      <td>31</td>\n",
              "      <td>6947</td>\n",
              "    </tr>\n",
              "    <tr>\n",
              "      <th>14</th>\n",
              "      <td>2018</td>\n",
              "      <td>444</td>\n",
              "      <td>1045</td>\n",
              "      <td>24</td>\n",
              "      <td>253</td>\n",
              "      <td>1490</td>\n",
              "      <td>2744</td>\n",
              "      <td>1316</td>\n",
              "      <td>195</td>\n",
              "      <td>25</td>\n",
              "      <td>7536</td>\n",
              "    </tr>\n",
              "    <tr>\n",
              "      <th>15</th>\n",
              "      <td>2019</td>\n",
              "      <td>688</td>\n",
              "      <td>1421</td>\n",
              "      <td>8</td>\n",
              "      <td>215</td>\n",
              "      <td>1685</td>\n",
              "      <td>3862</td>\n",
              "      <td>1245</td>\n",
              "      <td>617</td>\n",
              "      <td>21</td>\n",
              "      <td>9762</td>\n",
              "    </tr>\n",
              "  </tbody>\n",
              "</table>\n",
              "</div>"
            ],
            "text/plain": [
              "    Ano/Estados   AC    AM   AP    MA     MT    PA    RO   RR   TO  AMZ LEGAL\n",
              "0          2004  728  1232   46   755  11814  8870  3858  311  158      27772\n",
              "1          2005  592   775   33   922   7145  5899  3244  133  271      19014\n",
              "2          2006  398   788   30   674   4333  5659  2049  231  124      14286\n",
              "3          2007  184   610   39   631   2678  5526  1611  309   63      11651\n",
              "4          2008  254   604  100  1271   3258  5607  1136  574  107      12911\n",
              "5          2009  167   405   70   828   1049  4281   482  121   61       7464\n",
              "6          2010  259   595   53   712    871  3770   435  256   49       7000\n",
              "7          2011  280   502   66   396   1120  3008   865  141   40       6418\n",
              "8          2012  305   523   27   269    757  1741   773  124   52       4571\n",
              "9          2013  221   583   23   403   1139  2346   932  170   74       5891\n",
              "10         2014  309   500   31   257   1075  1887   684  219   50       5012\n",
              "11         2015  264   712   25   209   1601  2153  1030  156   57       6207\n",
              "12         2016  372  1129   17   258   1489  2992  1376  202   58       7893\n",
              "13         2017  257  1001   24   265   1561  2433  1243  132   31       6947\n",
              "14         2018  444  1045   24   253   1490  2744  1316  195   25       7536\n",
              "15         2019  688  1421    8   215   1685  3862  1245  617   21       9762"
            ]
          },
          "execution_count": 1,
          "metadata": {},
          "output_type": "execute_result"
        }
      ],
      "source": [
        "import pandas as pd\n",
        "import numpy as np\n",
        "import plotly.graph_objects as go\n",
        "import matplotlib.pyplot as plt\n",
        "\n",
        "df = pd.read_csv(\"https://raw.githubusercontent.com/MatheusRobles/Projeto_Pandas/main/def_area_2004_2019.csv\")\n",
        "df"
      ]
    },
    {
      "cell_type": "code",
      "execution_count": 2,
      "metadata": {
        "colab": {
          "base_uri": "https://localhost:8080/",
          "height": 542
        },
        "id": "qP0KaBmsnb8Q",
        "outputId": "0ced243c-db5c-476d-97b1-5156f4d0220c"
      },
      "outputs": [
        {
          "data": {
            "application/vnd.plotly.v1+json": {
              "config": {
                "plotlyServerURL": "https://plot.ly"
              },
              "data": [
                {
                  "type": "scatter",
                  "x": [
                    2004,
                    2005,
                    2006,
                    2007,
                    2008,
                    2009,
                    2010,
                    2011,
                    2012,
                    2013,
                    2014,
                    2015,
                    2016,
                    2017,
                    2018,
                    2019
                  ],
                  "y": [
                    27772,
                    19014,
                    14286,
                    11651,
                    12911,
                    7464,
                    7000,
                    6418,
                    4571,
                    5891,
                    5012,
                    6207,
                    7893,
                    6947,
                    7536,
                    9762
                  ]
                }
              ],
              "layout": {
                "template": {
                  "data": {
                    "bar": [
                      {
                        "error_x": {
                          "color": "#2a3f5f"
                        },
                        "error_y": {
                          "color": "#2a3f5f"
                        },
                        "marker": {
                          "line": {
                            "color": "#E5ECF6",
                            "width": 0.5
                          },
                          "pattern": {
                            "fillmode": "overlay",
                            "size": 10,
                            "solidity": 0.2
                          }
                        },
                        "type": "bar"
                      }
                    ],
                    "barpolar": [
                      {
                        "marker": {
                          "line": {
                            "color": "#E5ECF6",
                            "width": 0.5
                          },
                          "pattern": {
                            "fillmode": "overlay",
                            "size": 10,
                            "solidity": 0.2
                          }
                        },
                        "type": "barpolar"
                      }
                    ],
                    "carpet": [
                      {
                        "aaxis": {
                          "endlinecolor": "#2a3f5f",
                          "gridcolor": "white",
                          "linecolor": "white",
                          "minorgridcolor": "white",
                          "startlinecolor": "#2a3f5f"
                        },
                        "baxis": {
                          "endlinecolor": "#2a3f5f",
                          "gridcolor": "white",
                          "linecolor": "white",
                          "minorgridcolor": "white",
                          "startlinecolor": "#2a3f5f"
                        },
                        "type": "carpet"
                      }
                    ],
                    "choropleth": [
                      {
                        "colorbar": {
                          "outlinewidth": 0,
                          "ticks": ""
                        },
                        "type": "choropleth"
                      }
                    ],
                    "contour": [
                      {
                        "colorbar": {
                          "outlinewidth": 0,
                          "ticks": ""
                        },
                        "colorscale": [
                          [
                            0,
                            "#0d0887"
                          ],
                          [
                            0.1111111111111111,
                            "#46039f"
                          ],
                          [
                            0.2222222222222222,
                            "#7201a8"
                          ],
                          [
                            0.3333333333333333,
                            "#9c179e"
                          ],
                          [
                            0.4444444444444444,
                            "#bd3786"
                          ],
                          [
                            0.5555555555555556,
                            "#d8576b"
                          ],
                          [
                            0.6666666666666666,
                            "#ed7953"
                          ],
                          [
                            0.7777777777777778,
                            "#fb9f3a"
                          ],
                          [
                            0.8888888888888888,
                            "#fdca26"
                          ],
                          [
                            1,
                            "#f0f921"
                          ]
                        ],
                        "type": "contour"
                      }
                    ],
                    "contourcarpet": [
                      {
                        "colorbar": {
                          "outlinewidth": 0,
                          "ticks": ""
                        },
                        "type": "contourcarpet"
                      }
                    ],
                    "heatmap": [
                      {
                        "colorbar": {
                          "outlinewidth": 0,
                          "ticks": ""
                        },
                        "colorscale": [
                          [
                            0,
                            "#0d0887"
                          ],
                          [
                            0.1111111111111111,
                            "#46039f"
                          ],
                          [
                            0.2222222222222222,
                            "#7201a8"
                          ],
                          [
                            0.3333333333333333,
                            "#9c179e"
                          ],
                          [
                            0.4444444444444444,
                            "#bd3786"
                          ],
                          [
                            0.5555555555555556,
                            "#d8576b"
                          ],
                          [
                            0.6666666666666666,
                            "#ed7953"
                          ],
                          [
                            0.7777777777777778,
                            "#fb9f3a"
                          ],
                          [
                            0.8888888888888888,
                            "#fdca26"
                          ],
                          [
                            1,
                            "#f0f921"
                          ]
                        ],
                        "type": "heatmap"
                      }
                    ],
                    "heatmapgl": [
                      {
                        "colorbar": {
                          "outlinewidth": 0,
                          "ticks": ""
                        },
                        "colorscale": [
                          [
                            0,
                            "#0d0887"
                          ],
                          [
                            0.1111111111111111,
                            "#46039f"
                          ],
                          [
                            0.2222222222222222,
                            "#7201a8"
                          ],
                          [
                            0.3333333333333333,
                            "#9c179e"
                          ],
                          [
                            0.4444444444444444,
                            "#bd3786"
                          ],
                          [
                            0.5555555555555556,
                            "#d8576b"
                          ],
                          [
                            0.6666666666666666,
                            "#ed7953"
                          ],
                          [
                            0.7777777777777778,
                            "#fb9f3a"
                          ],
                          [
                            0.8888888888888888,
                            "#fdca26"
                          ],
                          [
                            1,
                            "#f0f921"
                          ]
                        ],
                        "type": "heatmapgl"
                      }
                    ],
                    "histogram": [
                      {
                        "marker": {
                          "pattern": {
                            "fillmode": "overlay",
                            "size": 10,
                            "solidity": 0.2
                          }
                        },
                        "type": "histogram"
                      }
                    ],
                    "histogram2d": [
                      {
                        "colorbar": {
                          "outlinewidth": 0,
                          "ticks": ""
                        },
                        "colorscale": [
                          [
                            0,
                            "#0d0887"
                          ],
                          [
                            0.1111111111111111,
                            "#46039f"
                          ],
                          [
                            0.2222222222222222,
                            "#7201a8"
                          ],
                          [
                            0.3333333333333333,
                            "#9c179e"
                          ],
                          [
                            0.4444444444444444,
                            "#bd3786"
                          ],
                          [
                            0.5555555555555556,
                            "#d8576b"
                          ],
                          [
                            0.6666666666666666,
                            "#ed7953"
                          ],
                          [
                            0.7777777777777778,
                            "#fb9f3a"
                          ],
                          [
                            0.8888888888888888,
                            "#fdca26"
                          ],
                          [
                            1,
                            "#f0f921"
                          ]
                        ],
                        "type": "histogram2d"
                      }
                    ],
                    "histogram2dcontour": [
                      {
                        "colorbar": {
                          "outlinewidth": 0,
                          "ticks": ""
                        },
                        "colorscale": [
                          [
                            0,
                            "#0d0887"
                          ],
                          [
                            0.1111111111111111,
                            "#46039f"
                          ],
                          [
                            0.2222222222222222,
                            "#7201a8"
                          ],
                          [
                            0.3333333333333333,
                            "#9c179e"
                          ],
                          [
                            0.4444444444444444,
                            "#bd3786"
                          ],
                          [
                            0.5555555555555556,
                            "#d8576b"
                          ],
                          [
                            0.6666666666666666,
                            "#ed7953"
                          ],
                          [
                            0.7777777777777778,
                            "#fb9f3a"
                          ],
                          [
                            0.8888888888888888,
                            "#fdca26"
                          ],
                          [
                            1,
                            "#f0f921"
                          ]
                        ],
                        "type": "histogram2dcontour"
                      }
                    ],
                    "mesh3d": [
                      {
                        "colorbar": {
                          "outlinewidth": 0,
                          "ticks": ""
                        },
                        "type": "mesh3d"
                      }
                    ],
                    "parcoords": [
                      {
                        "line": {
                          "colorbar": {
                            "outlinewidth": 0,
                            "ticks": ""
                          }
                        },
                        "type": "parcoords"
                      }
                    ],
                    "pie": [
                      {
                        "automargin": true,
                        "type": "pie"
                      }
                    ],
                    "scatter": [
                      {
                        "fillpattern": {
                          "fillmode": "overlay",
                          "size": 10,
                          "solidity": 0.2
                        },
                        "type": "scatter"
                      }
                    ],
                    "scatter3d": [
                      {
                        "line": {
                          "colorbar": {
                            "outlinewidth": 0,
                            "ticks": ""
                          }
                        },
                        "marker": {
                          "colorbar": {
                            "outlinewidth": 0,
                            "ticks": ""
                          }
                        },
                        "type": "scatter3d"
                      }
                    ],
                    "scattercarpet": [
                      {
                        "marker": {
                          "colorbar": {
                            "outlinewidth": 0,
                            "ticks": ""
                          }
                        },
                        "type": "scattercarpet"
                      }
                    ],
                    "scattergeo": [
                      {
                        "marker": {
                          "colorbar": {
                            "outlinewidth": 0,
                            "ticks": ""
                          }
                        },
                        "type": "scattergeo"
                      }
                    ],
                    "scattergl": [
                      {
                        "marker": {
                          "colorbar": {
                            "outlinewidth": 0,
                            "ticks": ""
                          }
                        },
                        "type": "scattergl"
                      }
                    ],
                    "scattermapbox": [
                      {
                        "marker": {
                          "colorbar": {
                            "outlinewidth": 0,
                            "ticks": ""
                          }
                        },
                        "type": "scattermapbox"
                      }
                    ],
                    "scatterpolar": [
                      {
                        "marker": {
                          "colorbar": {
                            "outlinewidth": 0,
                            "ticks": ""
                          }
                        },
                        "type": "scatterpolar"
                      }
                    ],
                    "scatterpolargl": [
                      {
                        "marker": {
                          "colorbar": {
                            "outlinewidth": 0,
                            "ticks": ""
                          }
                        },
                        "type": "scatterpolargl"
                      }
                    ],
                    "scatterternary": [
                      {
                        "marker": {
                          "colorbar": {
                            "outlinewidth": 0,
                            "ticks": ""
                          }
                        },
                        "type": "scatterternary"
                      }
                    ],
                    "surface": [
                      {
                        "colorbar": {
                          "outlinewidth": 0,
                          "ticks": ""
                        },
                        "colorscale": [
                          [
                            0,
                            "#0d0887"
                          ],
                          [
                            0.1111111111111111,
                            "#46039f"
                          ],
                          [
                            0.2222222222222222,
                            "#7201a8"
                          ],
                          [
                            0.3333333333333333,
                            "#9c179e"
                          ],
                          [
                            0.4444444444444444,
                            "#bd3786"
                          ],
                          [
                            0.5555555555555556,
                            "#d8576b"
                          ],
                          [
                            0.6666666666666666,
                            "#ed7953"
                          ],
                          [
                            0.7777777777777778,
                            "#fb9f3a"
                          ],
                          [
                            0.8888888888888888,
                            "#fdca26"
                          ],
                          [
                            1,
                            "#f0f921"
                          ]
                        ],
                        "type": "surface"
                      }
                    ],
                    "table": [
                      {
                        "cells": {
                          "fill": {
                            "color": "#EBF0F8"
                          },
                          "line": {
                            "color": "white"
                          }
                        },
                        "header": {
                          "fill": {
                            "color": "#C8D4E3"
                          },
                          "line": {
                            "color": "white"
                          }
                        },
                        "type": "table"
                      }
                    ]
                  },
                  "layout": {
                    "annotationdefaults": {
                      "arrowcolor": "#2a3f5f",
                      "arrowhead": 0,
                      "arrowwidth": 1
                    },
                    "autotypenumbers": "strict",
                    "coloraxis": {
                      "colorbar": {
                        "outlinewidth": 0,
                        "ticks": ""
                      }
                    },
                    "colorscale": {
                      "diverging": [
                        [
                          0,
                          "#8e0152"
                        ],
                        [
                          0.1,
                          "#c51b7d"
                        ],
                        [
                          0.2,
                          "#de77ae"
                        ],
                        [
                          0.3,
                          "#f1b6da"
                        ],
                        [
                          0.4,
                          "#fde0ef"
                        ],
                        [
                          0.5,
                          "#f7f7f7"
                        ],
                        [
                          0.6,
                          "#e6f5d0"
                        ],
                        [
                          0.7,
                          "#b8e186"
                        ],
                        [
                          0.8,
                          "#7fbc41"
                        ],
                        [
                          0.9,
                          "#4d9221"
                        ],
                        [
                          1,
                          "#276419"
                        ]
                      ],
                      "sequential": [
                        [
                          0,
                          "#0d0887"
                        ],
                        [
                          0.1111111111111111,
                          "#46039f"
                        ],
                        [
                          0.2222222222222222,
                          "#7201a8"
                        ],
                        [
                          0.3333333333333333,
                          "#9c179e"
                        ],
                        [
                          0.4444444444444444,
                          "#bd3786"
                        ],
                        [
                          0.5555555555555556,
                          "#d8576b"
                        ],
                        [
                          0.6666666666666666,
                          "#ed7953"
                        ],
                        [
                          0.7777777777777778,
                          "#fb9f3a"
                        ],
                        [
                          0.8888888888888888,
                          "#fdca26"
                        ],
                        [
                          1,
                          "#f0f921"
                        ]
                      ],
                      "sequentialminus": [
                        [
                          0,
                          "#0d0887"
                        ],
                        [
                          0.1111111111111111,
                          "#46039f"
                        ],
                        [
                          0.2222222222222222,
                          "#7201a8"
                        ],
                        [
                          0.3333333333333333,
                          "#9c179e"
                        ],
                        [
                          0.4444444444444444,
                          "#bd3786"
                        ],
                        [
                          0.5555555555555556,
                          "#d8576b"
                        ],
                        [
                          0.6666666666666666,
                          "#ed7953"
                        ],
                        [
                          0.7777777777777778,
                          "#fb9f3a"
                        ],
                        [
                          0.8888888888888888,
                          "#fdca26"
                        ],
                        [
                          1,
                          "#f0f921"
                        ]
                      ]
                    },
                    "colorway": [
                      "#636efa",
                      "#EF553B",
                      "#00cc96",
                      "#ab63fa",
                      "#FFA15A",
                      "#19d3f3",
                      "#FF6692",
                      "#B6E880",
                      "#FF97FF",
                      "#FECB52"
                    ],
                    "font": {
                      "color": "#2a3f5f"
                    },
                    "geo": {
                      "bgcolor": "white",
                      "lakecolor": "white",
                      "landcolor": "#E5ECF6",
                      "showlakes": true,
                      "showland": true,
                      "subunitcolor": "white"
                    },
                    "hoverlabel": {
                      "align": "left"
                    },
                    "hovermode": "closest",
                    "mapbox": {
                      "style": "light"
                    },
                    "paper_bgcolor": "white",
                    "plot_bgcolor": "#E5ECF6",
                    "polar": {
                      "angularaxis": {
                        "gridcolor": "white",
                        "linecolor": "white",
                        "ticks": ""
                      },
                      "bgcolor": "#E5ECF6",
                      "radialaxis": {
                        "gridcolor": "white",
                        "linecolor": "white",
                        "ticks": ""
                      }
                    },
                    "scene": {
                      "xaxis": {
                        "backgroundcolor": "#E5ECF6",
                        "gridcolor": "white",
                        "gridwidth": 2,
                        "linecolor": "white",
                        "showbackground": true,
                        "ticks": "",
                        "zerolinecolor": "white"
                      },
                      "yaxis": {
                        "backgroundcolor": "#E5ECF6",
                        "gridcolor": "white",
                        "gridwidth": 2,
                        "linecolor": "white",
                        "showbackground": true,
                        "ticks": "",
                        "zerolinecolor": "white"
                      },
                      "zaxis": {
                        "backgroundcolor": "#E5ECF6",
                        "gridcolor": "white",
                        "gridwidth": 2,
                        "linecolor": "white",
                        "showbackground": true,
                        "ticks": "",
                        "zerolinecolor": "white"
                      }
                    },
                    "shapedefaults": {
                      "line": {
                        "color": "#2a3f5f"
                      }
                    },
                    "ternary": {
                      "aaxis": {
                        "gridcolor": "white",
                        "linecolor": "white",
                        "ticks": ""
                      },
                      "baxis": {
                        "gridcolor": "white",
                        "linecolor": "white",
                        "ticks": ""
                      },
                      "bgcolor": "#E5ECF6",
                      "caxis": {
                        "gridcolor": "white",
                        "linecolor": "white",
                        "ticks": ""
                      }
                    },
                    "title": {
                      "x": 0.05
                    },
                    "xaxis": {
                      "automargin": true,
                      "gridcolor": "white",
                      "linecolor": "white",
                      "ticks": "",
                      "title": {
                        "standoff": 15
                      },
                      "zerolinecolor": "white",
                      "zerolinewidth": 2
                    },
                    "yaxis": {
                      "automargin": true,
                      "gridcolor": "white",
                      "linecolor": "white",
                      "ticks": "",
                      "title": {
                        "standoff": 15
                      },
                      "zerolinecolor": "white",
                      "zerolinewidth": 2
                    }
                  }
                },
                "title": {
                  "text": "Desmatamento Amazônia Legal"
                },
                "xaxis": {
                  "title": {
                    "text": "Ano"
                  }
                },
                "yaxis": {
                  "title": {
                    "text": "Área (km²)"
                  }
                }
              }
            }
          },
          "metadata": {},
          "output_type": "display_data"
        }
      ],
      "source": [
        "#Grafico desmatamento da amazonia por ano\n",
        "fig = go.Figure()\n",
        "fig.add_trace(go.Scatter(x=df['Ano/Estados'], y=df['AMZ LEGAL']))\n",
        "fig.update_layout(title='Desmatamento Amazônia Legal', xaxis_title='Ano', yaxis_title='Área (km²)')\n",
        "fig.show()"
      ]
    },
    {
      "cell_type": "markdown",
      "metadata": {
        "id": "-j64H1QQ8fSq"
      },
      "source": [
        "2004 - O ano que houve mais desmatamentos da história com um total de 27.772 km²\n",
        "\n",
        "2005 - O segundo ano com mais desmatamentos com um total de 19.014 km²\n",
        "\n",
        "2008 - Subiu 10% do ano anterior com 12.911 km²\n",
        "\n",
        "2012 - O menor índice de desmatamento com 4.571 km²\n",
        "\n",
        "2019 - O ano com mais desmatamentos desde 2008, com 9.762 km²"
      ]
    },
    {
      "cell_type": "code",
      "execution_count": 3,
      "metadata": {
        "colab": {
          "base_uri": "https://localhost:8080/",
          "height": 551
        },
        "id": "3xM3fzicuBAF",
        "outputId": "54416b81-89a5-4bbc-bdf4-ceca1ff69707"
      },
      "outputs": [
        {
          "data": {
            "text/html": [
              "<div>\n",
              "<style scoped>\n",
              "    .dataframe tbody tr th:only-of-type {\n",
              "        vertical-align: middle;\n",
              "    }\n",
              "\n",
              "    .dataframe tbody tr th {\n",
              "        vertical-align: top;\n",
              "    }\n",
              "\n",
              "    .dataframe thead th {\n",
              "        text-align: right;\n",
              "    }\n",
              "</style>\n",
              "<table border=\"1\" class=\"dataframe\">\n",
              "  <thead>\n",
              "    <tr style=\"text-align: right;\">\n",
              "      <th></th>\n",
              "      <th>Ano/Estados</th>\n",
              "      <th>AC</th>\n",
              "      <th>AM</th>\n",
              "      <th>AP</th>\n",
              "      <th>MA</th>\n",
              "      <th>MT</th>\n",
              "      <th>PA</th>\n",
              "      <th>RO</th>\n",
              "      <th>RR</th>\n",
              "      <th>TO</th>\n",
              "      <th>AMZ LEGAL</th>\n",
              "      <th>AREA DESM_TOTAL</th>\n",
              "    </tr>\n",
              "  </thead>\n",
              "  <tbody>\n",
              "    <tr>\n",
              "      <th>0</th>\n",
              "      <td>2004</td>\n",
              "      <td>728</td>\n",
              "      <td>1232</td>\n",
              "      <td>46</td>\n",
              "      <td>755</td>\n",
              "      <td>11814</td>\n",
              "      <td>8870</td>\n",
              "      <td>3858</td>\n",
              "      <td>311</td>\n",
              "      <td>158</td>\n",
              "      <td>27772</td>\n",
              "      <td>27772</td>\n",
              "    </tr>\n",
              "    <tr>\n",
              "      <th>1</th>\n",
              "      <td>2005</td>\n",
              "      <td>592</td>\n",
              "      <td>775</td>\n",
              "      <td>33</td>\n",
              "      <td>922</td>\n",
              "      <td>7145</td>\n",
              "      <td>5899</td>\n",
              "      <td>3244</td>\n",
              "      <td>133</td>\n",
              "      <td>271</td>\n",
              "      <td>19014</td>\n",
              "      <td>46786</td>\n",
              "    </tr>\n",
              "    <tr>\n",
              "      <th>2</th>\n",
              "      <td>2006</td>\n",
              "      <td>398</td>\n",
              "      <td>788</td>\n",
              "      <td>30</td>\n",
              "      <td>674</td>\n",
              "      <td>4333</td>\n",
              "      <td>5659</td>\n",
              "      <td>2049</td>\n",
              "      <td>231</td>\n",
              "      <td>124</td>\n",
              "      <td>14286</td>\n",
              "      <td>61072</td>\n",
              "    </tr>\n",
              "    <tr>\n",
              "      <th>3</th>\n",
              "      <td>2007</td>\n",
              "      <td>184</td>\n",
              "      <td>610</td>\n",
              "      <td>39</td>\n",
              "      <td>631</td>\n",
              "      <td>2678</td>\n",
              "      <td>5526</td>\n",
              "      <td>1611</td>\n",
              "      <td>309</td>\n",
              "      <td>63</td>\n",
              "      <td>11651</td>\n",
              "      <td>72723</td>\n",
              "    </tr>\n",
              "    <tr>\n",
              "      <th>4</th>\n",
              "      <td>2008</td>\n",
              "      <td>254</td>\n",
              "      <td>604</td>\n",
              "      <td>100</td>\n",
              "      <td>1271</td>\n",
              "      <td>3258</td>\n",
              "      <td>5607</td>\n",
              "      <td>1136</td>\n",
              "      <td>574</td>\n",
              "      <td>107</td>\n",
              "      <td>12911</td>\n",
              "      <td>85634</td>\n",
              "    </tr>\n",
              "    <tr>\n",
              "      <th>5</th>\n",
              "      <td>2009</td>\n",
              "      <td>167</td>\n",
              "      <td>405</td>\n",
              "      <td>70</td>\n",
              "      <td>828</td>\n",
              "      <td>1049</td>\n",
              "      <td>4281</td>\n",
              "      <td>482</td>\n",
              "      <td>121</td>\n",
              "      <td>61</td>\n",
              "      <td>7464</td>\n",
              "      <td>93098</td>\n",
              "    </tr>\n",
              "    <tr>\n",
              "      <th>6</th>\n",
              "      <td>2010</td>\n",
              "      <td>259</td>\n",
              "      <td>595</td>\n",
              "      <td>53</td>\n",
              "      <td>712</td>\n",
              "      <td>871</td>\n",
              "      <td>3770</td>\n",
              "      <td>435</td>\n",
              "      <td>256</td>\n",
              "      <td>49</td>\n",
              "      <td>7000</td>\n",
              "      <td>100098</td>\n",
              "    </tr>\n",
              "    <tr>\n",
              "      <th>7</th>\n",
              "      <td>2011</td>\n",
              "      <td>280</td>\n",
              "      <td>502</td>\n",
              "      <td>66</td>\n",
              "      <td>396</td>\n",
              "      <td>1120</td>\n",
              "      <td>3008</td>\n",
              "      <td>865</td>\n",
              "      <td>141</td>\n",
              "      <td>40</td>\n",
              "      <td>6418</td>\n",
              "      <td>106516</td>\n",
              "    </tr>\n",
              "    <tr>\n",
              "      <th>8</th>\n",
              "      <td>2012</td>\n",
              "      <td>305</td>\n",
              "      <td>523</td>\n",
              "      <td>27</td>\n",
              "      <td>269</td>\n",
              "      <td>757</td>\n",
              "      <td>1741</td>\n",
              "      <td>773</td>\n",
              "      <td>124</td>\n",
              "      <td>52</td>\n",
              "      <td>4571</td>\n",
              "      <td>111087</td>\n",
              "    </tr>\n",
              "    <tr>\n",
              "      <th>9</th>\n",
              "      <td>2013</td>\n",
              "      <td>221</td>\n",
              "      <td>583</td>\n",
              "      <td>23</td>\n",
              "      <td>403</td>\n",
              "      <td>1139</td>\n",
              "      <td>2346</td>\n",
              "      <td>932</td>\n",
              "      <td>170</td>\n",
              "      <td>74</td>\n",
              "      <td>5891</td>\n",
              "      <td>116978</td>\n",
              "    </tr>\n",
              "    <tr>\n",
              "      <th>10</th>\n",
              "      <td>2014</td>\n",
              "      <td>309</td>\n",
              "      <td>500</td>\n",
              "      <td>31</td>\n",
              "      <td>257</td>\n",
              "      <td>1075</td>\n",
              "      <td>1887</td>\n",
              "      <td>684</td>\n",
              "      <td>219</td>\n",
              "      <td>50</td>\n",
              "      <td>5012</td>\n",
              "      <td>121990</td>\n",
              "    </tr>\n",
              "    <tr>\n",
              "      <th>11</th>\n",
              "      <td>2015</td>\n",
              "      <td>264</td>\n",
              "      <td>712</td>\n",
              "      <td>25</td>\n",
              "      <td>209</td>\n",
              "      <td>1601</td>\n",
              "      <td>2153</td>\n",
              "      <td>1030</td>\n",
              "      <td>156</td>\n",
              "      <td>57</td>\n",
              "      <td>6207</td>\n",
              "      <td>128197</td>\n",
              "    </tr>\n",
              "    <tr>\n",
              "      <th>12</th>\n",
              "      <td>2016</td>\n",
              "      <td>372</td>\n",
              "      <td>1129</td>\n",
              "      <td>17</td>\n",
              "      <td>258</td>\n",
              "      <td>1489</td>\n",
              "      <td>2992</td>\n",
              "      <td>1376</td>\n",
              "      <td>202</td>\n",
              "      <td>58</td>\n",
              "      <td>7893</td>\n",
              "      <td>136090</td>\n",
              "    </tr>\n",
              "    <tr>\n",
              "      <th>13</th>\n",
              "      <td>2017</td>\n",
              "      <td>257</td>\n",
              "      <td>1001</td>\n",
              "      <td>24</td>\n",
              "      <td>265</td>\n",
              "      <td>1561</td>\n",
              "      <td>2433</td>\n",
              "      <td>1243</td>\n",
              "      <td>132</td>\n",
              "      <td>31</td>\n",
              "      <td>6947</td>\n",
              "      <td>143037</td>\n",
              "    </tr>\n",
              "    <tr>\n",
              "      <th>14</th>\n",
              "      <td>2018</td>\n",
              "      <td>444</td>\n",
              "      <td>1045</td>\n",
              "      <td>24</td>\n",
              "      <td>253</td>\n",
              "      <td>1490</td>\n",
              "      <td>2744</td>\n",
              "      <td>1316</td>\n",
              "      <td>195</td>\n",
              "      <td>25</td>\n",
              "      <td>7536</td>\n",
              "      <td>150573</td>\n",
              "    </tr>\n",
              "    <tr>\n",
              "      <th>15</th>\n",
              "      <td>2019</td>\n",
              "      <td>688</td>\n",
              "      <td>1421</td>\n",
              "      <td>8</td>\n",
              "      <td>215</td>\n",
              "      <td>1685</td>\n",
              "      <td>3862</td>\n",
              "      <td>1245</td>\n",
              "      <td>617</td>\n",
              "      <td>21</td>\n",
              "      <td>9762</td>\n",
              "      <td>160335</td>\n",
              "    </tr>\n",
              "  </tbody>\n",
              "</table>\n",
              "</div>"
            ],
            "text/plain": [
              "    Ano/Estados   AC    AM   AP    MA     MT    PA    RO   RR   TO  AMZ LEGAL  \\\n",
              "0          2004  728  1232   46   755  11814  8870  3858  311  158      27772   \n",
              "1          2005  592   775   33   922   7145  5899  3244  133  271      19014   \n",
              "2          2006  398   788   30   674   4333  5659  2049  231  124      14286   \n",
              "3          2007  184   610   39   631   2678  5526  1611  309   63      11651   \n",
              "4          2008  254   604  100  1271   3258  5607  1136  574  107      12911   \n",
              "5          2009  167   405   70   828   1049  4281   482  121   61       7464   \n",
              "6          2010  259   595   53   712    871  3770   435  256   49       7000   \n",
              "7          2011  280   502   66   396   1120  3008   865  141   40       6418   \n",
              "8          2012  305   523   27   269    757  1741   773  124   52       4571   \n",
              "9          2013  221   583   23   403   1139  2346   932  170   74       5891   \n",
              "10         2014  309   500   31   257   1075  1887   684  219   50       5012   \n",
              "11         2015  264   712   25   209   1601  2153  1030  156   57       6207   \n",
              "12         2016  372  1129   17   258   1489  2992  1376  202   58       7893   \n",
              "13         2017  257  1001   24   265   1561  2433  1243  132   31       6947   \n",
              "14         2018  444  1045   24   253   1490  2744  1316  195   25       7536   \n",
              "15         2019  688  1421    8   215   1685  3862  1245  617   21       9762   \n",
              "\n",
              "    AREA DESM_TOTAL  \n",
              "0             27772  \n",
              "1             46786  \n",
              "2             61072  \n",
              "3             72723  \n",
              "4             85634  \n",
              "5             93098  \n",
              "6            100098  \n",
              "7            106516  \n",
              "8            111087  \n",
              "9            116978  \n",
              "10           121990  \n",
              "11           128197  \n",
              "12           136090  \n",
              "13           143037  \n",
              "14           150573  \n",
              "15           160335  "
            ]
          },
          "execution_count": 3,
          "metadata": {},
          "output_type": "execute_result"
        }
      ],
      "source": [
        "#Adicionando Desmatamento total ao longo dos ano no DF\n",
        "df['AREA DESM_TOTAL'] = df['AMZ LEGAL'].cumsum()\n",
        "df"
      ]
    },
    {
      "cell_type": "code",
      "execution_count": 4,
      "metadata": {
        "colab": {
          "base_uri": "https://localhost:8080/",
          "height": 542
        },
        "id": "C_dJXT1VuuVK",
        "outputId": "ee08221d-5b07-44c9-9373-d9997269213a"
      },
      "outputs": [
        {
          "data": {
            "application/vnd.plotly.v1+json": {
              "config": {
                "plotlyServerURL": "https://plot.ly"
              },
              "data": [
                {
                  "name": "Área desmatada total acumulada",
                  "type": "scatter",
                  "x": [
                    2004,
                    2005,
                    2006,
                    2007,
                    2008,
                    2009,
                    2010,
                    2011,
                    2012,
                    2013,
                    2014,
                    2015,
                    2016,
                    2017,
                    2018,
                    2019
                  ],
                  "y": [
                    27772,
                    46786,
                    61072,
                    72723,
                    85634,
                    93098,
                    100098,
                    106516,
                    111087,
                    116978,
                    121990,
                    128197,
                    136090,
                    143037,
                    150573,
                    160335
                  ]
                }
              ],
              "layout": {
                "template": {
                  "data": {
                    "bar": [
                      {
                        "error_x": {
                          "color": "#2a3f5f"
                        },
                        "error_y": {
                          "color": "#2a3f5f"
                        },
                        "marker": {
                          "line": {
                            "color": "#E5ECF6",
                            "width": 0.5
                          },
                          "pattern": {
                            "fillmode": "overlay",
                            "size": 10,
                            "solidity": 0.2
                          }
                        },
                        "type": "bar"
                      }
                    ],
                    "barpolar": [
                      {
                        "marker": {
                          "line": {
                            "color": "#E5ECF6",
                            "width": 0.5
                          },
                          "pattern": {
                            "fillmode": "overlay",
                            "size": 10,
                            "solidity": 0.2
                          }
                        },
                        "type": "barpolar"
                      }
                    ],
                    "carpet": [
                      {
                        "aaxis": {
                          "endlinecolor": "#2a3f5f",
                          "gridcolor": "white",
                          "linecolor": "white",
                          "minorgridcolor": "white",
                          "startlinecolor": "#2a3f5f"
                        },
                        "baxis": {
                          "endlinecolor": "#2a3f5f",
                          "gridcolor": "white",
                          "linecolor": "white",
                          "minorgridcolor": "white",
                          "startlinecolor": "#2a3f5f"
                        },
                        "type": "carpet"
                      }
                    ],
                    "choropleth": [
                      {
                        "colorbar": {
                          "outlinewidth": 0,
                          "ticks": ""
                        },
                        "type": "choropleth"
                      }
                    ],
                    "contour": [
                      {
                        "colorbar": {
                          "outlinewidth": 0,
                          "ticks": ""
                        },
                        "colorscale": [
                          [
                            0,
                            "#0d0887"
                          ],
                          [
                            0.1111111111111111,
                            "#46039f"
                          ],
                          [
                            0.2222222222222222,
                            "#7201a8"
                          ],
                          [
                            0.3333333333333333,
                            "#9c179e"
                          ],
                          [
                            0.4444444444444444,
                            "#bd3786"
                          ],
                          [
                            0.5555555555555556,
                            "#d8576b"
                          ],
                          [
                            0.6666666666666666,
                            "#ed7953"
                          ],
                          [
                            0.7777777777777778,
                            "#fb9f3a"
                          ],
                          [
                            0.8888888888888888,
                            "#fdca26"
                          ],
                          [
                            1,
                            "#f0f921"
                          ]
                        ],
                        "type": "contour"
                      }
                    ],
                    "contourcarpet": [
                      {
                        "colorbar": {
                          "outlinewidth": 0,
                          "ticks": ""
                        },
                        "type": "contourcarpet"
                      }
                    ],
                    "heatmap": [
                      {
                        "colorbar": {
                          "outlinewidth": 0,
                          "ticks": ""
                        },
                        "colorscale": [
                          [
                            0,
                            "#0d0887"
                          ],
                          [
                            0.1111111111111111,
                            "#46039f"
                          ],
                          [
                            0.2222222222222222,
                            "#7201a8"
                          ],
                          [
                            0.3333333333333333,
                            "#9c179e"
                          ],
                          [
                            0.4444444444444444,
                            "#bd3786"
                          ],
                          [
                            0.5555555555555556,
                            "#d8576b"
                          ],
                          [
                            0.6666666666666666,
                            "#ed7953"
                          ],
                          [
                            0.7777777777777778,
                            "#fb9f3a"
                          ],
                          [
                            0.8888888888888888,
                            "#fdca26"
                          ],
                          [
                            1,
                            "#f0f921"
                          ]
                        ],
                        "type": "heatmap"
                      }
                    ],
                    "heatmapgl": [
                      {
                        "colorbar": {
                          "outlinewidth": 0,
                          "ticks": ""
                        },
                        "colorscale": [
                          [
                            0,
                            "#0d0887"
                          ],
                          [
                            0.1111111111111111,
                            "#46039f"
                          ],
                          [
                            0.2222222222222222,
                            "#7201a8"
                          ],
                          [
                            0.3333333333333333,
                            "#9c179e"
                          ],
                          [
                            0.4444444444444444,
                            "#bd3786"
                          ],
                          [
                            0.5555555555555556,
                            "#d8576b"
                          ],
                          [
                            0.6666666666666666,
                            "#ed7953"
                          ],
                          [
                            0.7777777777777778,
                            "#fb9f3a"
                          ],
                          [
                            0.8888888888888888,
                            "#fdca26"
                          ],
                          [
                            1,
                            "#f0f921"
                          ]
                        ],
                        "type": "heatmapgl"
                      }
                    ],
                    "histogram": [
                      {
                        "marker": {
                          "pattern": {
                            "fillmode": "overlay",
                            "size": 10,
                            "solidity": 0.2
                          }
                        },
                        "type": "histogram"
                      }
                    ],
                    "histogram2d": [
                      {
                        "colorbar": {
                          "outlinewidth": 0,
                          "ticks": ""
                        },
                        "colorscale": [
                          [
                            0,
                            "#0d0887"
                          ],
                          [
                            0.1111111111111111,
                            "#46039f"
                          ],
                          [
                            0.2222222222222222,
                            "#7201a8"
                          ],
                          [
                            0.3333333333333333,
                            "#9c179e"
                          ],
                          [
                            0.4444444444444444,
                            "#bd3786"
                          ],
                          [
                            0.5555555555555556,
                            "#d8576b"
                          ],
                          [
                            0.6666666666666666,
                            "#ed7953"
                          ],
                          [
                            0.7777777777777778,
                            "#fb9f3a"
                          ],
                          [
                            0.8888888888888888,
                            "#fdca26"
                          ],
                          [
                            1,
                            "#f0f921"
                          ]
                        ],
                        "type": "histogram2d"
                      }
                    ],
                    "histogram2dcontour": [
                      {
                        "colorbar": {
                          "outlinewidth": 0,
                          "ticks": ""
                        },
                        "colorscale": [
                          [
                            0,
                            "#0d0887"
                          ],
                          [
                            0.1111111111111111,
                            "#46039f"
                          ],
                          [
                            0.2222222222222222,
                            "#7201a8"
                          ],
                          [
                            0.3333333333333333,
                            "#9c179e"
                          ],
                          [
                            0.4444444444444444,
                            "#bd3786"
                          ],
                          [
                            0.5555555555555556,
                            "#d8576b"
                          ],
                          [
                            0.6666666666666666,
                            "#ed7953"
                          ],
                          [
                            0.7777777777777778,
                            "#fb9f3a"
                          ],
                          [
                            0.8888888888888888,
                            "#fdca26"
                          ],
                          [
                            1,
                            "#f0f921"
                          ]
                        ],
                        "type": "histogram2dcontour"
                      }
                    ],
                    "mesh3d": [
                      {
                        "colorbar": {
                          "outlinewidth": 0,
                          "ticks": ""
                        },
                        "type": "mesh3d"
                      }
                    ],
                    "parcoords": [
                      {
                        "line": {
                          "colorbar": {
                            "outlinewidth": 0,
                            "ticks": ""
                          }
                        },
                        "type": "parcoords"
                      }
                    ],
                    "pie": [
                      {
                        "automargin": true,
                        "type": "pie"
                      }
                    ],
                    "scatter": [
                      {
                        "fillpattern": {
                          "fillmode": "overlay",
                          "size": 10,
                          "solidity": 0.2
                        },
                        "type": "scatter"
                      }
                    ],
                    "scatter3d": [
                      {
                        "line": {
                          "colorbar": {
                            "outlinewidth": 0,
                            "ticks": ""
                          }
                        },
                        "marker": {
                          "colorbar": {
                            "outlinewidth": 0,
                            "ticks": ""
                          }
                        },
                        "type": "scatter3d"
                      }
                    ],
                    "scattercarpet": [
                      {
                        "marker": {
                          "colorbar": {
                            "outlinewidth": 0,
                            "ticks": ""
                          }
                        },
                        "type": "scattercarpet"
                      }
                    ],
                    "scattergeo": [
                      {
                        "marker": {
                          "colorbar": {
                            "outlinewidth": 0,
                            "ticks": ""
                          }
                        },
                        "type": "scattergeo"
                      }
                    ],
                    "scattergl": [
                      {
                        "marker": {
                          "colorbar": {
                            "outlinewidth": 0,
                            "ticks": ""
                          }
                        },
                        "type": "scattergl"
                      }
                    ],
                    "scattermapbox": [
                      {
                        "marker": {
                          "colorbar": {
                            "outlinewidth": 0,
                            "ticks": ""
                          }
                        },
                        "type": "scattermapbox"
                      }
                    ],
                    "scatterpolar": [
                      {
                        "marker": {
                          "colorbar": {
                            "outlinewidth": 0,
                            "ticks": ""
                          }
                        },
                        "type": "scatterpolar"
                      }
                    ],
                    "scatterpolargl": [
                      {
                        "marker": {
                          "colorbar": {
                            "outlinewidth": 0,
                            "ticks": ""
                          }
                        },
                        "type": "scatterpolargl"
                      }
                    ],
                    "scatterternary": [
                      {
                        "marker": {
                          "colorbar": {
                            "outlinewidth": 0,
                            "ticks": ""
                          }
                        },
                        "type": "scatterternary"
                      }
                    ],
                    "surface": [
                      {
                        "colorbar": {
                          "outlinewidth": 0,
                          "ticks": ""
                        },
                        "colorscale": [
                          [
                            0,
                            "#0d0887"
                          ],
                          [
                            0.1111111111111111,
                            "#46039f"
                          ],
                          [
                            0.2222222222222222,
                            "#7201a8"
                          ],
                          [
                            0.3333333333333333,
                            "#9c179e"
                          ],
                          [
                            0.4444444444444444,
                            "#bd3786"
                          ],
                          [
                            0.5555555555555556,
                            "#d8576b"
                          ],
                          [
                            0.6666666666666666,
                            "#ed7953"
                          ],
                          [
                            0.7777777777777778,
                            "#fb9f3a"
                          ],
                          [
                            0.8888888888888888,
                            "#fdca26"
                          ],
                          [
                            1,
                            "#f0f921"
                          ]
                        ],
                        "type": "surface"
                      }
                    ],
                    "table": [
                      {
                        "cells": {
                          "fill": {
                            "color": "#EBF0F8"
                          },
                          "line": {
                            "color": "white"
                          }
                        },
                        "header": {
                          "fill": {
                            "color": "#C8D4E3"
                          },
                          "line": {
                            "color": "white"
                          }
                        },
                        "type": "table"
                      }
                    ]
                  },
                  "layout": {
                    "annotationdefaults": {
                      "arrowcolor": "#2a3f5f",
                      "arrowhead": 0,
                      "arrowwidth": 1
                    },
                    "autotypenumbers": "strict",
                    "coloraxis": {
                      "colorbar": {
                        "outlinewidth": 0,
                        "ticks": ""
                      }
                    },
                    "colorscale": {
                      "diverging": [
                        [
                          0,
                          "#8e0152"
                        ],
                        [
                          0.1,
                          "#c51b7d"
                        ],
                        [
                          0.2,
                          "#de77ae"
                        ],
                        [
                          0.3,
                          "#f1b6da"
                        ],
                        [
                          0.4,
                          "#fde0ef"
                        ],
                        [
                          0.5,
                          "#f7f7f7"
                        ],
                        [
                          0.6,
                          "#e6f5d0"
                        ],
                        [
                          0.7,
                          "#b8e186"
                        ],
                        [
                          0.8,
                          "#7fbc41"
                        ],
                        [
                          0.9,
                          "#4d9221"
                        ],
                        [
                          1,
                          "#276419"
                        ]
                      ],
                      "sequential": [
                        [
                          0,
                          "#0d0887"
                        ],
                        [
                          0.1111111111111111,
                          "#46039f"
                        ],
                        [
                          0.2222222222222222,
                          "#7201a8"
                        ],
                        [
                          0.3333333333333333,
                          "#9c179e"
                        ],
                        [
                          0.4444444444444444,
                          "#bd3786"
                        ],
                        [
                          0.5555555555555556,
                          "#d8576b"
                        ],
                        [
                          0.6666666666666666,
                          "#ed7953"
                        ],
                        [
                          0.7777777777777778,
                          "#fb9f3a"
                        ],
                        [
                          0.8888888888888888,
                          "#fdca26"
                        ],
                        [
                          1,
                          "#f0f921"
                        ]
                      ],
                      "sequentialminus": [
                        [
                          0,
                          "#0d0887"
                        ],
                        [
                          0.1111111111111111,
                          "#46039f"
                        ],
                        [
                          0.2222222222222222,
                          "#7201a8"
                        ],
                        [
                          0.3333333333333333,
                          "#9c179e"
                        ],
                        [
                          0.4444444444444444,
                          "#bd3786"
                        ],
                        [
                          0.5555555555555556,
                          "#d8576b"
                        ],
                        [
                          0.6666666666666666,
                          "#ed7953"
                        ],
                        [
                          0.7777777777777778,
                          "#fb9f3a"
                        ],
                        [
                          0.8888888888888888,
                          "#fdca26"
                        ],
                        [
                          1,
                          "#f0f921"
                        ]
                      ]
                    },
                    "colorway": [
                      "#636efa",
                      "#EF553B",
                      "#00cc96",
                      "#ab63fa",
                      "#FFA15A",
                      "#19d3f3",
                      "#FF6692",
                      "#B6E880",
                      "#FF97FF",
                      "#FECB52"
                    ],
                    "font": {
                      "color": "#2a3f5f"
                    },
                    "geo": {
                      "bgcolor": "white",
                      "lakecolor": "white",
                      "landcolor": "#E5ECF6",
                      "showlakes": true,
                      "showland": true,
                      "subunitcolor": "white"
                    },
                    "hoverlabel": {
                      "align": "left"
                    },
                    "hovermode": "closest",
                    "mapbox": {
                      "style": "light"
                    },
                    "paper_bgcolor": "white",
                    "plot_bgcolor": "#E5ECF6",
                    "polar": {
                      "angularaxis": {
                        "gridcolor": "white",
                        "linecolor": "white",
                        "ticks": ""
                      },
                      "bgcolor": "#E5ECF6",
                      "radialaxis": {
                        "gridcolor": "white",
                        "linecolor": "white",
                        "ticks": ""
                      }
                    },
                    "scene": {
                      "xaxis": {
                        "backgroundcolor": "#E5ECF6",
                        "gridcolor": "white",
                        "gridwidth": 2,
                        "linecolor": "white",
                        "showbackground": true,
                        "ticks": "",
                        "zerolinecolor": "white"
                      },
                      "yaxis": {
                        "backgroundcolor": "#E5ECF6",
                        "gridcolor": "white",
                        "gridwidth": 2,
                        "linecolor": "white",
                        "showbackground": true,
                        "ticks": "",
                        "zerolinecolor": "white"
                      },
                      "zaxis": {
                        "backgroundcolor": "#E5ECF6",
                        "gridcolor": "white",
                        "gridwidth": 2,
                        "linecolor": "white",
                        "showbackground": true,
                        "ticks": "",
                        "zerolinecolor": "white"
                      }
                    },
                    "shapedefaults": {
                      "line": {
                        "color": "#2a3f5f"
                      }
                    },
                    "ternary": {
                      "aaxis": {
                        "gridcolor": "white",
                        "linecolor": "white",
                        "ticks": ""
                      },
                      "baxis": {
                        "gridcolor": "white",
                        "linecolor": "white",
                        "ticks": ""
                      },
                      "bgcolor": "#E5ECF6",
                      "caxis": {
                        "gridcolor": "white",
                        "linecolor": "white",
                        "ticks": ""
                      }
                    },
                    "title": {
                      "x": 0.05
                    },
                    "xaxis": {
                      "automargin": true,
                      "gridcolor": "white",
                      "linecolor": "white",
                      "ticks": "",
                      "title": {
                        "standoff": 15
                      },
                      "zerolinecolor": "white",
                      "zerolinewidth": 2
                    },
                    "yaxis": {
                      "automargin": true,
                      "gridcolor": "white",
                      "linecolor": "white",
                      "ticks": "",
                      "title": {
                        "standoff": 15
                      },
                      "zerolinecolor": "white",
                      "zerolinewidth": 2
                    }
                  }
                },
                "title": {
                  "text": "Área desmatada total acumulada na Amazônia Legal (2004-2019)"
                },
                "xaxis": {
                  "title": {
                    "text": "Ano"
                  }
                },
                "yaxis": {
                  "title": {
                    "text": "Área desmatada total acumulada (km²)"
                  }
                }
              }
            }
          },
          "metadata": {},
          "output_type": "display_data"
        }
      ],
      "source": [
        "#Grafico com o desmatamento total da amazonia\n",
        "fig = go.Figure()\n",
        "fig.add_trace(go.Scatter(x=df['Ano/Estados'], y=df['AREA DESM_TOTAL'], name='Área desmatada total acumulada'))\n",
        "fig.update_layout(title='Área desmatada total acumulada na Amazônia Legal (2004-2019)',xaxis_title='Ano', yaxis_title='Área desmatada total acumulada (km²)')\n",
        "fig.show()"
      ]
    },
    {
      "cell_type": "code",
      "execution_count": 5,
      "metadata": {
        "colab": {
          "base_uri": "https://localhost:8080/",
          "height": 542
        },
        "id": "xQZGjjdY6HEX",
        "outputId": "e190f05a-37d8-4f6b-9409-52bb377d889b"
      },
      "outputs": [
        {
          "data": {
            "application/vnd.plotly.v1+json": {
              "config": {
                "plotlyServerURL": "https://plot.ly"
              },
              "data": [
                {
                  "name": "AC",
                  "type": "scatter",
                  "x": [
                    2004,
                    2005,
                    2006,
                    2007,
                    2008,
                    2009,
                    2010,
                    2011,
                    2012,
                    2013,
                    2014,
                    2015,
                    2016,
                    2017,
                    2018,
                    2019
                  ],
                  "y": [
                    728,
                    592,
                    398,
                    184,
                    254,
                    167,
                    259,
                    280,
                    305,
                    221,
                    309,
                    264,
                    372,
                    257,
                    444,
                    688
                  ]
                },
                {
                  "name": "AM",
                  "type": "scatter",
                  "x": [
                    2004,
                    2005,
                    2006,
                    2007,
                    2008,
                    2009,
                    2010,
                    2011,
                    2012,
                    2013,
                    2014,
                    2015,
                    2016,
                    2017,
                    2018,
                    2019
                  ],
                  "y": [
                    1232,
                    775,
                    788,
                    610,
                    604,
                    405,
                    595,
                    502,
                    523,
                    583,
                    500,
                    712,
                    1129,
                    1001,
                    1045,
                    1421
                  ]
                },
                {
                  "name": "AP",
                  "type": "scatter",
                  "x": [
                    2004,
                    2005,
                    2006,
                    2007,
                    2008,
                    2009,
                    2010,
                    2011,
                    2012,
                    2013,
                    2014,
                    2015,
                    2016,
                    2017,
                    2018,
                    2019
                  ],
                  "y": [
                    46,
                    33,
                    30,
                    39,
                    100,
                    70,
                    53,
                    66,
                    27,
                    23,
                    31,
                    25,
                    17,
                    24,
                    24,
                    8
                  ]
                },
                {
                  "name": "MA",
                  "type": "scatter",
                  "x": [
                    2004,
                    2005,
                    2006,
                    2007,
                    2008,
                    2009,
                    2010,
                    2011,
                    2012,
                    2013,
                    2014,
                    2015,
                    2016,
                    2017,
                    2018,
                    2019
                  ],
                  "y": [
                    755,
                    922,
                    674,
                    631,
                    1271,
                    828,
                    712,
                    396,
                    269,
                    403,
                    257,
                    209,
                    258,
                    265,
                    253,
                    215
                  ]
                },
                {
                  "name": "MT",
                  "type": "scatter",
                  "x": [
                    2004,
                    2005,
                    2006,
                    2007,
                    2008,
                    2009,
                    2010,
                    2011,
                    2012,
                    2013,
                    2014,
                    2015,
                    2016,
                    2017,
                    2018,
                    2019
                  ],
                  "y": [
                    11814,
                    7145,
                    4333,
                    2678,
                    3258,
                    1049,
                    871,
                    1120,
                    757,
                    1139,
                    1075,
                    1601,
                    1489,
                    1561,
                    1490,
                    1685
                  ]
                },
                {
                  "name": "PA",
                  "type": "scatter",
                  "x": [
                    2004,
                    2005,
                    2006,
                    2007,
                    2008,
                    2009,
                    2010,
                    2011,
                    2012,
                    2013,
                    2014,
                    2015,
                    2016,
                    2017,
                    2018,
                    2019
                  ],
                  "y": [
                    8870,
                    5899,
                    5659,
                    5526,
                    5607,
                    4281,
                    3770,
                    3008,
                    1741,
                    2346,
                    1887,
                    2153,
                    2992,
                    2433,
                    2744,
                    3862
                  ]
                },
                {
                  "name": "RO",
                  "type": "scatter",
                  "x": [
                    2004,
                    2005,
                    2006,
                    2007,
                    2008,
                    2009,
                    2010,
                    2011,
                    2012,
                    2013,
                    2014,
                    2015,
                    2016,
                    2017,
                    2018,
                    2019
                  ],
                  "y": [
                    3858,
                    3244,
                    2049,
                    1611,
                    1136,
                    482,
                    435,
                    865,
                    773,
                    932,
                    684,
                    1030,
                    1376,
                    1243,
                    1316,
                    1245
                  ]
                },
                {
                  "name": "RR",
                  "type": "scatter",
                  "x": [
                    2004,
                    2005,
                    2006,
                    2007,
                    2008,
                    2009,
                    2010,
                    2011,
                    2012,
                    2013,
                    2014,
                    2015,
                    2016,
                    2017,
                    2018,
                    2019
                  ],
                  "y": [
                    311,
                    133,
                    231,
                    309,
                    574,
                    121,
                    256,
                    141,
                    124,
                    170,
                    219,
                    156,
                    202,
                    132,
                    195,
                    617
                  ]
                },
                {
                  "name": "TO",
                  "type": "scatter",
                  "x": [
                    2004,
                    2005,
                    2006,
                    2007,
                    2008,
                    2009,
                    2010,
                    2011,
                    2012,
                    2013,
                    2014,
                    2015,
                    2016,
                    2017,
                    2018,
                    2019
                  ],
                  "y": [
                    158,
                    271,
                    124,
                    63,
                    107,
                    61,
                    49,
                    40,
                    52,
                    74,
                    50,
                    57,
                    58,
                    31,
                    25,
                    21
                  ]
                }
              ],
              "layout": {
                "template": {
                  "data": {
                    "bar": [
                      {
                        "error_x": {
                          "color": "#2a3f5f"
                        },
                        "error_y": {
                          "color": "#2a3f5f"
                        },
                        "marker": {
                          "line": {
                            "color": "#E5ECF6",
                            "width": 0.5
                          },
                          "pattern": {
                            "fillmode": "overlay",
                            "size": 10,
                            "solidity": 0.2
                          }
                        },
                        "type": "bar"
                      }
                    ],
                    "barpolar": [
                      {
                        "marker": {
                          "line": {
                            "color": "#E5ECF6",
                            "width": 0.5
                          },
                          "pattern": {
                            "fillmode": "overlay",
                            "size": 10,
                            "solidity": 0.2
                          }
                        },
                        "type": "barpolar"
                      }
                    ],
                    "carpet": [
                      {
                        "aaxis": {
                          "endlinecolor": "#2a3f5f",
                          "gridcolor": "white",
                          "linecolor": "white",
                          "minorgridcolor": "white",
                          "startlinecolor": "#2a3f5f"
                        },
                        "baxis": {
                          "endlinecolor": "#2a3f5f",
                          "gridcolor": "white",
                          "linecolor": "white",
                          "minorgridcolor": "white",
                          "startlinecolor": "#2a3f5f"
                        },
                        "type": "carpet"
                      }
                    ],
                    "choropleth": [
                      {
                        "colorbar": {
                          "outlinewidth": 0,
                          "ticks": ""
                        },
                        "type": "choropleth"
                      }
                    ],
                    "contour": [
                      {
                        "colorbar": {
                          "outlinewidth": 0,
                          "ticks": ""
                        },
                        "colorscale": [
                          [
                            0,
                            "#0d0887"
                          ],
                          [
                            0.1111111111111111,
                            "#46039f"
                          ],
                          [
                            0.2222222222222222,
                            "#7201a8"
                          ],
                          [
                            0.3333333333333333,
                            "#9c179e"
                          ],
                          [
                            0.4444444444444444,
                            "#bd3786"
                          ],
                          [
                            0.5555555555555556,
                            "#d8576b"
                          ],
                          [
                            0.6666666666666666,
                            "#ed7953"
                          ],
                          [
                            0.7777777777777778,
                            "#fb9f3a"
                          ],
                          [
                            0.8888888888888888,
                            "#fdca26"
                          ],
                          [
                            1,
                            "#f0f921"
                          ]
                        ],
                        "type": "contour"
                      }
                    ],
                    "contourcarpet": [
                      {
                        "colorbar": {
                          "outlinewidth": 0,
                          "ticks": ""
                        },
                        "type": "contourcarpet"
                      }
                    ],
                    "heatmap": [
                      {
                        "colorbar": {
                          "outlinewidth": 0,
                          "ticks": ""
                        },
                        "colorscale": [
                          [
                            0,
                            "#0d0887"
                          ],
                          [
                            0.1111111111111111,
                            "#46039f"
                          ],
                          [
                            0.2222222222222222,
                            "#7201a8"
                          ],
                          [
                            0.3333333333333333,
                            "#9c179e"
                          ],
                          [
                            0.4444444444444444,
                            "#bd3786"
                          ],
                          [
                            0.5555555555555556,
                            "#d8576b"
                          ],
                          [
                            0.6666666666666666,
                            "#ed7953"
                          ],
                          [
                            0.7777777777777778,
                            "#fb9f3a"
                          ],
                          [
                            0.8888888888888888,
                            "#fdca26"
                          ],
                          [
                            1,
                            "#f0f921"
                          ]
                        ],
                        "type": "heatmap"
                      }
                    ],
                    "heatmapgl": [
                      {
                        "colorbar": {
                          "outlinewidth": 0,
                          "ticks": ""
                        },
                        "colorscale": [
                          [
                            0,
                            "#0d0887"
                          ],
                          [
                            0.1111111111111111,
                            "#46039f"
                          ],
                          [
                            0.2222222222222222,
                            "#7201a8"
                          ],
                          [
                            0.3333333333333333,
                            "#9c179e"
                          ],
                          [
                            0.4444444444444444,
                            "#bd3786"
                          ],
                          [
                            0.5555555555555556,
                            "#d8576b"
                          ],
                          [
                            0.6666666666666666,
                            "#ed7953"
                          ],
                          [
                            0.7777777777777778,
                            "#fb9f3a"
                          ],
                          [
                            0.8888888888888888,
                            "#fdca26"
                          ],
                          [
                            1,
                            "#f0f921"
                          ]
                        ],
                        "type": "heatmapgl"
                      }
                    ],
                    "histogram": [
                      {
                        "marker": {
                          "pattern": {
                            "fillmode": "overlay",
                            "size": 10,
                            "solidity": 0.2
                          }
                        },
                        "type": "histogram"
                      }
                    ],
                    "histogram2d": [
                      {
                        "colorbar": {
                          "outlinewidth": 0,
                          "ticks": ""
                        },
                        "colorscale": [
                          [
                            0,
                            "#0d0887"
                          ],
                          [
                            0.1111111111111111,
                            "#46039f"
                          ],
                          [
                            0.2222222222222222,
                            "#7201a8"
                          ],
                          [
                            0.3333333333333333,
                            "#9c179e"
                          ],
                          [
                            0.4444444444444444,
                            "#bd3786"
                          ],
                          [
                            0.5555555555555556,
                            "#d8576b"
                          ],
                          [
                            0.6666666666666666,
                            "#ed7953"
                          ],
                          [
                            0.7777777777777778,
                            "#fb9f3a"
                          ],
                          [
                            0.8888888888888888,
                            "#fdca26"
                          ],
                          [
                            1,
                            "#f0f921"
                          ]
                        ],
                        "type": "histogram2d"
                      }
                    ],
                    "histogram2dcontour": [
                      {
                        "colorbar": {
                          "outlinewidth": 0,
                          "ticks": ""
                        },
                        "colorscale": [
                          [
                            0,
                            "#0d0887"
                          ],
                          [
                            0.1111111111111111,
                            "#46039f"
                          ],
                          [
                            0.2222222222222222,
                            "#7201a8"
                          ],
                          [
                            0.3333333333333333,
                            "#9c179e"
                          ],
                          [
                            0.4444444444444444,
                            "#bd3786"
                          ],
                          [
                            0.5555555555555556,
                            "#d8576b"
                          ],
                          [
                            0.6666666666666666,
                            "#ed7953"
                          ],
                          [
                            0.7777777777777778,
                            "#fb9f3a"
                          ],
                          [
                            0.8888888888888888,
                            "#fdca26"
                          ],
                          [
                            1,
                            "#f0f921"
                          ]
                        ],
                        "type": "histogram2dcontour"
                      }
                    ],
                    "mesh3d": [
                      {
                        "colorbar": {
                          "outlinewidth": 0,
                          "ticks": ""
                        },
                        "type": "mesh3d"
                      }
                    ],
                    "parcoords": [
                      {
                        "line": {
                          "colorbar": {
                            "outlinewidth": 0,
                            "ticks": ""
                          }
                        },
                        "type": "parcoords"
                      }
                    ],
                    "pie": [
                      {
                        "automargin": true,
                        "type": "pie"
                      }
                    ],
                    "scatter": [
                      {
                        "fillpattern": {
                          "fillmode": "overlay",
                          "size": 10,
                          "solidity": 0.2
                        },
                        "type": "scatter"
                      }
                    ],
                    "scatter3d": [
                      {
                        "line": {
                          "colorbar": {
                            "outlinewidth": 0,
                            "ticks": ""
                          }
                        },
                        "marker": {
                          "colorbar": {
                            "outlinewidth": 0,
                            "ticks": ""
                          }
                        },
                        "type": "scatter3d"
                      }
                    ],
                    "scattercarpet": [
                      {
                        "marker": {
                          "colorbar": {
                            "outlinewidth": 0,
                            "ticks": ""
                          }
                        },
                        "type": "scattercarpet"
                      }
                    ],
                    "scattergeo": [
                      {
                        "marker": {
                          "colorbar": {
                            "outlinewidth": 0,
                            "ticks": ""
                          }
                        },
                        "type": "scattergeo"
                      }
                    ],
                    "scattergl": [
                      {
                        "marker": {
                          "colorbar": {
                            "outlinewidth": 0,
                            "ticks": ""
                          }
                        },
                        "type": "scattergl"
                      }
                    ],
                    "scattermapbox": [
                      {
                        "marker": {
                          "colorbar": {
                            "outlinewidth": 0,
                            "ticks": ""
                          }
                        },
                        "type": "scattermapbox"
                      }
                    ],
                    "scatterpolar": [
                      {
                        "marker": {
                          "colorbar": {
                            "outlinewidth": 0,
                            "ticks": ""
                          }
                        },
                        "type": "scatterpolar"
                      }
                    ],
                    "scatterpolargl": [
                      {
                        "marker": {
                          "colorbar": {
                            "outlinewidth": 0,
                            "ticks": ""
                          }
                        },
                        "type": "scatterpolargl"
                      }
                    ],
                    "scatterternary": [
                      {
                        "marker": {
                          "colorbar": {
                            "outlinewidth": 0,
                            "ticks": ""
                          }
                        },
                        "type": "scatterternary"
                      }
                    ],
                    "surface": [
                      {
                        "colorbar": {
                          "outlinewidth": 0,
                          "ticks": ""
                        },
                        "colorscale": [
                          [
                            0,
                            "#0d0887"
                          ],
                          [
                            0.1111111111111111,
                            "#46039f"
                          ],
                          [
                            0.2222222222222222,
                            "#7201a8"
                          ],
                          [
                            0.3333333333333333,
                            "#9c179e"
                          ],
                          [
                            0.4444444444444444,
                            "#bd3786"
                          ],
                          [
                            0.5555555555555556,
                            "#d8576b"
                          ],
                          [
                            0.6666666666666666,
                            "#ed7953"
                          ],
                          [
                            0.7777777777777778,
                            "#fb9f3a"
                          ],
                          [
                            0.8888888888888888,
                            "#fdca26"
                          ],
                          [
                            1,
                            "#f0f921"
                          ]
                        ],
                        "type": "surface"
                      }
                    ],
                    "table": [
                      {
                        "cells": {
                          "fill": {
                            "color": "#EBF0F8"
                          },
                          "line": {
                            "color": "white"
                          }
                        },
                        "header": {
                          "fill": {
                            "color": "#C8D4E3"
                          },
                          "line": {
                            "color": "white"
                          }
                        },
                        "type": "table"
                      }
                    ]
                  },
                  "layout": {
                    "annotationdefaults": {
                      "arrowcolor": "#2a3f5f",
                      "arrowhead": 0,
                      "arrowwidth": 1
                    },
                    "autotypenumbers": "strict",
                    "coloraxis": {
                      "colorbar": {
                        "outlinewidth": 0,
                        "ticks": ""
                      }
                    },
                    "colorscale": {
                      "diverging": [
                        [
                          0,
                          "#8e0152"
                        ],
                        [
                          0.1,
                          "#c51b7d"
                        ],
                        [
                          0.2,
                          "#de77ae"
                        ],
                        [
                          0.3,
                          "#f1b6da"
                        ],
                        [
                          0.4,
                          "#fde0ef"
                        ],
                        [
                          0.5,
                          "#f7f7f7"
                        ],
                        [
                          0.6,
                          "#e6f5d0"
                        ],
                        [
                          0.7,
                          "#b8e186"
                        ],
                        [
                          0.8,
                          "#7fbc41"
                        ],
                        [
                          0.9,
                          "#4d9221"
                        ],
                        [
                          1,
                          "#276419"
                        ]
                      ],
                      "sequential": [
                        [
                          0,
                          "#0d0887"
                        ],
                        [
                          0.1111111111111111,
                          "#46039f"
                        ],
                        [
                          0.2222222222222222,
                          "#7201a8"
                        ],
                        [
                          0.3333333333333333,
                          "#9c179e"
                        ],
                        [
                          0.4444444444444444,
                          "#bd3786"
                        ],
                        [
                          0.5555555555555556,
                          "#d8576b"
                        ],
                        [
                          0.6666666666666666,
                          "#ed7953"
                        ],
                        [
                          0.7777777777777778,
                          "#fb9f3a"
                        ],
                        [
                          0.8888888888888888,
                          "#fdca26"
                        ],
                        [
                          1,
                          "#f0f921"
                        ]
                      ],
                      "sequentialminus": [
                        [
                          0,
                          "#0d0887"
                        ],
                        [
                          0.1111111111111111,
                          "#46039f"
                        ],
                        [
                          0.2222222222222222,
                          "#7201a8"
                        ],
                        [
                          0.3333333333333333,
                          "#9c179e"
                        ],
                        [
                          0.4444444444444444,
                          "#bd3786"
                        ],
                        [
                          0.5555555555555556,
                          "#d8576b"
                        ],
                        [
                          0.6666666666666666,
                          "#ed7953"
                        ],
                        [
                          0.7777777777777778,
                          "#fb9f3a"
                        ],
                        [
                          0.8888888888888888,
                          "#fdca26"
                        ],
                        [
                          1,
                          "#f0f921"
                        ]
                      ]
                    },
                    "colorway": [
                      "#636efa",
                      "#EF553B",
                      "#00cc96",
                      "#ab63fa",
                      "#FFA15A",
                      "#19d3f3",
                      "#FF6692",
                      "#B6E880",
                      "#FF97FF",
                      "#FECB52"
                    ],
                    "font": {
                      "color": "#2a3f5f"
                    },
                    "geo": {
                      "bgcolor": "white",
                      "lakecolor": "white",
                      "landcolor": "#E5ECF6",
                      "showlakes": true,
                      "showland": true,
                      "subunitcolor": "white"
                    },
                    "hoverlabel": {
                      "align": "left"
                    },
                    "hovermode": "closest",
                    "mapbox": {
                      "style": "light"
                    },
                    "paper_bgcolor": "white",
                    "plot_bgcolor": "#E5ECF6",
                    "polar": {
                      "angularaxis": {
                        "gridcolor": "white",
                        "linecolor": "white",
                        "ticks": ""
                      },
                      "bgcolor": "#E5ECF6",
                      "radialaxis": {
                        "gridcolor": "white",
                        "linecolor": "white",
                        "ticks": ""
                      }
                    },
                    "scene": {
                      "xaxis": {
                        "backgroundcolor": "#E5ECF6",
                        "gridcolor": "white",
                        "gridwidth": 2,
                        "linecolor": "white",
                        "showbackground": true,
                        "ticks": "",
                        "zerolinecolor": "white"
                      },
                      "yaxis": {
                        "backgroundcolor": "#E5ECF6",
                        "gridcolor": "white",
                        "gridwidth": 2,
                        "linecolor": "white",
                        "showbackground": true,
                        "ticks": "",
                        "zerolinecolor": "white"
                      },
                      "zaxis": {
                        "backgroundcolor": "#E5ECF6",
                        "gridcolor": "white",
                        "gridwidth": 2,
                        "linecolor": "white",
                        "showbackground": true,
                        "ticks": "",
                        "zerolinecolor": "white"
                      }
                    },
                    "shapedefaults": {
                      "line": {
                        "color": "#2a3f5f"
                      }
                    },
                    "ternary": {
                      "aaxis": {
                        "gridcolor": "white",
                        "linecolor": "white",
                        "ticks": ""
                      },
                      "baxis": {
                        "gridcolor": "white",
                        "linecolor": "white",
                        "ticks": ""
                      },
                      "bgcolor": "#E5ECF6",
                      "caxis": {
                        "gridcolor": "white",
                        "linecolor": "white",
                        "ticks": ""
                      }
                    },
                    "title": {
                      "x": 0.05
                    },
                    "xaxis": {
                      "automargin": true,
                      "gridcolor": "white",
                      "linecolor": "white",
                      "ticks": "",
                      "title": {
                        "standoff": 15
                      },
                      "zerolinecolor": "white",
                      "zerolinewidth": 2
                    },
                    "yaxis": {
                      "automargin": true,
                      "gridcolor": "white",
                      "linecolor": "white",
                      "ticks": "",
                      "title": {
                        "standoff": 15
                      },
                      "zerolinecolor": "white",
                      "zerolinewidth": 2
                    }
                  }
                },
                "title": {
                  "text": "Desmatamento Amazônia Legal"
                },
                "xaxis": {
                  "title": {
                    "text": "Ano"
                  }
                },
                "yaxis": {
                  "title": {
                    "text": "Área (km²)"
                  }
                }
              }
            }
          },
          "metadata": {},
          "output_type": "display_data"
        }
      ],
      "source": [
        "#Grafico com o desmatamento da amazonia por ano de cada estado\n",
        "estados = [\"AC\", \"AM\", \"AP\", \"MA\", \"MT\", \"PA\", \"RO\", \"RR\", \"TO\"]\n",
        "dados = []\n",
        "\n",
        "# criando traces para cada estado\n",
        "for i in range(len(estados)):\n",
        "    trace = go.Scatter(x=df[\"Ano/Estados\"], y=df[estados[i]], name=estados[i])\n",
        "    dados.append(trace)\n",
        "\n",
        "fig = go.Figure(data=dados)\n",
        "fig.update_layout(title='Desmatamento Amazônia Legal', xaxis_title='Ano', yaxis_title='Área (km²)')\n",
        "fig.show()"
      ]
    },
    {
      "cell_type": "code",
      "execution_count": 6,
      "metadata": {
        "colab": {
          "base_uri": "https://localhost:8080/",
          "height": 542
        },
        "id": "IGt3pKcU6j93",
        "outputId": "4ecc266c-0d4f-4c4a-9235-2d51cf35c47e"
      },
      "outputs": [
        {
          "data": {
            "application/vnd.plotly.v1+json": {
              "config": {
                "plotlyServerURL": "https://plot.ly"
              },
              "data": [
                {
                  "type": "bar",
                  "x": [
                    "AC",
                    "AM",
                    "AP",
                    "MA",
                    "MT",
                    "PA",
                    "RO",
                    "RR",
                    "TO"
                  ],
                  "y": [
                    5722,
                    12425,
                    616,
                    8318,
                    43065,
                    62778,
                    22279,
                    3891,
                    1241
                  ]
                }
              ],
              "layout": {
                "template": {
                  "data": {
                    "bar": [
                      {
                        "error_x": {
                          "color": "#2a3f5f"
                        },
                        "error_y": {
                          "color": "#2a3f5f"
                        },
                        "marker": {
                          "line": {
                            "color": "#E5ECF6",
                            "width": 0.5
                          },
                          "pattern": {
                            "fillmode": "overlay",
                            "size": 10,
                            "solidity": 0.2
                          }
                        },
                        "type": "bar"
                      }
                    ],
                    "barpolar": [
                      {
                        "marker": {
                          "line": {
                            "color": "#E5ECF6",
                            "width": 0.5
                          },
                          "pattern": {
                            "fillmode": "overlay",
                            "size": 10,
                            "solidity": 0.2
                          }
                        },
                        "type": "barpolar"
                      }
                    ],
                    "carpet": [
                      {
                        "aaxis": {
                          "endlinecolor": "#2a3f5f",
                          "gridcolor": "white",
                          "linecolor": "white",
                          "minorgridcolor": "white",
                          "startlinecolor": "#2a3f5f"
                        },
                        "baxis": {
                          "endlinecolor": "#2a3f5f",
                          "gridcolor": "white",
                          "linecolor": "white",
                          "minorgridcolor": "white",
                          "startlinecolor": "#2a3f5f"
                        },
                        "type": "carpet"
                      }
                    ],
                    "choropleth": [
                      {
                        "colorbar": {
                          "outlinewidth": 0,
                          "ticks": ""
                        },
                        "type": "choropleth"
                      }
                    ],
                    "contour": [
                      {
                        "colorbar": {
                          "outlinewidth": 0,
                          "ticks": ""
                        },
                        "colorscale": [
                          [
                            0,
                            "#0d0887"
                          ],
                          [
                            0.1111111111111111,
                            "#46039f"
                          ],
                          [
                            0.2222222222222222,
                            "#7201a8"
                          ],
                          [
                            0.3333333333333333,
                            "#9c179e"
                          ],
                          [
                            0.4444444444444444,
                            "#bd3786"
                          ],
                          [
                            0.5555555555555556,
                            "#d8576b"
                          ],
                          [
                            0.6666666666666666,
                            "#ed7953"
                          ],
                          [
                            0.7777777777777778,
                            "#fb9f3a"
                          ],
                          [
                            0.8888888888888888,
                            "#fdca26"
                          ],
                          [
                            1,
                            "#f0f921"
                          ]
                        ],
                        "type": "contour"
                      }
                    ],
                    "contourcarpet": [
                      {
                        "colorbar": {
                          "outlinewidth": 0,
                          "ticks": ""
                        },
                        "type": "contourcarpet"
                      }
                    ],
                    "heatmap": [
                      {
                        "colorbar": {
                          "outlinewidth": 0,
                          "ticks": ""
                        },
                        "colorscale": [
                          [
                            0,
                            "#0d0887"
                          ],
                          [
                            0.1111111111111111,
                            "#46039f"
                          ],
                          [
                            0.2222222222222222,
                            "#7201a8"
                          ],
                          [
                            0.3333333333333333,
                            "#9c179e"
                          ],
                          [
                            0.4444444444444444,
                            "#bd3786"
                          ],
                          [
                            0.5555555555555556,
                            "#d8576b"
                          ],
                          [
                            0.6666666666666666,
                            "#ed7953"
                          ],
                          [
                            0.7777777777777778,
                            "#fb9f3a"
                          ],
                          [
                            0.8888888888888888,
                            "#fdca26"
                          ],
                          [
                            1,
                            "#f0f921"
                          ]
                        ],
                        "type": "heatmap"
                      }
                    ],
                    "heatmapgl": [
                      {
                        "colorbar": {
                          "outlinewidth": 0,
                          "ticks": ""
                        },
                        "colorscale": [
                          [
                            0,
                            "#0d0887"
                          ],
                          [
                            0.1111111111111111,
                            "#46039f"
                          ],
                          [
                            0.2222222222222222,
                            "#7201a8"
                          ],
                          [
                            0.3333333333333333,
                            "#9c179e"
                          ],
                          [
                            0.4444444444444444,
                            "#bd3786"
                          ],
                          [
                            0.5555555555555556,
                            "#d8576b"
                          ],
                          [
                            0.6666666666666666,
                            "#ed7953"
                          ],
                          [
                            0.7777777777777778,
                            "#fb9f3a"
                          ],
                          [
                            0.8888888888888888,
                            "#fdca26"
                          ],
                          [
                            1,
                            "#f0f921"
                          ]
                        ],
                        "type": "heatmapgl"
                      }
                    ],
                    "histogram": [
                      {
                        "marker": {
                          "pattern": {
                            "fillmode": "overlay",
                            "size": 10,
                            "solidity": 0.2
                          }
                        },
                        "type": "histogram"
                      }
                    ],
                    "histogram2d": [
                      {
                        "colorbar": {
                          "outlinewidth": 0,
                          "ticks": ""
                        },
                        "colorscale": [
                          [
                            0,
                            "#0d0887"
                          ],
                          [
                            0.1111111111111111,
                            "#46039f"
                          ],
                          [
                            0.2222222222222222,
                            "#7201a8"
                          ],
                          [
                            0.3333333333333333,
                            "#9c179e"
                          ],
                          [
                            0.4444444444444444,
                            "#bd3786"
                          ],
                          [
                            0.5555555555555556,
                            "#d8576b"
                          ],
                          [
                            0.6666666666666666,
                            "#ed7953"
                          ],
                          [
                            0.7777777777777778,
                            "#fb9f3a"
                          ],
                          [
                            0.8888888888888888,
                            "#fdca26"
                          ],
                          [
                            1,
                            "#f0f921"
                          ]
                        ],
                        "type": "histogram2d"
                      }
                    ],
                    "histogram2dcontour": [
                      {
                        "colorbar": {
                          "outlinewidth": 0,
                          "ticks": ""
                        },
                        "colorscale": [
                          [
                            0,
                            "#0d0887"
                          ],
                          [
                            0.1111111111111111,
                            "#46039f"
                          ],
                          [
                            0.2222222222222222,
                            "#7201a8"
                          ],
                          [
                            0.3333333333333333,
                            "#9c179e"
                          ],
                          [
                            0.4444444444444444,
                            "#bd3786"
                          ],
                          [
                            0.5555555555555556,
                            "#d8576b"
                          ],
                          [
                            0.6666666666666666,
                            "#ed7953"
                          ],
                          [
                            0.7777777777777778,
                            "#fb9f3a"
                          ],
                          [
                            0.8888888888888888,
                            "#fdca26"
                          ],
                          [
                            1,
                            "#f0f921"
                          ]
                        ],
                        "type": "histogram2dcontour"
                      }
                    ],
                    "mesh3d": [
                      {
                        "colorbar": {
                          "outlinewidth": 0,
                          "ticks": ""
                        },
                        "type": "mesh3d"
                      }
                    ],
                    "parcoords": [
                      {
                        "line": {
                          "colorbar": {
                            "outlinewidth": 0,
                            "ticks": ""
                          }
                        },
                        "type": "parcoords"
                      }
                    ],
                    "pie": [
                      {
                        "automargin": true,
                        "type": "pie"
                      }
                    ],
                    "scatter": [
                      {
                        "fillpattern": {
                          "fillmode": "overlay",
                          "size": 10,
                          "solidity": 0.2
                        },
                        "type": "scatter"
                      }
                    ],
                    "scatter3d": [
                      {
                        "line": {
                          "colorbar": {
                            "outlinewidth": 0,
                            "ticks": ""
                          }
                        },
                        "marker": {
                          "colorbar": {
                            "outlinewidth": 0,
                            "ticks": ""
                          }
                        },
                        "type": "scatter3d"
                      }
                    ],
                    "scattercarpet": [
                      {
                        "marker": {
                          "colorbar": {
                            "outlinewidth": 0,
                            "ticks": ""
                          }
                        },
                        "type": "scattercarpet"
                      }
                    ],
                    "scattergeo": [
                      {
                        "marker": {
                          "colorbar": {
                            "outlinewidth": 0,
                            "ticks": ""
                          }
                        },
                        "type": "scattergeo"
                      }
                    ],
                    "scattergl": [
                      {
                        "marker": {
                          "colorbar": {
                            "outlinewidth": 0,
                            "ticks": ""
                          }
                        },
                        "type": "scattergl"
                      }
                    ],
                    "scattermapbox": [
                      {
                        "marker": {
                          "colorbar": {
                            "outlinewidth": 0,
                            "ticks": ""
                          }
                        },
                        "type": "scattermapbox"
                      }
                    ],
                    "scatterpolar": [
                      {
                        "marker": {
                          "colorbar": {
                            "outlinewidth": 0,
                            "ticks": ""
                          }
                        },
                        "type": "scatterpolar"
                      }
                    ],
                    "scatterpolargl": [
                      {
                        "marker": {
                          "colorbar": {
                            "outlinewidth": 0,
                            "ticks": ""
                          }
                        },
                        "type": "scatterpolargl"
                      }
                    ],
                    "scatterternary": [
                      {
                        "marker": {
                          "colorbar": {
                            "outlinewidth": 0,
                            "ticks": ""
                          }
                        },
                        "type": "scatterternary"
                      }
                    ],
                    "surface": [
                      {
                        "colorbar": {
                          "outlinewidth": 0,
                          "ticks": ""
                        },
                        "colorscale": [
                          [
                            0,
                            "#0d0887"
                          ],
                          [
                            0.1111111111111111,
                            "#46039f"
                          ],
                          [
                            0.2222222222222222,
                            "#7201a8"
                          ],
                          [
                            0.3333333333333333,
                            "#9c179e"
                          ],
                          [
                            0.4444444444444444,
                            "#bd3786"
                          ],
                          [
                            0.5555555555555556,
                            "#d8576b"
                          ],
                          [
                            0.6666666666666666,
                            "#ed7953"
                          ],
                          [
                            0.7777777777777778,
                            "#fb9f3a"
                          ],
                          [
                            0.8888888888888888,
                            "#fdca26"
                          ],
                          [
                            1,
                            "#f0f921"
                          ]
                        ],
                        "type": "surface"
                      }
                    ],
                    "table": [
                      {
                        "cells": {
                          "fill": {
                            "color": "#EBF0F8"
                          },
                          "line": {
                            "color": "white"
                          }
                        },
                        "header": {
                          "fill": {
                            "color": "#C8D4E3"
                          },
                          "line": {
                            "color": "white"
                          }
                        },
                        "type": "table"
                      }
                    ]
                  },
                  "layout": {
                    "annotationdefaults": {
                      "arrowcolor": "#2a3f5f",
                      "arrowhead": 0,
                      "arrowwidth": 1
                    },
                    "autotypenumbers": "strict",
                    "coloraxis": {
                      "colorbar": {
                        "outlinewidth": 0,
                        "ticks": ""
                      }
                    },
                    "colorscale": {
                      "diverging": [
                        [
                          0,
                          "#8e0152"
                        ],
                        [
                          0.1,
                          "#c51b7d"
                        ],
                        [
                          0.2,
                          "#de77ae"
                        ],
                        [
                          0.3,
                          "#f1b6da"
                        ],
                        [
                          0.4,
                          "#fde0ef"
                        ],
                        [
                          0.5,
                          "#f7f7f7"
                        ],
                        [
                          0.6,
                          "#e6f5d0"
                        ],
                        [
                          0.7,
                          "#b8e186"
                        ],
                        [
                          0.8,
                          "#7fbc41"
                        ],
                        [
                          0.9,
                          "#4d9221"
                        ],
                        [
                          1,
                          "#276419"
                        ]
                      ],
                      "sequential": [
                        [
                          0,
                          "#0d0887"
                        ],
                        [
                          0.1111111111111111,
                          "#46039f"
                        ],
                        [
                          0.2222222222222222,
                          "#7201a8"
                        ],
                        [
                          0.3333333333333333,
                          "#9c179e"
                        ],
                        [
                          0.4444444444444444,
                          "#bd3786"
                        ],
                        [
                          0.5555555555555556,
                          "#d8576b"
                        ],
                        [
                          0.6666666666666666,
                          "#ed7953"
                        ],
                        [
                          0.7777777777777778,
                          "#fb9f3a"
                        ],
                        [
                          0.8888888888888888,
                          "#fdca26"
                        ],
                        [
                          1,
                          "#f0f921"
                        ]
                      ],
                      "sequentialminus": [
                        [
                          0,
                          "#0d0887"
                        ],
                        [
                          0.1111111111111111,
                          "#46039f"
                        ],
                        [
                          0.2222222222222222,
                          "#7201a8"
                        ],
                        [
                          0.3333333333333333,
                          "#9c179e"
                        ],
                        [
                          0.4444444444444444,
                          "#bd3786"
                        ],
                        [
                          0.5555555555555556,
                          "#d8576b"
                        ],
                        [
                          0.6666666666666666,
                          "#ed7953"
                        ],
                        [
                          0.7777777777777778,
                          "#fb9f3a"
                        ],
                        [
                          0.8888888888888888,
                          "#fdca26"
                        ],
                        [
                          1,
                          "#f0f921"
                        ]
                      ]
                    },
                    "colorway": [
                      "#636efa",
                      "#EF553B",
                      "#00cc96",
                      "#ab63fa",
                      "#FFA15A",
                      "#19d3f3",
                      "#FF6692",
                      "#B6E880",
                      "#FF97FF",
                      "#FECB52"
                    ],
                    "font": {
                      "color": "#2a3f5f"
                    },
                    "geo": {
                      "bgcolor": "white",
                      "lakecolor": "white",
                      "landcolor": "#E5ECF6",
                      "showlakes": true,
                      "showland": true,
                      "subunitcolor": "white"
                    },
                    "hoverlabel": {
                      "align": "left"
                    },
                    "hovermode": "closest",
                    "mapbox": {
                      "style": "light"
                    },
                    "paper_bgcolor": "white",
                    "plot_bgcolor": "#E5ECF6",
                    "polar": {
                      "angularaxis": {
                        "gridcolor": "white",
                        "linecolor": "white",
                        "ticks": ""
                      },
                      "bgcolor": "#E5ECF6",
                      "radialaxis": {
                        "gridcolor": "white",
                        "linecolor": "white",
                        "ticks": ""
                      }
                    },
                    "scene": {
                      "xaxis": {
                        "backgroundcolor": "#E5ECF6",
                        "gridcolor": "white",
                        "gridwidth": 2,
                        "linecolor": "white",
                        "showbackground": true,
                        "ticks": "",
                        "zerolinecolor": "white"
                      },
                      "yaxis": {
                        "backgroundcolor": "#E5ECF6",
                        "gridcolor": "white",
                        "gridwidth": 2,
                        "linecolor": "white",
                        "showbackground": true,
                        "ticks": "",
                        "zerolinecolor": "white"
                      },
                      "zaxis": {
                        "backgroundcolor": "#E5ECF6",
                        "gridcolor": "white",
                        "gridwidth": 2,
                        "linecolor": "white",
                        "showbackground": true,
                        "ticks": "",
                        "zerolinecolor": "white"
                      }
                    },
                    "shapedefaults": {
                      "line": {
                        "color": "#2a3f5f"
                      }
                    },
                    "ternary": {
                      "aaxis": {
                        "gridcolor": "white",
                        "linecolor": "white",
                        "ticks": ""
                      },
                      "baxis": {
                        "gridcolor": "white",
                        "linecolor": "white",
                        "ticks": ""
                      },
                      "bgcolor": "#E5ECF6",
                      "caxis": {
                        "gridcolor": "white",
                        "linecolor": "white",
                        "ticks": ""
                      }
                    },
                    "title": {
                      "x": 0.05
                    },
                    "xaxis": {
                      "automargin": true,
                      "gridcolor": "white",
                      "linecolor": "white",
                      "ticks": "",
                      "title": {
                        "standoff": 15
                      },
                      "zerolinecolor": "white",
                      "zerolinewidth": 2
                    },
                    "yaxis": {
                      "automargin": true,
                      "gridcolor": "white",
                      "linecolor": "white",
                      "ticks": "",
                      "title": {
                        "standoff": 15
                      },
                      "zerolinecolor": "white",
                      "zerolinewidth": 2
                    }
                  }
                },
                "title": {
                  "text": "Total de desmatamento por estado na Amazônia Legal (2004-2019)"
                },
                "xaxis": {
                  "title": {
                    "text": "Estado"
                  }
                },
                "yaxis": {
                  "title": {
                    "text": "Área desmatada total (km²)"
                  }
                }
              }
            }
          },
          "metadata": {},
          "output_type": "display_data"
        }
      ],
      "source": [
        "#Grafico com o desmatamento da amazonia total de cada estado\n",
        "total_desmatado = []\n",
        "for estado in estados:\n",
        "    total_desmatado.append(df[estado].sum())\n",
        "trace = go.Bar(x=estados, y=total_desmatado)\n",
        "\n",
        "\n",
        "layout = go.Layout(title='Total de desmatamento por estado na Amazônia Legal (2004-2019)', xaxis=dict(title='Estado'), yaxis=dict(title='Área desmatada total (km²)'))\n",
        "fig = go.Figure(data=[trace], layout=layout)\n",
        "fig.show()"
      ]
    },
    {
      "cell_type": "code",
      "execution_count": 7,
      "metadata": {
        "colab": {
          "base_uri": "https://localhost:8080/",
          "height": 1000
        },
        "id": "GJc8hS-I6xDv",
        "outputId": "751082ab-6830-47e3-ec7d-295594c8c90f"
      },
      "outputs": [
        {
          "data": {
            "text/html": [
              "<div>\n",
              "<style scoped>\n",
              "    .dataframe tbody tr th:only-of-type {\n",
              "        vertical-align: middle;\n",
              "    }\n",
              "\n",
              "    .dataframe tbody tr th {\n",
              "        vertical-align: top;\n",
              "    }\n",
              "\n",
              "    .dataframe thead th {\n",
              "        text-align: right;\n",
              "    }\n",
              "</style>\n",
              "<table border=\"1\" class=\"dataframe\">\n",
              "  <thead>\n",
              "    <tr style=\"text-align: right;\">\n",
              "      <th></th>\n",
              "      <th>Local/Ano</th>\n",
              "      <th>2004</th>\n",
              "      <th>2005</th>\n",
              "      <th>2006</th>\n",
              "      <th>2007</th>\n",
              "      <th>2008</th>\n",
              "      <th>2009</th>\n",
              "      <th>2010</th>\n",
              "      <th>2011</th>\n",
              "      <th>2012</th>\n",
              "      <th>2013</th>\n",
              "      <th>2014</th>\n",
              "      <th>2015</th>\n",
              "      <th>2016</th>\n",
              "      <th>2017</th>\n",
              "      <th>2018</th>\n",
              "      <th>2019</th>\n",
              "    </tr>\n",
              "  </thead>\n",
              "  <tbody>\n",
              "    <tr>\n",
              "      <th>0</th>\n",
              "      <td>Brasil</td>\n",
              "      <td>56662542</td>\n",
              "      <td>57964209</td>\n",
              "      <td>56069983</td>\n",
              "      <td>55887379</td>\n",
              "      <td>59032241</td>\n",
              "      <td>59431710</td>\n",
              "      <td>59059599</td>\n",
              "      <td>61841033</td>\n",
              "      <td>63030377</td>\n",
              "      <td>66406024</td>\n",
              "      <td>70398423</td>\n",
              "      <td>71028134</td>\n",
              "      <td>71432966</td>\n",
              "      <td>73644898</td>\n",
              "      <td>73274337</td>\n",
              "      <td>75898382</td>\n",
              "    </tr>\n",
              "    <tr>\n",
              "      <th>1</th>\n",
              "      <td>Rondônia</td>\n",
              "      <td>351157</td>\n",
              "      <td>386252</td>\n",
              "      <td>393201</td>\n",
              "      <td>383553</td>\n",
              "      <td>408939</td>\n",
              "      <td>436766</td>\n",
              "      <td>455482</td>\n",
              "      <td>546051</td>\n",
              "      <td>476280</td>\n",
              "      <td>447793</td>\n",
              "      <td>465183</td>\n",
              "      <td>505753</td>\n",
              "      <td>512621</td>\n",
              "      <td>585246</td>\n",
              "      <td>571287</td>\n",
              "      <td>657037</td>\n",
              "    </tr>\n",
              "    <tr>\n",
              "      <th>2</th>\n",
              "      <td>Acre</td>\n",
              "      <td>115864</td>\n",
              "      <td>117634</td>\n",
              "      <td>111638</td>\n",
              "      <td>107877</td>\n",
              "      <td>98425</td>\n",
              "      <td>84700</td>\n",
              "      <td>114815</td>\n",
              "      <td>121043</td>\n",
              "      <td>135180</td>\n",
              "      <td>118489</td>\n",
              "      <td>110554</td>\n",
              "      <td>103290</td>\n",
              "      <td>94552</td>\n",
              "      <td>87101</td>\n",
              "      <td>72431</td>\n",
              "      <td>69230</td>\n",
              "    </tr>\n",
              "    <tr>\n",
              "      <th>3</th>\n",
              "      <td>Amazonas</td>\n",
              "      <td>129033</td>\n",
              "      <td>164876</td>\n",
              "      <td>162948</td>\n",
              "      <td>144985</td>\n",
              "      <td>139022</td>\n",
              "      <td>140167</td>\n",
              "      <td>135465</td>\n",
              "      <td>146031</td>\n",
              "      <td>145647</td>\n",
              "      <td>135550</td>\n",
              "      <td>113173</td>\n",
              "      <td>100318</td>\n",
              "      <td>101189</td>\n",
              "      <td>103168</td>\n",
              "      <td>96226</td>\n",
              "      <td>99489</td>\n",
              "    </tr>\n",
              "    <tr>\n",
              "      <th>4</th>\n",
              "      <td>Roraima</td>\n",
              "      <td>59853</td>\n",
              "      <td>57923</td>\n",
              "      <td>54698</td>\n",
              "      <td>41908</td>\n",
              "      <td>46133</td>\n",
              "      <td>34833</td>\n",
              "      <td>34890</td>\n",
              "      <td>42135</td>\n",
              "      <td>43508</td>\n",
              "      <td>49804</td>\n",
              "      <td>47814</td>\n",
              "      <td>50600</td>\n",
              "      <td>52194</td>\n",
              "      <td>47578</td>\n",
              "      <td>66490</td>\n",
              "      <td>71665</td>\n",
              "    </tr>\n",
              "    <tr>\n",
              "      <th>5</th>\n",
              "      <td>Pará</td>\n",
              "      <td>1028444</td>\n",
              "      <td>1061815</td>\n",
              "      <td>983007</td>\n",
              "      <td>950688</td>\n",
              "      <td>894926</td>\n",
              "      <td>859286</td>\n",
              "      <td>793733</td>\n",
              "      <td>795974</td>\n",
              "      <td>818833</td>\n",
              "      <td>888463</td>\n",
              "      <td>953116</td>\n",
              "      <td>1015293</td>\n",
              "      <td>1067313</td>\n",
              "      <td>1198721</td>\n",
              "      <td>1157851</td>\n",
              "      <td>1230181</td>\n",
              "    </tr>\n",
              "    <tr>\n",
              "      <th>6</th>\n",
              "      <td>Amapá</td>\n",
              "      <td>13056</td>\n",
              "      <td>14734</td>\n",
              "      <td>14309</td>\n",
              "      <td>15656</td>\n",
              "      <td>18463</td>\n",
              "      <td>20498</td>\n",
              "      <td>22341</td>\n",
              "      <td>22076</td>\n",
              "      <td>20925</td>\n",
              "      <td>24280</td>\n",
              "      <td>39384</td>\n",
              "      <td>30878</td>\n",
              "      <td>34078</td>\n",
              "      <td>38863</td>\n",
              "      <td>34238</td>\n",
              "      <td>34800</td>\n",
              "    </tr>\n",
              "    <tr>\n",
              "      <th>7</th>\n",
              "      <td>Tocantins</td>\n",
              "      <td>541537</td>\n",
              "      <td>687118</td>\n",
              "      <td>596696</td>\n",
              "      <td>583585</td>\n",
              "      <td>646558</td>\n",
              "      <td>612324</td>\n",
              "      <td>664195</td>\n",
              "      <td>705878</td>\n",
              "      <td>730965</td>\n",
              "      <td>834257</td>\n",
              "      <td>1034697</td>\n",
              "      <td>1199494</td>\n",
              "      <td>1227972</td>\n",
              "      <td>1278462</td>\n",
              "      <td>1348373</td>\n",
              "      <td>1413461</td>\n",
              "    </tr>\n",
              "    <tr>\n",
              "      <th>8</th>\n",
              "      <td>Maranhão</td>\n",
              "      <td>1520015</td>\n",
              "      <td>1605736</td>\n",
              "      <td>1608870</td>\n",
              "      <td>1620345</td>\n",
              "      <td>1629185</td>\n",
              "      <td>1588862</td>\n",
              "      <td>1729552</td>\n",
              "      <td>1751843</td>\n",
              "      <td>1795760</td>\n",
              "      <td>1845490</td>\n",
              "      <td>1975258</td>\n",
              "      <td>1802598</td>\n",
              "      <td>1571680</td>\n",
              "      <td>1783013</td>\n",
              "      <td>1796133</td>\n",
              "      <td>1701124</td>\n",
              "    </tr>\n",
              "    <tr>\n",
              "      <th>9</th>\n",
              "      <td>Piauí</td>\n",
              "      <td>920826</td>\n",
              "      <td>991698</td>\n",
              "      <td>1004273</td>\n",
              "      <td>1021277</td>\n",
              "      <td>1015856</td>\n",
              "      <td>1091208</td>\n",
              "      <td>1085916</td>\n",
              "      <td>1211926</td>\n",
              "      <td>1242537</td>\n",
              "      <td>1367561</td>\n",
              "      <td>1443676</td>\n",
              "      <td>1468590</td>\n",
              "      <td>1407874</td>\n",
              "      <td>1550591</td>\n",
              "      <td>1571380</td>\n",
              "      <td>1565546</td>\n",
              "    </tr>\n",
              "    <tr>\n",
              "      <th>10</th>\n",
              "      <td>Ceará</td>\n",
              "      <td>1425409</td>\n",
              "      <td>1271717</td>\n",
              "      <td>1380444</td>\n",
              "      <td>1457146</td>\n",
              "      <td>1516034</td>\n",
              "      <td>1565997</td>\n",
              "      <td>1249534</td>\n",
              "      <td>1561076</td>\n",
              "      <td>1207133</td>\n",
              "      <td>835020</td>\n",
              "      <td>1012060</td>\n",
              "      <td>1013029</td>\n",
              "      <td>961666</td>\n",
              "      <td>1109673</td>\n",
              "      <td>1106614</td>\n",
              "      <td>1011001</td>\n",
              "    </tr>\n",
              "    <tr>\n",
              "      <th>11</th>\n",
              "      <td>Rio Grande do Norte</td>\n",
              "      <td>403689</td>\n",
              "      <td>295036</td>\n",
              "      <td>322296</td>\n",
              "      <td>315991</td>\n",
              "      <td>332949</td>\n",
              "      <td>333071</td>\n",
              "      <td>188923</td>\n",
              "      <td>264702</td>\n",
              "      <td>174029</td>\n",
              "      <td>179007</td>\n",
              "      <td>198677</td>\n",
              "      <td>185483</td>\n",
              "      <td>172881</td>\n",
              "      <td>188138</td>\n",
              "      <td>226824</td>\n",
              "      <td>242322</td>\n",
              "    </tr>\n",
              "    <tr>\n",
              "      <th>12</th>\n",
              "      <td>Paraíba</td>\n",
              "      <td>624985</td>\n",
              "      <td>541080</td>\n",
              "      <td>588312</td>\n",
              "      <td>541641</td>\n",
              "      <td>602727</td>\n",
              "      <td>596949</td>\n",
              "      <td>387000</td>\n",
              "      <td>520883</td>\n",
              "      <td>315695</td>\n",
              "      <td>269807</td>\n",
              "      <td>332744</td>\n",
              "      <td>290582</td>\n",
              "      <td>327362</td>\n",
              "      <td>310676</td>\n",
              "      <td>344695</td>\n",
              "      <td>325567</td>\n",
              "    </tr>\n",
              "    <tr>\n",
              "      <th>13</th>\n",
              "      <td>Pernambuco</td>\n",
              "      <td>1034149</td>\n",
              "      <td>1048113</td>\n",
              "      <td>1049471</td>\n",
              "      <td>1045232</td>\n",
              "      <td>1209084</td>\n",
              "      <td>1103305</td>\n",
              "      <td>1008027</td>\n",
              "      <td>1048136</td>\n",
              "      <td>916379</td>\n",
              "      <td>501357</td>\n",
              "      <td>803733</td>\n",
              "      <td>762022</td>\n",
              "      <td>785004</td>\n",
              "      <td>723642</td>\n",
              "      <td>705898</td>\n",
              "      <td>657034</td>\n",
              "    </tr>\n",
              "    <tr>\n",
              "      <th>14</th>\n",
              "      <td>Alagoas</td>\n",
              "      <td>627238</td>\n",
              "      <td>627854</td>\n",
              "      <td>616775</td>\n",
              "      <td>618740</td>\n",
              "      <td>650900</td>\n",
              "      <td>626470</td>\n",
              "      <td>588088</td>\n",
              "      <td>574959</td>\n",
              "      <td>510664</td>\n",
              "      <td>553345</td>\n",
              "      <td>541293</td>\n",
              "      <td>432672</td>\n",
              "      <td>418072</td>\n",
              "      <td>471067</td>\n",
              "      <td>403323</td>\n",
              "      <td>442404</td>\n",
              "    </tr>\n",
              "    <tr>\n",
              "      <th>15</th>\n",
              "      <td>Sergipe</td>\n",
              "      <td>267024</td>\n",
              "      <td>261319</td>\n",
              "      <td>314330</td>\n",
              "      <td>295241</td>\n",
              "      <td>301765</td>\n",
              "      <td>311368</td>\n",
              "      <td>326608</td>\n",
              "      <td>304590</td>\n",
              "      <td>271294</td>\n",
              "      <td>279791</td>\n",
              "      <td>284818</td>\n",
              "      <td>282686</td>\n",
              "      <td>274342</td>\n",
              "      <td>260207</td>\n",
              "      <td>213475</td>\n",
              "      <td>212001</td>\n",
              "    </tr>\n",
              "    <tr>\n",
              "      <th>16</th>\n",
              "      <td>Bahia</td>\n",
              "      <td>3396708</td>\n",
              "      <td>3535027</td>\n",
              "      <td>3398365</td>\n",
              "      <td>3374656</td>\n",
              "      <td>3413864</td>\n",
              "      <td>3410816</td>\n",
              "      <td>3356322</td>\n",
              "      <td>3520869</td>\n",
              "      <td>3042539</td>\n",
              "      <td>3173428</td>\n",
              "      <td>3584274</td>\n",
              "      <td>3710681</td>\n",
              "      <td>3275959</td>\n",
              "      <td>3133149</td>\n",
              "      <td>3199951</td>\n",
              "      <td>3216103</td>\n",
              "    </tr>\n",
              "    <tr>\n",
              "      <th>17</th>\n",
              "      <td>Minas Gerais</td>\n",
              "      <td>3626812</td>\n",
              "      <td>3676705</td>\n",
              "      <td>3547511</td>\n",
              "      <td>3435778</td>\n",
              "      <td>3574571</td>\n",
              "      <td>3673694</td>\n",
              "      <td>3707924</td>\n",
              "      <td>3809903</td>\n",
              "      <td>3947905</td>\n",
              "      <td>4130827</td>\n",
              "      <td>4329431</td>\n",
              "      <td>4297197</td>\n",
              "      <td>4363801</td>\n",
              "      <td>4251179</td>\n",
              "      <td>4206628</td>\n",
              "      <td>4502247</td>\n",
              "    </tr>\n",
              "    <tr>\n",
              "      <th>18</th>\n",
              "      <td>Espírito Santo</td>\n",
              "      <td>166136</td>\n",
              "      <td>164362</td>\n",
              "      <td>154094</td>\n",
              "      <td>151164</td>\n",
              "      <td>159690</td>\n",
              "      <td>161451</td>\n",
              "      <td>144614</td>\n",
              "      <td>147384</td>\n",
              "      <td>141022</td>\n",
              "      <td>133936</td>\n",
              "      <td>131024</td>\n",
              "      <td>124941</td>\n",
              "      <td>106258</td>\n",
              "      <td>88513</td>\n",
              "      <td>91259</td>\n",
              "      <td>82156</td>\n",
              "    </tr>\n",
              "    <tr>\n",
              "      <th>19</th>\n",
              "      <td>Rio de Janeiro</td>\n",
              "      <td>211168</td>\n",
              "      <td>208228</td>\n",
              "      <td>201816</td>\n",
              "      <td>168004</td>\n",
              "      <td>169935</td>\n",
              "      <td>166885</td>\n",
              "      <td>167816</td>\n",
              "      <td>141384</td>\n",
              "      <td>157396</td>\n",
              "      <td>138238</td>\n",
              "      <td>121981</td>\n",
              "      <td>101833</td>\n",
              "      <td>79218</td>\n",
              "      <td>79665</td>\n",
              "      <td>75912</td>\n",
              "      <td>78802</td>\n",
              "    </tr>\n",
              "    <tr>\n",
              "      <th>20</th>\n",
              "      <td>Guanabara</td>\n",
              "      <td>...</td>\n",
              "      <td>...</td>\n",
              "      <td>...</td>\n",
              "      <td>...</td>\n",
              "      <td>...</td>\n",
              "      <td>...</td>\n",
              "      <td>...</td>\n",
              "      <td>...</td>\n",
              "      <td>...</td>\n",
              "      <td>...</td>\n",
              "      <td>...</td>\n",
              "      <td>...</td>\n",
              "      <td>...</td>\n",
              "      <td>...</td>\n",
              "      <td>...</td>\n",
              "      <td>...</td>\n",
              "    </tr>\n",
              "    <tr>\n",
              "      <th>21</th>\n",
              "      <td>São Paulo</td>\n",
              "      <td>5468870</td>\n",
              "      <td>5648446</td>\n",
              "      <td>5838923</td>\n",
              "      <td>5839811</td>\n",
              "      <td>6602359</td>\n",
              "      <td>6702900</td>\n",
              "      <td>6790397</td>\n",
              "      <td>6957714</td>\n",
              "      <td>7045089</td>\n",
              "      <td>7277216</td>\n",
              "      <td>7503691</td>\n",
              "      <td>7670689</td>\n",
              "      <td>7827257</td>\n",
              "      <td>8020736</td>\n",
              "      <td>7856136</td>\n",
              "      <td>8063719</td>\n",
              "    </tr>\n",
              "    <tr>\n",
              "      <th>22</th>\n",
              "      <td>Paraná</td>\n",
              "      <td>9457679</td>\n",
              "      <td>9297592</td>\n",
              "      <td>9054166</td>\n",
              "      <td>9210485</td>\n",
              "      <td>9620395</td>\n",
              "      <td>9894073</td>\n",
              "      <td>9533355</td>\n",
              "      <td>9740331</td>\n",
              "      <td>9857170</td>\n",
              "      <td>10337789</td>\n",
              "      <td>10587901</td>\n",
              "      <td>10494673</td>\n",
              "      <td>10598562</td>\n",
              "      <td>10528044</td>\n",
              "      <td>10357553</td>\n",
              "      <td>10551878</td>\n",
              "    </tr>\n",
              "    <tr>\n",
              "      <th>23</th>\n",
              "      <td>Santa Catarina</td>\n",
              "      <td>1757864</td>\n",
              "      <td>1743302</td>\n",
              "      <td>1714457</td>\n",
              "      <td>1690398</td>\n",
              "      <td>1680007</td>\n",
              "      <td>1652656</td>\n",
              "      <td>1591863</td>\n",
              "      <td>1554786</td>\n",
              "      <td>1490575</td>\n",
              "      <td>1523522</td>\n",
              "      <td>1545746</td>\n",
              "      <td>1517119</td>\n",
              "      <td>1502254</td>\n",
              "      <td>1496322</td>\n",
              "      <td>1439650</td>\n",
              "      <td>1433363</td>\n",
              "    </tr>\n",
              "    <tr>\n",
              "      <th>24</th>\n",
              "      <td>Rio Grande do Sul</td>\n",
              "      <td>8212434</td>\n",
              "      <td>8051809</td>\n",
              "      <td>7783099</td>\n",
              "      <td>7804492</td>\n",
              "      <td>7914625</td>\n",
              "      <td>7893148</td>\n",
              "      <td>7769356</td>\n",
              "      <td>7955427</td>\n",
              "      <td>8091176</td>\n",
              "      <td>8582911</td>\n",
              "      <td>8871226</td>\n",
              "      <td>8794564</td>\n",
              "      <td>8765576</td>\n",
              "      <td>8907020</td>\n",
              "      <td>8909135</td>\n",
              "      <td>9060127</td>\n",
              "    </tr>\n",
              "    <tr>\n",
              "      <th>25</th>\n",
              "      <td>Mato Grosso do Sul</td>\n",
              "      <td>3007135</td>\n",
              "      <td>3115191</td>\n",
              "      <td>3004163</td>\n",
              "      <td>3032633</td>\n",
              "      <td>3237782</td>\n",
              "      <td>3206201</td>\n",
              "      <td>3245163</td>\n",
              "      <td>3496823</td>\n",
              "      <td>3813582</td>\n",
              "      <td>4318120</td>\n",
              "      <td>4551748</td>\n",
              "      <td>4744300</td>\n",
              "      <td>4939289</td>\n",
              "      <td>5273371</td>\n",
              "      <td>5469048</td>\n",
              "      <td>5784337</td>\n",
              "    </tr>\n",
              "    <tr>\n",
              "      <th>26</th>\n",
              "      <td>Mato Grosso</td>\n",
              "      <td>7912796</td>\n",
              "      <td>8976694</td>\n",
              "      <td>8009276</td>\n",
              "      <td>7992055</td>\n",
              "      <td>8830550</td>\n",
              "      <td>8735355</td>\n",
              "      <td>9381244</td>\n",
              "      <td>9884223</td>\n",
              "      <td>11262263</td>\n",
              "      <td>12723490</td>\n",
              "      <td>13542011</td>\n",
              "      <td>14082687</td>\n",
              "      <td>14494519</td>\n",
              "      <td>15570194</td>\n",
              "      <td>15478806</td>\n",
              "      <td>16594186</td>\n",
              "    </tr>\n",
              "    <tr>\n",
              "      <th>27</th>\n",
              "      <td>Goiás</td>\n",
              "      <td>4272494</td>\n",
              "      <td>4291352</td>\n",
              "      <td>4040749</td>\n",
              "      <td>3918065</td>\n",
              "      <td>4187320</td>\n",
              "      <td>4409036</td>\n",
              "      <td>4470306</td>\n",
              "      <td>4889269</td>\n",
              "      <td>5244323</td>\n",
              "      <td>5601980</td>\n",
              "      <td>6100279</td>\n",
              "      <td>6087704</td>\n",
              "      <td>6306761</td>\n",
              "      <td>6399617</td>\n",
              "      <td>6311717</td>\n",
              "      <td>6634818</td>\n",
              "    </tr>\n",
              "    <tr>\n",
              "      <th>28</th>\n",
              "      <td>Distrito Federal</td>\n",
              "      <td>110167</td>\n",
              "      <td>122596</td>\n",
              "      <td>122096</td>\n",
              "      <td>125973</td>\n",
              "      <td>130177</td>\n",
              "      <td>119691</td>\n",
              "      <td>116670</td>\n",
              "      <td>125617</td>\n",
              "      <td>132508</td>\n",
              "      <td>134553</td>\n",
              "      <td>172931</td>\n",
              "      <td>158458</td>\n",
              "      <td>164712</td>\n",
              "      <td>160942</td>\n",
              "      <td>163304</td>\n",
              "      <td>163784</td>\n",
              "    </tr>\n",
              "  </tbody>\n",
              "</table>\n",
              "</div>"
            ],
            "text/plain": [
              "              Local/Ano      2004      2005      2006      2007      2008  \\\n",
              "0                Brasil  56662542  57964209  56069983  55887379  59032241   \n",
              "1              Rondônia    351157    386252    393201    383553    408939   \n",
              "2                  Acre    115864    117634    111638    107877     98425   \n",
              "3              Amazonas    129033    164876    162948    144985    139022   \n",
              "4               Roraima     59853     57923     54698     41908     46133   \n",
              "5                  Pará   1028444   1061815    983007    950688    894926   \n",
              "6                 Amapá     13056     14734     14309     15656     18463   \n",
              "7             Tocantins    541537    687118    596696    583585    646558   \n",
              "8              Maranhão   1520015   1605736   1608870   1620345   1629185   \n",
              "9                 Piauí    920826    991698   1004273   1021277   1015856   \n",
              "10                Ceará   1425409   1271717   1380444   1457146   1516034   \n",
              "11  Rio Grande do Norte    403689    295036    322296    315991    332949   \n",
              "12              Paraíba    624985    541080    588312    541641    602727   \n",
              "13           Pernambuco   1034149   1048113   1049471   1045232   1209084   \n",
              "14              Alagoas    627238    627854    616775    618740    650900   \n",
              "15              Sergipe    267024    261319    314330    295241    301765   \n",
              "16                Bahia   3396708   3535027   3398365   3374656   3413864   \n",
              "17         Minas Gerais   3626812   3676705   3547511   3435778   3574571   \n",
              "18       Espírito Santo    166136    164362    154094    151164    159690   \n",
              "19       Rio de Janeiro    211168    208228    201816    168004    169935   \n",
              "20            Guanabara       ...       ...       ...       ...       ...   \n",
              "21            São Paulo   5468870   5648446   5838923   5839811   6602359   \n",
              "22               Paraná   9457679   9297592   9054166   9210485   9620395   \n",
              "23       Santa Catarina   1757864   1743302   1714457   1690398   1680007   \n",
              "24    Rio Grande do Sul   8212434   8051809   7783099   7804492   7914625   \n",
              "25   Mato Grosso do Sul   3007135   3115191   3004163   3032633   3237782   \n",
              "26          Mato Grosso   7912796   8976694   8009276   7992055   8830550   \n",
              "27                Goiás   4272494   4291352   4040749   3918065   4187320   \n",
              "28     Distrito Federal    110167    122596    122096    125973    130177   \n",
              "\n",
              "        2009      2010      2011      2012      2013      2014      2015  \\\n",
              "0   59431710  59059599  61841033  63030377  66406024  70398423  71028134   \n",
              "1     436766    455482    546051    476280    447793    465183    505753   \n",
              "2      84700    114815    121043    135180    118489    110554    103290   \n",
              "3     140167    135465    146031    145647    135550    113173    100318   \n",
              "4      34833     34890     42135     43508     49804     47814     50600   \n",
              "5     859286    793733    795974    818833    888463    953116   1015293   \n",
              "6      20498     22341     22076     20925     24280     39384     30878   \n",
              "7     612324    664195    705878    730965    834257   1034697   1199494   \n",
              "8    1588862   1729552   1751843   1795760   1845490   1975258   1802598   \n",
              "9    1091208   1085916   1211926   1242537   1367561   1443676   1468590   \n",
              "10   1565997   1249534   1561076   1207133    835020   1012060   1013029   \n",
              "11    333071    188923    264702    174029    179007    198677    185483   \n",
              "12    596949    387000    520883    315695    269807    332744    290582   \n",
              "13   1103305   1008027   1048136    916379    501357    803733    762022   \n",
              "14    626470    588088    574959    510664    553345    541293    432672   \n",
              "15    311368    326608    304590    271294    279791    284818    282686   \n",
              "16   3410816   3356322   3520869   3042539   3173428   3584274   3710681   \n",
              "17   3673694   3707924   3809903   3947905   4130827   4329431   4297197   \n",
              "18    161451    144614    147384    141022    133936    131024    124941   \n",
              "19    166885    167816    141384    157396    138238    121981    101833   \n",
              "20       ...       ...       ...       ...       ...       ...       ...   \n",
              "21   6702900   6790397   6957714   7045089   7277216   7503691   7670689   \n",
              "22   9894073   9533355   9740331   9857170  10337789  10587901  10494673   \n",
              "23   1652656   1591863   1554786   1490575   1523522   1545746   1517119   \n",
              "24   7893148   7769356   7955427   8091176   8582911   8871226   8794564   \n",
              "25   3206201   3245163   3496823   3813582   4318120   4551748   4744300   \n",
              "26   8735355   9381244   9884223  11262263  12723490  13542011  14082687   \n",
              "27   4409036   4470306   4889269   5244323   5601980   6100279   6087704   \n",
              "28    119691    116670    125617    132508    134553    172931    158458   \n",
              "\n",
              "        2016      2017      2018      2019  \n",
              "0   71432966  73644898  73274337  75898382  \n",
              "1     512621    585246    571287    657037  \n",
              "2      94552     87101     72431     69230  \n",
              "3     101189    103168     96226     99489  \n",
              "4      52194     47578     66490     71665  \n",
              "5    1067313   1198721   1157851   1230181  \n",
              "6      34078     38863     34238     34800  \n",
              "7    1227972   1278462   1348373   1413461  \n",
              "8    1571680   1783013   1796133   1701124  \n",
              "9    1407874   1550591   1571380   1565546  \n",
              "10    961666   1109673   1106614   1011001  \n",
              "11    172881    188138    226824    242322  \n",
              "12    327362    310676    344695    325567  \n",
              "13    785004    723642    705898    657034  \n",
              "14    418072    471067    403323    442404  \n",
              "15    274342    260207    213475    212001  \n",
              "16   3275959   3133149   3199951   3216103  \n",
              "17   4363801   4251179   4206628   4502247  \n",
              "18    106258     88513     91259     82156  \n",
              "19     79218     79665     75912     78802  \n",
              "20       ...       ...       ...       ...  \n",
              "21   7827257   8020736   7856136   8063719  \n",
              "22  10598562  10528044  10357553  10551878  \n",
              "23   1502254   1496322   1439650   1433363  \n",
              "24   8765576   8907020   8909135   9060127  \n",
              "25   4939289   5273371   5469048   5784337  \n",
              "26  14494519  15570194  15478806  16594186  \n",
              "27   6306761   6399617   6311717   6634818  \n",
              "28    164712    160942    163304    163784  "
            ]
          },
          "execution_count": 7,
          "metadata": {},
          "output_type": "execute_result"
        }
      ],
      "source": [
        "df_agro = pd.read_csv(\"https://raw.githubusercontent.com/MatheusRobles/Projeto_Pandas/main/Tabela_IBGE_SIDRA_AGRO_plantacao_por_hec.csv\")\n",
        "df_agro"
      ]
    },
    {
      "cell_type": "code",
      "execution_count": 8,
      "metadata": {
        "colab": {
          "base_uri": "https://localhost:8080/",
          "height": 1000
        },
        "id": "TKslyeO7Fntw",
        "outputId": "bf1b8212-4d96-46dd-9786-218143b18d7c"
      },
      "outputs": [
        {
          "data": {
            "text/html": [
              "<div>\n",
              "<style scoped>\n",
              "    .dataframe tbody tr th:only-of-type {\n",
              "        vertical-align: middle;\n",
              "    }\n",
              "\n",
              "    .dataframe tbody tr th {\n",
              "        vertical-align: top;\n",
              "    }\n",
              "\n",
              "    .dataframe thead th {\n",
              "        text-align: right;\n",
              "    }\n",
              "</style>\n",
              "<table border=\"1\" class=\"dataframe\">\n",
              "  <thead>\n",
              "    <tr style=\"text-align: right;\">\n",
              "      <th></th>\n",
              "      <th>Local/Ano</th>\n",
              "      <th>2004</th>\n",
              "      <th>2005</th>\n",
              "      <th>2006</th>\n",
              "      <th>2007</th>\n",
              "      <th>2008</th>\n",
              "      <th>2009</th>\n",
              "      <th>2010</th>\n",
              "      <th>2011</th>\n",
              "      <th>2012</th>\n",
              "      <th>2013</th>\n",
              "      <th>2014</th>\n",
              "      <th>2015</th>\n",
              "      <th>2016</th>\n",
              "      <th>2017</th>\n",
              "      <th>2018</th>\n",
              "      <th>2019</th>\n",
              "    </tr>\n",
              "  </thead>\n",
              "  <tbody>\n",
              "    <tr>\n",
              "      <th>0</th>\n",
              "      <td>Brasil</td>\n",
              "      <td>204512737</td>\n",
              "      <td>207156696</td>\n",
              "      <td>205886244</td>\n",
              "      <td>199752014</td>\n",
              "      <td>202306731</td>\n",
              "      <td>205307954</td>\n",
              "      <td>209541109</td>\n",
              "      <td>212815311</td>\n",
              "      <td>211279082</td>\n",
              "      <td>211764292</td>\n",
              "      <td>212366132</td>\n",
              "      <td>215220508</td>\n",
              "      <td>218190768</td>\n",
              "      <td>215003578</td>\n",
              "      <td>213809445</td>\n",
              "      <td>214689984</td>\n",
              "    </tr>\n",
              "    <tr>\n",
              "      <th>1</th>\n",
              "      <td>Rondônia</td>\n",
              "      <td>10671440</td>\n",
              "      <td>11349452</td>\n",
              "      <td>11484162</td>\n",
              "      <td>11007613</td>\n",
              "      <td>11176201</td>\n",
              "      <td>11532891</td>\n",
              "      <td>11842073</td>\n",
              "      <td>12182259</td>\n",
              "      <td>12218437</td>\n",
              "      <td>12329971</td>\n",
              "      <td>12744326</td>\n",
              "      <td>13397970</td>\n",
              "      <td>13682200</td>\n",
              "      <td>14091378</td>\n",
              "      <td>14367161</td>\n",
              "      <td>14349219</td>\n",
              "    </tr>\n",
              "    <tr>\n",
              "      <th>2</th>\n",
              "      <td>Acre</td>\n",
              "      <td>2062690</td>\n",
              "      <td>2313185</td>\n",
              "      <td>2452915</td>\n",
              "      <td>2315798</td>\n",
              "      <td>2425687</td>\n",
              "      <td>2511285</td>\n",
              "      <td>2578460</td>\n",
              "      <td>2549497</td>\n",
              "      <td>2634467</td>\n",
              "      <td>2697489</td>\n",
              "      <td>2799673</td>\n",
              "      <td>2916207</td>\n",
              "      <td>2998969</td>\n",
              "      <td>2895028</td>\n",
              "      <td>3303633</td>\n",
              "      <td>3509682</td>\n",
              "    </tr>\n",
              "    <tr>\n",
              "      <th>3</th>\n",
              "      <td>Amazonas</td>\n",
              "      <td>1156723</td>\n",
              "      <td>1197171</td>\n",
              "      <td>1243358</td>\n",
              "      <td>1208652</td>\n",
              "      <td>1312352</td>\n",
              "      <td>1350816</td>\n",
              "      <td>1360800</td>\n",
              "      <td>1439597</td>\n",
              "      <td>1445739</td>\n",
              "      <td>1470537</td>\n",
              "      <td>1405208</td>\n",
              "      <td>1293325</td>\n",
              "      <td>1315821</td>\n",
              "      <td>1343574</td>\n",
              "      <td>1376210</td>\n",
              "      <td>1455842</td>\n",
              "    </tr>\n",
              "    <tr>\n",
              "      <th>4</th>\n",
              "      <td>Roraima</td>\n",
              "      <td>459000</td>\n",
              "      <td>507000</td>\n",
              "      <td>508600</td>\n",
              "      <td>481100</td>\n",
              "      <td>476200</td>\n",
              "      <td>475380</td>\n",
              "      <td>577050</td>\n",
              "      <td>651511</td>\n",
              "      <td>686491</td>\n",
              "      <td>747045</td>\n",
              "      <td>735962</td>\n",
              "      <td>794783</td>\n",
              "      <td>780877</td>\n",
              "      <td>787318</td>\n",
              "      <td>817198</td>\n",
              "      <td>879007</td>\n",
              "    </tr>\n",
              "    <tr>\n",
              "      <th>5</th>\n",
              "      <td>Pará</td>\n",
              "      <td>17430496</td>\n",
              "      <td>18063669</td>\n",
              "      <td>17501678</td>\n",
              "      <td>15353989</td>\n",
              "      <td>16240697</td>\n",
              "      <td>16856561</td>\n",
              "      <td>17633339</td>\n",
              "      <td>18262547</td>\n",
              "      <td>18605051</td>\n",
              "      <td>19165028</td>\n",
              "      <td>19911217</td>\n",
              "      <td>20271618</td>\n",
              "      <td>20476783</td>\n",
              "      <td>20585367</td>\n",
              "      <td>20628651</td>\n",
              "      <td>20953429</td>\n",
              "    </tr>\n",
              "    <tr>\n",
              "      <th>6</th>\n",
              "      <td>Amapá</td>\n",
              "      <td>82243</td>\n",
              "      <td>96599</td>\n",
              "      <td>109081</td>\n",
              "      <td>103170</td>\n",
              "      <td>95803</td>\n",
              "      <td>104977</td>\n",
              "      <td>114773</td>\n",
              "      <td>127499</td>\n",
              "      <td>142825</td>\n",
              "      <td>154967</td>\n",
              "      <td>167529</td>\n",
              "      <td>89682</td>\n",
              "      <td>76379</td>\n",
              "      <td>66921</td>\n",
              "      <td>55422</td>\n",
              "      <td>54296</td>\n",
              "    </tr>\n",
              "    <tr>\n",
              "      <th>7</th>\n",
              "      <td>Tocantins</td>\n",
              "      <td>7924546</td>\n",
              "      <td>7961926</td>\n",
              "      <td>7760590</td>\n",
              "      <td>7395450</td>\n",
              "      <td>7392515</td>\n",
              "      <td>7605249</td>\n",
              "      <td>7994200</td>\n",
              "      <td>8025400</td>\n",
              "      <td>8082336</td>\n",
              "      <td>8140580</td>\n",
              "      <td>8062227</td>\n",
              "      <td>8412404</td>\n",
              "      <td>8652161</td>\n",
              "      <td>8738477</td>\n",
              "      <td>8352513</td>\n",
              "      <td>8480724</td>\n",
              "    </tr>\n",
              "    <tr>\n",
              "      <th>8</th>\n",
              "      <td>Maranhão</td>\n",
              "      <td>5928131</td>\n",
              "      <td>6448948</td>\n",
              "      <td>6613270</td>\n",
              "      <td>6609438</td>\n",
              "      <td>6816338</td>\n",
              "      <td>6885265</td>\n",
              "      <td>6979844</td>\n",
              "      <td>7264106</td>\n",
              "      <td>7490942</td>\n",
              "      <td>7611324</td>\n",
              "      <td>7758352</td>\n",
              "      <td>7643128</td>\n",
              "      <td>7653870</td>\n",
              "      <td>7687695</td>\n",
              "      <td>7793180</td>\n",
              "      <td>8008643</td>\n",
              "    </tr>\n",
              "    <tr>\n",
              "      <th>9</th>\n",
              "      <td>Piauí</td>\n",
              "      <td>1830613</td>\n",
              "      <td>1826833</td>\n",
              "      <td>1838378</td>\n",
              "      <td>1736520</td>\n",
              "      <td>1750910</td>\n",
              "      <td>1682111</td>\n",
              "      <td>1679957</td>\n",
              "      <td>1688024</td>\n",
              "      <td>1689926</td>\n",
              "      <td>1666107</td>\n",
              "      <td>1660099</td>\n",
              "      <td>1649549</td>\n",
              "      <td>1639856</td>\n",
              "      <td>1625006</td>\n",
              "      <td>1464196</td>\n",
              "      <td>1447817</td>\n",
              "    </tr>\n",
              "    <tr>\n",
              "      <th>10</th>\n",
              "      <td>Ceará</td>\n",
              "      <td>2269567</td>\n",
              "      <td>2299233</td>\n",
              "      <td>2352589</td>\n",
              "      <td>2424290</td>\n",
              "      <td>2460523</td>\n",
              "      <td>2494482</td>\n",
              "      <td>2546134</td>\n",
              "      <td>2614604</td>\n",
              "      <td>2714713</td>\n",
              "      <td>2591067</td>\n",
              "      <td>2597139</td>\n",
              "      <td>2516197</td>\n",
              "      <td>2426408</td>\n",
              "      <td>2287400</td>\n",
              "      <td>2403371</td>\n",
              "      <td>2479289</td>\n",
              "    </tr>\n",
              "    <tr>\n",
              "      <th>11</th>\n",
              "      <td>Rio Grande do Norte</td>\n",
              "      <td>942670</td>\n",
              "      <td>978494</td>\n",
              "      <td>1027289</td>\n",
              "      <td>1010238</td>\n",
              "      <td>1029240</td>\n",
              "      <td>1150028</td>\n",
              "      <td>1064575</td>\n",
              "      <td>1047797</td>\n",
              "      <td>858211</td>\n",
              "      <td>914777</td>\n",
              "      <td>972816</td>\n",
              "      <td>918952</td>\n",
              "      <td>840847</td>\n",
              "      <td>870000</td>\n",
              "      <td>863284</td>\n",
              "      <td>929451</td>\n",
              "    </tr>\n",
              "    <tr>\n",
              "      <th>12</th>\n",
              "      <td>Paraíba</td>\n",
              "      <td>1000199</td>\n",
              "      <td>1052613</td>\n",
              "      <td>1092792</td>\n",
              "      <td>1139322</td>\n",
              "      <td>1202363</td>\n",
              "      <td>1236276</td>\n",
              "      <td>1242579</td>\n",
              "      <td>1354268</td>\n",
              "      <td>967067</td>\n",
              "      <td>1048824</td>\n",
              "      <td>1145943</td>\n",
              "      <td>1170803</td>\n",
              "      <td>1187981</td>\n",
              "      <td>1202781</td>\n",
              "      <td>1240004</td>\n",
              "      <td>1293769</td>\n",
              "    </tr>\n",
              "    <tr>\n",
              "      <th>13</th>\n",
              "      <td>Pernambuco</td>\n",
              "      <td>1705401</td>\n",
              "      <td>1909468</td>\n",
              "      <td>2095184</td>\n",
              "      <td>2219892</td>\n",
              "      <td>2249788</td>\n",
              "      <td>2297366</td>\n",
              "      <td>2383268</td>\n",
              "      <td>2502156</td>\n",
              "      <td>1895642</td>\n",
              "      <td>1823230</td>\n",
              "      <td>1920075</td>\n",
              "      <td>1948357</td>\n",
              "      <td>1895185</td>\n",
              "      <td>1804876</td>\n",
              "      <td>1862181</td>\n",
              "      <td>1937165</td>\n",
              "    </tr>\n",
              "    <tr>\n",
              "      <th>14</th>\n",
              "      <td>Alagoas</td>\n",
              "      <td>893922</td>\n",
              "      <td>985422</td>\n",
              "      <td>1029352</td>\n",
              "      <td>1112125</td>\n",
              "      <td>1162005</td>\n",
              "      <td>1193021</td>\n",
              "      <td>1219578</td>\n",
              "      <td>1268304</td>\n",
              "      <td>1221266</td>\n",
              "      <td>1251723</td>\n",
              "      <td>1253121</td>\n",
              "      <td>1255696</td>\n",
              "      <td>1189985</td>\n",
              "      <td>1208404</td>\n",
              "      <td>1247619</td>\n",
              "      <td>1233394</td>\n",
              "    </tr>\n",
              "    <tr>\n",
              "      <th>15</th>\n",
              "      <td>Sergipe</td>\n",
              "      <td>929794</td>\n",
              "      <td>1005177</td>\n",
              "      <td>1067508</td>\n",
              "      <td>1073692</td>\n",
              "      <td>1080833</td>\n",
              "      <td>1120832</td>\n",
              "      <td>1117765</td>\n",
              "      <td>1178771</td>\n",
              "      <td>1156157</td>\n",
              "      <td>1223215</td>\n",
              "      <td>1218972</td>\n",
              "      <td>1231130</td>\n",
              "      <td>1196248</td>\n",
              "      <td>1067121</td>\n",
              "      <td>1039346</td>\n",
              "      <td>1052263</td>\n",
              "    </tr>\n",
              "    <tr>\n",
              "      <th>16</th>\n",
              "      <td>Bahia</td>\n",
              "      <td>10466163</td>\n",
              "      <td>10463098</td>\n",
              "      <td>10764857</td>\n",
              "      <td>11385723</td>\n",
              "      <td>11099880</td>\n",
              "      <td>10230469</td>\n",
              "      <td>10528419</td>\n",
              "      <td>10667903</td>\n",
              "      <td>10250975</td>\n",
              "      <td>10828409</td>\n",
              "      <td>10824134</td>\n",
              "      <td>10758372</td>\n",
              "      <td>10363291</td>\n",
              "      <td>10037814</td>\n",
              "      <td>9923931</td>\n",
              "      <td>10214863</td>\n",
              "    </tr>\n",
              "    <tr>\n",
              "      <th>17</th>\n",
              "      <td>Minas Gerais</td>\n",
              "      <td>21622779</td>\n",
              "      <td>21403680</td>\n",
              "      <td>22203154</td>\n",
              "      <td>22575194</td>\n",
              "      <td>22369639</td>\n",
              "      <td>22469791</td>\n",
              "      <td>22698120</td>\n",
              "      <td>23907915</td>\n",
              "      <td>23965914</td>\n",
              "      <td>24201256</td>\n",
              "      <td>23707042</td>\n",
              "      <td>23768959</td>\n",
              "      <td>23637803</td>\n",
              "      <td>21971713</td>\n",
              "      <td>21810311</td>\n",
              "      <td>22020979</td>\n",
              "    </tr>\n",
              "    <tr>\n",
              "      <th>18</th>\n",
              "      <td>Espírito Santo</td>\n",
              "      <td>1925596</td>\n",
              "      <td>2026690</td>\n",
              "      <td>2119309</td>\n",
              "      <td>2142342</td>\n",
              "      <td>2120017</td>\n",
              "      <td>2187235</td>\n",
              "      <td>2195406</td>\n",
              "      <td>2223262</td>\n",
              "      <td>2285345</td>\n",
              "      <td>2313445</td>\n",
              "      <td>2295624</td>\n",
              "      <td>2223531</td>\n",
              "      <td>2044771</td>\n",
              "      <td>1937604</td>\n",
              "      <td>1976903</td>\n",
              "      <td>2006027</td>\n",
              "    </tr>\n",
              "    <tr>\n",
              "      <th>19</th>\n",
              "      <td>Rio de Janeiro</td>\n",
              "      <td>2064763</td>\n",
              "      <td>2092748</td>\n",
              "      <td>2095666</td>\n",
              "      <td>2078529</td>\n",
              "      <td>2144882</td>\n",
              "      <td>2162043</td>\n",
              "      <td>2160727</td>\n",
              "      <td>2179671</td>\n",
              "      <td>2197615</td>\n",
              "      <td>2339978</td>\n",
              "      <td>2379648</td>\n",
              "      <td>2351451</td>\n",
              "      <td>2409718</td>\n",
              "      <td>2531239</td>\n",
              "      <td>2552587</td>\n",
              "      <td>2533164</td>\n",
              "    </tr>\n",
              "    <tr>\n",
              "      <th>20</th>\n",
              "      <td>Guanabara</td>\n",
              "      <td>...</td>\n",
              "      <td>...</td>\n",
              "      <td>...</td>\n",
              "      <td>...</td>\n",
              "      <td>...</td>\n",
              "      <td>...</td>\n",
              "      <td>...</td>\n",
              "      <td>...</td>\n",
              "      <td>...</td>\n",
              "      <td>...</td>\n",
              "      <td>...</td>\n",
              "      <td>...</td>\n",
              "      <td>...</td>\n",
              "      <td>...</td>\n",
              "      <td>...</td>\n",
              "      <td>...</td>\n",
              "    </tr>\n",
              "    <tr>\n",
              "      <th>21</th>\n",
              "      <td>São Paulo</td>\n",
              "      <td>13765873</td>\n",
              "      <td>13420780</td>\n",
              "      <td>12790383</td>\n",
              "      <td>11790564</td>\n",
              "      <td>11185556</td>\n",
              "      <td>11197605</td>\n",
              "      <td>11197697</td>\n",
              "      <td>11024796</td>\n",
              "      <td>10757383</td>\n",
              "      <td>10486750</td>\n",
              "      <td>10148423</td>\n",
              "      <td>10468135</td>\n",
              "      <td>11031408</td>\n",
              "      <td>11109523</td>\n",
              "      <td>10771635</td>\n",
              "      <td>10487012</td>\n",
              "    </tr>\n",
              "    <tr>\n",
              "      <th>22</th>\n",
              "      <td>Paraná</td>\n",
              "      <td>10278148</td>\n",
              "      <td>10153375</td>\n",
              "      <td>9764545</td>\n",
              "      <td>9494843</td>\n",
              "      <td>9585600</td>\n",
              "      <td>9562113</td>\n",
              "      <td>9411380</td>\n",
              "      <td>9475676</td>\n",
              "      <td>9413937</td>\n",
              "      <td>9395313</td>\n",
              "      <td>9181577</td>\n",
              "      <td>9314908</td>\n",
              "      <td>9487999</td>\n",
              "      <td>9370139</td>\n",
              "      <td>9275271</td>\n",
              "      <td>8972546</td>\n",
              "    </tr>\n",
              "    <tr>\n",
              "      <th>23</th>\n",
              "      <td>Santa Catarina</td>\n",
              "      <td>3263414</td>\n",
              "      <td>3376725</td>\n",
              "      <td>3460835</td>\n",
              "      <td>3488992</td>\n",
              "      <td>3884264</td>\n",
              "      <td>3976165</td>\n",
              "      <td>3985662</td>\n",
              "      <td>4039217</td>\n",
              "      <td>4072960</td>\n",
              "      <td>4201561</td>\n",
              "      <td>4285931</td>\n",
              "      <td>4382299</td>\n",
              "      <td>4499505</td>\n",
              "      <td>4302861</td>\n",
              "      <td>4296052</td>\n",
              "      <td>4452571</td>\n",
              "    </tr>\n",
              "    <tr>\n",
              "      <th>24</th>\n",
              "      <td>Rio Grande do Sul</td>\n",
              "      <td>14669713</td>\n",
              "      <td>14239906</td>\n",
              "      <td>13974827</td>\n",
              "      <td>13516426</td>\n",
              "      <td>14115643</td>\n",
              "      <td>14366298</td>\n",
              "      <td>14469307</td>\n",
              "      <td>14478312</td>\n",
              "      <td>14140654</td>\n",
              "      <td>14037367</td>\n",
              "      <td>13956953</td>\n",
              "      <td>13737316</td>\n",
              "      <td>13590282</td>\n",
              "      <td>13353122</td>\n",
              "      <td>12550379</td>\n",
              "      <td>11968216</td>\n",
              "    </tr>\n",
              "    <tr>\n",
              "      <th>25</th>\n",
              "      <td>Mato Grosso do Sul</td>\n",
              "      <td>24715372</td>\n",
              "      <td>24504098</td>\n",
              "      <td>23726290</td>\n",
              "      <td>21832001</td>\n",
              "      <td>22365219</td>\n",
              "      <td>22325663</td>\n",
              "      <td>22354077</td>\n",
              "      <td>21553851</td>\n",
              "      <td>21498382</td>\n",
              "      <td>21047274</td>\n",
              "      <td>21003830</td>\n",
              "      <td>21357398</td>\n",
              "      <td>21800990</td>\n",
              "      <td>21474693</td>\n",
              "      <td>20896700</td>\n",
              "      <td>19407908</td>\n",
              "    </tr>\n",
              "    <tr>\n",
              "      <th>26</th>\n",
              "      <td>Mato Grosso</td>\n",
              "      <td>25918998</td>\n",
              "      <td>26651500</td>\n",
              "      <td>26064332</td>\n",
              "      <td>25683031</td>\n",
              "      <td>26018216</td>\n",
              "      <td>27357089</td>\n",
              "      <td>28757438</td>\n",
              "      <td>29265718</td>\n",
              "      <td>28740802</td>\n",
              "      <td>28395205</td>\n",
              "      <td>28592183</td>\n",
              "      <td>29364042</td>\n",
              "      <td>30296096</td>\n",
              "      <td>29725378</td>\n",
              "      <td>30199598</td>\n",
              "      <td>31654882</td>\n",
              "    </tr>\n",
              "    <tr>\n",
              "      <th>27</th>\n",
              "      <td>Goiás</td>\n",
              "      <td>20419803</td>\n",
              "      <td>20726586</td>\n",
              "      <td>20646560</td>\n",
              "      <td>20471490</td>\n",
              "      <td>20466360</td>\n",
              "      <td>20874943</td>\n",
              "      <td>21347881</td>\n",
              "      <td>21744650</td>\n",
              "      <td>22045776</td>\n",
              "      <td>21580398</td>\n",
              "      <td>21538072</td>\n",
              "      <td>21887720</td>\n",
              "      <td>22919070</td>\n",
              "      <td>22835005</td>\n",
              "      <td>22651910</td>\n",
              "      <td>22823401</td>\n",
              "    </tr>\n",
              "    <tr>\n",
              "      <th>28</th>\n",
              "      <td>Distrito Federal</td>\n",
              "      <td>114680</td>\n",
              "      <td>102320</td>\n",
              "      <td>98740</td>\n",
              "      <td>101590</td>\n",
              "      <td>80000</td>\n",
              "      <td>102000</td>\n",
              "      <td>100600</td>\n",
              "      <td>98000</td>\n",
              "      <td>100069</td>\n",
              "      <td>101452</td>\n",
              "      <td>100056</td>\n",
              "      <td>96576</td>\n",
              "      <td>96265</td>\n",
              "      <td>93141</td>\n",
              "      <td>90199</td>\n",
              "      <td>84425</td>\n",
              "    </tr>\n",
              "  </tbody>\n",
              "</table>\n",
              "</div>"
            ],
            "text/plain": [
              "              Local/Ano       2004       2005       2006       2007  \\\n",
              "0                Brasil  204512737  207156696  205886244  199752014   \n",
              "1              Rondônia   10671440   11349452   11484162   11007613   \n",
              "2                  Acre    2062690    2313185    2452915    2315798   \n",
              "3              Amazonas    1156723    1197171    1243358    1208652   \n",
              "4               Roraima     459000     507000     508600     481100   \n",
              "5                  Pará   17430496   18063669   17501678   15353989   \n",
              "6                 Amapá      82243      96599     109081     103170   \n",
              "7             Tocantins    7924546    7961926    7760590    7395450   \n",
              "8              Maranhão    5928131    6448948    6613270    6609438   \n",
              "9                 Piauí    1830613    1826833    1838378    1736520   \n",
              "10                Ceará    2269567    2299233    2352589    2424290   \n",
              "11  Rio Grande do Norte     942670     978494    1027289    1010238   \n",
              "12              Paraíba    1000199    1052613    1092792    1139322   \n",
              "13           Pernambuco    1705401    1909468    2095184    2219892   \n",
              "14              Alagoas     893922     985422    1029352    1112125   \n",
              "15              Sergipe     929794    1005177    1067508    1073692   \n",
              "16                Bahia   10466163   10463098   10764857   11385723   \n",
              "17         Minas Gerais   21622779   21403680   22203154   22575194   \n",
              "18       Espírito Santo    1925596    2026690    2119309    2142342   \n",
              "19       Rio de Janeiro    2064763    2092748    2095666    2078529   \n",
              "20            Guanabara        ...        ...        ...        ...   \n",
              "21            São Paulo   13765873   13420780   12790383   11790564   \n",
              "22               Paraná   10278148   10153375    9764545    9494843   \n",
              "23       Santa Catarina    3263414    3376725    3460835    3488992   \n",
              "24    Rio Grande do Sul   14669713   14239906   13974827   13516426   \n",
              "25   Mato Grosso do Sul   24715372   24504098   23726290   21832001   \n",
              "26          Mato Grosso   25918998   26651500   26064332   25683031   \n",
              "27                Goiás   20419803   20726586   20646560   20471490   \n",
              "28     Distrito Federal     114680     102320      98740     101590   \n",
              "\n",
              "         2008       2009       2010       2011       2012       2013  \\\n",
              "0   202306731  205307954  209541109  212815311  211279082  211764292   \n",
              "1    11176201   11532891   11842073   12182259   12218437   12329971   \n",
              "2     2425687    2511285    2578460    2549497    2634467    2697489   \n",
              "3     1312352    1350816    1360800    1439597    1445739    1470537   \n",
              "4      476200     475380     577050     651511     686491     747045   \n",
              "5    16240697   16856561   17633339   18262547   18605051   19165028   \n",
              "6       95803     104977     114773     127499     142825     154967   \n",
              "7     7392515    7605249    7994200    8025400    8082336    8140580   \n",
              "8     6816338    6885265    6979844    7264106    7490942    7611324   \n",
              "9     1750910    1682111    1679957    1688024    1689926    1666107   \n",
              "10    2460523    2494482    2546134    2614604    2714713    2591067   \n",
              "11    1029240    1150028    1064575    1047797     858211     914777   \n",
              "12    1202363    1236276    1242579    1354268     967067    1048824   \n",
              "13    2249788    2297366    2383268    2502156    1895642    1823230   \n",
              "14    1162005    1193021    1219578    1268304    1221266    1251723   \n",
              "15    1080833    1120832    1117765    1178771    1156157    1223215   \n",
              "16   11099880   10230469   10528419   10667903   10250975   10828409   \n",
              "17   22369639   22469791   22698120   23907915   23965914   24201256   \n",
              "18    2120017    2187235    2195406    2223262    2285345    2313445   \n",
              "19    2144882    2162043    2160727    2179671    2197615    2339978   \n",
              "20        ...        ...        ...        ...        ...        ...   \n",
              "21   11185556   11197605   11197697   11024796   10757383   10486750   \n",
              "22    9585600    9562113    9411380    9475676    9413937    9395313   \n",
              "23    3884264    3976165    3985662    4039217    4072960    4201561   \n",
              "24   14115643   14366298   14469307   14478312   14140654   14037367   \n",
              "25   22365219   22325663   22354077   21553851   21498382   21047274   \n",
              "26   26018216   27357089   28757438   29265718   28740802   28395205   \n",
              "27   20466360   20874943   21347881   21744650   22045776   21580398   \n",
              "28      80000     102000     100600      98000     100069     101452   \n",
              "\n",
              "         2014       2015       2016       2017       2018       2019  \n",
              "0   212366132  215220508  218190768  215003578  213809445  214689984  \n",
              "1    12744326   13397970   13682200   14091378   14367161   14349219  \n",
              "2     2799673    2916207    2998969    2895028    3303633    3509682  \n",
              "3     1405208    1293325    1315821    1343574    1376210    1455842  \n",
              "4      735962     794783     780877     787318     817198     879007  \n",
              "5    19911217   20271618   20476783   20585367   20628651   20953429  \n",
              "6      167529      89682      76379      66921      55422      54296  \n",
              "7     8062227    8412404    8652161    8738477    8352513    8480724  \n",
              "8     7758352    7643128    7653870    7687695    7793180    8008643  \n",
              "9     1660099    1649549    1639856    1625006    1464196    1447817  \n",
              "10    2597139    2516197    2426408    2287400    2403371    2479289  \n",
              "11     972816     918952     840847     870000     863284     929451  \n",
              "12    1145943    1170803    1187981    1202781    1240004    1293769  \n",
              "13    1920075    1948357    1895185    1804876    1862181    1937165  \n",
              "14    1253121    1255696    1189985    1208404    1247619    1233394  \n",
              "15    1218972    1231130    1196248    1067121    1039346    1052263  \n",
              "16   10824134   10758372   10363291   10037814    9923931   10214863  \n",
              "17   23707042   23768959   23637803   21971713   21810311   22020979  \n",
              "18    2295624    2223531    2044771    1937604    1976903    2006027  \n",
              "19    2379648    2351451    2409718    2531239    2552587    2533164  \n",
              "20        ...        ...        ...        ...        ...        ...  \n",
              "21   10148423   10468135   11031408   11109523   10771635   10487012  \n",
              "22    9181577    9314908    9487999    9370139    9275271    8972546  \n",
              "23    4285931    4382299    4499505    4302861    4296052    4452571  \n",
              "24   13956953   13737316   13590282   13353122   12550379   11968216  \n",
              "25   21003830   21357398   21800990   21474693   20896700   19407908  \n",
              "26   28592183   29364042   30296096   29725378   30199598   31654882  \n",
              "27   21538072   21887720   22919070   22835005   22651910   22823401  \n",
              "28     100056      96576      96265      93141      90199      84425  "
            ]
          },
          "execution_count": 8,
          "metadata": {},
          "output_type": "execute_result"
        }
      ],
      "source": [
        "df_pecuaria = pd.read_csv(\"https://raw.githubusercontent.com/MatheusRobles/Projeto_Pandas/main/Tabela_IBGE_SIDRA_PECUARIA_efetivo_dos_rebanhos_bovinhos.csv\")\n",
        "df_pecuaria"
      ]
    },
    {
      "cell_type": "code",
      "execution_count": 9,
      "metadata": {
        "colab": {
          "base_uri": "https://localhost:8080/",
          "height": 413
        },
        "id": "1o2wvpzm9uHN",
        "outputId": "44063853-ebf0-40d1-8bf8-d6b6b42ab6d1"
      },
      "outputs": [
        {
          "data": {
            "text/html": [
              "<div>\n",
              "<style scoped>\n",
              "    .dataframe tbody tr th:only-of-type {\n",
              "        vertical-align: middle;\n",
              "    }\n",
              "\n",
              "    .dataframe tbody tr th {\n",
              "        vertical-align: top;\n",
              "    }\n",
              "\n",
              "    .dataframe thead th {\n",
              "        text-align: right;\n",
              "    }\n",
              "</style>\n",
              "<table border=\"1\" class=\"dataframe\">\n",
              "  <thead>\n",
              "    <tr style=\"text-align: right;\">\n",
              "      <th></th>\n",
              "      <th>Local/Ano</th>\n",
              "      <th>2004</th>\n",
              "      <th>2005</th>\n",
              "      <th>2006</th>\n",
              "      <th>2007</th>\n",
              "      <th>2008</th>\n",
              "      <th>2009</th>\n",
              "      <th>2010</th>\n",
              "      <th>2011</th>\n",
              "      <th>2012</th>\n",
              "      <th>2013</th>\n",
              "      <th>2014</th>\n",
              "      <th>2015</th>\n",
              "      <th>2016</th>\n",
              "      <th>2017</th>\n",
              "      <th>2018</th>\n",
              "      <th>2019</th>\n",
              "    </tr>\n",
              "  </thead>\n",
              "  <tbody>\n",
              "    <tr>\n",
              "      <th>1</th>\n",
              "      <td>Rondônia</td>\n",
              "      <td>351157</td>\n",
              "      <td>386252</td>\n",
              "      <td>393201</td>\n",
              "      <td>383553</td>\n",
              "      <td>408939</td>\n",
              "      <td>436766</td>\n",
              "      <td>455482</td>\n",
              "      <td>546051</td>\n",
              "      <td>476280</td>\n",
              "      <td>447793</td>\n",
              "      <td>465183</td>\n",
              "      <td>505753</td>\n",
              "      <td>512621</td>\n",
              "      <td>585246</td>\n",
              "      <td>571287</td>\n",
              "      <td>657037</td>\n",
              "    </tr>\n",
              "    <tr>\n",
              "      <th>2</th>\n",
              "      <td>Acre</td>\n",
              "      <td>115864</td>\n",
              "      <td>117634</td>\n",
              "      <td>111638</td>\n",
              "      <td>107877</td>\n",
              "      <td>98425</td>\n",
              "      <td>84700</td>\n",
              "      <td>114815</td>\n",
              "      <td>121043</td>\n",
              "      <td>135180</td>\n",
              "      <td>118489</td>\n",
              "      <td>110554</td>\n",
              "      <td>103290</td>\n",
              "      <td>94552</td>\n",
              "      <td>87101</td>\n",
              "      <td>72431</td>\n",
              "      <td>69230</td>\n",
              "    </tr>\n",
              "    <tr>\n",
              "      <th>3</th>\n",
              "      <td>Amazonas</td>\n",
              "      <td>129033</td>\n",
              "      <td>164876</td>\n",
              "      <td>162948</td>\n",
              "      <td>144985</td>\n",
              "      <td>139022</td>\n",
              "      <td>140167</td>\n",
              "      <td>135465</td>\n",
              "      <td>146031</td>\n",
              "      <td>145647</td>\n",
              "      <td>135550</td>\n",
              "      <td>113173</td>\n",
              "      <td>100318</td>\n",
              "      <td>101189</td>\n",
              "      <td>103168</td>\n",
              "      <td>96226</td>\n",
              "      <td>99489</td>\n",
              "    </tr>\n",
              "    <tr>\n",
              "      <th>4</th>\n",
              "      <td>Roraima</td>\n",
              "      <td>59853</td>\n",
              "      <td>57923</td>\n",
              "      <td>54698</td>\n",
              "      <td>41908</td>\n",
              "      <td>46133</td>\n",
              "      <td>34833</td>\n",
              "      <td>34890</td>\n",
              "      <td>42135</td>\n",
              "      <td>43508</td>\n",
              "      <td>49804</td>\n",
              "      <td>47814</td>\n",
              "      <td>50600</td>\n",
              "      <td>52194</td>\n",
              "      <td>47578</td>\n",
              "      <td>66490</td>\n",
              "      <td>71665</td>\n",
              "    </tr>\n",
              "    <tr>\n",
              "      <th>5</th>\n",
              "      <td>Pará</td>\n",
              "      <td>1028444</td>\n",
              "      <td>1061815</td>\n",
              "      <td>983007</td>\n",
              "      <td>950688</td>\n",
              "      <td>894926</td>\n",
              "      <td>859286</td>\n",
              "      <td>793733</td>\n",
              "      <td>795974</td>\n",
              "      <td>818833</td>\n",
              "      <td>888463</td>\n",
              "      <td>953116</td>\n",
              "      <td>1015293</td>\n",
              "      <td>1067313</td>\n",
              "      <td>1198721</td>\n",
              "      <td>1157851</td>\n",
              "      <td>1230181</td>\n",
              "    </tr>\n",
              "    <tr>\n",
              "      <th>6</th>\n",
              "      <td>Amapá</td>\n",
              "      <td>13056</td>\n",
              "      <td>14734</td>\n",
              "      <td>14309</td>\n",
              "      <td>15656</td>\n",
              "      <td>18463</td>\n",
              "      <td>20498</td>\n",
              "      <td>22341</td>\n",
              "      <td>22076</td>\n",
              "      <td>20925</td>\n",
              "      <td>24280</td>\n",
              "      <td>39384</td>\n",
              "      <td>30878</td>\n",
              "      <td>34078</td>\n",
              "      <td>38863</td>\n",
              "      <td>34238</td>\n",
              "      <td>34800</td>\n",
              "    </tr>\n",
              "    <tr>\n",
              "      <th>7</th>\n",
              "      <td>Tocantins</td>\n",
              "      <td>541537</td>\n",
              "      <td>687118</td>\n",
              "      <td>596696</td>\n",
              "      <td>583585</td>\n",
              "      <td>646558</td>\n",
              "      <td>612324</td>\n",
              "      <td>664195</td>\n",
              "      <td>705878</td>\n",
              "      <td>730965</td>\n",
              "      <td>834257</td>\n",
              "      <td>1034697</td>\n",
              "      <td>1199494</td>\n",
              "      <td>1227972</td>\n",
              "      <td>1278462</td>\n",
              "      <td>1348373</td>\n",
              "      <td>1413461</td>\n",
              "    </tr>\n",
              "    <tr>\n",
              "      <th>8</th>\n",
              "      <td>Maranhão</td>\n",
              "      <td>1520015</td>\n",
              "      <td>1605736</td>\n",
              "      <td>1608870</td>\n",
              "      <td>1620345</td>\n",
              "      <td>1629185</td>\n",
              "      <td>1588862</td>\n",
              "      <td>1729552</td>\n",
              "      <td>1751843</td>\n",
              "      <td>1795760</td>\n",
              "      <td>1845490</td>\n",
              "      <td>1975258</td>\n",
              "      <td>1802598</td>\n",
              "      <td>1571680</td>\n",
              "      <td>1783013</td>\n",
              "      <td>1796133</td>\n",
              "      <td>1701124</td>\n",
              "    </tr>\n",
              "    <tr>\n",
              "      <th>26</th>\n",
              "      <td>Mato Grosso</td>\n",
              "      <td>7912796</td>\n",
              "      <td>8976694</td>\n",
              "      <td>8009276</td>\n",
              "      <td>7992055</td>\n",
              "      <td>8830550</td>\n",
              "      <td>8735355</td>\n",
              "      <td>9381244</td>\n",
              "      <td>9884223</td>\n",
              "      <td>11262263</td>\n",
              "      <td>12723490</td>\n",
              "      <td>13542011</td>\n",
              "      <td>14082687</td>\n",
              "      <td>14494519</td>\n",
              "      <td>15570194</td>\n",
              "      <td>15478806</td>\n",
              "      <td>16594186</td>\n",
              "    </tr>\n",
              "  </tbody>\n",
              "</table>\n",
              "</div>"
            ],
            "text/plain": [
              "      Local/Ano     2004     2005     2006     2007     2008     2009  \\\n",
              "1      Rondônia   351157   386252   393201   383553   408939   436766   \n",
              "2          Acre   115864   117634   111638   107877    98425    84700   \n",
              "3      Amazonas   129033   164876   162948   144985   139022   140167   \n",
              "4       Roraima    59853    57923    54698    41908    46133    34833   \n",
              "5          Pará  1028444  1061815   983007   950688   894926   859286   \n",
              "6         Amapá    13056    14734    14309    15656    18463    20498   \n",
              "7     Tocantins   541537   687118   596696   583585   646558   612324   \n",
              "8      Maranhão  1520015  1605736  1608870  1620345  1629185  1588862   \n",
              "26  Mato Grosso  7912796  8976694  8009276  7992055  8830550  8735355   \n",
              "\n",
              "       2010     2011      2012      2013      2014      2015      2016  \\\n",
              "1    455482   546051    476280    447793    465183    505753    512621   \n",
              "2    114815   121043    135180    118489    110554    103290     94552   \n",
              "3    135465   146031    145647    135550    113173    100318    101189   \n",
              "4     34890    42135     43508     49804     47814     50600     52194   \n",
              "5    793733   795974    818833    888463    953116   1015293   1067313   \n",
              "6     22341    22076     20925     24280     39384     30878     34078   \n",
              "7    664195   705878    730965    834257   1034697   1199494   1227972   \n",
              "8   1729552  1751843   1795760   1845490   1975258   1802598   1571680   \n",
              "26  9381244  9884223  11262263  12723490  13542011  14082687  14494519   \n",
              "\n",
              "        2017      2018      2019  \n",
              "1     585246    571287    657037  \n",
              "2      87101     72431     69230  \n",
              "3     103168     96226     99489  \n",
              "4      47578     66490     71665  \n",
              "5    1198721   1157851   1230181  \n",
              "6      38863     34238     34800  \n",
              "7    1278462   1348373   1413461  \n",
              "8    1783013   1796133   1701124  \n",
              "26  15570194  15478806  16594186  "
            ]
          },
          "execution_count": 9,
          "metadata": {},
          "output_type": "execute_result"
        }
      ],
      "source": [
        "estados_Amazonia = [\"Acre\", \"Amazonas\", \"Amapá\", \"Maranhão\", \"Mato Grosso\", \"Pará\", \"Rondônia\", \"Roraima\", \"Tocantins\"]\n",
        "df_agro = df_agro.loc[df_agro[\"Local/Ano\"].isin(estados_Amazonia)]\n",
        "df_agro"
      ]
    },
    {
      "cell_type": "code",
      "execution_count": 10,
      "metadata": {
        "colab": {
          "base_uri": "https://localhost:8080/",
          "height": 413
        },
        "id": "tyUQGRXdDOCV",
        "outputId": "dbc694e2-c103-4f04-a22f-0097300331e6"
      },
      "outputs": [
        {
          "data": {
            "text/html": [
              "<div>\n",
              "<style scoped>\n",
              "    .dataframe tbody tr th:only-of-type {\n",
              "        vertical-align: middle;\n",
              "    }\n",
              "\n",
              "    .dataframe tbody tr th {\n",
              "        vertical-align: top;\n",
              "    }\n",
              "\n",
              "    .dataframe thead th {\n",
              "        text-align: right;\n",
              "    }\n",
              "</style>\n",
              "<table border=\"1\" class=\"dataframe\">\n",
              "  <thead>\n",
              "    <tr style=\"text-align: right;\">\n",
              "      <th></th>\n",
              "      <th>Local/Ano</th>\n",
              "      <th>2004</th>\n",
              "      <th>2005</th>\n",
              "      <th>2006</th>\n",
              "      <th>2007</th>\n",
              "      <th>2008</th>\n",
              "      <th>2009</th>\n",
              "      <th>2010</th>\n",
              "      <th>2011</th>\n",
              "      <th>2012</th>\n",
              "      <th>2013</th>\n",
              "      <th>2014</th>\n",
              "      <th>2015</th>\n",
              "      <th>2016</th>\n",
              "      <th>2017</th>\n",
              "      <th>2018</th>\n",
              "      <th>2019</th>\n",
              "    </tr>\n",
              "  </thead>\n",
              "  <tbody>\n",
              "    <tr>\n",
              "      <th>1</th>\n",
              "      <td>Rondônia</td>\n",
              "      <td>10671440</td>\n",
              "      <td>11349452</td>\n",
              "      <td>11484162</td>\n",
              "      <td>11007613</td>\n",
              "      <td>11176201</td>\n",
              "      <td>11532891</td>\n",
              "      <td>11842073</td>\n",
              "      <td>12182259</td>\n",
              "      <td>12218437</td>\n",
              "      <td>12329971</td>\n",
              "      <td>12744326</td>\n",
              "      <td>13397970</td>\n",
              "      <td>13682200</td>\n",
              "      <td>14091378</td>\n",
              "      <td>14367161</td>\n",
              "      <td>14349219</td>\n",
              "    </tr>\n",
              "    <tr>\n",
              "      <th>2</th>\n",
              "      <td>Acre</td>\n",
              "      <td>2062690</td>\n",
              "      <td>2313185</td>\n",
              "      <td>2452915</td>\n",
              "      <td>2315798</td>\n",
              "      <td>2425687</td>\n",
              "      <td>2511285</td>\n",
              "      <td>2578460</td>\n",
              "      <td>2549497</td>\n",
              "      <td>2634467</td>\n",
              "      <td>2697489</td>\n",
              "      <td>2799673</td>\n",
              "      <td>2916207</td>\n",
              "      <td>2998969</td>\n",
              "      <td>2895028</td>\n",
              "      <td>3303633</td>\n",
              "      <td>3509682</td>\n",
              "    </tr>\n",
              "    <tr>\n",
              "      <th>3</th>\n",
              "      <td>Amazonas</td>\n",
              "      <td>1156723</td>\n",
              "      <td>1197171</td>\n",
              "      <td>1243358</td>\n",
              "      <td>1208652</td>\n",
              "      <td>1312352</td>\n",
              "      <td>1350816</td>\n",
              "      <td>1360800</td>\n",
              "      <td>1439597</td>\n",
              "      <td>1445739</td>\n",
              "      <td>1470537</td>\n",
              "      <td>1405208</td>\n",
              "      <td>1293325</td>\n",
              "      <td>1315821</td>\n",
              "      <td>1343574</td>\n",
              "      <td>1376210</td>\n",
              "      <td>1455842</td>\n",
              "    </tr>\n",
              "    <tr>\n",
              "      <th>4</th>\n",
              "      <td>Roraima</td>\n",
              "      <td>459000</td>\n",
              "      <td>507000</td>\n",
              "      <td>508600</td>\n",
              "      <td>481100</td>\n",
              "      <td>476200</td>\n",
              "      <td>475380</td>\n",
              "      <td>577050</td>\n",
              "      <td>651511</td>\n",
              "      <td>686491</td>\n",
              "      <td>747045</td>\n",
              "      <td>735962</td>\n",
              "      <td>794783</td>\n",
              "      <td>780877</td>\n",
              "      <td>787318</td>\n",
              "      <td>817198</td>\n",
              "      <td>879007</td>\n",
              "    </tr>\n",
              "    <tr>\n",
              "      <th>5</th>\n",
              "      <td>Pará</td>\n",
              "      <td>17430496</td>\n",
              "      <td>18063669</td>\n",
              "      <td>17501678</td>\n",
              "      <td>15353989</td>\n",
              "      <td>16240697</td>\n",
              "      <td>16856561</td>\n",
              "      <td>17633339</td>\n",
              "      <td>18262547</td>\n",
              "      <td>18605051</td>\n",
              "      <td>19165028</td>\n",
              "      <td>19911217</td>\n",
              "      <td>20271618</td>\n",
              "      <td>20476783</td>\n",
              "      <td>20585367</td>\n",
              "      <td>20628651</td>\n",
              "      <td>20953429</td>\n",
              "    </tr>\n",
              "    <tr>\n",
              "      <th>6</th>\n",
              "      <td>Amapá</td>\n",
              "      <td>82243</td>\n",
              "      <td>96599</td>\n",
              "      <td>109081</td>\n",
              "      <td>103170</td>\n",
              "      <td>95803</td>\n",
              "      <td>104977</td>\n",
              "      <td>114773</td>\n",
              "      <td>127499</td>\n",
              "      <td>142825</td>\n",
              "      <td>154967</td>\n",
              "      <td>167529</td>\n",
              "      <td>89682</td>\n",
              "      <td>76379</td>\n",
              "      <td>66921</td>\n",
              "      <td>55422</td>\n",
              "      <td>54296</td>\n",
              "    </tr>\n",
              "    <tr>\n",
              "      <th>7</th>\n",
              "      <td>Tocantins</td>\n",
              "      <td>7924546</td>\n",
              "      <td>7961926</td>\n",
              "      <td>7760590</td>\n",
              "      <td>7395450</td>\n",
              "      <td>7392515</td>\n",
              "      <td>7605249</td>\n",
              "      <td>7994200</td>\n",
              "      <td>8025400</td>\n",
              "      <td>8082336</td>\n",
              "      <td>8140580</td>\n",
              "      <td>8062227</td>\n",
              "      <td>8412404</td>\n",
              "      <td>8652161</td>\n",
              "      <td>8738477</td>\n",
              "      <td>8352513</td>\n",
              "      <td>8480724</td>\n",
              "    </tr>\n",
              "    <tr>\n",
              "      <th>8</th>\n",
              "      <td>Maranhão</td>\n",
              "      <td>5928131</td>\n",
              "      <td>6448948</td>\n",
              "      <td>6613270</td>\n",
              "      <td>6609438</td>\n",
              "      <td>6816338</td>\n",
              "      <td>6885265</td>\n",
              "      <td>6979844</td>\n",
              "      <td>7264106</td>\n",
              "      <td>7490942</td>\n",
              "      <td>7611324</td>\n",
              "      <td>7758352</td>\n",
              "      <td>7643128</td>\n",
              "      <td>7653870</td>\n",
              "      <td>7687695</td>\n",
              "      <td>7793180</td>\n",
              "      <td>8008643</td>\n",
              "    </tr>\n",
              "    <tr>\n",
              "      <th>26</th>\n",
              "      <td>Mato Grosso</td>\n",
              "      <td>25918998</td>\n",
              "      <td>26651500</td>\n",
              "      <td>26064332</td>\n",
              "      <td>25683031</td>\n",
              "      <td>26018216</td>\n",
              "      <td>27357089</td>\n",
              "      <td>28757438</td>\n",
              "      <td>29265718</td>\n",
              "      <td>28740802</td>\n",
              "      <td>28395205</td>\n",
              "      <td>28592183</td>\n",
              "      <td>29364042</td>\n",
              "      <td>30296096</td>\n",
              "      <td>29725378</td>\n",
              "      <td>30199598</td>\n",
              "      <td>31654882</td>\n",
              "    </tr>\n",
              "  </tbody>\n",
              "</table>\n",
              "</div>"
            ],
            "text/plain": [
              "      Local/Ano      2004      2005      2006      2007      2008      2009  \\\n",
              "1      Rondônia  10671440  11349452  11484162  11007613  11176201  11532891   \n",
              "2          Acre   2062690   2313185   2452915   2315798   2425687   2511285   \n",
              "3      Amazonas   1156723   1197171   1243358   1208652   1312352   1350816   \n",
              "4       Roraima    459000    507000    508600    481100    476200    475380   \n",
              "5          Pará  17430496  18063669  17501678  15353989  16240697  16856561   \n",
              "6         Amapá     82243     96599    109081    103170     95803    104977   \n",
              "7     Tocantins   7924546   7961926   7760590   7395450   7392515   7605249   \n",
              "8      Maranhão   5928131   6448948   6613270   6609438   6816338   6885265   \n",
              "26  Mato Grosso  25918998  26651500  26064332  25683031  26018216  27357089   \n",
              "\n",
              "        2010      2011      2012      2013      2014      2015      2016  \\\n",
              "1   11842073  12182259  12218437  12329971  12744326  13397970  13682200   \n",
              "2    2578460   2549497   2634467   2697489   2799673   2916207   2998969   \n",
              "3    1360800   1439597   1445739   1470537   1405208   1293325   1315821   \n",
              "4     577050    651511    686491    747045    735962    794783    780877   \n",
              "5   17633339  18262547  18605051  19165028  19911217  20271618  20476783   \n",
              "6     114773    127499    142825    154967    167529     89682     76379   \n",
              "7    7994200   8025400   8082336   8140580   8062227   8412404   8652161   \n",
              "8    6979844   7264106   7490942   7611324   7758352   7643128   7653870   \n",
              "26  28757438  29265718  28740802  28395205  28592183  29364042  30296096   \n",
              "\n",
              "        2017      2018      2019  \n",
              "1   14091378  14367161  14349219  \n",
              "2    2895028   3303633   3509682  \n",
              "3    1343574   1376210   1455842  \n",
              "4     787318    817198    879007  \n",
              "5   20585367  20628651  20953429  \n",
              "6      66921     55422     54296  \n",
              "7    8738477   8352513   8480724  \n",
              "8    7687695   7793180   8008643  \n",
              "26  29725378  30199598  31654882  "
            ]
          },
          "execution_count": 10,
          "metadata": {},
          "output_type": "execute_result"
        }
      ],
      "source": [
        "estados_Amazonia = [\"Acre\", \"Amazonas\", \"Amapá\", \"Maranhão\", \"Mato Grosso\", \"Pará\", \"Rondônia\", \"Roraima\", \"Tocantins\"]\n",
        "df_pecuaria = df_pecuaria.loc[df_pecuaria[\"Local/Ano\"].isin(estados_Amazonia)]\n",
        "df_pecuaria"
      ]
    },
    {
      "cell_type": "code",
      "execution_count": 11,
      "metadata": {
        "colab": {
          "base_uri": "https://localhost:8080/"
        },
        "id": "XCK7Jz5VGLAU",
        "outputId": "8cae290d-86c7-41fb-e4ee-7606c5f260b0"
      },
      "outputs": [
        {
          "name": "stderr",
          "output_type": "stream",
          "text": [
            "C:\\Users\\Profº Fernando\\AppData\\Local\\Temp\\ipykernel_14324\\1472076305.py:5: SettingWithCopyWarning:\n",
            "\n",
            "\n",
            "A value is trying to be set on a copy of a slice from a DataFrame.\n",
            "Try using .loc[row_indexer,col_indexer] = value instead\n",
            "\n",
            "See the caveats in the documentation: https://pandas.pydata.org/pandas-docs/stable/user_guide/indexing.html#returning-a-view-versus-a-copy\n",
            "\n",
            "C:\\Users\\Profº Fernando\\AppData\\Local\\Temp\\ipykernel_14324\\1472076305.py:10: SettingWithCopyWarning:\n",
            "\n",
            "\n",
            "A value is trying to be set on a copy of a slice from a DataFrame.\n",
            "Try using .loc[row_indexer,col_indexer] = value instead\n",
            "\n",
            "See the caveats in the documentation: https://pandas.pydata.org/pandas-docs/stable/user_guide/indexing.html#returning-a-view-versus-a-copy\n",
            "\n"
          ]
        }
      ],
      "source": [
        "#aqui encontrei essa solução para tranformar todos os valores numeros da tabela em float\n",
        "num_cols = df_agro.columns[1:]\n",
        "\n",
        "# convertendo as strings para valores numéricos\n",
        "df_agro[num_cols] = df_agro[num_cols].apply(pd.to_numeric)\n",
        "\n",
        "num_cols = df_pecuaria.columns[1:]\n",
        "\n",
        "# convertendo as strings para valores numéricos\n",
        "df_pecuaria[num_cols] = df_pecuaria[num_cols].apply(pd.to_numeric)"
      ]
    },
    {
      "cell_type": "code",
      "execution_count": 12,
      "metadata": {
        "colab": {
          "base_uri": "https://localhost:8080/",
          "height": 542
        },
        "id": "SBf6k5TEEv_0",
        "outputId": "ca0005fe-eeab-4a5e-cd71-1dca06d87ea0"
      },
      "outputs": [
        {
          "data": {
            "application/vnd.plotly.v1+json": {
              "config": {
                "plotlyServerURL": "https://plot.ly"
              },
              "data": [
                {
                  "mode": "lines",
                  "name": "Rondônia",
                  "type": "scatter",
                  "x": [
                    "2004",
                    "2005",
                    "2006",
                    "2007",
                    "2008",
                    "2009",
                    "2010",
                    "2011",
                    "2012",
                    "2013",
                    "2014",
                    "2015",
                    "2016",
                    "2017",
                    "2018",
                    "2019"
                  ],
                  "y": [
                    351157,
                    386252,
                    393201,
                    383553,
                    408939,
                    436766,
                    455482,
                    546051,
                    476280,
                    447793,
                    465183,
                    505753,
                    512621,
                    585246,
                    571287,
                    657037
                  ]
                },
                {
                  "mode": "lines",
                  "name": "Acre",
                  "type": "scatter",
                  "x": [
                    "2004",
                    "2005",
                    "2006",
                    "2007",
                    "2008",
                    "2009",
                    "2010",
                    "2011",
                    "2012",
                    "2013",
                    "2014",
                    "2015",
                    "2016",
                    "2017",
                    "2018",
                    "2019"
                  ],
                  "y": [
                    115864,
                    117634,
                    111638,
                    107877,
                    98425,
                    84700,
                    114815,
                    121043,
                    135180,
                    118489,
                    110554,
                    103290,
                    94552,
                    87101,
                    72431,
                    69230
                  ]
                },
                {
                  "mode": "lines",
                  "name": "Amazonas",
                  "type": "scatter",
                  "x": [
                    "2004",
                    "2005",
                    "2006",
                    "2007",
                    "2008",
                    "2009",
                    "2010",
                    "2011",
                    "2012",
                    "2013",
                    "2014",
                    "2015",
                    "2016",
                    "2017",
                    "2018",
                    "2019"
                  ],
                  "y": [
                    129033,
                    164876,
                    162948,
                    144985,
                    139022,
                    140167,
                    135465,
                    146031,
                    145647,
                    135550,
                    113173,
                    100318,
                    101189,
                    103168,
                    96226,
                    99489
                  ]
                },
                {
                  "mode": "lines",
                  "name": "Roraima",
                  "type": "scatter",
                  "x": [
                    "2004",
                    "2005",
                    "2006",
                    "2007",
                    "2008",
                    "2009",
                    "2010",
                    "2011",
                    "2012",
                    "2013",
                    "2014",
                    "2015",
                    "2016",
                    "2017",
                    "2018",
                    "2019"
                  ],
                  "y": [
                    59853,
                    57923,
                    54698,
                    41908,
                    46133,
                    34833,
                    34890,
                    42135,
                    43508,
                    49804,
                    47814,
                    50600,
                    52194,
                    47578,
                    66490,
                    71665
                  ]
                },
                {
                  "mode": "lines",
                  "name": "Pará",
                  "type": "scatter",
                  "x": [
                    "2004",
                    "2005",
                    "2006",
                    "2007",
                    "2008",
                    "2009",
                    "2010",
                    "2011",
                    "2012",
                    "2013",
                    "2014",
                    "2015",
                    "2016",
                    "2017",
                    "2018",
                    "2019"
                  ],
                  "y": [
                    1028444,
                    1061815,
                    983007,
                    950688,
                    894926,
                    859286,
                    793733,
                    795974,
                    818833,
                    888463,
                    953116,
                    1015293,
                    1067313,
                    1198721,
                    1157851,
                    1230181
                  ]
                },
                {
                  "mode": "lines",
                  "name": "Amapá",
                  "type": "scatter",
                  "x": [
                    "2004",
                    "2005",
                    "2006",
                    "2007",
                    "2008",
                    "2009",
                    "2010",
                    "2011",
                    "2012",
                    "2013",
                    "2014",
                    "2015",
                    "2016",
                    "2017",
                    "2018",
                    "2019"
                  ],
                  "y": [
                    13056,
                    14734,
                    14309,
                    15656,
                    18463,
                    20498,
                    22341,
                    22076,
                    20925,
                    24280,
                    39384,
                    30878,
                    34078,
                    38863,
                    34238,
                    34800
                  ]
                },
                {
                  "mode": "lines",
                  "name": "Tocantins",
                  "type": "scatter",
                  "x": [
                    "2004",
                    "2005",
                    "2006",
                    "2007",
                    "2008",
                    "2009",
                    "2010",
                    "2011",
                    "2012",
                    "2013",
                    "2014",
                    "2015",
                    "2016",
                    "2017",
                    "2018",
                    "2019"
                  ],
                  "y": [
                    541537,
                    687118,
                    596696,
                    583585,
                    646558,
                    612324,
                    664195,
                    705878,
                    730965,
                    834257,
                    1034697,
                    1199494,
                    1227972,
                    1278462,
                    1348373,
                    1413461
                  ]
                },
                {
                  "mode": "lines",
                  "name": "Mato Grosso",
                  "type": "scatter",
                  "x": [
                    "2004",
                    "2005",
                    "2006",
                    "2007",
                    "2008",
                    "2009",
                    "2010",
                    "2011",
                    "2012",
                    "2013",
                    "2014",
                    "2015",
                    "2016",
                    "2017",
                    "2018",
                    "2019"
                  ],
                  "y": [
                    7912796,
                    8976694,
                    8009276,
                    7992055,
                    8830550,
                    8735355,
                    9381244,
                    9884223,
                    11262263,
                    12723490,
                    13542011,
                    14082687,
                    14494519,
                    15570194,
                    15478806,
                    16594186
                  ]
                }
              ],
              "layout": {
                "template": {
                  "data": {
                    "bar": [
                      {
                        "error_x": {
                          "color": "#2a3f5f"
                        },
                        "error_y": {
                          "color": "#2a3f5f"
                        },
                        "marker": {
                          "line": {
                            "color": "#E5ECF6",
                            "width": 0.5
                          },
                          "pattern": {
                            "fillmode": "overlay",
                            "size": 10,
                            "solidity": 0.2
                          }
                        },
                        "type": "bar"
                      }
                    ],
                    "barpolar": [
                      {
                        "marker": {
                          "line": {
                            "color": "#E5ECF6",
                            "width": 0.5
                          },
                          "pattern": {
                            "fillmode": "overlay",
                            "size": 10,
                            "solidity": 0.2
                          }
                        },
                        "type": "barpolar"
                      }
                    ],
                    "carpet": [
                      {
                        "aaxis": {
                          "endlinecolor": "#2a3f5f",
                          "gridcolor": "white",
                          "linecolor": "white",
                          "minorgridcolor": "white",
                          "startlinecolor": "#2a3f5f"
                        },
                        "baxis": {
                          "endlinecolor": "#2a3f5f",
                          "gridcolor": "white",
                          "linecolor": "white",
                          "minorgridcolor": "white",
                          "startlinecolor": "#2a3f5f"
                        },
                        "type": "carpet"
                      }
                    ],
                    "choropleth": [
                      {
                        "colorbar": {
                          "outlinewidth": 0,
                          "ticks": ""
                        },
                        "type": "choropleth"
                      }
                    ],
                    "contour": [
                      {
                        "colorbar": {
                          "outlinewidth": 0,
                          "ticks": ""
                        },
                        "colorscale": [
                          [
                            0,
                            "#0d0887"
                          ],
                          [
                            0.1111111111111111,
                            "#46039f"
                          ],
                          [
                            0.2222222222222222,
                            "#7201a8"
                          ],
                          [
                            0.3333333333333333,
                            "#9c179e"
                          ],
                          [
                            0.4444444444444444,
                            "#bd3786"
                          ],
                          [
                            0.5555555555555556,
                            "#d8576b"
                          ],
                          [
                            0.6666666666666666,
                            "#ed7953"
                          ],
                          [
                            0.7777777777777778,
                            "#fb9f3a"
                          ],
                          [
                            0.8888888888888888,
                            "#fdca26"
                          ],
                          [
                            1,
                            "#f0f921"
                          ]
                        ],
                        "type": "contour"
                      }
                    ],
                    "contourcarpet": [
                      {
                        "colorbar": {
                          "outlinewidth": 0,
                          "ticks": ""
                        },
                        "type": "contourcarpet"
                      }
                    ],
                    "heatmap": [
                      {
                        "colorbar": {
                          "outlinewidth": 0,
                          "ticks": ""
                        },
                        "colorscale": [
                          [
                            0,
                            "#0d0887"
                          ],
                          [
                            0.1111111111111111,
                            "#46039f"
                          ],
                          [
                            0.2222222222222222,
                            "#7201a8"
                          ],
                          [
                            0.3333333333333333,
                            "#9c179e"
                          ],
                          [
                            0.4444444444444444,
                            "#bd3786"
                          ],
                          [
                            0.5555555555555556,
                            "#d8576b"
                          ],
                          [
                            0.6666666666666666,
                            "#ed7953"
                          ],
                          [
                            0.7777777777777778,
                            "#fb9f3a"
                          ],
                          [
                            0.8888888888888888,
                            "#fdca26"
                          ],
                          [
                            1,
                            "#f0f921"
                          ]
                        ],
                        "type": "heatmap"
                      }
                    ],
                    "heatmapgl": [
                      {
                        "colorbar": {
                          "outlinewidth": 0,
                          "ticks": ""
                        },
                        "colorscale": [
                          [
                            0,
                            "#0d0887"
                          ],
                          [
                            0.1111111111111111,
                            "#46039f"
                          ],
                          [
                            0.2222222222222222,
                            "#7201a8"
                          ],
                          [
                            0.3333333333333333,
                            "#9c179e"
                          ],
                          [
                            0.4444444444444444,
                            "#bd3786"
                          ],
                          [
                            0.5555555555555556,
                            "#d8576b"
                          ],
                          [
                            0.6666666666666666,
                            "#ed7953"
                          ],
                          [
                            0.7777777777777778,
                            "#fb9f3a"
                          ],
                          [
                            0.8888888888888888,
                            "#fdca26"
                          ],
                          [
                            1,
                            "#f0f921"
                          ]
                        ],
                        "type": "heatmapgl"
                      }
                    ],
                    "histogram": [
                      {
                        "marker": {
                          "pattern": {
                            "fillmode": "overlay",
                            "size": 10,
                            "solidity": 0.2
                          }
                        },
                        "type": "histogram"
                      }
                    ],
                    "histogram2d": [
                      {
                        "colorbar": {
                          "outlinewidth": 0,
                          "ticks": ""
                        },
                        "colorscale": [
                          [
                            0,
                            "#0d0887"
                          ],
                          [
                            0.1111111111111111,
                            "#46039f"
                          ],
                          [
                            0.2222222222222222,
                            "#7201a8"
                          ],
                          [
                            0.3333333333333333,
                            "#9c179e"
                          ],
                          [
                            0.4444444444444444,
                            "#bd3786"
                          ],
                          [
                            0.5555555555555556,
                            "#d8576b"
                          ],
                          [
                            0.6666666666666666,
                            "#ed7953"
                          ],
                          [
                            0.7777777777777778,
                            "#fb9f3a"
                          ],
                          [
                            0.8888888888888888,
                            "#fdca26"
                          ],
                          [
                            1,
                            "#f0f921"
                          ]
                        ],
                        "type": "histogram2d"
                      }
                    ],
                    "histogram2dcontour": [
                      {
                        "colorbar": {
                          "outlinewidth": 0,
                          "ticks": ""
                        },
                        "colorscale": [
                          [
                            0,
                            "#0d0887"
                          ],
                          [
                            0.1111111111111111,
                            "#46039f"
                          ],
                          [
                            0.2222222222222222,
                            "#7201a8"
                          ],
                          [
                            0.3333333333333333,
                            "#9c179e"
                          ],
                          [
                            0.4444444444444444,
                            "#bd3786"
                          ],
                          [
                            0.5555555555555556,
                            "#d8576b"
                          ],
                          [
                            0.6666666666666666,
                            "#ed7953"
                          ],
                          [
                            0.7777777777777778,
                            "#fb9f3a"
                          ],
                          [
                            0.8888888888888888,
                            "#fdca26"
                          ],
                          [
                            1,
                            "#f0f921"
                          ]
                        ],
                        "type": "histogram2dcontour"
                      }
                    ],
                    "mesh3d": [
                      {
                        "colorbar": {
                          "outlinewidth": 0,
                          "ticks": ""
                        },
                        "type": "mesh3d"
                      }
                    ],
                    "parcoords": [
                      {
                        "line": {
                          "colorbar": {
                            "outlinewidth": 0,
                            "ticks": ""
                          }
                        },
                        "type": "parcoords"
                      }
                    ],
                    "pie": [
                      {
                        "automargin": true,
                        "type": "pie"
                      }
                    ],
                    "scatter": [
                      {
                        "fillpattern": {
                          "fillmode": "overlay",
                          "size": 10,
                          "solidity": 0.2
                        },
                        "type": "scatter"
                      }
                    ],
                    "scatter3d": [
                      {
                        "line": {
                          "colorbar": {
                            "outlinewidth": 0,
                            "ticks": ""
                          }
                        },
                        "marker": {
                          "colorbar": {
                            "outlinewidth": 0,
                            "ticks": ""
                          }
                        },
                        "type": "scatter3d"
                      }
                    ],
                    "scattercarpet": [
                      {
                        "marker": {
                          "colorbar": {
                            "outlinewidth": 0,
                            "ticks": ""
                          }
                        },
                        "type": "scattercarpet"
                      }
                    ],
                    "scattergeo": [
                      {
                        "marker": {
                          "colorbar": {
                            "outlinewidth": 0,
                            "ticks": ""
                          }
                        },
                        "type": "scattergeo"
                      }
                    ],
                    "scattergl": [
                      {
                        "marker": {
                          "colorbar": {
                            "outlinewidth": 0,
                            "ticks": ""
                          }
                        },
                        "type": "scattergl"
                      }
                    ],
                    "scattermapbox": [
                      {
                        "marker": {
                          "colorbar": {
                            "outlinewidth": 0,
                            "ticks": ""
                          }
                        },
                        "type": "scattermapbox"
                      }
                    ],
                    "scatterpolar": [
                      {
                        "marker": {
                          "colorbar": {
                            "outlinewidth": 0,
                            "ticks": ""
                          }
                        },
                        "type": "scatterpolar"
                      }
                    ],
                    "scatterpolargl": [
                      {
                        "marker": {
                          "colorbar": {
                            "outlinewidth": 0,
                            "ticks": ""
                          }
                        },
                        "type": "scatterpolargl"
                      }
                    ],
                    "scatterternary": [
                      {
                        "marker": {
                          "colorbar": {
                            "outlinewidth": 0,
                            "ticks": ""
                          }
                        },
                        "type": "scatterternary"
                      }
                    ],
                    "surface": [
                      {
                        "colorbar": {
                          "outlinewidth": 0,
                          "ticks": ""
                        },
                        "colorscale": [
                          [
                            0,
                            "#0d0887"
                          ],
                          [
                            0.1111111111111111,
                            "#46039f"
                          ],
                          [
                            0.2222222222222222,
                            "#7201a8"
                          ],
                          [
                            0.3333333333333333,
                            "#9c179e"
                          ],
                          [
                            0.4444444444444444,
                            "#bd3786"
                          ],
                          [
                            0.5555555555555556,
                            "#d8576b"
                          ],
                          [
                            0.6666666666666666,
                            "#ed7953"
                          ],
                          [
                            0.7777777777777778,
                            "#fb9f3a"
                          ],
                          [
                            0.8888888888888888,
                            "#fdca26"
                          ],
                          [
                            1,
                            "#f0f921"
                          ]
                        ],
                        "type": "surface"
                      }
                    ],
                    "table": [
                      {
                        "cells": {
                          "fill": {
                            "color": "#EBF0F8"
                          },
                          "line": {
                            "color": "white"
                          }
                        },
                        "header": {
                          "fill": {
                            "color": "#C8D4E3"
                          },
                          "line": {
                            "color": "white"
                          }
                        },
                        "type": "table"
                      }
                    ]
                  },
                  "layout": {
                    "annotationdefaults": {
                      "arrowcolor": "#2a3f5f",
                      "arrowhead": 0,
                      "arrowwidth": 1
                    },
                    "autotypenumbers": "strict",
                    "coloraxis": {
                      "colorbar": {
                        "outlinewidth": 0,
                        "ticks": ""
                      }
                    },
                    "colorscale": {
                      "diverging": [
                        [
                          0,
                          "#8e0152"
                        ],
                        [
                          0.1,
                          "#c51b7d"
                        ],
                        [
                          0.2,
                          "#de77ae"
                        ],
                        [
                          0.3,
                          "#f1b6da"
                        ],
                        [
                          0.4,
                          "#fde0ef"
                        ],
                        [
                          0.5,
                          "#f7f7f7"
                        ],
                        [
                          0.6,
                          "#e6f5d0"
                        ],
                        [
                          0.7,
                          "#b8e186"
                        ],
                        [
                          0.8,
                          "#7fbc41"
                        ],
                        [
                          0.9,
                          "#4d9221"
                        ],
                        [
                          1,
                          "#276419"
                        ]
                      ],
                      "sequential": [
                        [
                          0,
                          "#0d0887"
                        ],
                        [
                          0.1111111111111111,
                          "#46039f"
                        ],
                        [
                          0.2222222222222222,
                          "#7201a8"
                        ],
                        [
                          0.3333333333333333,
                          "#9c179e"
                        ],
                        [
                          0.4444444444444444,
                          "#bd3786"
                        ],
                        [
                          0.5555555555555556,
                          "#d8576b"
                        ],
                        [
                          0.6666666666666666,
                          "#ed7953"
                        ],
                        [
                          0.7777777777777778,
                          "#fb9f3a"
                        ],
                        [
                          0.8888888888888888,
                          "#fdca26"
                        ],
                        [
                          1,
                          "#f0f921"
                        ]
                      ],
                      "sequentialminus": [
                        [
                          0,
                          "#0d0887"
                        ],
                        [
                          0.1111111111111111,
                          "#46039f"
                        ],
                        [
                          0.2222222222222222,
                          "#7201a8"
                        ],
                        [
                          0.3333333333333333,
                          "#9c179e"
                        ],
                        [
                          0.4444444444444444,
                          "#bd3786"
                        ],
                        [
                          0.5555555555555556,
                          "#d8576b"
                        ],
                        [
                          0.6666666666666666,
                          "#ed7953"
                        ],
                        [
                          0.7777777777777778,
                          "#fb9f3a"
                        ],
                        [
                          0.8888888888888888,
                          "#fdca26"
                        ],
                        [
                          1,
                          "#f0f921"
                        ]
                      ]
                    },
                    "colorway": [
                      "#636efa",
                      "#EF553B",
                      "#00cc96",
                      "#ab63fa",
                      "#FFA15A",
                      "#19d3f3",
                      "#FF6692",
                      "#B6E880",
                      "#FF97FF",
                      "#FECB52"
                    ],
                    "font": {
                      "color": "#2a3f5f"
                    },
                    "geo": {
                      "bgcolor": "white",
                      "lakecolor": "white",
                      "landcolor": "#E5ECF6",
                      "showlakes": true,
                      "showland": true,
                      "subunitcolor": "white"
                    },
                    "hoverlabel": {
                      "align": "left"
                    },
                    "hovermode": "closest",
                    "mapbox": {
                      "style": "light"
                    },
                    "paper_bgcolor": "white",
                    "plot_bgcolor": "#E5ECF6",
                    "polar": {
                      "angularaxis": {
                        "gridcolor": "white",
                        "linecolor": "white",
                        "ticks": ""
                      },
                      "bgcolor": "#E5ECF6",
                      "radialaxis": {
                        "gridcolor": "white",
                        "linecolor": "white",
                        "ticks": ""
                      }
                    },
                    "scene": {
                      "xaxis": {
                        "backgroundcolor": "#E5ECF6",
                        "gridcolor": "white",
                        "gridwidth": 2,
                        "linecolor": "white",
                        "showbackground": true,
                        "ticks": "",
                        "zerolinecolor": "white"
                      },
                      "yaxis": {
                        "backgroundcolor": "#E5ECF6",
                        "gridcolor": "white",
                        "gridwidth": 2,
                        "linecolor": "white",
                        "showbackground": true,
                        "ticks": "",
                        "zerolinecolor": "white"
                      },
                      "zaxis": {
                        "backgroundcolor": "#E5ECF6",
                        "gridcolor": "white",
                        "gridwidth": 2,
                        "linecolor": "white",
                        "showbackground": true,
                        "ticks": "",
                        "zerolinecolor": "white"
                      }
                    },
                    "shapedefaults": {
                      "line": {
                        "color": "#2a3f5f"
                      }
                    },
                    "ternary": {
                      "aaxis": {
                        "gridcolor": "white",
                        "linecolor": "white",
                        "ticks": ""
                      },
                      "baxis": {
                        "gridcolor": "white",
                        "linecolor": "white",
                        "ticks": ""
                      },
                      "bgcolor": "#E5ECF6",
                      "caxis": {
                        "gridcolor": "white",
                        "linecolor": "white",
                        "ticks": ""
                      }
                    },
                    "title": {
                      "x": 0.05
                    },
                    "xaxis": {
                      "automargin": true,
                      "gridcolor": "white",
                      "linecolor": "white",
                      "ticks": "",
                      "title": {
                        "standoff": 15
                      },
                      "zerolinecolor": "white",
                      "zerolinewidth": 2
                    },
                    "yaxis": {
                      "automargin": true,
                      "gridcolor": "white",
                      "linecolor": "white",
                      "ticks": "",
                      "title": {
                        "standoff": 15
                      },
                      "zerolinecolor": "white",
                      "zerolinewidth": 2
                    }
                  }
                },
                "title": {
                  "text": "Evolução do Valor do Agronegócio por Ano"
                },
                "xaxis": {
                  "title": {
                    "text": "Ano"
                  }
                },
                "yaxis": {
                  "title": {
                    "text": "Valor"
                  }
                }
              }
            }
          },
          "metadata": {},
          "output_type": "display_data"
        }
      ],
      "source": [
        "df_agro = df_agro.drop(index=8)\n",
        "fig = go.Figure()\n",
        "for i in range(len(df_agro)):\n",
        "    estado = df_agro.iloc[i, 0]\n",
        "    valores = df_agro.iloc[i, 1:]\n",
        "    fig.add_trace(go.Scatter(x=valores.index, y=valores.values, mode='lines', name=estado))\n",
        "\n",
        "fig.update_layout(title='Evolução do Valor do Agronegócio por Ano',\n",
        "                  xaxis_title='Ano',\n",
        "                  yaxis_title='Valor')\n",
        "\n",
        "fig.show()"
      ]
    },
    {
      "cell_type": "code",
      "execution_count": 13,
      "metadata": {
        "colab": {
          "base_uri": "https://localhost:8080/",
          "height": 542
        },
        "id": "mlm6dYa0D2mi",
        "outputId": "316dfc50-f39b-4ace-f7ef-97dd2dd7ffd0"
      },
      "outputs": [
        {
          "data": {
            "application/vnd.plotly.v1+json": {
              "config": {
                "plotlyServerURL": "https://plot.ly"
              },
              "data": [
                {
                  "mode": "lines",
                  "name": "Rondônia",
                  "type": "scatter",
                  "x": [
                    "2004",
                    "2005",
                    "2006",
                    "2007",
                    "2008",
                    "2009",
                    "2010",
                    "2011",
                    "2012",
                    "2013",
                    "2014",
                    "2015",
                    "2016",
                    "2017",
                    "2018",
                    "2019"
                  ],
                  "y": [
                    10671440,
                    11349452,
                    11484162,
                    11007613,
                    11176201,
                    11532891,
                    11842073,
                    12182259,
                    12218437,
                    12329971,
                    12744326,
                    13397970,
                    13682200,
                    14091378,
                    14367161,
                    14349219
                  ]
                },
                {
                  "mode": "lines",
                  "name": "Acre",
                  "type": "scatter",
                  "x": [
                    "2004",
                    "2005",
                    "2006",
                    "2007",
                    "2008",
                    "2009",
                    "2010",
                    "2011",
                    "2012",
                    "2013",
                    "2014",
                    "2015",
                    "2016",
                    "2017",
                    "2018",
                    "2019"
                  ],
                  "y": [
                    2062690,
                    2313185,
                    2452915,
                    2315798,
                    2425687,
                    2511285,
                    2578460,
                    2549497,
                    2634467,
                    2697489,
                    2799673,
                    2916207,
                    2998969,
                    2895028,
                    3303633,
                    3509682
                  ]
                },
                {
                  "mode": "lines",
                  "name": "Amazonas",
                  "type": "scatter",
                  "x": [
                    "2004",
                    "2005",
                    "2006",
                    "2007",
                    "2008",
                    "2009",
                    "2010",
                    "2011",
                    "2012",
                    "2013",
                    "2014",
                    "2015",
                    "2016",
                    "2017",
                    "2018",
                    "2019"
                  ],
                  "y": [
                    1156723,
                    1197171,
                    1243358,
                    1208652,
                    1312352,
                    1350816,
                    1360800,
                    1439597,
                    1445739,
                    1470537,
                    1405208,
                    1293325,
                    1315821,
                    1343574,
                    1376210,
                    1455842
                  ]
                },
                {
                  "mode": "lines",
                  "name": "Roraima",
                  "type": "scatter",
                  "x": [
                    "2004",
                    "2005",
                    "2006",
                    "2007",
                    "2008",
                    "2009",
                    "2010",
                    "2011",
                    "2012",
                    "2013",
                    "2014",
                    "2015",
                    "2016",
                    "2017",
                    "2018",
                    "2019"
                  ],
                  "y": [
                    459000,
                    507000,
                    508600,
                    481100,
                    476200,
                    475380,
                    577050,
                    651511,
                    686491,
                    747045,
                    735962,
                    794783,
                    780877,
                    787318,
                    817198,
                    879007
                  ]
                },
                {
                  "mode": "lines",
                  "name": "Pará",
                  "type": "scatter",
                  "x": [
                    "2004",
                    "2005",
                    "2006",
                    "2007",
                    "2008",
                    "2009",
                    "2010",
                    "2011",
                    "2012",
                    "2013",
                    "2014",
                    "2015",
                    "2016",
                    "2017",
                    "2018",
                    "2019"
                  ],
                  "y": [
                    17430496,
                    18063669,
                    17501678,
                    15353989,
                    16240697,
                    16856561,
                    17633339,
                    18262547,
                    18605051,
                    19165028,
                    19911217,
                    20271618,
                    20476783,
                    20585367,
                    20628651,
                    20953429
                  ]
                },
                {
                  "mode": "lines",
                  "name": "Amapá",
                  "type": "scatter",
                  "x": [
                    "2004",
                    "2005",
                    "2006",
                    "2007",
                    "2008",
                    "2009",
                    "2010",
                    "2011",
                    "2012",
                    "2013",
                    "2014",
                    "2015",
                    "2016",
                    "2017",
                    "2018",
                    "2019"
                  ],
                  "y": [
                    82243,
                    96599,
                    109081,
                    103170,
                    95803,
                    104977,
                    114773,
                    127499,
                    142825,
                    154967,
                    167529,
                    89682,
                    76379,
                    66921,
                    55422,
                    54296
                  ]
                },
                {
                  "mode": "lines",
                  "name": "Tocantins",
                  "type": "scatter",
                  "x": [
                    "2004",
                    "2005",
                    "2006",
                    "2007",
                    "2008",
                    "2009",
                    "2010",
                    "2011",
                    "2012",
                    "2013",
                    "2014",
                    "2015",
                    "2016",
                    "2017",
                    "2018",
                    "2019"
                  ],
                  "y": [
                    7924546,
                    7961926,
                    7760590,
                    7395450,
                    7392515,
                    7605249,
                    7994200,
                    8025400,
                    8082336,
                    8140580,
                    8062227,
                    8412404,
                    8652161,
                    8738477,
                    8352513,
                    8480724
                  ]
                },
                {
                  "mode": "lines",
                  "name": "Mato Grosso",
                  "type": "scatter",
                  "x": [
                    "2004",
                    "2005",
                    "2006",
                    "2007",
                    "2008",
                    "2009",
                    "2010",
                    "2011",
                    "2012",
                    "2013",
                    "2014",
                    "2015",
                    "2016",
                    "2017",
                    "2018",
                    "2019"
                  ],
                  "y": [
                    25918998,
                    26651500,
                    26064332,
                    25683031,
                    26018216,
                    27357089,
                    28757438,
                    29265718,
                    28740802,
                    28395205,
                    28592183,
                    29364042,
                    30296096,
                    29725378,
                    30199598,
                    31654882
                  ]
                }
              ],
              "layout": {
                "template": {
                  "data": {
                    "bar": [
                      {
                        "error_x": {
                          "color": "#2a3f5f"
                        },
                        "error_y": {
                          "color": "#2a3f5f"
                        },
                        "marker": {
                          "line": {
                            "color": "#E5ECF6",
                            "width": 0.5
                          },
                          "pattern": {
                            "fillmode": "overlay",
                            "size": 10,
                            "solidity": 0.2
                          }
                        },
                        "type": "bar"
                      }
                    ],
                    "barpolar": [
                      {
                        "marker": {
                          "line": {
                            "color": "#E5ECF6",
                            "width": 0.5
                          },
                          "pattern": {
                            "fillmode": "overlay",
                            "size": 10,
                            "solidity": 0.2
                          }
                        },
                        "type": "barpolar"
                      }
                    ],
                    "carpet": [
                      {
                        "aaxis": {
                          "endlinecolor": "#2a3f5f",
                          "gridcolor": "white",
                          "linecolor": "white",
                          "minorgridcolor": "white",
                          "startlinecolor": "#2a3f5f"
                        },
                        "baxis": {
                          "endlinecolor": "#2a3f5f",
                          "gridcolor": "white",
                          "linecolor": "white",
                          "minorgridcolor": "white",
                          "startlinecolor": "#2a3f5f"
                        },
                        "type": "carpet"
                      }
                    ],
                    "choropleth": [
                      {
                        "colorbar": {
                          "outlinewidth": 0,
                          "ticks": ""
                        },
                        "type": "choropleth"
                      }
                    ],
                    "contour": [
                      {
                        "colorbar": {
                          "outlinewidth": 0,
                          "ticks": ""
                        },
                        "colorscale": [
                          [
                            0,
                            "#0d0887"
                          ],
                          [
                            0.1111111111111111,
                            "#46039f"
                          ],
                          [
                            0.2222222222222222,
                            "#7201a8"
                          ],
                          [
                            0.3333333333333333,
                            "#9c179e"
                          ],
                          [
                            0.4444444444444444,
                            "#bd3786"
                          ],
                          [
                            0.5555555555555556,
                            "#d8576b"
                          ],
                          [
                            0.6666666666666666,
                            "#ed7953"
                          ],
                          [
                            0.7777777777777778,
                            "#fb9f3a"
                          ],
                          [
                            0.8888888888888888,
                            "#fdca26"
                          ],
                          [
                            1,
                            "#f0f921"
                          ]
                        ],
                        "type": "contour"
                      }
                    ],
                    "contourcarpet": [
                      {
                        "colorbar": {
                          "outlinewidth": 0,
                          "ticks": ""
                        },
                        "type": "contourcarpet"
                      }
                    ],
                    "heatmap": [
                      {
                        "colorbar": {
                          "outlinewidth": 0,
                          "ticks": ""
                        },
                        "colorscale": [
                          [
                            0,
                            "#0d0887"
                          ],
                          [
                            0.1111111111111111,
                            "#46039f"
                          ],
                          [
                            0.2222222222222222,
                            "#7201a8"
                          ],
                          [
                            0.3333333333333333,
                            "#9c179e"
                          ],
                          [
                            0.4444444444444444,
                            "#bd3786"
                          ],
                          [
                            0.5555555555555556,
                            "#d8576b"
                          ],
                          [
                            0.6666666666666666,
                            "#ed7953"
                          ],
                          [
                            0.7777777777777778,
                            "#fb9f3a"
                          ],
                          [
                            0.8888888888888888,
                            "#fdca26"
                          ],
                          [
                            1,
                            "#f0f921"
                          ]
                        ],
                        "type": "heatmap"
                      }
                    ],
                    "heatmapgl": [
                      {
                        "colorbar": {
                          "outlinewidth": 0,
                          "ticks": ""
                        },
                        "colorscale": [
                          [
                            0,
                            "#0d0887"
                          ],
                          [
                            0.1111111111111111,
                            "#46039f"
                          ],
                          [
                            0.2222222222222222,
                            "#7201a8"
                          ],
                          [
                            0.3333333333333333,
                            "#9c179e"
                          ],
                          [
                            0.4444444444444444,
                            "#bd3786"
                          ],
                          [
                            0.5555555555555556,
                            "#d8576b"
                          ],
                          [
                            0.6666666666666666,
                            "#ed7953"
                          ],
                          [
                            0.7777777777777778,
                            "#fb9f3a"
                          ],
                          [
                            0.8888888888888888,
                            "#fdca26"
                          ],
                          [
                            1,
                            "#f0f921"
                          ]
                        ],
                        "type": "heatmapgl"
                      }
                    ],
                    "histogram": [
                      {
                        "marker": {
                          "pattern": {
                            "fillmode": "overlay",
                            "size": 10,
                            "solidity": 0.2
                          }
                        },
                        "type": "histogram"
                      }
                    ],
                    "histogram2d": [
                      {
                        "colorbar": {
                          "outlinewidth": 0,
                          "ticks": ""
                        },
                        "colorscale": [
                          [
                            0,
                            "#0d0887"
                          ],
                          [
                            0.1111111111111111,
                            "#46039f"
                          ],
                          [
                            0.2222222222222222,
                            "#7201a8"
                          ],
                          [
                            0.3333333333333333,
                            "#9c179e"
                          ],
                          [
                            0.4444444444444444,
                            "#bd3786"
                          ],
                          [
                            0.5555555555555556,
                            "#d8576b"
                          ],
                          [
                            0.6666666666666666,
                            "#ed7953"
                          ],
                          [
                            0.7777777777777778,
                            "#fb9f3a"
                          ],
                          [
                            0.8888888888888888,
                            "#fdca26"
                          ],
                          [
                            1,
                            "#f0f921"
                          ]
                        ],
                        "type": "histogram2d"
                      }
                    ],
                    "histogram2dcontour": [
                      {
                        "colorbar": {
                          "outlinewidth": 0,
                          "ticks": ""
                        },
                        "colorscale": [
                          [
                            0,
                            "#0d0887"
                          ],
                          [
                            0.1111111111111111,
                            "#46039f"
                          ],
                          [
                            0.2222222222222222,
                            "#7201a8"
                          ],
                          [
                            0.3333333333333333,
                            "#9c179e"
                          ],
                          [
                            0.4444444444444444,
                            "#bd3786"
                          ],
                          [
                            0.5555555555555556,
                            "#d8576b"
                          ],
                          [
                            0.6666666666666666,
                            "#ed7953"
                          ],
                          [
                            0.7777777777777778,
                            "#fb9f3a"
                          ],
                          [
                            0.8888888888888888,
                            "#fdca26"
                          ],
                          [
                            1,
                            "#f0f921"
                          ]
                        ],
                        "type": "histogram2dcontour"
                      }
                    ],
                    "mesh3d": [
                      {
                        "colorbar": {
                          "outlinewidth": 0,
                          "ticks": ""
                        },
                        "type": "mesh3d"
                      }
                    ],
                    "parcoords": [
                      {
                        "line": {
                          "colorbar": {
                            "outlinewidth": 0,
                            "ticks": ""
                          }
                        },
                        "type": "parcoords"
                      }
                    ],
                    "pie": [
                      {
                        "automargin": true,
                        "type": "pie"
                      }
                    ],
                    "scatter": [
                      {
                        "fillpattern": {
                          "fillmode": "overlay",
                          "size": 10,
                          "solidity": 0.2
                        },
                        "type": "scatter"
                      }
                    ],
                    "scatter3d": [
                      {
                        "line": {
                          "colorbar": {
                            "outlinewidth": 0,
                            "ticks": ""
                          }
                        },
                        "marker": {
                          "colorbar": {
                            "outlinewidth": 0,
                            "ticks": ""
                          }
                        },
                        "type": "scatter3d"
                      }
                    ],
                    "scattercarpet": [
                      {
                        "marker": {
                          "colorbar": {
                            "outlinewidth": 0,
                            "ticks": ""
                          }
                        },
                        "type": "scattercarpet"
                      }
                    ],
                    "scattergeo": [
                      {
                        "marker": {
                          "colorbar": {
                            "outlinewidth": 0,
                            "ticks": ""
                          }
                        },
                        "type": "scattergeo"
                      }
                    ],
                    "scattergl": [
                      {
                        "marker": {
                          "colorbar": {
                            "outlinewidth": 0,
                            "ticks": ""
                          }
                        },
                        "type": "scattergl"
                      }
                    ],
                    "scattermapbox": [
                      {
                        "marker": {
                          "colorbar": {
                            "outlinewidth": 0,
                            "ticks": ""
                          }
                        },
                        "type": "scattermapbox"
                      }
                    ],
                    "scatterpolar": [
                      {
                        "marker": {
                          "colorbar": {
                            "outlinewidth": 0,
                            "ticks": ""
                          }
                        },
                        "type": "scatterpolar"
                      }
                    ],
                    "scatterpolargl": [
                      {
                        "marker": {
                          "colorbar": {
                            "outlinewidth": 0,
                            "ticks": ""
                          }
                        },
                        "type": "scatterpolargl"
                      }
                    ],
                    "scatterternary": [
                      {
                        "marker": {
                          "colorbar": {
                            "outlinewidth": 0,
                            "ticks": ""
                          }
                        },
                        "type": "scatterternary"
                      }
                    ],
                    "surface": [
                      {
                        "colorbar": {
                          "outlinewidth": 0,
                          "ticks": ""
                        },
                        "colorscale": [
                          [
                            0,
                            "#0d0887"
                          ],
                          [
                            0.1111111111111111,
                            "#46039f"
                          ],
                          [
                            0.2222222222222222,
                            "#7201a8"
                          ],
                          [
                            0.3333333333333333,
                            "#9c179e"
                          ],
                          [
                            0.4444444444444444,
                            "#bd3786"
                          ],
                          [
                            0.5555555555555556,
                            "#d8576b"
                          ],
                          [
                            0.6666666666666666,
                            "#ed7953"
                          ],
                          [
                            0.7777777777777778,
                            "#fb9f3a"
                          ],
                          [
                            0.8888888888888888,
                            "#fdca26"
                          ],
                          [
                            1,
                            "#f0f921"
                          ]
                        ],
                        "type": "surface"
                      }
                    ],
                    "table": [
                      {
                        "cells": {
                          "fill": {
                            "color": "#EBF0F8"
                          },
                          "line": {
                            "color": "white"
                          }
                        },
                        "header": {
                          "fill": {
                            "color": "#C8D4E3"
                          },
                          "line": {
                            "color": "white"
                          }
                        },
                        "type": "table"
                      }
                    ]
                  },
                  "layout": {
                    "annotationdefaults": {
                      "arrowcolor": "#2a3f5f",
                      "arrowhead": 0,
                      "arrowwidth": 1
                    },
                    "autotypenumbers": "strict",
                    "coloraxis": {
                      "colorbar": {
                        "outlinewidth": 0,
                        "ticks": ""
                      }
                    },
                    "colorscale": {
                      "diverging": [
                        [
                          0,
                          "#8e0152"
                        ],
                        [
                          0.1,
                          "#c51b7d"
                        ],
                        [
                          0.2,
                          "#de77ae"
                        ],
                        [
                          0.3,
                          "#f1b6da"
                        ],
                        [
                          0.4,
                          "#fde0ef"
                        ],
                        [
                          0.5,
                          "#f7f7f7"
                        ],
                        [
                          0.6,
                          "#e6f5d0"
                        ],
                        [
                          0.7,
                          "#b8e186"
                        ],
                        [
                          0.8,
                          "#7fbc41"
                        ],
                        [
                          0.9,
                          "#4d9221"
                        ],
                        [
                          1,
                          "#276419"
                        ]
                      ],
                      "sequential": [
                        [
                          0,
                          "#0d0887"
                        ],
                        [
                          0.1111111111111111,
                          "#46039f"
                        ],
                        [
                          0.2222222222222222,
                          "#7201a8"
                        ],
                        [
                          0.3333333333333333,
                          "#9c179e"
                        ],
                        [
                          0.4444444444444444,
                          "#bd3786"
                        ],
                        [
                          0.5555555555555556,
                          "#d8576b"
                        ],
                        [
                          0.6666666666666666,
                          "#ed7953"
                        ],
                        [
                          0.7777777777777778,
                          "#fb9f3a"
                        ],
                        [
                          0.8888888888888888,
                          "#fdca26"
                        ],
                        [
                          1,
                          "#f0f921"
                        ]
                      ],
                      "sequentialminus": [
                        [
                          0,
                          "#0d0887"
                        ],
                        [
                          0.1111111111111111,
                          "#46039f"
                        ],
                        [
                          0.2222222222222222,
                          "#7201a8"
                        ],
                        [
                          0.3333333333333333,
                          "#9c179e"
                        ],
                        [
                          0.4444444444444444,
                          "#bd3786"
                        ],
                        [
                          0.5555555555555556,
                          "#d8576b"
                        ],
                        [
                          0.6666666666666666,
                          "#ed7953"
                        ],
                        [
                          0.7777777777777778,
                          "#fb9f3a"
                        ],
                        [
                          0.8888888888888888,
                          "#fdca26"
                        ],
                        [
                          1,
                          "#f0f921"
                        ]
                      ]
                    },
                    "colorway": [
                      "#636efa",
                      "#EF553B",
                      "#00cc96",
                      "#ab63fa",
                      "#FFA15A",
                      "#19d3f3",
                      "#FF6692",
                      "#B6E880",
                      "#FF97FF",
                      "#FECB52"
                    ],
                    "font": {
                      "color": "#2a3f5f"
                    },
                    "geo": {
                      "bgcolor": "white",
                      "lakecolor": "white",
                      "landcolor": "#E5ECF6",
                      "showlakes": true,
                      "showland": true,
                      "subunitcolor": "white"
                    },
                    "hoverlabel": {
                      "align": "left"
                    },
                    "hovermode": "closest",
                    "mapbox": {
                      "style": "light"
                    },
                    "paper_bgcolor": "white",
                    "plot_bgcolor": "#E5ECF6",
                    "polar": {
                      "angularaxis": {
                        "gridcolor": "white",
                        "linecolor": "white",
                        "ticks": ""
                      },
                      "bgcolor": "#E5ECF6",
                      "radialaxis": {
                        "gridcolor": "white",
                        "linecolor": "white",
                        "ticks": ""
                      }
                    },
                    "scene": {
                      "xaxis": {
                        "backgroundcolor": "#E5ECF6",
                        "gridcolor": "white",
                        "gridwidth": 2,
                        "linecolor": "white",
                        "showbackground": true,
                        "ticks": "",
                        "zerolinecolor": "white"
                      },
                      "yaxis": {
                        "backgroundcolor": "#E5ECF6",
                        "gridcolor": "white",
                        "gridwidth": 2,
                        "linecolor": "white",
                        "showbackground": true,
                        "ticks": "",
                        "zerolinecolor": "white"
                      },
                      "zaxis": {
                        "backgroundcolor": "#E5ECF6",
                        "gridcolor": "white",
                        "gridwidth": 2,
                        "linecolor": "white",
                        "showbackground": true,
                        "ticks": "",
                        "zerolinecolor": "white"
                      }
                    },
                    "shapedefaults": {
                      "line": {
                        "color": "#2a3f5f"
                      }
                    },
                    "ternary": {
                      "aaxis": {
                        "gridcolor": "white",
                        "linecolor": "white",
                        "ticks": ""
                      },
                      "baxis": {
                        "gridcolor": "white",
                        "linecolor": "white",
                        "ticks": ""
                      },
                      "bgcolor": "#E5ECF6",
                      "caxis": {
                        "gridcolor": "white",
                        "linecolor": "white",
                        "ticks": ""
                      }
                    },
                    "title": {
                      "x": 0.05
                    },
                    "xaxis": {
                      "automargin": true,
                      "gridcolor": "white",
                      "linecolor": "white",
                      "ticks": "",
                      "title": {
                        "standoff": 15
                      },
                      "zerolinecolor": "white",
                      "zerolinewidth": 2
                    },
                    "yaxis": {
                      "automargin": true,
                      "gridcolor": "white",
                      "linecolor": "white",
                      "ticks": "",
                      "title": {
                        "standoff": 15
                      },
                      "zerolinecolor": "white",
                      "zerolinewidth": 2
                    }
                  }
                },
                "title": {
                  "text": "Evolução do Efetivo de rebanhos pecuarios por Ano"
                },
                "xaxis": {
                  "title": {
                    "text": "Ano"
                  }
                },
                "yaxis": {
                  "title": {
                    "text": "Valor"
                  }
                }
              }
            }
          },
          "metadata": {},
          "output_type": "display_data"
        }
      ],
      "source": [
        "df_pecuaria = df_pecuaria.drop(index=8)\n",
        "fig = go.Figure()\n",
        "for i in range(len(df_pecuaria)):\n",
        "    estado = df_pecuaria.iloc[i, 0]\n",
        "    valores = df_pecuaria.iloc[i, 1:]\n",
        "    fig.add_trace(go.Scatter(x=valores.index, y=valores.values, mode='lines', name=estado))\n",
        "\n",
        "fig.update_layout(title='Evolução do Efetivo de rebanhos pecuarios por Ano',\n",
        "                  xaxis_title='Ano',\n",
        "                  yaxis_title='Valor')\n",
        "\n",
        "fig.show()"
      ]
    },
    {
      "cell_type": "markdown",
      "metadata": {
        "id": "ubB0sjTRG6VM"
      },
      "source": [
        "Fica a Conclusão que a Agropecuaria influencia diretamente no desmatamento da Amazonia mas não é o unico fator, já que o MT possui indices absurdamente maiores que o PA e mesmo assim o PA lidera no rank de maior desmatamento da Amazonia."
      ]
    },
    {
      "cell_type": "markdown",
      "metadata": {
        "id": "HadN15lN7KnY"
      },
      "source": [
        "Encontrar dados com informação da população de especies da amazonia ao decorrer dos anos e avaliar mudanças, ver o impacto de criação de orgs ou qualquer outra forma de prevenção dos animais e avaliar o impacto."
      ]
    },
    {
      "cell_type": "markdown",
      "metadata": {
        "id": "KQcL5CiH4OZv"
      },
      "source": [
        "##### DB Mapa de Calor"
      ]
    },
    {
      "cell_type": "code",
      "execution_count": 14,
      "metadata": {
        "colab": {
          "base_uri": "https://localhost:8080/",
          "height": 424
        },
        "id": "Se5qFZEK4OZv",
        "outputId": "cd7ddaae-17a6-4ef4-a6b5-44f506a56340"
      },
      "outputs": [
        {
          "data": {
            "text/html": [
              "<div>\n",
              "<style scoped>\n",
              "    .dataframe tbody tr th:only-of-type {\n",
              "        vertical-align: middle;\n",
              "    }\n",
              "\n",
              "    .dataframe tbody tr th {\n",
              "        vertical-align: top;\n",
              "    }\n",
              "\n",
              "    .dataframe thead th {\n",
              "        text-align: right;\n",
              "    }\n",
              "</style>\n",
              "<table border=\"1\" class=\"dataframe\">\n",
              "  <thead>\n",
              "    <tr style=\"text-align: right;\">\n",
              "      <th></th>\n",
              "      <th>year</th>\n",
              "      <th>month</th>\n",
              "      <th>state</th>\n",
              "      <th>latitude</th>\n",
              "      <th>longitude</th>\n",
              "      <th>firespots</th>\n",
              "    </tr>\n",
              "  </thead>\n",
              "  <tbody>\n",
              "    <tr>\n",
              "      <th>0</th>\n",
              "      <td>1999</td>\n",
              "      <td>1</td>\n",
              "      <td>AMAZONAS</td>\n",
              "      <td>-2.371113</td>\n",
              "      <td>-59.899933</td>\n",
              "      <td>3</td>\n",
              "    </tr>\n",
              "    <tr>\n",
              "      <th>1</th>\n",
              "      <td>1999</td>\n",
              "      <td>1</td>\n",
              "      <td>MARANHAO</td>\n",
              "      <td>-2.257395</td>\n",
              "      <td>-45.487831</td>\n",
              "      <td>36</td>\n",
              "    </tr>\n",
              "    <tr>\n",
              "      <th>2</th>\n",
              "      <td>1999</td>\n",
              "      <td>1</td>\n",
              "      <td>MATO GROSSO</td>\n",
              "      <td>-12.660633</td>\n",
              "      <td>-55.057989</td>\n",
              "      <td>18</td>\n",
              "    </tr>\n",
              "    <tr>\n",
              "      <th>3</th>\n",
              "      <td>1999</td>\n",
              "      <td>1</td>\n",
              "      <td>PARA</td>\n",
              "      <td>-2.474820</td>\n",
              "      <td>-48.546967</td>\n",
              "      <td>87</td>\n",
              "    </tr>\n",
              "    <tr>\n",
              "      <th>4</th>\n",
              "      <td>1999</td>\n",
              "      <td>1</td>\n",
              "      <td>RONDONIA</td>\n",
              "      <td>-12.861700</td>\n",
              "      <td>-60.513100</td>\n",
              "      <td>1</td>\n",
              "    </tr>\n",
              "    <tr>\n",
              "      <th>...</th>\n",
              "      <td>...</td>\n",
              "      <td>...</td>\n",
              "      <td>...</td>\n",
              "      <td>...</td>\n",
              "      <td>...</td>\n",
              "      <td>...</td>\n",
              "    </tr>\n",
              "    <tr>\n",
              "      <th>2099</th>\n",
              "      <td>2019</td>\n",
              "      <td>12</td>\n",
              "      <td>MATO GROSSO</td>\n",
              "      <td>-12.138385</td>\n",
              "      <td>-56.066297</td>\n",
              "      <td>148</td>\n",
              "    </tr>\n",
              "    <tr>\n",
              "      <th>2100</th>\n",
              "      <td>2019</td>\n",
              "      <td>12</td>\n",
              "      <td>PARA</td>\n",
              "      <td>-2.976727</td>\n",
              "      <td>-50.909316</td>\n",
              "      <td>1280</td>\n",
              "    </tr>\n",
              "    <tr>\n",
              "      <th>2101</th>\n",
              "      <td>2019</td>\n",
              "      <td>12</td>\n",
              "      <td>RONDONIA</td>\n",
              "      <td>-10.809262</td>\n",
              "      <td>-62.890452</td>\n",
              "      <td>42</td>\n",
              "    </tr>\n",
              "    <tr>\n",
              "      <th>2102</th>\n",
              "      <td>2019</td>\n",
              "      <td>12</td>\n",
              "      <td>RORAIMA</td>\n",
              "      <td>2.856667</td>\n",
              "      <td>-60.431963</td>\n",
              "      <td>27</td>\n",
              "    </tr>\n",
              "    <tr>\n",
              "      <th>2103</th>\n",
              "      <td>2019</td>\n",
              "      <td>12</td>\n",
              "      <td>TOCANTINS</td>\n",
              "      <td>-6.769381</td>\n",
              "      <td>-48.475667</td>\n",
              "      <td>21</td>\n",
              "    </tr>\n",
              "  </tbody>\n",
              "</table>\n",
              "<p>2104 rows × 6 columns</p>\n",
              "</div>"
            ],
            "text/plain": [
              "      year  month        state   latitude  longitude  firespots\n",
              "0     1999      1     AMAZONAS  -2.371113 -59.899933          3\n",
              "1     1999      1     MARANHAO  -2.257395 -45.487831         36\n",
              "2     1999      1  MATO GROSSO -12.660633 -55.057989         18\n",
              "3     1999      1         PARA  -2.474820 -48.546967         87\n",
              "4     1999      1     RONDONIA -12.861700 -60.513100          1\n",
              "...    ...    ...          ...        ...        ...        ...\n",
              "2099  2019     12  MATO GROSSO -12.138385 -56.066297        148\n",
              "2100  2019     12         PARA  -2.976727 -50.909316       1280\n",
              "2101  2019     12     RONDONIA -10.809262 -62.890452         42\n",
              "2102  2019     12      RORAIMA   2.856667 -60.431963         27\n",
              "2103  2019     12    TOCANTINS  -6.769381 -48.475667         21\n",
              "\n",
              "[2104 rows x 6 columns]"
            ]
          },
          "execution_count": 14,
          "metadata": {},
          "output_type": "execute_result"
        }
      ],
      "source": [
        "df2 = pd.read_csv('https://raw.githubusercontent.com/MatheusRobles/Projeto_Pandas/main/inpe_brazilian_amazon_fires_1999_2019.csv')\n",
        "df2"
      ]
    },
    {
      "attachments": {},
      "cell_type": "markdown",
      "metadata": {
        "id": "mxopjELJ4OZv"
      },
      "source": [
        "Adicionando novas colunas com a região e sigla de cada estado, para analisar os focos por regiões"
      ]
    },
    {
      "cell_type": "code",
      "execution_count": 25,
      "metadata": {
        "id": "Fem0P1FT4OZv"
      },
      "outputs": [],
      "source": [
        "#dicionário: estados - região\n",
        "regioes = {'ACRE': 'Norte',\n",
        " 'ALAGOAS': 'Nordeste',\n",
        " 'AMAPA': 'Norte',\n",
        " 'AMAZONAS': 'Norte',\n",
        " 'BAHIA': 'Nordeste',\n",
        " 'CEARA': 'Nordeste',\n",
        " 'DISTRITO FEDERAL': 'Centro-Oeste',\n",
        " 'ESPIRITO SANTO': 'Sudeste',\n",
        " 'GOIAS': 'Centro-Oeste',\n",
        " 'MARANHAO': 'Nordeste',\n",
        " 'MATO GROSSO': 'Centro-Oeste',\n",
        " 'MATO GROSSO DO SUL': 'Centro-Oeste',\n",
        " 'MINAS GERAIS': 'Sudeste',\n",
        " 'PARA': 'Norte',\n",
        " 'PARAIBA': 'Nordeste',\n",
        " 'PARANA': 'Sul',\n",
        " 'PERNAMBUCO': 'Nordeste',\n",
        " 'PIAUI': 'Nordeste',\n",
        " 'RIO DE JANEIRO': 'Sudeste',\n",
        " 'RIO GRANDE DO NORTE': 'Nordeste',\n",
        " 'RIO GRANDE DO SUL': 'Sul',\n",
        " 'RONDONIA': 'Norte',\n",
        " 'RORAIMA': 'Norte',\n",
        " 'SANTA CATARINA': 'Sul',\n",
        " 'SAO PAULO': 'Sudeste',\n",
        " 'SERGIPE': 'Nordeste',\n",
        " 'TOCANTINS': 'Norte'}\n",
        "\n",
        "#inserindo a nova coluna com as regiões\n",
        "df2['region'] = df2['state']\n",
        "df2['region'].replace(regioes,inplace=True)"
      ]
    },
    {
      "cell_type": "code",
      "execution_count": 26,
      "metadata": {},
      "outputs": [
        {
          "data": {
            "text/html": [
              "<div>\n",
              "<style scoped>\n",
              "    .dataframe tbody tr th:only-of-type {\n",
              "        vertical-align: middle;\n",
              "    }\n",
              "\n",
              "    .dataframe tbody tr th {\n",
              "        vertical-align: top;\n",
              "    }\n",
              "\n",
              "    .dataframe thead th {\n",
              "        text-align: right;\n",
              "    }\n",
              "</style>\n",
              "<table border=\"1\" class=\"dataframe\">\n",
              "  <thead>\n",
              "    <tr style=\"text-align: right;\">\n",
              "      <th></th>\n",
              "      <th>year</th>\n",
              "      <th>month</th>\n",
              "      <th>state</th>\n",
              "      <th>latitude</th>\n",
              "      <th>longitude</th>\n",
              "      <th>firespots</th>\n",
              "      <th>region</th>\n",
              "      <th>sigla</th>\n",
              "    </tr>\n",
              "  </thead>\n",
              "  <tbody>\n",
              "    <tr>\n",
              "      <th>0</th>\n",
              "      <td>1999</td>\n",
              "      <td>1</td>\n",
              "      <td>AMAZONAS</td>\n",
              "      <td>-2.371113</td>\n",
              "      <td>-59.899933</td>\n",
              "      <td>3</td>\n",
              "      <td>Norte</td>\n",
              "      <td>AM</td>\n",
              "    </tr>\n",
              "    <tr>\n",
              "      <th>1</th>\n",
              "      <td>1999</td>\n",
              "      <td>1</td>\n",
              "      <td>MARANHAO</td>\n",
              "      <td>-2.257395</td>\n",
              "      <td>-45.487831</td>\n",
              "      <td>36</td>\n",
              "      <td>Nordeste</td>\n",
              "      <td>MA</td>\n",
              "    </tr>\n",
              "    <tr>\n",
              "      <th>2</th>\n",
              "      <td>1999</td>\n",
              "      <td>1</td>\n",
              "      <td>MATO GROSSO</td>\n",
              "      <td>-12.660633</td>\n",
              "      <td>-55.057989</td>\n",
              "      <td>18</td>\n",
              "      <td>Centro-Oeste</td>\n",
              "      <td>MT</td>\n",
              "    </tr>\n",
              "    <tr>\n",
              "      <th>3</th>\n",
              "      <td>1999</td>\n",
              "      <td>1</td>\n",
              "      <td>PARA</td>\n",
              "      <td>-2.474820</td>\n",
              "      <td>-48.546967</td>\n",
              "      <td>87</td>\n",
              "      <td>Norte</td>\n",
              "      <td>PA</td>\n",
              "    </tr>\n",
              "    <tr>\n",
              "      <th>4</th>\n",
              "      <td>1999</td>\n",
              "      <td>1</td>\n",
              "      <td>RONDONIA</td>\n",
              "      <td>-12.861700</td>\n",
              "      <td>-60.513100</td>\n",
              "      <td>1</td>\n",
              "      <td>Norte</td>\n",
              "      <td>RO</td>\n",
              "    </tr>\n",
              "    <tr>\n",
              "      <th>...</th>\n",
              "      <td>...</td>\n",
              "      <td>...</td>\n",
              "      <td>...</td>\n",
              "      <td>...</td>\n",
              "      <td>...</td>\n",
              "      <td>...</td>\n",
              "      <td>...</td>\n",
              "      <td>...</td>\n",
              "    </tr>\n",
              "    <tr>\n",
              "      <th>2099</th>\n",
              "      <td>2019</td>\n",
              "      <td>12</td>\n",
              "      <td>MATO GROSSO</td>\n",
              "      <td>-12.138385</td>\n",
              "      <td>-56.066297</td>\n",
              "      <td>148</td>\n",
              "      <td>Centro-Oeste</td>\n",
              "      <td>MT</td>\n",
              "    </tr>\n",
              "    <tr>\n",
              "      <th>2100</th>\n",
              "      <td>2019</td>\n",
              "      <td>12</td>\n",
              "      <td>PARA</td>\n",
              "      <td>-2.976727</td>\n",
              "      <td>-50.909316</td>\n",
              "      <td>1280</td>\n",
              "      <td>Norte</td>\n",
              "      <td>PA</td>\n",
              "    </tr>\n",
              "    <tr>\n",
              "      <th>2101</th>\n",
              "      <td>2019</td>\n",
              "      <td>12</td>\n",
              "      <td>RONDONIA</td>\n",
              "      <td>-10.809262</td>\n",
              "      <td>-62.890452</td>\n",
              "      <td>42</td>\n",
              "      <td>Norte</td>\n",
              "      <td>RO</td>\n",
              "    </tr>\n",
              "    <tr>\n",
              "      <th>2102</th>\n",
              "      <td>2019</td>\n",
              "      <td>12</td>\n",
              "      <td>RORAIMA</td>\n",
              "      <td>2.856667</td>\n",
              "      <td>-60.431963</td>\n",
              "      <td>27</td>\n",
              "      <td>Norte</td>\n",
              "      <td>RR</td>\n",
              "    </tr>\n",
              "    <tr>\n",
              "      <th>2103</th>\n",
              "      <td>2019</td>\n",
              "      <td>12</td>\n",
              "      <td>TOCANTINS</td>\n",
              "      <td>-6.769381</td>\n",
              "      <td>-48.475667</td>\n",
              "      <td>21</td>\n",
              "      <td>Norte</td>\n",
              "      <td>TO</td>\n",
              "    </tr>\n",
              "  </tbody>\n",
              "</table>\n",
              "<p>2104 rows × 8 columns</p>\n",
              "</div>"
            ],
            "text/plain": [
              "      year  month        state   latitude  longitude  firespots        region  \\\n",
              "0     1999      1     AMAZONAS  -2.371113 -59.899933          3         Norte   \n",
              "1     1999      1     MARANHAO  -2.257395 -45.487831         36      Nordeste   \n",
              "2     1999      1  MATO GROSSO -12.660633 -55.057989         18  Centro-Oeste   \n",
              "3     1999      1         PARA  -2.474820 -48.546967         87         Norte   \n",
              "4     1999      1     RONDONIA -12.861700 -60.513100          1         Norte   \n",
              "...    ...    ...          ...        ...        ...        ...           ...   \n",
              "2099  2019     12  MATO GROSSO -12.138385 -56.066297        148  Centro-Oeste   \n",
              "2100  2019     12         PARA  -2.976727 -50.909316       1280         Norte   \n",
              "2101  2019     12     RONDONIA -10.809262 -62.890452         42         Norte   \n",
              "2102  2019     12      RORAIMA   2.856667 -60.431963         27         Norte   \n",
              "2103  2019     12    TOCANTINS  -6.769381 -48.475667         21         Norte   \n",
              "\n",
              "     sigla  \n",
              "0       AM  \n",
              "1       MA  \n",
              "2       MT  \n",
              "3       PA  \n",
              "4       RO  \n",
              "...    ...  \n",
              "2099    MT  \n",
              "2100    PA  \n",
              "2101    RO  \n",
              "2102    RR  \n",
              "2103    TO  \n",
              "\n",
              "[2104 rows x 8 columns]"
            ]
          },
          "execution_count": 26,
          "metadata": {},
          "output_type": "execute_result"
        }
      ],
      "source": [
        "#dicionário: estados - sigla\n",
        "siglas = {\n",
        " 'ACRE': 'AC',\n",
        " 'ALAGOAS': 'AL',\n",
        " 'AMAPA': 'AP',\n",
        " 'AMAZONAS': 'AM',\n",
        " 'BAHIA': 'BA',\n",
        " 'CEARA': 'CE',\n",
        " 'DISTRITO FEDERAL': 'DF',\n",
        " 'ESPIRITO SANTO': 'ES',\n",
        " 'GOIAS': 'GO',\n",
        " 'MARANHAO': 'MA',\n",
        " 'MATO GROSSO': 'MT',\n",
        " 'MATO GROSSO DO SUL': 'MS',\n",
        " 'MINAS GERAIS': 'MG',\n",
        " 'PARA': 'PA',\n",
        " 'PARAIBA': 'PB',\n",
        " 'PARANA': 'PR',\n",
        " 'PERNAMBUCO': 'PE',\n",
        " 'PIAUI': 'PI',\n",
        " 'RIO DE JANEIRO': 'RJ',\n",
        " 'RIO GRANDE DO NORTE': 'RN',\n",
        " 'RIO GRANDE DO SUL': 'RS',\n",
        " 'RONDONIA': 'RO',\n",
        " 'RORAIMA': 'RR',\n",
        " 'SANTA CATARINA': 'SC',\n",
        " 'SAO PAULO': 'SP',\n",
        " 'SERGIPE': 'SE',\n",
        " 'TOCANTINS': 'TO'\n",
        "}\n",
        "\n",
        "#inserindo a nova coluna com as siglas\n",
        "df2['sigla'] = df2['state']\n",
        "df2['sigla'].replace(siglas,inplace=True)\n",
        "df2"
      ]
    },
    {
      "cell_type": "code",
      "execution_count": 17,
      "metadata": {
        "colab": {
          "base_uri": "https://localhost:8080/"
        },
        "id": "Uvo0CcFA4OZv",
        "outputId": "65273e02-d8e9-4b6d-b121-883181ea14ef"
      },
      "outputs": [
        {
          "data": {
            "text/plain": [
              "year         0\n",
              "month        0\n",
              "state        0\n",
              "latitude     0\n",
              "longitude    0\n",
              "firespots    0\n",
              "region       0\n",
              "dtype: int64"
            ]
          },
          "execution_count": 17,
          "metadata": {},
          "output_type": "execute_result"
        }
      ],
      "source": [
        "# verificando valores nulos em cada coluna\n",
        "df2.isnull().sum()"
      ]
    },
    {
      "cell_type": "code",
      "execution_count": 18,
      "metadata": {
        "colab": {
          "base_uri": "https://localhost:8080/",
          "height": 542
        },
        "id": "Ye-OjQ9_XSmq",
        "outputId": "437aa901-a6d0-47c2-e2ae-12c7db54fbc4"
      },
      "outputs": [
        {
          "data": {
            "application/vnd.plotly.v1+json": {
              "config": {
                "plotlyServerURL": "https://plot.ly"
              },
              "data": [
                {
                  "type": "bar",
                  "x": [
                    "Centro-Oeste",
                    "Nordeste",
                    "Norte"
                  ],
                  "y": [
                    595378,
                    160543,
                    1700326
                  ]
                }
              ],
              "layout": {
                "template": {
                  "data": {
                    "bar": [
                      {
                        "error_x": {
                          "color": "#2a3f5f"
                        },
                        "error_y": {
                          "color": "#2a3f5f"
                        },
                        "marker": {
                          "line": {
                            "color": "#E5ECF6",
                            "width": 0.5
                          },
                          "pattern": {
                            "fillmode": "overlay",
                            "size": 10,
                            "solidity": 0.2
                          }
                        },
                        "type": "bar"
                      }
                    ],
                    "barpolar": [
                      {
                        "marker": {
                          "line": {
                            "color": "#E5ECF6",
                            "width": 0.5
                          },
                          "pattern": {
                            "fillmode": "overlay",
                            "size": 10,
                            "solidity": 0.2
                          }
                        },
                        "type": "barpolar"
                      }
                    ],
                    "carpet": [
                      {
                        "aaxis": {
                          "endlinecolor": "#2a3f5f",
                          "gridcolor": "white",
                          "linecolor": "white",
                          "minorgridcolor": "white",
                          "startlinecolor": "#2a3f5f"
                        },
                        "baxis": {
                          "endlinecolor": "#2a3f5f",
                          "gridcolor": "white",
                          "linecolor": "white",
                          "minorgridcolor": "white",
                          "startlinecolor": "#2a3f5f"
                        },
                        "type": "carpet"
                      }
                    ],
                    "choropleth": [
                      {
                        "colorbar": {
                          "outlinewidth": 0,
                          "ticks": ""
                        },
                        "type": "choropleth"
                      }
                    ],
                    "contour": [
                      {
                        "colorbar": {
                          "outlinewidth": 0,
                          "ticks": ""
                        },
                        "colorscale": [
                          [
                            0,
                            "#0d0887"
                          ],
                          [
                            0.1111111111111111,
                            "#46039f"
                          ],
                          [
                            0.2222222222222222,
                            "#7201a8"
                          ],
                          [
                            0.3333333333333333,
                            "#9c179e"
                          ],
                          [
                            0.4444444444444444,
                            "#bd3786"
                          ],
                          [
                            0.5555555555555556,
                            "#d8576b"
                          ],
                          [
                            0.6666666666666666,
                            "#ed7953"
                          ],
                          [
                            0.7777777777777778,
                            "#fb9f3a"
                          ],
                          [
                            0.8888888888888888,
                            "#fdca26"
                          ],
                          [
                            1,
                            "#f0f921"
                          ]
                        ],
                        "type": "contour"
                      }
                    ],
                    "contourcarpet": [
                      {
                        "colorbar": {
                          "outlinewidth": 0,
                          "ticks": ""
                        },
                        "type": "contourcarpet"
                      }
                    ],
                    "heatmap": [
                      {
                        "colorbar": {
                          "outlinewidth": 0,
                          "ticks": ""
                        },
                        "colorscale": [
                          [
                            0,
                            "#0d0887"
                          ],
                          [
                            0.1111111111111111,
                            "#46039f"
                          ],
                          [
                            0.2222222222222222,
                            "#7201a8"
                          ],
                          [
                            0.3333333333333333,
                            "#9c179e"
                          ],
                          [
                            0.4444444444444444,
                            "#bd3786"
                          ],
                          [
                            0.5555555555555556,
                            "#d8576b"
                          ],
                          [
                            0.6666666666666666,
                            "#ed7953"
                          ],
                          [
                            0.7777777777777778,
                            "#fb9f3a"
                          ],
                          [
                            0.8888888888888888,
                            "#fdca26"
                          ],
                          [
                            1,
                            "#f0f921"
                          ]
                        ],
                        "type": "heatmap"
                      }
                    ],
                    "heatmapgl": [
                      {
                        "colorbar": {
                          "outlinewidth": 0,
                          "ticks": ""
                        },
                        "colorscale": [
                          [
                            0,
                            "#0d0887"
                          ],
                          [
                            0.1111111111111111,
                            "#46039f"
                          ],
                          [
                            0.2222222222222222,
                            "#7201a8"
                          ],
                          [
                            0.3333333333333333,
                            "#9c179e"
                          ],
                          [
                            0.4444444444444444,
                            "#bd3786"
                          ],
                          [
                            0.5555555555555556,
                            "#d8576b"
                          ],
                          [
                            0.6666666666666666,
                            "#ed7953"
                          ],
                          [
                            0.7777777777777778,
                            "#fb9f3a"
                          ],
                          [
                            0.8888888888888888,
                            "#fdca26"
                          ],
                          [
                            1,
                            "#f0f921"
                          ]
                        ],
                        "type": "heatmapgl"
                      }
                    ],
                    "histogram": [
                      {
                        "marker": {
                          "pattern": {
                            "fillmode": "overlay",
                            "size": 10,
                            "solidity": 0.2
                          }
                        },
                        "type": "histogram"
                      }
                    ],
                    "histogram2d": [
                      {
                        "colorbar": {
                          "outlinewidth": 0,
                          "ticks": ""
                        },
                        "colorscale": [
                          [
                            0,
                            "#0d0887"
                          ],
                          [
                            0.1111111111111111,
                            "#46039f"
                          ],
                          [
                            0.2222222222222222,
                            "#7201a8"
                          ],
                          [
                            0.3333333333333333,
                            "#9c179e"
                          ],
                          [
                            0.4444444444444444,
                            "#bd3786"
                          ],
                          [
                            0.5555555555555556,
                            "#d8576b"
                          ],
                          [
                            0.6666666666666666,
                            "#ed7953"
                          ],
                          [
                            0.7777777777777778,
                            "#fb9f3a"
                          ],
                          [
                            0.8888888888888888,
                            "#fdca26"
                          ],
                          [
                            1,
                            "#f0f921"
                          ]
                        ],
                        "type": "histogram2d"
                      }
                    ],
                    "histogram2dcontour": [
                      {
                        "colorbar": {
                          "outlinewidth": 0,
                          "ticks": ""
                        },
                        "colorscale": [
                          [
                            0,
                            "#0d0887"
                          ],
                          [
                            0.1111111111111111,
                            "#46039f"
                          ],
                          [
                            0.2222222222222222,
                            "#7201a8"
                          ],
                          [
                            0.3333333333333333,
                            "#9c179e"
                          ],
                          [
                            0.4444444444444444,
                            "#bd3786"
                          ],
                          [
                            0.5555555555555556,
                            "#d8576b"
                          ],
                          [
                            0.6666666666666666,
                            "#ed7953"
                          ],
                          [
                            0.7777777777777778,
                            "#fb9f3a"
                          ],
                          [
                            0.8888888888888888,
                            "#fdca26"
                          ],
                          [
                            1,
                            "#f0f921"
                          ]
                        ],
                        "type": "histogram2dcontour"
                      }
                    ],
                    "mesh3d": [
                      {
                        "colorbar": {
                          "outlinewidth": 0,
                          "ticks": ""
                        },
                        "type": "mesh3d"
                      }
                    ],
                    "parcoords": [
                      {
                        "line": {
                          "colorbar": {
                            "outlinewidth": 0,
                            "ticks": ""
                          }
                        },
                        "type": "parcoords"
                      }
                    ],
                    "pie": [
                      {
                        "automargin": true,
                        "type": "pie"
                      }
                    ],
                    "scatter": [
                      {
                        "fillpattern": {
                          "fillmode": "overlay",
                          "size": 10,
                          "solidity": 0.2
                        },
                        "type": "scatter"
                      }
                    ],
                    "scatter3d": [
                      {
                        "line": {
                          "colorbar": {
                            "outlinewidth": 0,
                            "ticks": ""
                          }
                        },
                        "marker": {
                          "colorbar": {
                            "outlinewidth": 0,
                            "ticks": ""
                          }
                        },
                        "type": "scatter3d"
                      }
                    ],
                    "scattercarpet": [
                      {
                        "marker": {
                          "colorbar": {
                            "outlinewidth": 0,
                            "ticks": ""
                          }
                        },
                        "type": "scattercarpet"
                      }
                    ],
                    "scattergeo": [
                      {
                        "marker": {
                          "colorbar": {
                            "outlinewidth": 0,
                            "ticks": ""
                          }
                        },
                        "type": "scattergeo"
                      }
                    ],
                    "scattergl": [
                      {
                        "marker": {
                          "colorbar": {
                            "outlinewidth": 0,
                            "ticks": ""
                          }
                        },
                        "type": "scattergl"
                      }
                    ],
                    "scattermapbox": [
                      {
                        "marker": {
                          "colorbar": {
                            "outlinewidth": 0,
                            "ticks": ""
                          }
                        },
                        "type": "scattermapbox"
                      }
                    ],
                    "scatterpolar": [
                      {
                        "marker": {
                          "colorbar": {
                            "outlinewidth": 0,
                            "ticks": ""
                          }
                        },
                        "type": "scatterpolar"
                      }
                    ],
                    "scatterpolargl": [
                      {
                        "marker": {
                          "colorbar": {
                            "outlinewidth": 0,
                            "ticks": ""
                          }
                        },
                        "type": "scatterpolargl"
                      }
                    ],
                    "scatterternary": [
                      {
                        "marker": {
                          "colorbar": {
                            "outlinewidth": 0,
                            "ticks": ""
                          }
                        },
                        "type": "scatterternary"
                      }
                    ],
                    "surface": [
                      {
                        "colorbar": {
                          "outlinewidth": 0,
                          "ticks": ""
                        },
                        "colorscale": [
                          [
                            0,
                            "#0d0887"
                          ],
                          [
                            0.1111111111111111,
                            "#46039f"
                          ],
                          [
                            0.2222222222222222,
                            "#7201a8"
                          ],
                          [
                            0.3333333333333333,
                            "#9c179e"
                          ],
                          [
                            0.4444444444444444,
                            "#bd3786"
                          ],
                          [
                            0.5555555555555556,
                            "#d8576b"
                          ],
                          [
                            0.6666666666666666,
                            "#ed7953"
                          ],
                          [
                            0.7777777777777778,
                            "#fb9f3a"
                          ],
                          [
                            0.8888888888888888,
                            "#fdca26"
                          ],
                          [
                            1,
                            "#f0f921"
                          ]
                        ],
                        "type": "surface"
                      }
                    ],
                    "table": [
                      {
                        "cells": {
                          "fill": {
                            "color": "#EBF0F8"
                          },
                          "line": {
                            "color": "white"
                          }
                        },
                        "header": {
                          "fill": {
                            "color": "#C8D4E3"
                          },
                          "line": {
                            "color": "white"
                          }
                        },
                        "type": "table"
                      }
                    ]
                  },
                  "layout": {
                    "annotationdefaults": {
                      "arrowcolor": "#2a3f5f",
                      "arrowhead": 0,
                      "arrowwidth": 1
                    },
                    "autotypenumbers": "strict",
                    "coloraxis": {
                      "colorbar": {
                        "outlinewidth": 0,
                        "ticks": ""
                      }
                    },
                    "colorscale": {
                      "diverging": [
                        [
                          0,
                          "#8e0152"
                        ],
                        [
                          0.1,
                          "#c51b7d"
                        ],
                        [
                          0.2,
                          "#de77ae"
                        ],
                        [
                          0.3,
                          "#f1b6da"
                        ],
                        [
                          0.4,
                          "#fde0ef"
                        ],
                        [
                          0.5,
                          "#f7f7f7"
                        ],
                        [
                          0.6,
                          "#e6f5d0"
                        ],
                        [
                          0.7,
                          "#b8e186"
                        ],
                        [
                          0.8,
                          "#7fbc41"
                        ],
                        [
                          0.9,
                          "#4d9221"
                        ],
                        [
                          1,
                          "#276419"
                        ]
                      ],
                      "sequential": [
                        [
                          0,
                          "#0d0887"
                        ],
                        [
                          0.1111111111111111,
                          "#46039f"
                        ],
                        [
                          0.2222222222222222,
                          "#7201a8"
                        ],
                        [
                          0.3333333333333333,
                          "#9c179e"
                        ],
                        [
                          0.4444444444444444,
                          "#bd3786"
                        ],
                        [
                          0.5555555555555556,
                          "#d8576b"
                        ],
                        [
                          0.6666666666666666,
                          "#ed7953"
                        ],
                        [
                          0.7777777777777778,
                          "#fb9f3a"
                        ],
                        [
                          0.8888888888888888,
                          "#fdca26"
                        ],
                        [
                          1,
                          "#f0f921"
                        ]
                      ],
                      "sequentialminus": [
                        [
                          0,
                          "#0d0887"
                        ],
                        [
                          0.1111111111111111,
                          "#46039f"
                        ],
                        [
                          0.2222222222222222,
                          "#7201a8"
                        ],
                        [
                          0.3333333333333333,
                          "#9c179e"
                        ],
                        [
                          0.4444444444444444,
                          "#bd3786"
                        ],
                        [
                          0.5555555555555556,
                          "#d8576b"
                        ],
                        [
                          0.6666666666666666,
                          "#ed7953"
                        ],
                        [
                          0.7777777777777778,
                          "#fb9f3a"
                        ],
                        [
                          0.8888888888888888,
                          "#fdca26"
                        ],
                        [
                          1,
                          "#f0f921"
                        ]
                      ]
                    },
                    "colorway": [
                      "#636efa",
                      "#EF553B",
                      "#00cc96",
                      "#ab63fa",
                      "#FFA15A",
                      "#19d3f3",
                      "#FF6692",
                      "#B6E880",
                      "#FF97FF",
                      "#FECB52"
                    ],
                    "font": {
                      "color": "#2a3f5f"
                    },
                    "geo": {
                      "bgcolor": "white",
                      "lakecolor": "white",
                      "landcolor": "#E5ECF6",
                      "showlakes": true,
                      "showland": true,
                      "subunitcolor": "white"
                    },
                    "hoverlabel": {
                      "align": "left"
                    },
                    "hovermode": "closest",
                    "mapbox": {
                      "style": "light"
                    },
                    "paper_bgcolor": "white",
                    "plot_bgcolor": "#E5ECF6",
                    "polar": {
                      "angularaxis": {
                        "gridcolor": "white",
                        "linecolor": "white",
                        "ticks": ""
                      },
                      "bgcolor": "#E5ECF6",
                      "radialaxis": {
                        "gridcolor": "white",
                        "linecolor": "white",
                        "ticks": ""
                      }
                    },
                    "scene": {
                      "xaxis": {
                        "backgroundcolor": "#E5ECF6",
                        "gridcolor": "white",
                        "gridwidth": 2,
                        "linecolor": "white",
                        "showbackground": true,
                        "ticks": "",
                        "zerolinecolor": "white"
                      },
                      "yaxis": {
                        "backgroundcolor": "#E5ECF6",
                        "gridcolor": "white",
                        "gridwidth": 2,
                        "linecolor": "white",
                        "showbackground": true,
                        "ticks": "",
                        "zerolinecolor": "white"
                      },
                      "zaxis": {
                        "backgroundcolor": "#E5ECF6",
                        "gridcolor": "white",
                        "gridwidth": 2,
                        "linecolor": "white",
                        "showbackground": true,
                        "ticks": "",
                        "zerolinecolor": "white"
                      }
                    },
                    "shapedefaults": {
                      "line": {
                        "color": "#2a3f5f"
                      }
                    },
                    "ternary": {
                      "aaxis": {
                        "gridcolor": "white",
                        "linecolor": "white",
                        "ticks": ""
                      },
                      "baxis": {
                        "gridcolor": "white",
                        "linecolor": "white",
                        "ticks": ""
                      },
                      "bgcolor": "#E5ECF6",
                      "caxis": {
                        "gridcolor": "white",
                        "linecolor": "white",
                        "ticks": ""
                      }
                    },
                    "title": {
                      "x": 0.05
                    },
                    "xaxis": {
                      "automargin": true,
                      "gridcolor": "white",
                      "linecolor": "white",
                      "ticks": "",
                      "title": {
                        "standoff": 15
                      },
                      "zerolinecolor": "white",
                      "zerolinewidth": 2
                    },
                    "yaxis": {
                      "automargin": true,
                      "gridcolor": "white",
                      "linecolor": "white",
                      "ticks": "",
                      "title": {
                        "standoff": 15
                      },
                      "zerolinecolor": "white",
                      "zerolinewidth": 2
                    }
                  }
                },
                "title": {
                  "text": "Focos de Incêndio - 1999 a 2019"
                },
                "xaxis": {
                  "title": {
                    "text": "Região"
                  }
                },
                "yaxis": {
                  "title": {
                    "text": "Quantidade"
                  }
                }
              }
            }
          },
          "metadata": {},
          "output_type": "display_data"
        }
      ],
      "source": [
        "df2_grouped = df2.groupby('region')['firespots'].sum().reset_index()\n",
        "fig = go.Figure()\n",
        "fig.add_trace(go.Bar(x=df2_grouped['region'], y=df2_grouped['firespots']))\n",
        "fig.update_layout(title='Focos de Incêndio - 1999 a 2019', xaxis_title='Região', yaxis_title='Quantidade')\n",
        "\n",
        "fig.show()"
      ]
    },
    {
      "cell_type": "code",
      "execution_count": 19,
      "metadata": {
        "colab": {
          "base_uri": "https://localhost:8080/",
          "height": 542
        },
        "id": "m38_F4iZYI4y",
        "outputId": "445cb67e-5d26-473c-c038-32479a054112"
      },
      "outputs": [
        {
          "data": {
            "application/vnd.plotly.v1+json": {
              "config": {
                "plotlyServerURL": "https://plot.ly"
              },
              "data": [
                {
                  "labels": [
                    "ACRE",
                    "AMAPA",
                    "AMAZONAS",
                    "MARANHAO",
                    "MATO GROSSO",
                    "PARA",
                    "RONDONIA",
                    "RORAIMA",
                    "TOCANTINS"
                  ],
                  "type": "pie",
                  "values": [
                    126471,
                    39337,
                    188483,
                    160543,
                    595378,
                    942283,
                    340517,
                    46981,
                    16254
                  ]
                }
              ],
              "layout": {
                "template": {
                  "data": {
                    "bar": [
                      {
                        "error_x": {
                          "color": "#2a3f5f"
                        },
                        "error_y": {
                          "color": "#2a3f5f"
                        },
                        "marker": {
                          "line": {
                            "color": "#E5ECF6",
                            "width": 0.5
                          },
                          "pattern": {
                            "fillmode": "overlay",
                            "size": 10,
                            "solidity": 0.2
                          }
                        },
                        "type": "bar"
                      }
                    ],
                    "barpolar": [
                      {
                        "marker": {
                          "line": {
                            "color": "#E5ECF6",
                            "width": 0.5
                          },
                          "pattern": {
                            "fillmode": "overlay",
                            "size": 10,
                            "solidity": 0.2
                          }
                        },
                        "type": "barpolar"
                      }
                    ],
                    "carpet": [
                      {
                        "aaxis": {
                          "endlinecolor": "#2a3f5f",
                          "gridcolor": "white",
                          "linecolor": "white",
                          "minorgridcolor": "white",
                          "startlinecolor": "#2a3f5f"
                        },
                        "baxis": {
                          "endlinecolor": "#2a3f5f",
                          "gridcolor": "white",
                          "linecolor": "white",
                          "minorgridcolor": "white",
                          "startlinecolor": "#2a3f5f"
                        },
                        "type": "carpet"
                      }
                    ],
                    "choropleth": [
                      {
                        "colorbar": {
                          "outlinewidth": 0,
                          "ticks": ""
                        },
                        "type": "choropleth"
                      }
                    ],
                    "contour": [
                      {
                        "colorbar": {
                          "outlinewidth": 0,
                          "ticks": ""
                        },
                        "colorscale": [
                          [
                            0,
                            "#0d0887"
                          ],
                          [
                            0.1111111111111111,
                            "#46039f"
                          ],
                          [
                            0.2222222222222222,
                            "#7201a8"
                          ],
                          [
                            0.3333333333333333,
                            "#9c179e"
                          ],
                          [
                            0.4444444444444444,
                            "#bd3786"
                          ],
                          [
                            0.5555555555555556,
                            "#d8576b"
                          ],
                          [
                            0.6666666666666666,
                            "#ed7953"
                          ],
                          [
                            0.7777777777777778,
                            "#fb9f3a"
                          ],
                          [
                            0.8888888888888888,
                            "#fdca26"
                          ],
                          [
                            1,
                            "#f0f921"
                          ]
                        ],
                        "type": "contour"
                      }
                    ],
                    "contourcarpet": [
                      {
                        "colorbar": {
                          "outlinewidth": 0,
                          "ticks": ""
                        },
                        "type": "contourcarpet"
                      }
                    ],
                    "heatmap": [
                      {
                        "colorbar": {
                          "outlinewidth": 0,
                          "ticks": ""
                        },
                        "colorscale": [
                          [
                            0,
                            "#0d0887"
                          ],
                          [
                            0.1111111111111111,
                            "#46039f"
                          ],
                          [
                            0.2222222222222222,
                            "#7201a8"
                          ],
                          [
                            0.3333333333333333,
                            "#9c179e"
                          ],
                          [
                            0.4444444444444444,
                            "#bd3786"
                          ],
                          [
                            0.5555555555555556,
                            "#d8576b"
                          ],
                          [
                            0.6666666666666666,
                            "#ed7953"
                          ],
                          [
                            0.7777777777777778,
                            "#fb9f3a"
                          ],
                          [
                            0.8888888888888888,
                            "#fdca26"
                          ],
                          [
                            1,
                            "#f0f921"
                          ]
                        ],
                        "type": "heatmap"
                      }
                    ],
                    "heatmapgl": [
                      {
                        "colorbar": {
                          "outlinewidth": 0,
                          "ticks": ""
                        },
                        "colorscale": [
                          [
                            0,
                            "#0d0887"
                          ],
                          [
                            0.1111111111111111,
                            "#46039f"
                          ],
                          [
                            0.2222222222222222,
                            "#7201a8"
                          ],
                          [
                            0.3333333333333333,
                            "#9c179e"
                          ],
                          [
                            0.4444444444444444,
                            "#bd3786"
                          ],
                          [
                            0.5555555555555556,
                            "#d8576b"
                          ],
                          [
                            0.6666666666666666,
                            "#ed7953"
                          ],
                          [
                            0.7777777777777778,
                            "#fb9f3a"
                          ],
                          [
                            0.8888888888888888,
                            "#fdca26"
                          ],
                          [
                            1,
                            "#f0f921"
                          ]
                        ],
                        "type": "heatmapgl"
                      }
                    ],
                    "histogram": [
                      {
                        "marker": {
                          "pattern": {
                            "fillmode": "overlay",
                            "size": 10,
                            "solidity": 0.2
                          }
                        },
                        "type": "histogram"
                      }
                    ],
                    "histogram2d": [
                      {
                        "colorbar": {
                          "outlinewidth": 0,
                          "ticks": ""
                        },
                        "colorscale": [
                          [
                            0,
                            "#0d0887"
                          ],
                          [
                            0.1111111111111111,
                            "#46039f"
                          ],
                          [
                            0.2222222222222222,
                            "#7201a8"
                          ],
                          [
                            0.3333333333333333,
                            "#9c179e"
                          ],
                          [
                            0.4444444444444444,
                            "#bd3786"
                          ],
                          [
                            0.5555555555555556,
                            "#d8576b"
                          ],
                          [
                            0.6666666666666666,
                            "#ed7953"
                          ],
                          [
                            0.7777777777777778,
                            "#fb9f3a"
                          ],
                          [
                            0.8888888888888888,
                            "#fdca26"
                          ],
                          [
                            1,
                            "#f0f921"
                          ]
                        ],
                        "type": "histogram2d"
                      }
                    ],
                    "histogram2dcontour": [
                      {
                        "colorbar": {
                          "outlinewidth": 0,
                          "ticks": ""
                        },
                        "colorscale": [
                          [
                            0,
                            "#0d0887"
                          ],
                          [
                            0.1111111111111111,
                            "#46039f"
                          ],
                          [
                            0.2222222222222222,
                            "#7201a8"
                          ],
                          [
                            0.3333333333333333,
                            "#9c179e"
                          ],
                          [
                            0.4444444444444444,
                            "#bd3786"
                          ],
                          [
                            0.5555555555555556,
                            "#d8576b"
                          ],
                          [
                            0.6666666666666666,
                            "#ed7953"
                          ],
                          [
                            0.7777777777777778,
                            "#fb9f3a"
                          ],
                          [
                            0.8888888888888888,
                            "#fdca26"
                          ],
                          [
                            1,
                            "#f0f921"
                          ]
                        ],
                        "type": "histogram2dcontour"
                      }
                    ],
                    "mesh3d": [
                      {
                        "colorbar": {
                          "outlinewidth": 0,
                          "ticks": ""
                        },
                        "type": "mesh3d"
                      }
                    ],
                    "parcoords": [
                      {
                        "line": {
                          "colorbar": {
                            "outlinewidth": 0,
                            "ticks": ""
                          }
                        },
                        "type": "parcoords"
                      }
                    ],
                    "pie": [
                      {
                        "automargin": true,
                        "type": "pie"
                      }
                    ],
                    "scatter": [
                      {
                        "fillpattern": {
                          "fillmode": "overlay",
                          "size": 10,
                          "solidity": 0.2
                        },
                        "type": "scatter"
                      }
                    ],
                    "scatter3d": [
                      {
                        "line": {
                          "colorbar": {
                            "outlinewidth": 0,
                            "ticks": ""
                          }
                        },
                        "marker": {
                          "colorbar": {
                            "outlinewidth": 0,
                            "ticks": ""
                          }
                        },
                        "type": "scatter3d"
                      }
                    ],
                    "scattercarpet": [
                      {
                        "marker": {
                          "colorbar": {
                            "outlinewidth": 0,
                            "ticks": ""
                          }
                        },
                        "type": "scattercarpet"
                      }
                    ],
                    "scattergeo": [
                      {
                        "marker": {
                          "colorbar": {
                            "outlinewidth": 0,
                            "ticks": ""
                          }
                        },
                        "type": "scattergeo"
                      }
                    ],
                    "scattergl": [
                      {
                        "marker": {
                          "colorbar": {
                            "outlinewidth": 0,
                            "ticks": ""
                          }
                        },
                        "type": "scattergl"
                      }
                    ],
                    "scattermapbox": [
                      {
                        "marker": {
                          "colorbar": {
                            "outlinewidth": 0,
                            "ticks": ""
                          }
                        },
                        "type": "scattermapbox"
                      }
                    ],
                    "scatterpolar": [
                      {
                        "marker": {
                          "colorbar": {
                            "outlinewidth": 0,
                            "ticks": ""
                          }
                        },
                        "type": "scatterpolar"
                      }
                    ],
                    "scatterpolargl": [
                      {
                        "marker": {
                          "colorbar": {
                            "outlinewidth": 0,
                            "ticks": ""
                          }
                        },
                        "type": "scatterpolargl"
                      }
                    ],
                    "scatterternary": [
                      {
                        "marker": {
                          "colorbar": {
                            "outlinewidth": 0,
                            "ticks": ""
                          }
                        },
                        "type": "scatterternary"
                      }
                    ],
                    "surface": [
                      {
                        "colorbar": {
                          "outlinewidth": 0,
                          "ticks": ""
                        },
                        "colorscale": [
                          [
                            0,
                            "#0d0887"
                          ],
                          [
                            0.1111111111111111,
                            "#46039f"
                          ],
                          [
                            0.2222222222222222,
                            "#7201a8"
                          ],
                          [
                            0.3333333333333333,
                            "#9c179e"
                          ],
                          [
                            0.4444444444444444,
                            "#bd3786"
                          ],
                          [
                            0.5555555555555556,
                            "#d8576b"
                          ],
                          [
                            0.6666666666666666,
                            "#ed7953"
                          ],
                          [
                            0.7777777777777778,
                            "#fb9f3a"
                          ],
                          [
                            0.8888888888888888,
                            "#fdca26"
                          ],
                          [
                            1,
                            "#f0f921"
                          ]
                        ],
                        "type": "surface"
                      }
                    ],
                    "table": [
                      {
                        "cells": {
                          "fill": {
                            "color": "#EBF0F8"
                          },
                          "line": {
                            "color": "white"
                          }
                        },
                        "header": {
                          "fill": {
                            "color": "#C8D4E3"
                          },
                          "line": {
                            "color": "white"
                          }
                        },
                        "type": "table"
                      }
                    ]
                  },
                  "layout": {
                    "annotationdefaults": {
                      "arrowcolor": "#2a3f5f",
                      "arrowhead": 0,
                      "arrowwidth": 1
                    },
                    "autotypenumbers": "strict",
                    "coloraxis": {
                      "colorbar": {
                        "outlinewidth": 0,
                        "ticks": ""
                      }
                    },
                    "colorscale": {
                      "diverging": [
                        [
                          0,
                          "#8e0152"
                        ],
                        [
                          0.1,
                          "#c51b7d"
                        ],
                        [
                          0.2,
                          "#de77ae"
                        ],
                        [
                          0.3,
                          "#f1b6da"
                        ],
                        [
                          0.4,
                          "#fde0ef"
                        ],
                        [
                          0.5,
                          "#f7f7f7"
                        ],
                        [
                          0.6,
                          "#e6f5d0"
                        ],
                        [
                          0.7,
                          "#b8e186"
                        ],
                        [
                          0.8,
                          "#7fbc41"
                        ],
                        [
                          0.9,
                          "#4d9221"
                        ],
                        [
                          1,
                          "#276419"
                        ]
                      ],
                      "sequential": [
                        [
                          0,
                          "#0d0887"
                        ],
                        [
                          0.1111111111111111,
                          "#46039f"
                        ],
                        [
                          0.2222222222222222,
                          "#7201a8"
                        ],
                        [
                          0.3333333333333333,
                          "#9c179e"
                        ],
                        [
                          0.4444444444444444,
                          "#bd3786"
                        ],
                        [
                          0.5555555555555556,
                          "#d8576b"
                        ],
                        [
                          0.6666666666666666,
                          "#ed7953"
                        ],
                        [
                          0.7777777777777778,
                          "#fb9f3a"
                        ],
                        [
                          0.8888888888888888,
                          "#fdca26"
                        ],
                        [
                          1,
                          "#f0f921"
                        ]
                      ],
                      "sequentialminus": [
                        [
                          0,
                          "#0d0887"
                        ],
                        [
                          0.1111111111111111,
                          "#46039f"
                        ],
                        [
                          0.2222222222222222,
                          "#7201a8"
                        ],
                        [
                          0.3333333333333333,
                          "#9c179e"
                        ],
                        [
                          0.4444444444444444,
                          "#bd3786"
                        ],
                        [
                          0.5555555555555556,
                          "#d8576b"
                        ],
                        [
                          0.6666666666666666,
                          "#ed7953"
                        ],
                        [
                          0.7777777777777778,
                          "#fb9f3a"
                        ],
                        [
                          0.8888888888888888,
                          "#fdca26"
                        ],
                        [
                          1,
                          "#f0f921"
                        ]
                      ]
                    },
                    "colorway": [
                      "#636efa",
                      "#EF553B",
                      "#00cc96",
                      "#ab63fa",
                      "#FFA15A",
                      "#19d3f3",
                      "#FF6692",
                      "#B6E880",
                      "#FF97FF",
                      "#FECB52"
                    ],
                    "font": {
                      "color": "#2a3f5f"
                    },
                    "geo": {
                      "bgcolor": "white",
                      "lakecolor": "white",
                      "landcolor": "#E5ECF6",
                      "showlakes": true,
                      "showland": true,
                      "subunitcolor": "white"
                    },
                    "hoverlabel": {
                      "align": "left"
                    },
                    "hovermode": "closest",
                    "mapbox": {
                      "style": "light"
                    },
                    "paper_bgcolor": "white",
                    "plot_bgcolor": "#E5ECF6",
                    "polar": {
                      "angularaxis": {
                        "gridcolor": "white",
                        "linecolor": "white",
                        "ticks": ""
                      },
                      "bgcolor": "#E5ECF6",
                      "radialaxis": {
                        "gridcolor": "white",
                        "linecolor": "white",
                        "ticks": ""
                      }
                    },
                    "scene": {
                      "xaxis": {
                        "backgroundcolor": "#E5ECF6",
                        "gridcolor": "white",
                        "gridwidth": 2,
                        "linecolor": "white",
                        "showbackground": true,
                        "ticks": "",
                        "zerolinecolor": "white"
                      },
                      "yaxis": {
                        "backgroundcolor": "#E5ECF6",
                        "gridcolor": "white",
                        "gridwidth": 2,
                        "linecolor": "white",
                        "showbackground": true,
                        "ticks": "",
                        "zerolinecolor": "white"
                      },
                      "zaxis": {
                        "backgroundcolor": "#E5ECF6",
                        "gridcolor": "white",
                        "gridwidth": 2,
                        "linecolor": "white",
                        "showbackground": true,
                        "ticks": "",
                        "zerolinecolor": "white"
                      }
                    },
                    "shapedefaults": {
                      "line": {
                        "color": "#2a3f5f"
                      }
                    },
                    "ternary": {
                      "aaxis": {
                        "gridcolor": "white",
                        "linecolor": "white",
                        "ticks": ""
                      },
                      "baxis": {
                        "gridcolor": "white",
                        "linecolor": "white",
                        "ticks": ""
                      },
                      "bgcolor": "#E5ECF6",
                      "caxis": {
                        "gridcolor": "white",
                        "linecolor": "white",
                        "ticks": ""
                      }
                    },
                    "title": {
                      "x": 0.05
                    },
                    "xaxis": {
                      "automargin": true,
                      "gridcolor": "white",
                      "linecolor": "white",
                      "ticks": "",
                      "title": {
                        "standoff": 15
                      },
                      "zerolinecolor": "white",
                      "zerolinewidth": 2
                    },
                    "yaxis": {
                      "automargin": true,
                      "gridcolor": "white",
                      "linecolor": "white",
                      "ticks": "",
                      "title": {
                        "standoff": 15
                      },
                      "zerolinecolor": "white",
                      "zerolinewidth": 2
                    }
                  }
                },
                "title": {
                  "text": "Focos de Incêndio - 1999 a 2019"
                }
              }
            }
          },
          "metadata": {},
          "output_type": "display_data"
        }
      ],
      "source": [
        "df2_grouped = df2.groupby('state')['firespots'].sum().reset_index()\n",
        "fig = go.Figure()\n",
        "fig.add_trace(go.Pie(labels=df2_grouped['state'],values=df2_grouped['firespots']))\n",
        "fig.update_layout(title='Focos de Incêndio - 1999 a 2019',)\n",
        "\n",
        "fig.show()"
      ]
    },
    {
      "cell_type": "code",
      "execution_count": 33,
      "metadata": {
        "colab": {
          "base_uri": "https://localhost:8080/"
        },
        "id": "jQ87wxjj4OZw",
        "outputId": "b7364a3c-eb52-43f8-db86-abceb742c08b"
      },
      "outputs": [
        {
          "name": "stdout",
          "output_type": "stream",
          "text": [
            "Porcentagem de focos de incêndio do Para em relação ao total: 38.36 % \n",
            " Porcentagem de focos de incêndio do Para em relação ao total: 62.60 %\n"
          ]
        }
      ],
      "source": [
        "# porcentagem de focos no Para em comparação com o total\n",
        "firespots_para = df2.loc[df2['state']=='PARA','firespots'].sum()\n",
        "firespots_mt = df2.loc[df2['state']=='MATO GROSSO','firespots'].sum()\n",
        "firespots_total = df2['firespots'].sum()\n",
        "perc_pa = firespots_para/firespots_total * 100\n",
        "perc_pa_mt = (firespots_para+firespots_mt)/firespots_total * 100\n",
        "print(f'Porcentagem de focos de incêndio do Para em relação ao total: {perc_pa:.2f} % \\n Porcentagem de focos de incêndio do Para em relação ao total: {perc_pa_mt:.2f} %')"
      ]
    },
    {
      "cell_type": "code",
      "execution_count": 21,
      "metadata": {
        "colab": {
          "base_uri": "https://localhost:8080/",
          "height": 542
        },
        "id": "LhV7ddQsaIMk",
        "outputId": "50cd1533-32ce-4665-d08f-3e702b737271"
      },
      "outputs": [
        {
          "data": {
            "application/vnd.plotly.v1+json": {
              "config": {
                "plotlyServerURL": "https://plot.ly"
              },
              "data": [
                {
                  "type": "scatter",
                  "x": [
                    1999,
                    2000,
                    2001,
                    2002,
                    2003,
                    2004,
                    2005,
                    2006,
                    2007,
                    2008,
                    2009,
                    2010,
                    2011,
                    2012,
                    2013,
                    2014,
                    2015,
                    2016,
                    2017,
                    2018,
                    2019
                  ],
                  "y": [
                    62858,
                    48168,
                    69675,
                    273873,
                    174400,
                    218637,
                    213720,
                    144422,
                    186480,
                    103453,
                    81682,
                    134614,
                    58186,
                    86719,
                    58688,
                    82554,
                    106438,
                    87761,
                    107439,
                    68345,
                    88135
                  ]
                }
              ],
              "layout": {
                "template": {
                  "data": {
                    "bar": [
                      {
                        "error_x": {
                          "color": "#2a3f5f"
                        },
                        "error_y": {
                          "color": "#2a3f5f"
                        },
                        "marker": {
                          "line": {
                            "color": "#E5ECF6",
                            "width": 0.5
                          },
                          "pattern": {
                            "fillmode": "overlay",
                            "size": 10,
                            "solidity": 0.2
                          }
                        },
                        "type": "bar"
                      }
                    ],
                    "barpolar": [
                      {
                        "marker": {
                          "line": {
                            "color": "#E5ECF6",
                            "width": 0.5
                          },
                          "pattern": {
                            "fillmode": "overlay",
                            "size": 10,
                            "solidity": 0.2
                          }
                        },
                        "type": "barpolar"
                      }
                    ],
                    "carpet": [
                      {
                        "aaxis": {
                          "endlinecolor": "#2a3f5f",
                          "gridcolor": "white",
                          "linecolor": "white",
                          "minorgridcolor": "white",
                          "startlinecolor": "#2a3f5f"
                        },
                        "baxis": {
                          "endlinecolor": "#2a3f5f",
                          "gridcolor": "white",
                          "linecolor": "white",
                          "minorgridcolor": "white",
                          "startlinecolor": "#2a3f5f"
                        },
                        "type": "carpet"
                      }
                    ],
                    "choropleth": [
                      {
                        "colorbar": {
                          "outlinewidth": 0,
                          "ticks": ""
                        },
                        "type": "choropleth"
                      }
                    ],
                    "contour": [
                      {
                        "colorbar": {
                          "outlinewidth": 0,
                          "ticks": ""
                        },
                        "colorscale": [
                          [
                            0,
                            "#0d0887"
                          ],
                          [
                            0.1111111111111111,
                            "#46039f"
                          ],
                          [
                            0.2222222222222222,
                            "#7201a8"
                          ],
                          [
                            0.3333333333333333,
                            "#9c179e"
                          ],
                          [
                            0.4444444444444444,
                            "#bd3786"
                          ],
                          [
                            0.5555555555555556,
                            "#d8576b"
                          ],
                          [
                            0.6666666666666666,
                            "#ed7953"
                          ],
                          [
                            0.7777777777777778,
                            "#fb9f3a"
                          ],
                          [
                            0.8888888888888888,
                            "#fdca26"
                          ],
                          [
                            1,
                            "#f0f921"
                          ]
                        ],
                        "type": "contour"
                      }
                    ],
                    "contourcarpet": [
                      {
                        "colorbar": {
                          "outlinewidth": 0,
                          "ticks": ""
                        },
                        "type": "contourcarpet"
                      }
                    ],
                    "heatmap": [
                      {
                        "colorbar": {
                          "outlinewidth": 0,
                          "ticks": ""
                        },
                        "colorscale": [
                          [
                            0,
                            "#0d0887"
                          ],
                          [
                            0.1111111111111111,
                            "#46039f"
                          ],
                          [
                            0.2222222222222222,
                            "#7201a8"
                          ],
                          [
                            0.3333333333333333,
                            "#9c179e"
                          ],
                          [
                            0.4444444444444444,
                            "#bd3786"
                          ],
                          [
                            0.5555555555555556,
                            "#d8576b"
                          ],
                          [
                            0.6666666666666666,
                            "#ed7953"
                          ],
                          [
                            0.7777777777777778,
                            "#fb9f3a"
                          ],
                          [
                            0.8888888888888888,
                            "#fdca26"
                          ],
                          [
                            1,
                            "#f0f921"
                          ]
                        ],
                        "type": "heatmap"
                      }
                    ],
                    "heatmapgl": [
                      {
                        "colorbar": {
                          "outlinewidth": 0,
                          "ticks": ""
                        },
                        "colorscale": [
                          [
                            0,
                            "#0d0887"
                          ],
                          [
                            0.1111111111111111,
                            "#46039f"
                          ],
                          [
                            0.2222222222222222,
                            "#7201a8"
                          ],
                          [
                            0.3333333333333333,
                            "#9c179e"
                          ],
                          [
                            0.4444444444444444,
                            "#bd3786"
                          ],
                          [
                            0.5555555555555556,
                            "#d8576b"
                          ],
                          [
                            0.6666666666666666,
                            "#ed7953"
                          ],
                          [
                            0.7777777777777778,
                            "#fb9f3a"
                          ],
                          [
                            0.8888888888888888,
                            "#fdca26"
                          ],
                          [
                            1,
                            "#f0f921"
                          ]
                        ],
                        "type": "heatmapgl"
                      }
                    ],
                    "histogram": [
                      {
                        "marker": {
                          "pattern": {
                            "fillmode": "overlay",
                            "size": 10,
                            "solidity": 0.2
                          }
                        },
                        "type": "histogram"
                      }
                    ],
                    "histogram2d": [
                      {
                        "colorbar": {
                          "outlinewidth": 0,
                          "ticks": ""
                        },
                        "colorscale": [
                          [
                            0,
                            "#0d0887"
                          ],
                          [
                            0.1111111111111111,
                            "#46039f"
                          ],
                          [
                            0.2222222222222222,
                            "#7201a8"
                          ],
                          [
                            0.3333333333333333,
                            "#9c179e"
                          ],
                          [
                            0.4444444444444444,
                            "#bd3786"
                          ],
                          [
                            0.5555555555555556,
                            "#d8576b"
                          ],
                          [
                            0.6666666666666666,
                            "#ed7953"
                          ],
                          [
                            0.7777777777777778,
                            "#fb9f3a"
                          ],
                          [
                            0.8888888888888888,
                            "#fdca26"
                          ],
                          [
                            1,
                            "#f0f921"
                          ]
                        ],
                        "type": "histogram2d"
                      }
                    ],
                    "histogram2dcontour": [
                      {
                        "colorbar": {
                          "outlinewidth": 0,
                          "ticks": ""
                        },
                        "colorscale": [
                          [
                            0,
                            "#0d0887"
                          ],
                          [
                            0.1111111111111111,
                            "#46039f"
                          ],
                          [
                            0.2222222222222222,
                            "#7201a8"
                          ],
                          [
                            0.3333333333333333,
                            "#9c179e"
                          ],
                          [
                            0.4444444444444444,
                            "#bd3786"
                          ],
                          [
                            0.5555555555555556,
                            "#d8576b"
                          ],
                          [
                            0.6666666666666666,
                            "#ed7953"
                          ],
                          [
                            0.7777777777777778,
                            "#fb9f3a"
                          ],
                          [
                            0.8888888888888888,
                            "#fdca26"
                          ],
                          [
                            1,
                            "#f0f921"
                          ]
                        ],
                        "type": "histogram2dcontour"
                      }
                    ],
                    "mesh3d": [
                      {
                        "colorbar": {
                          "outlinewidth": 0,
                          "ticks": ""
                        },
                        "type": "mesh3d"
                      }
                    ],
                    "parcoords": [
                      {
                        "line": {
                          "colorbar": {
                            "outlinewidth": 0,
                            "ticks": ""
                          }
                        },
                        "type": "parcoords"
                      }
                    ],
                    "pie": [
                      {
                        "automargin": true,
                        "type": "pie"
                      }
                    ],
                    "scatter": [
                      {
                        "fillpattern": {
                          "fillmode": "overlay",
                          "size": 10,
                          "solidity": 0.2
                        },
                        "type": "scatter"
                      }
                    ],
                    "scatter3d": [
                      {
                        "line": {
                          "colorbar": {
                            "outlinewidth": 0,
                            "ticks": ""
                          }
                        },
                        "marker": {
                          "colorbar": {
                            "outlinewidth": 0,
                            "ticks": ""
                          }
                        },
                        "type": "scatter3d"
                      }
                    ],
                    "scattercarpet": [
                      {
                        "marker": {
                          "colorbar": {
                            "outlinewidth": 0,
                            "ticks": ""
                          }
                        },
                        "type": "scattercarpet"
                      }
                    ],
                    "scattergeo": [
                      {
                        "marker": {
                          "colorbar": {
                            "outlinewidth": 0,
                            "ticks": ""
                          }
                        },
                        "type": "scattergeo"
                      }
                    ],
                    "scattergl": [
                      {
                        "marker": {
                          "colorbar": {
                            "outlinewidth": 0,
                            "ticks": ""
                          }
                        },
                        "type": "scattergl"
                      }
                    ],
                    "scattermapbox": [
                      {
                        "marker": {
                          "colorbar": {
                            "outlinewidth": 0,
                            "ticks": ""
                          }
                        },
                        "type": "scattermapbox"
                      }
                    ],
                    "scatterpolar": [
                      {
                        "marker": {
                          "colorbar": {
                            "outlinewidth": 0,
                            "ticks": ""
                          }
                        },
                        "type": "scatterpolar"
                      }
                    ],
                    "scatterpolargl": [
                      {
                        "marker": {
                          "colorbar": {
                            "outlinewidth": 0,
                            "ticks": ""
                          }
                        },
                        "type": "scatterpolargl"
                      }
                    ],
                    "scatterternary": [
                      {
                        "marker": {
                          "colorbar": {
                            "outlinewidth": 0,
                            "ticks": ""
                          }
                        },
                        "type": "scatterternary"
                      }
                    ],
                    "surface": [
                      {
                        "colorbar": {
                          "outlinewidth": 0,
                          "ticks": ""
                        },
                        "colorscale": [
                          [
                            0,
                            "#0d0887"
                          ],
                          [
                            0.1111111111111111,
                            "#46039f"
                          ],
                          [
                            0.2222222222222222,
                            "#7201a8"
                          ],
                          [
                            0.3333333333333333,
                            "#9c179e"
                          ],
                          [
                            0.4444444444444444,
                            "#bd3786"
                          ],
                          [
                            0.5555555555555556,
                            "#d8576b"
                          ],
                          [
                            0.6666666666666666,
                            "#ed7953"
                          ],
                          [
                            0.7777777777777778,
                            "#fb9f3a"
                          ],
                          [
                            0.8888888888888888,
                            "#fdca26"
                          ],
                          [
                            1,
                            "#f0f921"
                          ]
                        ],
                        "type": "surface"
                      }
                    ],
                    "table": [
                      {
                        "cells": {
                          "fill": {
                            "color": "#EBF0F8"
                          },
                          "line": {
                            "color": "white"
                          }
                        },
                        "header": {
                          "fill": {
                            "color": "#C8D4E3"
                          },
                          "line": {
                            "color": "white"
                          }
                        },
                        "type": "table"
                      }
                    ]
                  },
                  "layout": {
                    "annotationdefaults": {
                      "arrowcolor": "#2a3f5f",
                      "arrowhead": 0,
                      "arrowwidth": 1
                    },
                    "autotypenumbers": "strict",
                    "coloraxis": {
                      "colorbar": {
                        "outlinewidth": 0,
                        "ticks": ""
                      }
                    },
                    "colorscale": {
                      "diverging": [
                        [
                          0,
                          "#8e0152"
                        ],
                        [
                          0.1,
                          "#c51b7d"
                        ],
                        [
                          0.2,
                          "#de77ae"
                        ],
                        [
                          0.3,
                          "#f1b6da"
                        ],
                        [
                          0.4,
                          "#fde0ef"
                        ],
                        [
                          0.5,
                          "#f7f7f7"
                        ],
                        [
                          0.6,
                          "#e6f5d0"
                        ],
                        [
                          0.7,
                          "#b8e186"
                        ],
                        [
                          0.8,
                          "#7fbc41"
                        ],
                        [
                          0.9,
                          "#4d9221"
                        ],
                        [
                          1,
                          "#276419"
                        ]
                      ],
                      "sequential": [
                        [
                          0,
                          "#0d0887"
                        ],
                        [
                          0.1111111111111111,
                          "#46039f"
                        ],
                        [
                          0.2222222222222222,
                          "#7201a8"
                        ],
                        [
                          0.3333333333333333,
                          "#9c179e"
                        ],
                        [
                          0.4444444444444444,
                          "#bd3786"
                        ],
                        [
                          0.5555555555555556,
                          "#d8576b"
                        ],
                        [
                          0.6666666666666666,
                          "#ed7953"
                        ],
                        [
                          0.7777777777777778,
                          "#fb9f3a"
                        ],
                        [
                          0.8888888888888888,
                          "#fdca26"
                        ],
                        [
                          1,
                          "#f0f921"
                        ]
                      ],
                      "sequentialminus": [
                        [
                          0,
                          "#0d0887"
                        ],
                        [
                          0.1111111111111111,
                          "#46039f"
                        ],
                        [
                          0.2222222222222222,
                          "#7201a8"
                        ],
                        [
                          0.3333333333333333,
                          "#9c179e"
                        ],
                        [
                          0.4444444444444444,
                          "#bd3786"
                        ],
                        [
                          0.5555555555555556,
                          "#d8576b"
                        ],
                        [
                          0.6666666666666666,
                          "#ed7953"
                        ],
                        [
                          0.7777777777777778,
                          "#fb9f3a"
                        ],
                        [
                          0.8888888888888888,
                          "#fdca26"
                        ],
                        [
                          1,
                          "#f0f921"
                        ]
                      ]
                    },
                    "colorway": [
                      "#636efa",
                      "#EF553B",
                      "#00cc96",
                      "#ab63fa",
                      "#FFA15A",
                      "#19d3f3",
                      "#FF6692",
                      "#B6E880",
                      "#FF97FF",
                      "#FECB52"
                    ],
                    "font": {
                      "color": "#2a3f5f"
                    },
                    "geo": {
                      "bgcolor": "white",
                      "lakecolor": "white",
                      "landcolor": "#E5ECF6",
                      "showlakes": true,
                      "showland": true,
                      "subunitcolor": "white"
                    },
                    "hoverlabel": {
                      "align": "left"
                    },
                    "hovermode": "closest",
                    "mapbox": {
                      "style": "light"
                    },
                    "paper_bgcolor": "white",
                    "plot_bgcolor": "#E5ECF6",
                    "polar": {
                      "angularaxis": {
                        "gridcolor": "white",
                        "linecolor": "white",
                        "ticks": ""
                      },
                      "bgcolor": "#E5ECF6",
                      "radialaxis": {
                        "gridcolor": "white",
                        "linecolor": "white",
                        "ticks": ""
                      }
                    },
                    "scene": {
                      "xaxis": {
                        "backgroundcolor": "#E5ECF6",
                        "gridcolor": "white",
                        "gridwidth": 2,
                        "linecolor": "white",
                        "showbackground": true,
                        "ticks": "",
                        "zerolinecolor": "white"
                      },
                      "yaxis": {
                        "backgroundcolor": "#E5ECF6",
                        "gridcolor": "white",
                        "gridwidth": 2,
                        "linecolor": "white",
                        "showbackground": true,
                        "ticks": "",
                        "zerolinecolor": "white"
                      },
                      "zaxis": {
                        "backgroundcolor": "#E5ECF6",
                        "gridcolor": "white",
                        "gridwidth": 2,
                        "linecolor": "white",
                        "showbackground": true,
                        "ticks": "",
                        "zerolinecolor": "white"
                      }
                    },
                    "shapedefaults": {
                      "line": {
                        "color": "#2a3f5f"
                      }
                    },
                    "ternary": {
                      "aaxis": {
                        "gridcolor": "white",
                        "linecolor": "white",
                        "ticks": ""
                      },
                      "baxis": {
                        "gridcolor": "white",
                        "linecolor": "white",
                        "ticks": ""
                      },
                      "bgcolor": "#E5ECF6",
                      "caxis": {
                        "gridcolor": "white",
                        "linecolor": "white",
                        "ticks": ""
                      }
                    },
                    "title": {
                      "x": 0.05
                    },
                    "xaxis": {
                      "automargin": true,
                      "gridcolor": "white",
                      "linecolor": "white",
                      "ticks": "",
                      "title": {
                        "standoff": 15
                      },
                      "zerolinecolor": "white",
                      "zerolinewidth": 2
                    },
                    "yaxis": {
                      "automargin": true,
                      "gridcolor": "white",
                      "linecolor": "white",
                      "ticks": "",
                      "title": {
                        "standoff": 15
                      },
                      "zerolinecolor": "white",
                      "zerolinewidth": 2
                    }
                  }
                },
                "title": {
                  "text": "Focos de Incêndio Brasil - 1999 a 2019"
                },
                "xaxis": {
                  "dtick": 1,
                  "tick0": 1999,
                  "title": {
                    "text": "Ano"
                  }
                },
                "yaxis": {
                  "title": {
                    "text": "Quantidade"
                  }
                }
              }
            }
          },
          "metadata": {},
          "output_type": "display_data"
        }
      ],
      "source": [
        "df2_grouped = df2.groupby('year')['firespots'].sum().reset_index()\n",
        "\n",
        "fig = go.Figure()\n",
        "fig.add_trace(go.Scatter(x=df2_grouped['year'],y=df2_grouped['firespots']))\n",
        "fig.update_layout(title='Focos de Incêndio Brasil - 1999 a 2019',xaxis_title='Ano',yaxis_title='Quantidade',xaxis=dict(tick0=1999,dtick=1))\n",
        "\n",
        "fig.show()"
      ]
    },
    {
      "cell_type": "code",
      "execution_count": 22,
      "metadata": {
        "colab": {
          "base_uri": "https://localhost:8080/",
          "height": 542
        },
        "id": "5eNAAeu0a_gZ",
        "outputId": "f973ce27-1253-4af2-8f4b-b84cf01aa22f"
      },
      "outputs": [
        {
          "data": {
            "application/vnd.plotly.v1+json": {
              "config": {
                "plotlyServerURL": "https://plot.ly"
              },
              "data": [
                {
                  "type": "bar",
                  "x": [
                    1,
                    2,
                    3,
                    4,
                    5,
                    6,
                    7,
                    8,
                    9,
                    10,
                    11,
                    12
                  ],
                  "y": [
                    33905,
                    16797,
                    22047,
                    13930,
                    21331,
                    58388,
                    138720,
                    583934,
                    733628,
                    378920,
                    303960,
                    150687
                  ]
                }
              ],
              "layout": {
                "template": {
                  "data": {
                    "bar": [
                      {
                        "error_x": {
                          "color": "#2a3f5f"
                        },
                        "error_y": {
                          "color": "#2a3f5f"
                        },
                        "marker": {
                          "line": {
                            "color": "#E5ECF6",
                            "width": 0.5
                          },
                          "pattern": {
                            "fillmode": "overlay",
                            "size": 10,
                            "solidity": 0.2
                          }
                        },
                        "type": "bar"
                      }
                    ],
                    "barpolar": [
                      {
                        "marker": {
                          "line": {
                            "color": "#E5ECF6",
                            "width": 0.5
                          },
                          "pattern": {
                            "fillmode": "overlay",
                            "size": 10,
                            "solidity": 0.2
                          }
                        },
                        "type": "barpolar"
                      }
                    ],
                    "carpet": [
                      {
                        "aaxis": {
                          "endlinecolor": "#2a3f5f",
                          "gridcolor": "white",
                          "linecolor": "white",
                          "minorgridcolor": "white",
                          "startlinecolor": "#2a3f5f"
                        },
                        "baxis": {
                          "endlinecolor": "#2a3f5f",
                          "gridcolor": "white",
                          "linecolor": "white",
                          "minorgridcolor": "white",
                          "startlinecolor": "#2a3f5f"
                        },
                        "type": "carpet"
                      }
                    ],
                    "choropleth": [
                      {
                        "colorbar": {
                          "outlinewidth": 0,
                          "ticks": ""
                        },
                        "type": "choropleth"
                      }
                    ],
                    "contour": [
                      {
                        "colorbar": {
                          "outlinewidth": 0,
                          "ticks": ""
                        },
                        "colorscale": [
                          [
                            0,
                            "#0d0887"
                          ],
                          [
                            0.1111111111111111,
                            "#46039f"
                          ],
                          [
                            0.2222222222222222,
                            "#7201a8"
                          ],
                          [
                            0.3333333333333333,
                            "#9c179e"
                          ],
                          [
                            0.4444444444444444,
                            "#bd3786"
                          ],
                          [
                            0.5555555555555556,
                            "#d8576b"
                          ],
                          [
                            0.6666666666666666,
                            "#ed7953"
                          ],
                          [
                            0.7777777777777778,
                            "#fb9f3a"
                          ],
                          [
                            0.8888888888888888,
                            "#fdca26"
                          ],
                          [
                            1,
                            "#f0f921"
                          ]
                        ],
                        "type": "contour"
                      }
                    ],
                    "contourcarpet": [
                      {
                        "colorbar": {
                          "outlinewidth": 0,
                          "ticks": ""
                        },
                        "type": "contourcarpet"
                      }
                    ],
                    "heatmap": [
                      {
                        "colorbar": {
                          "outlinewidth": 0,
                          "ticks": ""
                        },
                        "colorscale": [
                          [
                            0,
                            "#0d0887"
                          ],
                          [
                            0.1111111111111111,
                            "#46039f"
                          ],
                          [
                            0.2222222222222222,
                            "#7201a8"
                          ],
                          [
                            0.3333333333333333,
                            "#9c179e"
                          ],
                          [
                            0.4444444444444444,
                            "#bd3786"
                          ],
                          [
                            0.5555555555555556,
                            "#d8576b"
                          ],
                          [
                            0.6666666666666666,
                            "#ed7953"
                          ],
                          [
                            0.7777777777777778,
                            "#fb9f3a"
                          ],
                          [
                            0.8888888888888888,
                            "#fdca26"
                          ],
                          [
                            1,
                            "#f0f921"
                          ]
                        ],
                        "type": "heatmap"
                      }
                    ],
                    "heatmapgl": [
                      {
                        "colorbar": {
                          "outlinewidth": 0,
                          "ticks": ""
                        },
                        "colorscale": [
                          [
                            0,
                            "#0d0887"
                          ],
                          [
                            0.1111111111111111,
                            "#46039f"
                          ],
                          [
                            0.2222222222222222,
                            "#7201a8"
                          ],
                          [
                            0.3333333333333333,
                            "#9c179e"
                          ],
                          [
                            0.4444444444444444,
                            "#bd3786"
                          ],
                          [
                            0.5555555555555556,
                            "#d8576b"
                          ],
                          [
                            0.6666666666666666,
                            "#ed7953"
                          ],
                          [
                            0.7777777777777778,
                            "#fb9f3a"
                          ],
                          [
                            0.8888888888888888,
                            "#fdca26"
                          ],
                          [
                            1,
                            "#f0f921"
                          ]
                        ],
                        "type": "heatmapgl"
                      }
                    ],
                    "histogram": [
                      {
                        "marker": {
                          "pattern": {
                            "fillmode": "overlay",
                            "size": 10,
                            "solidity": 0.2
                          }
                        },
                        "type": "histogram"
                      }
                    ],
                    "histogram2d": [
                      {
                        "colorbar": {
                          "outlinewidth": 0,
                          "ticks": ""
                        },
                        "colorscale": [
                          [
                            0,
                            "#0d0887"
                          ],
                          [
                            0.1111111111111111,
                            "#46039f"
                          ],
                          [
                            0.2222222222222222,
                            "#7201a8"
                          ],
                          [
                            0.3333333333333333,
                            "#9c179e"
                          ],
                          [
                            0.4444444444444444,
                            "#bd3786"
                          ],
                          [
                            0.5555555555555556,
                            "#d8576b"
                          ],
                          [
                            0.6666666666666666,
                            "#ed7953"
                          ],
                          [
                            0.7777777777777778,
                            "#fb9f3a"
                          ],
                          [
                            0.8888888888888888,
                            "#fdca26"
                          ],
                          [
                            1,
                            "#f0f921"
                          ]
                        ],
                        "type": "histogram2d"
                      }
                    ],
                    "histogram2dcontour": [
                      {
                        "colorbar": {
                          "outlinewidth": 0,
                          "ticks": ""
                        },
                        "colorscale": [
                          [
                            0,
                            "#0d0887"
                          ],
                          [
                            0.1111111111111111,
                            "#46039f"
                          ],
                          [
                            0.2222222222222222,
                            "#7201a8"
                          ],
                          [
                            0.3333333333333333,
                            "#9c179e"
                          ],
                          [
                            0.4444444444444444,
                            "#bd3786"
                          ],
                          [
                            0.5555555555555556,
                            "#d8576b"
                          ],
                          [
                            0.6666666666666666,
                            "#ed7953"
                          ],
                          [
                            0.7777777777777778,
                            "#fb9f3a"
                          ],
                          [
                            0.8888888888888888,
                            "#fdca26"
                          ],
                          [
                            1,
                            "#f0f921"
                          ]
                        ],
                        "type": "histogram2dcontour"
                      }
                    ],
                    "mesh3d": [
                      {
                        "colorbar": {
                          "outlinewidth": 0,
                          "ticks": ""
                        },
                        "type": "mesh3d"
                      }
                    ],
                    "parcoords": [
                      {
                        "line": {
                          "colorbar": {
                            "outlinewidth": 0,
                            "ticks": ""
                          }
                        },
                        "type": "parcoords"
                      }
                    ],
                    "pie": [
                      {
                        "automargin": true,
                        "type": "pie"
                      }
                    ],
                    "scatter": [
                      {
                        "fillpattern": {
                          "fillmode": "overlay",
                          "size": 10,
                          "solidity": 0.2
                        },
                        "type": "scatter"
                      }
                    ],
                    "scatter3d": [
                      {
                        "line": {
                          "colorbar": {
                            "outlinewidth": 0,
                            "ticks": ""
                          }
                        },
                        "marker": {
                          "colorbar": {
                            "outlinewidth": 0,
                            "ticks": ""
                          }
                        },
                        "type": "scatter3d"
                      }
                    ],
                    "scattercarpet": [
                      {
                        "marker": {
                          "colorbar": {
                            "outlinewidth": 0,
                            "ticks": ""
                          }
                        },
                        "type": "scattercarpet"
                      }
                    ],
                    "scattergeo": [
                      {
                        "marker": {
                          "colorbar": {
                            "outlinewidth": 0,
                            "ticks": ""
                          }
                        },
                        "type": "scattergeo"
                      }
                    ],
                    "scattergl": [
                      {
                        "marker": {
                          "colorbar": {
                            "outlinewidth": 0,
                            "ticks": ""
                          }
                        },
                        "type": "scattergl"
                      }
                    ],
                    "scattermapbox": [
                      {
                        "marker": {
                          "colorbar": {
                            "outlinewidth": 0,
                            "ticks": ""
                          }
                        },
                        "type": "scattermapbox"
                      }
                    ],
                    "scatterpolar": [
                      {
                        "marker": {
                          "colorbar": {
                            "outlinewidth": 0,
                            "ticks": ""
                          }
                        },
                        "type": "scatterpolar"
                      }
                    ],
                    "scatterpolargl": [
                      {
                        "marker": {
                          "colorbar": {
                            "outlinewidth": 0,
                            "ticks": ""
                          }
                        },
                        "type": "scatterpolargl"
                      }
                    ],
                    "scatterternary": [
                      {
                        "marker": {
                          "colorbar": {
                            "outlinewidth": 0,
                            "ticks": ""
                          }
                        },
                        "type": "scatterternary"
                      }
                    ],
                    "surface": [
                      {
                        "colorbar": {
                          "outlinewidth": 0,
                          "ticks": ""
                        },
                        "colorscale": [
                          [
                            0,
                            "#0d0887"
                          ],
                          [
                            0.1111111111111111,
                            "#46039f"
                          ],
                          [
                            0.2222222222222222,
                            "#7201a8"
                          ],
                          [
                            0.3333333333333333,
                            "#9c179e"
                          ],
                          [
                            0.4444444444444444,
                            "#bd3786"
                          ],
                          [
                            0.5555555555555556,
                            "#d8576b"
                          ],
                          [
                            0.6666666666666666,
                            "#ed7953"
                          ],
                          [
                            0.7777777777777778,
                            "#fb9f3a"
                          ],
                          [
                            0.8888888888888888,
                            "#fdca26"
                          ],
                          [
                            1,
                            "#f0f921"
                          ]
                        ],
                        "type": "surface"
                      }
                    ],
                    "table": [
                      {
                        "cells": {
                          "fill": {
                            "color": "#EBF0F8"
                          },
                          "line": {
                            "color": "white"
                          }
                        },
                        "header": {
                          "fill": {
                            "color": "#C8D4E3"
                          },
                          "line": {
                            "color": "white"
                          }
                        },
                        "type": "table"
                      }
                    ]
                  },
                  "layout": {
                    "annotationdefaults": {
                      "arrowcolor": "#2a3f5f",
                      "arrowhead": 0,
                      "arrowwidth": 1
                    },
                    "autotypenumbers": "strict",
                    "coloraxis": {
                      "colorbar": {
                        "outlinewidth": 0,
                        "ticks": ""
                      }
                    },
                    "colorscale": {
                      "diverging": [
                        [
                          0,
                          "#8e0152"
                        ],
                        [
                          0.1,
                          "#c51b7d"
                        ],
                        [
                          0.2,
                          "#de77ae"
                        ],
                        [
                          0.3,
                          "#f1b6da"
                        ],
                        [
                          0.4,
                          "#fde0ef"
                        ],
                        [
                          0.5,
                          "#f7f7f7"
                        ],
                        [
                          0.6,
                          "#e6f5d0"
                        ],
                        [
                          0.7,
                          "#b8e186"
                        ],
                        [
                          0.8,
                          "#7fbc41"
                        ],
                        [
                          0.9,
                          "#4d9221"
                        ],
                        [
                          1,
                          "#276419"
                        ]
                      ],
                      "sequential": [
                        [
                          0,
                          "#0d0887"
                        ],
                        [
                          0.1111111111111111,
                          "#46039f"
                        ],
                        [
                          0.2222222222222222,
                          "#7201a8"
                        ],
                        [
                          0.3333333333333333,
                          "#9c179e"
                        ],
                        [
                          0.4444444444444444,
                          "#bd3786"
                        ],
                        [
                          0.5555555555555556,
                          "#d8576b"
                        ],
                        [
                          0.6666666666666666,
                          "#ed7953"
                        ],
                        [
                          0.7777777777777778,
                          "#fb9f3a"
                        ],
                        [
                          0.8888888888888888,
                          "#fdca26"
                        ],
                        [
                          1,
                          "#f0f921"
                        ]
                      ],
                      "sequentialminus": [
                        [
                          0,
                          "#0d0887"
                        ],
                        [
                          0.1111111111111111,
                          "#46039f"
                        ],
                        [
                          0.2222222222222222,
                          "#7201a8"
                        ],
                        [
                          0.3333333333333333,
                          "#9c179e"
                        ],
                        [
                          0.4444444444444444,
                          "#bd3786"
                        ],
                        [
                          0.5555555555555556,
                          "#d8576b"
                        ],
                        [
                          0.6666666666666666,
                          "#ed7953"
                        ],
                        [
                          0.7777777777777778,
                          "#fb9f3a"
                        ],
                        [
                          0.8888888888888888,
                          "#fdca26"
                        ],
                        [
                          1,
                          "#f0f921"
                        ]
                      ]
                    },
                    "colorway": [
                      "#636efa",
                      "#EF553B",
                      "#00cc96",
                      "#ab63fa",
                      "#FFA15A",
                      "#19d3f3",
                      "#FF6692",
                      "#B6E880",
                      "#FF97FF",
                      "#FECB52"
                    ],
                    "font": {
                      "color": "#2a3f5f"
                    },
                    "geo": {
                      "bgcolor": "white",
                      "lakecolor": "white",
                      "landcolor": "#E5ECF6",
                      "showlakes": true,
                      "showland": true,
                      "subunitcolor": "white"
                    },
                    "hoverlabel": {
                      "align": "left"
                    },
                    "hovermode": "closest",
                    "mapbox": {
                      "style": "light"
                    },
                    "paper_bgcolor": "white",
                    "plot_bgcolor": "#E5ECF6",
                    "polar": {
                      "angularaxis": {
                        "gridcolor": "white",
                        "linecolor": "white",
                        "ticks": ""
                      },
                      "bgcolor": "#E5ECF6",
                      "radialaxis": {
                        "gridcolor": "white",
                        "linecolor": "white",
                        "ticks": ""
                      }
                    },
                    "scene": {
                      "xaxis": {
                        "backgroundcolor": "#E5ECF6",
                        "gridcolor": "white",
                        "gridwidth": 2,
                        "linecolor": "white",
                        "showbackground": true,
                        "ticks": "",
                        "zerolinecolor": "white"
                      },
                      "yaxis": {
                        "backgroundcolor": "#E5ECF6",
                        "gridcolor": "white",
                        "gridwidth": 2,
                        "linecolor": "white",
                        "showbackground": true,
                        "ticks": "",
                        "zerolinecolor": "white"
                      },
                      "zaxis": {
                        "backgroundcolor": "#E5ECF6",
                        "gridcolor": "white",
                        "gridwidth": 2,
                        "linecolor": "white",
                        "showbackground": true,
                        "ticks": "",
                        "zerolinecolor": "white"
                      }
                    },
                    "shapedefaults": {
                      "line": {
                        "color": "#2a3f5f"
                      }
                    },
                    "ternary": {
                      "aaxis": {
                        "gridcolor": "white",
                        "linecolor": "white",
                        "ticks": ""
                      },
                      "baxis": {
                        "gridcolor": "white",
                        "linecolor": "white",
                        "ticks": ""
                      },
                      "bgcolor": "#E5ECF6",
                      "caxis": {
                        "gridcolor": "white",
                        "linecolor": "white",
                        "ticks": ""
                      }
                    },
                    "title": {
                      "x": 0.05
                    },
                    "xaxis": {
                      "automargin": true,
                      "gridcolor": "white",
                      "linecolor": "white",
                      "ticks": "",
                      "title": {
                        "standoff": 15
                      },
                      "zerolinecolor": "white",
                      "zerolinewidth": 2
                    },
                    "yaxis": {
                      "automargin": true,
                      "gridcolor": "white",
                      "linecolor": "white",
                      "ticks": "",
                      "title": {
                        "standoff": 15
                      },
                      "zerolinecolor": "white",
                      "zerolinewidth": 2
                    }
                  }
                },
                "title": {
                  "text": "Focos de Incêndio por mês - 1999 a 2019"
                },
                "xaxis": {
                  "dtick": 1,
                  "tick0": 0,
                  "title": {
                    "text": "Mês"
                  }
                },
                "yaxis": {
                  "title": {
                    "text": "Quantidade"
                  }
                }
              }
            }
          },
          "metadata": {},
          "output_type": "display_data"
        }
      ],
      "source": [
        "df2_grouped = df2.groupby('month')['firespots'].sum().reset_index()\n",
        "\n",
        "# Criar o gráfico\n",
        "fig = go.Figure()\n",
        "fig.add_trace(go.Bar(x=df2_grouped['month'],y=df2_grouped['firespots'],))\n",
        "fig.update_layout(title='Focos de Incêndio por mês - 1999 a 2019',xaxis_title='Mês',yaxis_title='Quantidade',xaxis=dict(tick0=0,dtick=1))\n",
        "fig.show()"
      ]
    },
    {
      "cell_type": "code",
      "execution_count": 23,
      "metadata": {
        "colab": {
          "base_uri": "https://localhost:8080/",
          "height": 542
        },
        "id": "5TkZu0l8bw3x",
        "outputId": "fe879a82-938d-4659-bd97-948c6f1f6fae"
      },
      "outputs": [
        {
          "data": {
            "application/vnd.plotly.v1+json": {
              "config": {
                "plotlyServerURL": "https://plot.ly"
              },
              "data": [
                {
                  "type": "scatter",
                  "x": [
                    1999,
                    2000,
                    2001,
                    2002,
                    2003,
                    2004,
                    2005,
                    2006,
                    2007,
                    2008,
                    2009,
                    2010,
                    2011,
                    2012,
                    2013,
                    2014,
                    2015,
                    2016,
                    2017,
                    2018,
                    2019
                  ],
                  "y": [
                    20478,
                    18201,
                    28590,
                    106849,
                    53040,
                    74214,
                    71477,
                    55840,
                    68491,
                    48449,
                    41664,
                    57196,
                    26563,
                    37221,
                    24046,
                    35526,
                    43164,
                    29724,
                    49770,
                    22080,
                    29700
                  ]
                }
              ],
              "layout": {
                "template": {
                  "data": {
                    "bar": [
                      {
                        "error_x": {
                          "color": "#2a3f5f"
                        },
                        "error_y": {
                          "color": "#2a3f5f"
                        },
                        "marker": {
                          "line": {
                            "color": "#E5ECF6",
                            "width": 0.5
                          },
                          "pattern": {
                            "fillmode": "overlay",
                            "size": 10,
                            "solidity": 0.2
                          }
                        },
                        "type": "bar"
                      }
                    ],
                    "barpolar": [
                      {
                        "marker": {
                          "line": {
                            "color": "#E5ECF6",
                            "width": 0.5
                          },
                          "pattern": {
                            "fillmode": "overlay",
                            "size": 10,
                            "solidity": 0.2
                          }
                        },
                        "type": "barpolar"
                      }
                    ],
                    "carpet": [
                      {
                        "aaxis": {
                          "endlinecolor": "#2a3f5f",
                          "gridcolor": "white",
                          "linecolor": "white",
                          "minorgridcolor": "white",
                          "startlinecolor": "#2a3f5f"
                        },
                        "baxis": {
                          "endlinecolor": "#2a3f5f",
                          "gridcolor": "white",
                          "linecolor": "white",
                          "minorgridcolor": "white",
                          "startlinecolor": "#2a3f5f"
                        },
                        "type": "carpet"
                      }
                    ],
                    "choropleth": [
                      {
                        "colorbar": {
                          "outlinewidth": 0,
                          "ticks": ""
                        },
                        "type": "choropleth"
                      }
                    ],
                    "contour": [
                      {
                        "colorbar": {
                          "outlinewidth": 0,
                          "ticks": ""
                        },
                        "colorscale": [
                          [
                            0,
                            "#0d0887"
                          ],
                          [
                            0.1111111111111111,
                            "#46039f"
                          ],
                          [
                            0.2222222222222222,
                            "#7201a8"
                          ],
                          [
                            0.3333333333333333,
                            "#9c179e"
                          ],
                          [
                            0.4444444444444444,
                            "#bd3786"
                          ],
                          [
                            0.5555555555555556,
                            "#d8576b"
                          ],
                          [
                            0.6666666666666666,
                            "#ed7953"
                          ],
                          [
                            0.7777777777777778,
                            "#fb9f3a"
                          ],
                          [
                            0.8888888888888888,
                            "#fdca26"
                          ],
                          [
                            1,
                            "#f0f921"
                          ]
                        ],
                        "type": "contour"
                      }
                    ],
                    "contourcarpet": [
                      {
                        "colorbar": {
                          "outlinewidth": 0,
                          "ticks": ""
                        },
                        "type": "contourcarpet"
                      }
                    ],
                    "heatmap": [
                      {
                        "colorbar": {
                          "outlinewidth": 0,
                          "ticks": ""
                        },
                        "colorscale": [
                          [
                            0,
                            "#0d0887"
                          ],
                          [
                            0.1111111111111111,
                            "#46039f"
                          ],
                          [
                            0.2222222222222222,
                            "#7201a8"
                          ],
                          [
                            0.3333333333333333,
                            "#9c179e"
                          ],
                          [
                            0.4444444444444444,
                            "#bd3786"
                          ],
                          [
                            0.5555555555555556,
                            "#d8576b"
                          ],
                          [
                            0.6666666666666666,
                            "#ed7953"
                          ],
                          [
                            0.7777777777777778,
                            "#fb9f3a"
                          ],
                          [
                            0.8888888888888888,
                            "#fdca26"
                          ],
                          [
                            1,
                            "#f0f921"
                          ]
                        ],
                        "type": "heatmap"
                      }
                    ],
                    "heatmapgl": [
                      {
                        "colorbar": {
                          "outlinewidth": 0,
                          "ticks": ""
                        },
                        "colorscale": [
                          [
                            0,
                            "#0d0887"
                          ],
                          [
                            0.1111111111111111,
                            "#46039f"
                          ],
                          [
                            0.2222222222222222,
                            "#7201a8"
                          ],
                          [
                            0.3333333333333333,
                            "#9c179e"
                          ],
                          [
                            0.4444444444444444,
                            "#bd3786"
                          ],
                          [
                            0.5555555555555556,
                            "#d8576b"
                          ],
                          [
                            0.6666666666666666,
                            "#ed7953"
                          ],
                          [
                            0.7777777777777778,
                            "#fb9f3a"
                          ],
                          [
                            0.8888888888888888,
                            "#fdca26"
                          ],
                          [
                            1,
                            "#f0f921"
                          ]
                        ],
                        "type": "heatmapgl"
                      }
                    ],
                    "histogram": [
                      {
                        "marker": {
                          "pattern": {
                            "fillmode": "overlay",
                            "size": 10,
                            "solidity": 0.2
                          }
                        },
                        "type": "histogram"
                      }
                    ],
                    "histogram2d": [
                      {
                        "colorbar": {
                          "outlinewidth": 0,
                          "ticks": ""
                        },
                        "colorscale": [
                          [
                            0,
                            "#0d0887"
                          ],
                          [
                            0.1111111111111111,
                            "#46039f"
                          ],
                          [
                            0.2222222222222222,
                            "#7201a8"
                          ],
                          [
                            0.3333333333333333,
                            "#9c179e"
                          ],
                          [
                            0.4444444444444444,
                            "#bd3786"
                          ],
                          [
                            0.5555555555555556,
                            "#d8576b"
                          ],
                          [
                            0.6666666666666666,
                            "#ed7953"
                          ],
                          [
                            0.7777777777777778,
                            "#fb9f3a"
                          ],
                          [
                            0.8888888888888888,
                            "#fdca26"
                          ],
                          [
                            1,
                            "#f0f921"
                          ]
                        ],
                        "type": "histogram2d"
                      }
                    ],
                    "histogram2dcontour": [
                      {
                        "colorbar": {
                          "outlinewidth": 0,
                          "ticks": ""
                        },
                        "colorscale": [
                          [
                            0,
                            "#0d0887"
                          ],
                          [
                            0.1111111111111111,
                            "#46039f"
                          ],
                          [
                            0.2222222222222222,
                            "#7201a8"
                          ],
                          [
                            0.3333333333333333,
                            "#9c179e"
                          ],
                          [
                            0.4444444444444444,
                            "#bd3786"
                          ],
                          [
                            0.5555555555555556,
                            "#d8576b"
                          ],
                          [
                            0.6666666666666666,
                            "#ed7953"
                          ],
                          [
                            0.7777777777777778,
                            "#fb9f3a"
                          ],
                          [
                            0.8888888888888888,
                            "#fdca26"
                          ],
                          [
                            1,
                            "#f0f921"
                          ]
                        ],
                        "type": "histogram2dcontour"
                      }
                    ],
                    "mesh3d": [
                      {
                        "colorbar": {
                          "outlinewidth": 0,
                          "ticks": ""
                        },
                        "type": "mesh3d"
                      }
                    ],
                    "parcoords": [
                      {
                        "line": {
                          "colorbar": {
                            "outlinewidth": 0,
                            "ticks": ""
                          }
                        },
                        "type": "parcoords"
                      }
                    ],
                    "pie": [
                      {
                        "automargin": true,
                        "type": "pie"
                      }
                    ],
                    "scatter": [
                      {
                        "fillpattern": {
                          "fillmode": "overlay",
                          "size": 10,
                          "solidity": 0.2
                        },
                        "type": "scatter"
                      }
                    ],
                    "scatter3d": [
                      {
                        "line": {
                          "colorbar": {
                            "outlinewidth": 0,
                            "ticks": ""
                          }
                        },
                        "marker": {
                          "colorbar": {
                            "outlinewidth": 0,
                            "ticks": ""
                          }
                        },
                        "type": "scatter3d"
                      }
                    ],
                    "scattercarpet": [
                      {
                        "marker": {
                          "colorbar": {
                            "outlinewidth": 0,
                            "ticks": ""
                          }
                        },
                        "type": "scattercarpet"
                      }
                    ],
                    "scattergeo": [
                      {
                        "marker": {
                          "colorbar": {
                            "outlinewidth": 0,
                            "ticks": ""
                          }
                        },
                        "type": "scattergeo"
                      }
                    ],
                    "scattergl": [
                      {
                        "marker": {
                          "colorbar": {
                            "outlinewidth": 0,
                            "ticks": ""
                          }
                        },
                        "type": "scattergl"
                      }
                    ],
                    "scattermapbox": [
                      {
                        "marker": {
                          "colorbar": {
                            "outlinewidth": 0,
                            "ticks": ""
                          }
                        },
                        "type": "scattermapbox"
                      }
                    ],
                    "scatterpolar": [
                      {
                        "marker": {
                          "colorbar": {
                            "outlinewidth": 0,
                            "ticks": ""
                          }
                        },
                        "type": "scatterpolar"
                      }
                    ],
                    "scatterpolargl": [
                      {
                        "marker": {
                          "colorbar": {
                            "outlinewidth": 0,
                            "ticks": ""
                          }
                        },
                        "type": "scatterpolargl"
                      }
                    ],
                    "scatterternary": [
                      {
                        "marker": {
                          "colorbar": {
                            "outlinewidth": 0,
                            "ticks": ""
                          }
                        },
                        "type": "scatterternary"
                      }
                    ],
                    "surface": [
                      {
                        "colorbar": {
                          "outlinewidth": 0,
                          "ticks": ""
                        },
                        "colorscale": [
                          [
                            0,
                            "#0d0887"
                          ],
                          [
                            0.1111111111111111,
                            "#46039f"
                          ],
                          [
                            0.2222222222222222,
                            "#7201a8"
                          ],
                          [
                            0.3333333333333333,
                            "#9c179e"
                          ],
                          [
                            0.4444444444444444,
                            "#bd3786"
                          ],
                          [
                            0.5555555555555556,
                            "#d8576b"
                          ],
                          [
                            0.6666666666666666,
                            "#ed7953"
                          ],
                          [
                            0.7777777777777778,
                            "#fb9f3a"
                          ],
                          [
                            0.8888888888888888,
                            "#fdca26"
                          ],
                          [
                            1,
                            "#f0f921"
                          ]
                        ],
                        "type": "surface"
                      }
                    ],
                    "table": [
                      {
                        "cells": {
                          "fill": {
                            "color": "#EBF0F8"
                          },
                          "line": {
                            "color": "white"
                          }
                        },
                        "header": {
                          "fill": {
                            "color": "#C8D4E3"
                          },
                          "line": {
                            "color": "white"
                          }
                        },
                        "type": "table"
                      }
                    ]
                  },
                  "layout": {
                    "annotationdefaults": {
                      "arrowcolor": "#2a3f5f",
                      "arrowhead": 0,
                      "arrowwidth": 1
                    },
                    "autotypenumbers": "strict",
                    "coloraxis": {
                      "colorbar": {
                        "outlinewidth": 0,
                        "ticks": ""
                      }
                    },
                    "colorscale": {
                      "diverging": [
                        [
                          0,
                          "#8e0152"
                        ],
                        [
                          0.1,
                          "#c51b7d"
                        ],
                        [
                          0.2,
                          "#de77ae"
                        ],
                        [
                          0.3,
                          "#f1b6da"
                        ],
                        [
                          0.4,
                          "#fde0ef"
                        ],
                        [
                          0.5,
                          "#f7f7f7"
                        ],
                        [
                          0.6,
                          "#e6f5d0"
                        ],
                        [
                          0.7,
                          "#b8e186"
                        ],
                        [
                          0.8,
                          "#7fbc41"
                        ],
                        [
                          0.9,
                          "#4d9221"
                        ],
                        [
                          1,
                          "#276419"
                        ]
                      ],
                      "sequential": [
                        [
                          0,
                          "#0d0887"
                        ],
                        [
                          0.1111111111111111,
                          "#46039f"
                        ],
                        [
                          0.2222222222222222,
                          "#7201a8"
                        ],
                        [
                          0.3333333333333333,
                          "#9c179e"
                        ],
                        [
                          0.4444444444444444,
                          "#bd3786"
                        ],
                        [
                          0.5555555555555556,
                          "#d8576b"
                        ],
                        [
                          0.6666666666666666,
                          "#ed7953"
                        ],
                        [
                          0.7777777777777778,
                          "#fb9f3a"
                        ],
                        [
                          0.8888888888888888,
                          "#fdca26"
                        ],
                        [
                          1,
                          "#f0f921"
                        ]
                      ],
                      "sequentialminus": [
                        [
                          0,
                          "#0d0887"
                        ],
                        [
                          0.1111111111111111,
                          "#46039f"
                        ],
                        [
                          0.2222222222222222,
                          "#7201a8"
                        ],
                        [
                          0.3333333333333333,
                          "#9c179e"
                        ],
                        [
                          0.4444444444444444,
                          "#bd3786"
                        ],
                        [
                          0.5555555555555556,
                          "#d8576b"
                        ],
                        [
                          0.6666666666666666,
                          "#ed7953"
                        ],
                        [
                          0.7777777777777778,
                          "#fb9f3a"
                        ],
                        [
                          0.8888888888888888,
                          "#fdca26"
                        ],
                        [
                          1,
                          "#f0f921"
                        ]
                      ]
                    },
                    "colorway": [
                      "#636efa",
                      "#EF553B",
                      "#00cc96",
                      "#ab63fa",
                      "#FFA15A",
                      "#19d3f3",
                      "#FF6692",
                      "#B6E880",
                      "#FF97FF",
                      "#FECB52"
                    ],
                    "font": {
                      "color": "#2a3f5f"
                    },
                    "geo": {
                      "bgcolor": "white",
                      "lakecolor": "white",
                      "landcolor": "#E5ECF6",
                      "showlakes": true,
                      "showland": true,
                      "subunitcolor": "white"
                    },
                    "hoverlabel": {
                      "align": "left"
                    },
                    "hovermode": "closest",
                    "mapbox": {
                      "style": "light"
                    },
                    "paper_bgcolor": "white",
                    "plot_bgcolor": "#E5ECF6",
                    "polar": {
                      "angularaxis": {
                        "gridcolor": "white",
                        "linecolor": "white",
                        "ticks": ""
                      },
                      "bgcolor": "#E5ECF6",
                      "radialaxis": {
                        "gridcolor": "white",
                        "linecolor": "white",
                        "ticks": ""
                      }
                    },
                    "scene": {
                      "xaxis": {
                        "backgroundcolor": "#E5ECF6",
                        "gridcolor": "white",
                        "gridwidth": 2,
                        "linecolor": "white",
                        "showbackground": true,
                        "ticks": "",
                        "zerolinecolor": "white"
                      },
                      "yaxis": {
                        "backgroundcolor": "#E5ECF6",
                        "gridcolor": "white",
                        "gridwidth": 2,
                        "linecolor": "white",
                        "showbackground": true,
                        "ticks": "",
                        "zerolinecolor": "white"
                      },
                      "zaxis": {
                        "backgroundcolor": "#E5ECF6",
                        "gridcolor": "white",
                        "gridwidth": 2,
                        "linecolor": "white",
                        "showbackground": true,
                        "ticks": "",
                        "zerolinecolor": "white"
                      }
                    },
                    "shapedefaults": {
                      "line": {
                        "color": "#2a3f5f"
                      }
                    },
                    "ternary": {
                      "aaxis": {
                        "gridcolor": "white",
                        "linecolor": "white",
                        "ticks": ""
                      },
                      "baxis": {
                        "gridcolor": "white",
                        "linecolor": "white",
                        "ticks": ""
                      },
                      "bgcolor": "#E5ECF6",
                      "caxis": {
                        "gridcolor": "white",
                        "linecolor": "white",
                        "ticks": ""
                      }
                    },
                    "title": {
                      "x": 0.05
                    },
                    "xaxis": {
                      "automargin": true,
                      "gridcolor": "white",
                      "linecolor": "white",
                      "ticks": "",
                      "title": {
                        "standoff": 15
                      },
                      "zerolinecolor": "white",
                      "zerolinewidth": 2
                    },
                    "yaxis": {
                      "automargin": true,
                      "gridcolor": "white",
                      "linecolor": "white",
                      "ticks": "",
                      "title": {
                        "standoff": 15
                      },
                      "zerolinecolor": "white",
                      "zerolinewidth": 2
                    }
                  }
                },
                "title": {
                  "text": "Focos de Incêndio no Pará - 1999 a 2019"
                },
                "xaxis": {
                  "dtick": 1,
                  "tick0": 1999,
                  "title": {
                    "text": "Ano"
                  }
                },
                "yaxis": {
                  "title": {
                    "text": "Quantidade"
                  }
                }
              }
            }
          },
          "metadata": {},
          "output_type": "display_data"
        }
      ],
      "source": [
        "firespots_para_grouped = df2.loc[df2['state']=='PARA',:].groupby('year')['firespots'].sum().reset_index()\n",
        "fig = go.Figure()\n",
        "fig.add_trace(go.Scatter(x=firespots_para_grouped['year'],y=firespots_para_grouped['firespots']))\n",
        "fig.update_layout(title='Focos de Incêndio no Pará - 1999 a 2019',xaxis_title='Ano',yaxis_title='Quantidade',xaxis=dict(tick0=1999,dtick=1))\n",
        "fig.show()"
      ]
    },
    {
      "cell_type": "markdown",
      "metadata": {
        "id": "49i4Y7YC4OZw"
      },
      "source": [
        "**insights análise segunda database:**\n",
        "- a maior quantia de focos de incêndio acontecem na região norte do país (principalmente Para, que representa 38,36%)\n",
        "- juntos, Para e Mato Grosso representam 62% de todos focos de incendio do país (de1999 a 2019)\n",
        "- de 2002 a 2008 foram os anos com mais incidência de focos de incêndio\n",
        "- 2000, 2011 e 2013 apresentam as menores quantidades totais de focos de incêndio\n",
        "- o período do ano que mais costumam acontecer as queimadas inicia em Julho e vai até Dezembro, com destaque para Agosto e Setembro\n",
        "- quanto ao estado do Para, teve altas incidências no período de 2002 a 2007, apresentando uma queda após período\n"
      ]
    }
  ],
  "metadata": {
    "colab": {
      "include_colab_link": true,
      "provenance": [],
      "toc_visible": true
    },
    "kernelspec": {
      "display_name": "Python 3",
      "language": "python",
      "name": "python3"
    },
    "language_info": {
      "codemirror_mode": {
        "name": "ipython",
        "version": 3
      },
      "file_extension": ".py",
      "mimetype": "text/x-python",
      "name": "python",
      "nbconvert_exporter": "python",
      "pygments_lexer": "ipython3",
      "version": "3.11.1"
    },
    "vscode": {
      "interpreter": {
        "hash": "23e1087692d03fda744743085a0ad0a40b07d745467f4f6ddbf1ad3c97f43123"
      }
    }
  },
  "nbformat": 4,
  "nbformat_minor": 0
}
